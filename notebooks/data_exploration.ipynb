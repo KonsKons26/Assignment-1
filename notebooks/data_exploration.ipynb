{
 "cells": [
  {
   "cell_type": "markdown",
   "metadata": {},
   "source": [
    "# Imports"
   ]
  },
  {
   "cell_type": "code",
   "execution_count": 8,
   "metadata": {},
   "outputs": [],
   "source": [
    "import os\n",
    "import pandas as pd\n",
    "import matplotlib.pyplot as plt\n",
    "from IPython.display import display"
   ]
  },
  {
   "cell_type": "markdown",
   "metadata": {},
   "source": [
    "# Directories"
   ]
  },
  {
   "cell_type": "code",
   "execution_count": 2,
   "metadata": {},
   "outputs": [
    {
     "name": "stdout",
     "output_type": "stream",
     "text": [
      "/home/cotsios/dsit/2nd-semester/ml-in-comp-bio/Assignment-1\n"
     ]
    }
   ],
   "source": [
    "os.chdir(\"..\")\n",
    "print(os.getcwd())"
   ]
  },
  {
   "cell_type": "code",
   "execution_count": 3,
   "metadata": {},
   "outputs": [
    {
     "name": "stdout",
     "output_type": "stream",
     "text": [
      "/home/cotsios/dsit/2nd-semester/ml-in-comp-bio/Assignment-1/data\n"
     ]
    }
   ],
   "source": [
    "DATA_DIR = os.path.join(os.getcwd(), \"data\")\n",
    "print(DATA_DIR)"
   ]
  },
  {
   "cell_type": "markdown",
   "metadata": {},
   "source": [
    "# The data"
   ]
  },
  {
   "cell_type": "code",
   "execution_count": 13,
   "metadata": {},
   "outputs": [],
   "source": [
    "file_name = \"assignment1_dev_set.csv\"\n",
    "\n",
    "df = pd.read_csv(os.path.join(DATA_DIR, file_name))\n",
    "cols = df.columns"
   ]
  },
  {
   "cell_type": "code",
   "execution_count": 14,
   "metadata": {},
   "outputs": [
    {
     "data": {
      "text/plain": [
       "Index(['Unnamed: 0', 'Project ID', 'Experiment type', 'Sex', 'Host age', 'BMI',\n",
       "       'Disease MESH ID', 'Acholeplasma axanthum',\n",
       "       'Acidaminococcus fermentans', 'Acidaminococcus intestini',\n",
       "       ...\n",
       "       'Clostridium sphenoides', 'Clostridium spiroforme',\n",
       "       'Clostridium stercorarium', 'Clostridium symbiosum',\n",
       "       'Clostridium thermosuccinogenes', 'Clostridium xylanolyticum',\n",
       "       'Eubacterium brachy', 'Eubacterium dolichum', 'Eubacterium sulci',\n",
       "       'Ruminococcus gnavus'],\n",
       "      dtype='object', length=141)"
      ]
     },
     "metadata": {},
     "output_type": "display_data"
    }
   ],
   "source": [
    "display(cols)"
   ]
  },
  {
   "cell_type": "markdown",
   "metadata": {},
   "source": [
    "We can see that the `BMI` column is the 6<sup>th</sup> one while the bacterial concentrations start from the 8<sup>th</sup> column up to the last (141<sup>st</sup>)  \n",
    "Also, since we want to classify `BMI` based **only** on the bacteria in the gut microbiome, we can **exclude** the following columns:\n",
    "- `Project ID`\n",
    "- `Experiment type`\n",
    "- `Sex`\n",
    "- `Host age`\n",
    "- `Disease MESH ID`"
   ]
  },
  {
   "cell_type": "code",
   "execution_count": null,
   "metadata": {},
   "outputs": [],
   "source": []
  }
 ],
 "metadata": {
  "kernelspec": {
   "display_name": ".venv",
   "language": "python",
   "name": "python3"
  },
  "language_info": {
   "codemirror_mode": {
    "name": "ipython",
    "version": 3
   },
   "file_extension": ".py",
   "mimetype": "text/x-python",
   "name": "python",
   "nbconvert_exporter": "python",
   "pygments_lexer": "ipython3",
   "version": "3.12.3"
  }
 },
 "nbformat": 4,
 "nbformat_minor": 2
}
