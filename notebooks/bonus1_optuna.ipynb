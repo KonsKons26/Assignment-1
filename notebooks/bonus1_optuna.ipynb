{
 "cells": [
  {
   "cell_type": "markdown",
   "id": "1bdfa629",
   "metadata": {},
   "source": [
    "# Bonus 1, hyperparameter tuning with Optuna"
   ]
  },
  {
   "cell_type": "code",
   "execution_count": 1,
   "id": "ecb6f827",
   "metadata": {},
   "outputs": [
    {
     "name": "stdout",
     "output_type": "stream",
     "text": [
      "/home/cotsios/dsit/2nd-semester/ml-in-comp-bio/Assignment-1\n"
     ]
    }
   ],
   "source": [
    "import sys\n",
    "import os\n",
    "import shutil\n",
    "\n",
    "import pickle\n",
    "\n",
    "import pandas as pd\n",
    "\n",
    "sys.path.append(os.path.abspath(os.path.join(os.getcwd(), \"..\")))\n",
    "print(sys.path[-1])"
   ]
  },
  {
   "cell_type": "code",
   "execution_count": null,
   "id": "c49c7773",
   "metadata": {},
   "outputs": [],
   "source": [
    "from src.bonus1_optuna import RegressorOptuna, pipeline_optuna\n",
    "from src.regression import pipeline"
   ]
  },
  {
   "cell_type": "code",
   "execution_count": 3,
   "id": "f3863677",
   "metadata": {},
   "outputs": [
    {
     "name": "stdout",
     "output_type": "stream",
     "text": [
      "/home/cotsios/dsit/2nd-semester/ml-in-comp-bio/Assignment-1/data\n",
      "/home/cotsios/dsit/2nd-semester/ml-in-comp-bio/Assignment-1/models/bonus1_optuna\n"
     ]
    }
   ],
   "source": [
    "model_types = [\n",
    "    \"ElasticNet\",\n",
    "    \"SVR\",\n",
    "    \"BayesianRidge\"\n",
    "]\n",
    "\n",
    "RANDOM_STATE = 42\n",
    "\n",
    "BASE_DIR = os.path.abspath(os.path.join(os.getcwd(), \"..\"))\n",
    "DATA_DIR = os.path.join(BASE_DIR, \"data\")\n",
    "MODELS_DIR = os.path.join(BASE_DIR, \"models\", \"bonus1_optuna\")\n",
    "print(DATA_DIR)\n",
    "print(MODELS_DIR)"
   ]
  },
  {
   "cell_type": "code",
   "execution_count": 4,
   "id": "eb1a6261",
   "metadata": {},
   "outputs": [],
   "source": [
    "for model_type in model_types:\n",
    "    # Copy features files to optuna models folder\n",
    "    shutil.copy(\n",
    "        \"/\".join(MODELS_DIR.split(\"/\")[:-1]) + f\"/{model_type}_features.txt\",\n",
    "        MODELS_DIR\n",
    "    )"
   ]
  },
  {
   "cell_type": "code",
   "execution_count": null,
   "id": "4abd19a9",
   "metadata": {},
   "outputs": [
    {
     "name": "stdout",
     "output_type": "stream",
     "text": [
      "----------------\n",
      "Running pipeline\n",
      "----------------\n"
     ]
    },
    {
     "name": "stderr",
     "output_type": "stream",
     "text": [
      "[I 2025-04-06 18:22:14,290] A new study created in memory with name: no-name-17e2815d-6017-4b34-9aa5-e077f62d8d82\n"
     ]
    },
    {
     "name": "stdout",
     "output_type": "stream",
     "text": [
      "\n",
      "--------------------\n",
      "     ElasticNet     \n",
      "--------------------\n",
      "        tune        \n",
      "--------------------\n",
      "Training... "
     ]
    },
    {
     "data": {
      "application/vnd.jupyter.widget-view+json": {
       "model_id": "5ad4394a67bc4dc7945c87b44bf1a764",
       "version_major": 2,
       "version_minor": 0
      },
      "text/plain": [
       "  0%|          | 0/100 [00:00<?, ?it/s]"
      ]
     },
     "metadata": {},
     "output_type": "display_data"
    },
    {
     "name": "stdout",
     "output_type": "stream",
     "text": [
      "Training completed\n",
      "Validating... Validation completed\n",
      "\n",
      "--------------------\n",
      "        SVR         \n",
      "--------------------\n",
      "        tune        \n",
      "--------------------\n",
      "Training... "
     ]
    },
    {
     "data": {
      "application/vnd.jupyter.widget-view+json": {
       "model_id": "0b1dd3318b6c42fdb7ea6df548bb01e6",
       "version_major": 2,
       "version_minor": 0
      },
      "text/plain": [
       "  0%|          | 0/100 [00:00<?, ?it/s]"
      ]
     },
     "metadata": {},
     "output_type": "display_data"
    },
    {
     "name": "stdout",
     "output_type": "stream",
     "text": [
      "Training completed\n",
      "Validating... Validation completed\n",
      "\n",
      "--------------------\n",
      "   BayesianRidge    \n",
      "--------------------\n",
      "        tune        \n",
      "--------------------\n",
      "Training... "
     ]
    },
    {
     "data": {
      "application/vnd.jupyter.widget-view+json": {
       "model_id": "28677a757ae5454cb70e5cd2942f6139",
       "version_major": 2,
       "version_minor": 0
      },
      "text/plain": [
       "  0%|          | 0/100 [00:00<?, ?it/s]"
      ]
     },
     "metadata": {},
     "output_type": "display_data"
    },
    {
     "name": "stdout",
     "output_type": "stream",
     "text": [
      "Training completed\n",
      "Validating... Validation completed\n",
      "\n",
      "------------------\n",
      "Pipeline completed\n",
      "------------------\n",
      "\n"
     ]
    }
   ],
   "source": [
    "all_metrics = pipeline_optuna(\n",
    "    models_dir=MODELS_DIR,\n",
    "    dataset_dir=DATA_DIR\n",
    ")"
   ]
  }
 ],
 "metadata": {
  "kernelspec": {
   "display_name": ".venv",
   "language": "python",
   "name": "python3"
  },
  "language_info": {
   "codemirror_mode": {
    "name": "ipython",
    "version": 3
   },
   "file_extension": ".py",
   "mimetype": "text/x-python",
   "name": "python",
   "nbconvert_exporter": "python",
   "pygments_lexer": "ipython3",
   "version": "3.12.3"
  }
 },
 "nbformat": 4,
 "nbformat_minor": 5
}
