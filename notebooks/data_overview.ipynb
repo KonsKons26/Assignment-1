{
 "cells": [
  {
   "cell_type": "markdown",
   "metadata": {},
   "source": [
    "# Imports"
   ]
  },
  {
   "cell_type": "code",
   "execution_count": 84,
   "metadata": {},
   "outputs": [],
   "source": [
    "import os\n",
    "import pandas as pd\n",
    "import numpy as np\n",
    "import matplotlib.pyplot as plt\n",
    "import seaborn as sns\n",
    "import plotly.graph_objects as go\n",
    "from IPython.display import display\n",
    "from scipy.stats import pearsonr, spearmanr, kendalltau\n",
    "\n",
    "from sklearn.preprocessing import StandardScaler, MinMaxScaler"
   ]
  },
  {
   "cell_type": "markdown",
   "metadata": {},
   "source": [
    "# Directories"
   ]
  },
  {
   "cell_type": "code",
   "execution_count": 3,
   "metadata": {},
   "outputs": [
    {
     "name": "stdout",
     "output_type": "stream",
     "text": [
      "/home/cotsios/dsit/2nd-semester/ml-in-comp-bio/Assignment-1\n"
     ]
    }
   ],
   "source": [
    "os.chdir(\"..\")\n",
    "print(os.getcwd())"
   ]
  },
  {
   "cell_type": "code",
   "execution_count": 4,
   "metadata": {},
   "outputs": [
    {
     "name": "stdout",
     "output_type": "stream",
     "text": [
      "/home/cotsios/dsit/2nd-semester/ml-in-comp-bio/Assignment-1/data\n"
     ]
    }
   ],
   "source": [
    "DATA_DIR = os.path.join(os.getcwd(), \"data\")\n",
    "print(DATA_DIR)"
   ]
  },
  {
   "cell_type": "markdown",
   "metadata": {},
   "source": [
    "# The data"
   ]
  },
  {
   "cell_type": "code",
   "execution_count": 5,
   "metadata": {},
   "outputs": [],
   "source": [
    "file_name = \"assignment1_dev_set.csv\"\n",
    "\n",
    "df = pd.read_csv(os.path.join(DATA_DIR, file_name), index_col=0)\n",
    "cols = df.columns"
   ]
  },
  {
   "cell_type": "code",
   "execution_count": 44,
   "metadata": {},
   "outputs": [
    {
     "data": {
      "text/plain": [
       "(489, 140)"
      ]
     },
     "metadata": {},
     "output_type": "display_data"
    },
    {
     "data": {
      "text/plain": [
       "Index(['Project ID', 'Experiment type', 'Sex', 'Host age', 'BMI',\n",
       "       'Disease MESH ID', 'Acholeplasma axanthum',\n",
       "       'Acidaminococcus fermentans', 'Acidaminococcus intestini',\n",
       "       'Actinomyces lingnae',\n",
       "       ...\n",
       "       'Clostridium sphenoides', 'Clostridium spiroforme',\n",
       "       'Clostridium stercorarium', 'Clostridium symbiosum',\n",
       "       'Clostridium thermosuccinogenes', 'Clostridium xylanolyticum',\n",
       "       'Eubacterium brachy', 'Eubacterium dolichum', 'Eubacterium sulci',\n",
       "       'Ruminococcus gnavus'],\n",
       "      dtype='object', length=140)"
      ]
     },
     "metadata": {},
     "output_type": "display_data"
    }
   ],
   "source": [
    "display(df.shape)\n",
    "display(cols)"
   ]
  },
  {
   "cell_type": "markdown",
   "metadata": {},
   "source": [
    "We can see that the `BMI` column is the 6<sup>th</sup> one and the bacterial concentrations start from the 8<sup>th</sup> column up to the last (141<sup>st</sup>)  \n",
    "Also, since we want to classify `BMI` based **only** on the bacteria in the gut microbiome, we can **exclude** the following columns:\n",
    "- `Project ID`\n",
    "- `Experiment type`\n",
    "- `Disease MESH ID`\n",
    "\n",
    "Regarding the `Sex` and `Host age` columns, I decided to separate them in order to examine them one by one, and not with the bacterial data."
   ]
  },
  {
   "cell_type": "code",
   "execution_count": 7,
   "metadata": {},
   "outputs": [],
   "source": [
    "# drop columns Project ID, Experiment type, Sex, Host age, Disease MESH ID\n",
    "cols_to_drop = [\n",
    "    \"Project ID\",\n",
    "    \"Experiment type\",\n",
    "    \"Sex\",\n",
    "    \"Host age\",\n",
    "    \"BMI\",\n",
    "    \"Disease MESH ID\"\n",
    "]\n",
    "\n",
    "bmi = df[\"BMI\"]\n",
    "sex = df[\"Sex\"]\n",
    "age = df[\"Host age\"]\n",
    "bacteria = df.drop(cols_to_drop, axis=1)"
   ]
  },
  {
   "cell_type": "code",
   "execution_count": 8,
   "metadata": {},
   "outputs": [
    {
     "data": {
      "application/vnd.microsoft.datawrangler.viewer.v0+json": {
       "columns": [
        {
         "name": "index",
         "rawType": "int64",
         "type": "integer"
        },
        {
         "name": "Acholeplasma axanthum",
         "rawType": "float64",
         "type": "float"
        },
        {
         "name": "Acidaminococcus fermentans",
         "rawType": "float64",
         "type": "float"
        },
        {
         "name": "Acidaminococcus intestini",
         "rawType": "float64",
         "type": "float"
        },
        {
         "name": "Actinomyces lingnae",
         "rawType": "float64",
         "type": "float"
        },
        {
         "name": "Akkermansia muciniphila",
         "rawType": "float64",
         "type": "float"
        },
        {
         "name": "Alistipes finegoldii",
         "rawType": "float64",
         "type": "float"
        },
        {
         "name": "Alistipes indistinctus",
         "rawType": "float64",
         "type": "float"
        },
        {
         "name": "Alistipes obesi",
         "rawType": "float64",
         "type": "float"
        },
        {
         "name": "Alistipes onderdonkii",
         "rawType": "float64",
         "type": "float"
        },
        {
         "name": "Alistipes putredinis",
         "rawType": "float64",
         "type": "float"
        },
        {
         "name": "Alistipes shahii",
         "rawType": "float64",
         "type": "float"
        },
        {
         "name": "Alistipes sp. RMA 9912",
         "rawType": "float64",
         "type": "float"
        },
        {
         "name": "Alistipes timonensis",
         "rawType": "float64",
         "type": "float"
        },
        {
         "name": "Anaerofilum pentosovorans",
         "rawType": "float64",
         "type": "float"
        },
        {
         "name": "Anaerofustis stercorihominis",
         "rawType": "float64",
         "type": "float"
        },
        {
         "name": "Anaerostipes butyraticus",
         "rawType": "float64",
         "type": "float"
        },
        {
         "name": "Anaerostipes caccae",
         "rawType": "float64",
         "type": "float"
        },
        {
         "name": "Anaerotruncus colihominis",
         "rawType": "float64",
         "type": "float"
        },
        {
         "name": "Bacillus megaterium",
         "rawType": "float64",
         "type": "float"
        },
        {
         "name": "Bacillus nealsonii",
         "rawType": "float64",
         "type": "float"
        },
        {
         "name": "Bacteroides eggerthii",
         "rawType": "float64",
         "type": "float"
        },
        {
         "name": "Bacteroides fragilis",
         "rawType": "float64",
         "type": "float"
        },
        {
         "name": "Bacteroides gallinarum",
         "rawType": "float64",
         "type": "float"
        },
        {
         "name": "Bacteroides graminisolvens",
         "rawType": "float64",
         "type": "float"
        },
        {
         "name": "Bacteroides intestinalis",
         "rawType": "float64",
         "type": "float"
        },
        {
         "name": "Bacteroides massiliensis",
         "rawType": "float64",
         "type": "float"
        },
        {
         "name": "Bacteroides ovatus",
         "rawType": "float64",
         "type": "float"
        },
        {
         "name": "Bacteroides plebeius",
         "rawType": "float64",
         "type": "float"
        },
        {
         "name": "Bacteroides salyersiae",
         "rawType": "float64",
         "type": "float"
        },
        {
         "name": "Barnesiella viscericola",
         "rawType": "float64",
         "type": "float"
        },
        {
         "name": "Bifidobacterium bifidum",
         "rawType": "float64",
         "type": "float"
        },
        {
         "name": "Bifidobacterium pseudocatenulatum",
         "rawType": "float64",
         "type": "float"
        },
        {
         "name": "Bifidobacterium saguini",
         "rawType": "float64",
         "type": "float"
        },
        {
         "name": "Bifidobacterium tsurumiense",
         "rawType": "float64",
         "type": "float"
        },
        {
         "name": "Bilophila wadsworthia",
         "rawType": "float64",
         "type": "float"
        },
        {
         "name": "Blautia coccoides",
         "rawType": "float64",
         "type": "float"
        },
        {
         "name": "Blautia glucerasea",
         "rawType": "float64",
         "type": "float"
        },
        {
         "name": "Blautia hydrogenotrophica",
         "rawType": "float64",
         "type": "float"
        },
        {
         "name": "Blautia producta",
         "rawType": "float64",
         "type": "float"
        },
        {
         "name": "Blautia schinkii",
         "rawType": "float64",
         "type": "float"
        },
        {
         "name": "Butyricimonas virosa",
         "rawType": "float64",
         "type": "float"
        },
        {
         "name": "Catabacter hongkongensis",
         "rawType": "float64",
         "type": "float"
        },
        {
         "name": "Christensenella minuta",
         "rawType": "float64",
         "type": "float"
        },
        {
         "name": "Clostridium amylolyticum",
         "rawType": "float64",
         "type": "float"
        },
        {
         "name": "Clostridium malenominatum",
         "rawType": "float64",
         "type": "float"
        },
        {
         "name": "Clostridium maximum",
         "rawType": "float64",
         "type": "float"
        },
        {
         "name": "Clostridium sp.",
         "rawType": "float64",
         "type": "float"
        },
        {
         "name": "Collinsella aerofaciens",
         "rawType": "float64",
         "type": "float"
        },
        {
         "name": "Collinsella intestinalis",
         "rawType": "float64",
         "type": "float"
        },
        {
         "name": "Collinsella tanakaei",
         "rawType": "float64",
         "type": "float"
        },
        {
         "name": "Coprobacillus cateniformis",
         "rawType": "float64",
         "type": "float"
        },
        {
         "name": "Coprococcus catus",
         "rawType": "float64",
         "type": "float"
        },
        {
         "name": "Coprococcus eutactus",
         "rawType": "float64",
         "type": "float"
        },
        {
         "name": "Desulfonispora thiosulfatigenes",
         "rawType": "float64",
         "type": "float"
        },
        {
         "name": "Desulfosporosinus orientis",
         "rawType": "float64",
         "type": "float"
        },
        {
         "name": "Desulfovibrio desulfuricans",
         "rawType": "float64",
         "type": "float"
        },
        {
         "name": "Desulfovibrio fairfieldensis",
         "rawType": "float64",
         "type": "float"
        },
        {
         "name": "Desulfovibrio piger",
         "rawType": "float64",
         "type": "float"
        },
        {
         "name": "Desulfovibrio vulgaris",
         "rawType": "float64",
         "type": "float"
        },
        {
         "name": "Ethanoligenens harbinense",
         "rawType": "float64",
         "type": "float"
        },
        {
         "name": "Eubacterium desmolans",
         "rawType": "float64",
         "type": "float"
        },
        {
         "name": "Eubacterium xylanophilum",
         "rawType": "float64",
         "type": "float"
        },
        {
         "name": "Faecalibacterium sp. MC_41",
         "rawType": "float64",
         "type": "float"
        },
        {
         "name": "Flavonifractor plautii",
         "rawType": "float64",
         "type": "float"
        },
        {
         "name": "Fusobacterium nucleatum",
         "rawType": "float64",
         "type": "float"
        },
        {
         "name": "Holdemanella biformis",
         "rawType": "float64",
         "type": "float"
        },
        {
         "name": "Holdemania filiformis",
         "rawType": "float64",
         "type": "float"
        },
        {
         "name": "Hungatella hathewayi",
         "rawType": "float64",
         "type": "float"
        },
        {
         "name": "Lachnospiraceae bacterium 3_1_57FAA_CT1",
         "rawType": "float64",
         "type": "float"
        },
        {
         "name": "Lachnospiraceae bacterium 5_1_63FAA",
         "rawType": "float64",
         "type": "float"
        },
        {
         "name": "Lachnospiraceae bacterium 7_1_58FAA",
         "rawType": "float64",
         "type": "float"
        },
        {
         "name": "Lactococcus lactis",
         "rawType": "float64",
         "type": "float"
        },
        {
         "name": "Odoribacter splanchnicus",
         "rawType": "float64",
         "type": "float"
        },
        {
         "name": "Oscillibacter valericigenes",
         "rawType": "float64",
         "type": "float"
        },
        {
         "name": "Oxalobacter formigenes",
         "rawType": "float64",
         "type": "float"
        },
        {
         "name": "Papillibacter cinnamivorans",
         "rawType": "float64",
         "type": "float"
        },
        {
         "name": "Parabacteroides distasonis",
         "rawType": "float64",
         "type": "float"
        },
        {
         "name": "Parabacteroides goldsteinii",
         "rawType": "float64",
         "type": "float"
        },
        {
         "name": "Parabacteroides johnsonii",
         "rawType": "float64",
         "type": "float"
        },
        {
         "name": "Parabacteroides merdae",
         "rawType": "float64",
         "type": "float"
        },
        {
         "name": "Parasutterella excrementihominis",
         "rawType": "float64",
         "type": "float"
        },
        {
         "name": "Peptoniphilus lacrimalis",
         "rawType": "float64",
         "type": "float"
        },
        {
         "name": "Porphyromonas catoniae",
         "rawType": "float64",
         "type": "float"
        },
        {
         "name": "Prevotella bivia",
         "rawType": "float64",
         "type": "float"
        },
        {
         "name": "Prevotella buccalis",
         "rawType": "float64",
         "type": "float"
        },
        {
         "name": "Prevotella oris",
         "rawType": "float64",
         "type": "float"
        },
        {
         "name": "Prevotella oryzae",
         "rawType": "float64",
         "type": "float"
        },
        {
         "name": "Prevotella paludivivens",
         "rawType": "float64",
         "type": "float"
        },
        {
         "name": "Prevotella ruminicola",
         "rawType": "float64",
         "type": "float"
        },
        {
         "name": "Prevotella shahii",
         "rawType": "float64",
         "type": "float"
        },
        {
         "name": "Prevotella timonensis",
         "rawType": "float64",
         "type": "float"
        },
        {
         "name": "Pseudobacteroides cellulosolvens",
         "rawType": "float64",
         "type": "float"
        },
        {
         "name": "Pseudoflavonifractor capillosus",
         "rawType": "float64",
         "type": "float"
        },
        {
         "name": "Roseburia hominis",
         "rawType": "float64",
         "type": "float"
        },
        {
         "name": "Roseburia intestinalis",
         "rawType": "float64",
         "type": "float"
        },
        {
         "name": "Ruminiclostridium thermocellum",
         "rawType": "float64",
         "type": "float"
        },
        {
         "name": "Ruminococcaceae bacterium D16",
         "rawType": "float64",
         "type": "float"
        },
        {
         "name": "Ruminococcus albus",
         "rawType": "float64",
         "type": "float"
        },
        {
         "name": "Ruminococcus callidus",
         "rawType": "float64",
         "type": "float"
        },
        {
         "name": "Ruminococcus champanellensis",
         "rawType": "float64",
         "type": "float"
        },
        {
         "name": "Ruminococcus flavefaciens",
         "rawType": "float64",
         "type": "float"
        },
        {
         "name": "Ruminococcus sp. DSM 100440",
         "rawType": "float64",
         "type": "float"
        },
        {
         "name": "Sporobacter termitidis",
         "rawType": "float64",
         "type": "float"
        },
        {
         "name": "Streptococcus infantarius",
         "rawType": "float64",
         "type": "float"
        },
        {
         "name": "Streptococcus mitis",
         "rawType": "float64",
         "type": "float"
        },
        {
         "name": "Streptococcus oralis",
         "rawType": "float64",
         "type": "float"
        },
        {
         "name": "Sutterella parvirubra",
         "rawType": "float64",
         "type": "float"
        },
        {
         "name": "Thermobaculum terrenum",
         "rawType": "float64",
         "type": "float"
        },
        {
         "name": "Victivallis sp. MC_44",
         "rawType": "float64",
         "type": "float"
        },
        {
         "name": "Bacteroides pectinophilus",
         "rawType": "float64",
         "type": "float"
        },
        {
         "name": "Clostridium aldenense",
         "rawType": "float64",
         "type": "float"
        },
        {
         "name": "Clostridium asparagiforme",
         "rawType": "float64",
         "type": "float"
        },
        {
         "name": "Clostridium bolteae",
         "rawType": "float64",
         "type": "float"
        },
        {
         "name": "Clostridium celerecrescens",
         "rawType": "float64",
         "type": "float"
        },
        {
         "name": "Clostridium cellobioparum",
         "rawType": "float64",
         "type": "float"
        },
        {
         "name": "Clostridium clariflavum",
         "rawType": "float64",
         "type": "float"
        },
        {
         "name": "Clostridium colinum",
         "rawType": "float64",
         "type": "float"
        },
        {
         "name": "Clostridium indolis",
         "rawType": "float64",
         "type": "float"
        },
        {
         "name": "Clostridium leptum",
         "rawType": "float64",
         "type": "float"
        },
        {
         "name": "Clostridium methylpentosum",
         "rawType": "float64",
         "type": "float"
        },
        {
         "name": "Clostridium neopropionicum",
         "rawType": "float64",
         "type": "float"
        },
        {
         "name": "Clostridium propionicum",
         "rawType": "float64",
         "type": "float"
        },
        {
         "name": "Clostridium saccharogumia",
         "rawType": "float64",
         "type": "float"
        },
        {
         "name": "Clostridium saccharolyticum",
         "rawType": "float64",
         "type": "float"
        },
        {
         "name": "Clostridium sphenoides",
         "rawType": "float64",
         "type": "float"
        },
        {
         "name": "Clostridium spiroforme",
         "rawType": "float64",
         "type": "float"
        },
        {
         "name": "Clostridium stercorarium",
         "rawType": "float64",
         "type": "float"
        },
        {
         "name": "Clostridium symbiosum",
         "rawType": "float64",
         "type": "float"
        },
        {
         "name": "Clostridium thermosuccinogenes",
         "rawType": "float64",
         "type": "float"
        },
        {
         "name": "Clostridium xylanolyticum",
         "rawType": "float64",
         "type": "float"
        },
        {
         "name": "Eubacterium brachy",
         "rawType": "float64",
         "type": "float"
        },
        {
         "name": "Eubacterium dolichum",
         "rawType": "float64",
         "type": "float"
        },
        {
         "name": "Eubacterium sulci",
         "rawType": "float64",
         "type": "float"
        },
        {
         "name": "Ruminococcus gnavus",
         "rawType": "float64",
         "type": "float"
        }
       ],
       "conversionMethod": "pd.DataFrame",
       "ref": "0571c015-a6bf-4d4b-897d-8c52556aee64",
       "rows": [
        [
         "0",
         "0.0",
         "0.0",
         "0.0",
         "0.0",
         "0.0176741",
         "0.0",
         "0.0",
         "0.0",
         "0.117827",
         "0.00589136",
         "0.0",
         "0.0",
         "0.00883705",
         "0.00294568",
         "0.0",
         "0.0324025",
         "0.0294568",
         "0.0",
         "0.00589136",
         "0.0",
         "0.0",
         "0.0",
         "0.0",
         "0.0",
         "0.0",
         "0.0",
         "0.913161",
         "0.0",
         "0.0",
         "0.00294568",
         "0.0",
         "0.0",
         "0.0",
         "0.0",
         "0.0",
         "0.0471309",
         "0.0176741",
         "0.0",
         "0.0765877",
         "0.0",
         "0.0",
         "0.0",
         "0.0",
         "0.0",
         "0.0",
         "0.00294568",
         "0.0",
         "0.0",
         "0.0",
         "0.0",
         "0.0441852",
         "0.0",
         "0.0",
         "0.0",
         "0.0",
         "0.0117827",
         "0.0",
         "0.0",
         "0.00294568",
         "0.0",
         "0.00294568",
         "0.0",
         "0.00883705",
         "0.0",
         "0.0",
         "0.0",
         "0.0235655",
         "0.0",
         "0.0",
         "0.0",
         "0.0",
         "0.00883705",
         "0.0",
         "0.0",
         "0.0",
         "0.0",
         "0.0",
         "0.0",
         "0.0",
         "0.00294568",
         "0.0",
         "0.0",
         "0.0",
         "0.0",
         "0.0",
         "0.0",
         "0.0",
         "0.0",
         "0.0",
         "0.0",
         "0.0",
         "0.0",
         "0.0",
         "0.00294568",
         "0.00294568",
         "0.0235655",
         "0.0",
         "0.0",
         "0.0",
         "0.0",
         "0.0",
         "0.0235655",
         "0.00294568",
         "0.0",
         "0.0",
         "0.0",
         "0.0",
         "0.00294568",
         "0.0",
         "0.0",
         "0.0",
         "0.0",
         "0.00883705",
         "0.00883705",
         "0.0",
         "0.00589136",
         "0.0",
         "0.00883705",
         "0.00294568",
         "0.0",
         "0.0",
         "0.0",
         "0.0",
         "0.00294568",
         "0.00589136",
         "0.0294568",
         "0.0",
         "0.0",
         "0.00294568",
         "0.0",
         "0.0",
         "0.0",
         "0.00294568",
         "0.100153"
        ],
        [
         "1",
         "0.00102778",
         "0.0",
         "0.0",
         "0.0",
         "13.0158",
         "0.00154166",
         "0.0",
         "0.0",
         "0.073486",
         "0.403916",
         "0.0986665",
         "0.0",
         "0.0190139",
         "0.0113055",
         "0.00873609",
         "0.0",
         "0.00102778",
         "0.107916",
         "0.0",
         "0.0",
         "0.201444",
         "0.2035",
         "1.37876",
         "0.0",
         "0.0205555",
         "0.0107916",
         "0.134125",
         "0.0",
         "0.0",
         "1.14494",
         "0.00154166",
         "0.592513",
         "0.0",
         "0.0",
         "0.00565277",
         "0.0220972",
         "0.00154166",
         "0.00668054",
         "0.0",
         "0.00462499",
         "0.0560138",
         "0.0",
         "3.75601",
         "0.000513888",
         "0.0",
         "0.0",
         "0.000513888",
         "0.648526",
         "0.0421388",
         "0.000513888",
         "0.00102778",
         "0.0",
         "0.00462499",
         "0.00359721",
         "0.00462499",
         "0.00462499",
         "0.0215833",
         "0.0",
         "0.0",
         "0.0262083",
         "0.102778",
         "0.0200416",
         "0.0",
         "0.0",
         "0.0",
         "1.04114",
         "0.00513888",
         "0.00102778",
         "0.0",
         "0.0",
         "0.0",
         "0.0123333",
         "0.00102778",
         "2.58794",
         "0.0",
         "0.0493332",
         "0.292402",
         "0.000513888",
         "0.144402",
         "0.000513888",
         "0.041111",
         "0.00256944",
         "0.00205555",
         "0.0",
         "0.0298055",
         "0.0",
         "0.0",
         "0.0",
         "0.0",
         "0.0",
         "0.0",
         "0.524166",
         "0.0",
         "1.09921",
         "0.0118194",
         "5.15327",
         "0.0",
         "0.0185",
         "0.354069",
         "0.0143889",
         "0.332999",
         "0.0",
         "3.02629",
         "0.000513888",
         "0.0082222",
         "0.0236388",
         "0.0",
         "0.0",
         "0.0",
         "0.0",
         "0.00205555",
         "0.0",
         "0.00154166",
         "0.0",
         "0.0",
         "0.202472",
         "0.0",
         "0.00513888",
         "1.79604",
         "1.73437",
         "0.000513888",
         "0.00102778",
         "0.0",
         "0.00719443",
         "0.0",
         "0.00256944",
         "0.412652",
         "0.00308333",
         "0.0",
         "0.0",
         "0.00873609",
         "0.0149027",
         "0.0775971",
         "0.00462499"
        ],
        [
         "2",
         "0.00140611",
         "0.0",
         "0.0",
         "0.00140611",
         "0.00281223",
         "0.201074",
         "0.0",
         "0.0",
         "0.0435895",
         "0.105459",
         "0.262943",
         "0.0",
         "0.00703057",
         "0.0",
         "0.0",
         "0.0",
         "0.0",
         "0.00843668",
         "0.0",
         "0.00140611",
         "0.00562445",
         "0.0210917",
         "0.0",
         "0.0",
         "0.0632751",
         "0.849293",
         "8.85008",
         "0.0196856",
         "0.00281223",
         "0.0",
         "0.00281223",
         "1.13614",
         "0.0",
         "0.0",
         "0.0",
         "0.0323406",
         "0.0",
         "0.00140611",
         "0.0",
         "0.00140611",
         "0.0",
         "0.0",
         "0.154673",
         "0.0",
         "0.0",
         "0.0",
         "0.0",
         "0.00843668",
         "0.00140611",
         "0.0",
         "0.0",
         "0.0",
         "0.210917",
         "0.0",
         "0.0",
         "0.0",
         "0.0",
         "0.0",
         "0.0",
         "0.00140611",
         "0.0112489",
         "0.00562445",
         "0.0",
         "0.0",
         "0.0",
         "0.733991",
         "0.0",
         "0.0",
         "0.0",
         "0.0",
         "0.0",
         "0.0",
         "0.0970218",
         "0.172952",
         "0.0",
         "0.0",
         "0.0717118",
         "0.00281223",
         "0.0",
         "0.0",
         "0.178576",
         "0.00140611",
         "0.0",
         "0.0",
         "0.0",
         "0.0",
         "0.0",
         "0.0",
         "0.0",
         "0.0",
         "0.0",
         "0.0",
         "0.0",
         "0.731179",
         "0.108271",
         "0.104052",
         "0.0",
         "0.00281223",
         "0.552603",
         "0.036559",
         "0.0098428",
         "0.0",
         "0.00843668",
         "0.0",
         "0.00281223",
         "0.0098428",
         "0.0",
         "0.0",
         "0.0",
         "0.00421834",
         "0.0",
         "0.0",
         "0.00562445",
         "0.0",
         "0.0",
         "0.118114",
         "0.0",
         "0.0885852",
         "0.036559",
         "0.428865",
         "0.0239039",
         "0.0154673",
         "0.00281223",
         "0.0295284",
         "0.0",
         "0.00562445",
         "0.00281223",
         "0.00703057",
         "0.0",
         "0.0",
         "0.0",
         "0.0",
         "0.00562445",
         "0.0168734"
        ],
        [
         "3",
         "0.0",
         "0.00882457",
         "0.273562",
         "0.0",
         "0.0441228",
         "0.00441228",
         "0.34857",
         "0.0",
         "0.0264737",
         "0.586834",
         "0.34857",
         "0.0",
         "0.167667",
         "0.00882457",
         "0.0",
         "0.0132369",
         "0.0176491",
         "0.207377",
         "0.0",
         "0.00441228",
         "1.41634",
         "0.030886",
         "0.0132369",
         "0.0132369",
         "0.101483",
         "3.6269",
         "1.61048",
         "2.56354",
         "1.75609",
         "2.78415",
         "0.0",
         "0.00441228",
         "0.00882457",
         "0.00441228",
         "0.0",
         "0.114719",
         "0.547123",
         "0.0",
         "0.136781",
         "0.00441228",
         "0.0",
         "0.0",
         "0.0176491",
         "0.0",
         "0.0",
         "0.0",
         "0.00882457",
         "0.0",
         "0.0",
         "0.0",
         "0.0",
         "0.0",
         "0.0750088",
         "0.0",
         "0.0",
         "0.0264737",
         "0.0",
         "0.0",
         "0.0264737",
         "0.0",
         "0.198553",
         "0.0661843",
         "4.33286",
         "0.0",
         "0.0",
         "0.0794211",
         "0.00441228",
         "0.0",
         "0.0",
         "0.0",
         "0.0",
         "0.0",
         "0.516237",
         "1.34575",
         "0.0",
         "0.0",
         "1.21779",
         "0.00441228",
         "0.688316",
         "0.891281",
         "0.0705965",
         "0.00882457",
         "0.00441228",
         "0.00882457",
         "0.0",
         "0.0",
         "0.00882457",
         "0.0",
         "0.0220614",
         "0.0",
         "0.00882457",
         "0.0",
         "0.00441228",
         "0.578009",
         "0.21179",
         "0.061772",
         "0.0",
         "0.520649",
         "0.626544",
         "0.0132369",
         "0.0132369",
         "0.0",
         "0.233851",
         "0.0",
         "0.00882457",
         "0.0",
         "0.644193",
         "0.00441228",
         "0.286798",
         "0.0",
         "0.0",
         "0.0",
         "0.030886",
         "0.00441228",
         "0.00882457",
         "0.00882457",
         "0.00441228",
         "0.326509",
         "0.0220614",
         "0.0264737",
         "0.0441228",
         "0.123544",
         "0.0132369",
         "0.163254",
         "0.0176491",
         "0.198553",
         "0.0",
         "0.158842",
         "0.030886",
         "0.101483",
         "0.0",
         "0.0",
         "0.0",
         "0.0"
        ],
        [
         "4",
         "0.00287836",
         "0.0374187",
         "7.35997",
         "0.0",
         "0.872143",
         "0.0",
         "0.0",
         "0.0",
         "1.73277",
         "1.00455",
         "0.0460538",
         "0.0",
         "0.0115134",
         "0.0575672",
         "0.00287836",
         "0.0115134",
         "0.00575672",
         "0.126648",
         "0.0",
         "0.0",
         "0.0115134",
         "0.518105",
         "0.00287836",
         "0.0",
         "0.0863508",
         "0.031662",
         "20.0737",
         "0.00575672",
         "0.00575672",
         "0.00287836",
         "0.0",
         "0.0",
         "0.0",
         "0.0",
         "0.0",
         "0.0259052",
         "1.44494",
         "0.0",
         "0.0143918",
         "0.00287836",
         "0.0",
         "0.0",
         "0.031662",
         "0.00287836",
         "0.0",
         "0.0",
         "0.0",
         "0.0",
         "0.17558",
         "0.00287836",
         "0.0604456",
         "0.0",
         "0.0",
         "0.00575672",
         "0.00287836",
         "0.0",
         "0.0",
         "0.0",
         "0.0",
         "0.0",
         "0.00575672",
         "0.0",
         "0.31662",
         "0.0",
         "0.0",
         "0.0",
         "0.0777157",
         "0.0",
         "0.0",
         "0.0",
         "0.0",
         "0.00575672",
         "0.195729",
         "0.91244",
         "0.0",
         "0.0",
         "0.00863508",
         "0.0",
         "0.0",
         "0.00575672",
         "1.46221",
         "0.0",
         "0.0",
         "0.00287836",
         "0.0",
         "0.00287836",
         "0.0",
         "0.0",
         "0.0201485",
         "0.0",
         "0.0",
         "0.0",
         "0.0",
         "0.898048",
         "0.00287836",
         "0.0143918",
         "0.0",
         "0.0",
         "0.00287836",
         "0.0172702",
         "0.0",
         "0.00863508",
         "0.0259052",
         "0.0",
         "0.0115134",
         "0.00287836",
         "0.0",
         "0.0",
         "0.0",
         "0.0",
         "0.0143918",
         "0.0",
         "0.820333",
         "0.103621",
         "0.0",
         "0.00287836",
         "0.0259052",
         "0.906684",
         "0.434632",
         "0.040297",
         "0.00287836",
         "0.0921075",
         "0.00287836",
         "0.423119",
         "0.305106",
         "0.135283",
         "0.0",
         "0.0518105",
         "0.0546888",
         "0.0834725",
         "0.0201485",
         "0.0",
         "0.0546888",
         "0.0115134"
        ]
       ],
       "shape": {
        "columns": 134,
        "rows": 5
       }
      },
      "text/html": [
       "<div>\n",
       "<style scoped>\n",
       "    .dataframe tbody tr th:only-of-type {\n",
       "        vertical-align: middle;\n",
       "    }\n",
       "\n",
       "    .dataframe tbody tr th {\n",
       "        vertical-align: top;\n",
       "    }\n",
       "\n",
       "    .dataframe thead th {\n",
       "        text-align: right;\n",
       "    }\n",
       "</style>\n",
       "<table border=\"1\" class=\"dataframe\">\n",
       "  <thead>\n",
       "    <tr style=\"text-align: right;\">\n",
       "      <th></th>\n",
       "      <th>Acholeplasma axanthum</th>\n",
       "      <th>Acidaminococcus fermentans</th>\n",
       "      <th>Acidaminococcus intestini</th>\n",
       "      <th>Actinomyces lingnae</th>\n",
       "      <th>Akkermansia muciniphila</th>\n",
       "      <th>Alistipes finegoldii</th>\n",
       "      <th>Alistipes indistinctus</th>\n",
       "      <th>Alistipes obesi</th>\n",
       "      <th>Alistipes onderdonkii</th>\n",
       "      <th>Alistipes putredinis</th>\n",
       "      <th>...</th>\n",
       "      <th>Clostridium sphenoides</th>\n",
       "      <th>Clostridium spiroforme</th>\n",
       "      <th>Clostridium stercorarium</th>\n",
       "      <th>Clostridium symbiosum</th>\n",
       "      <th>Clostridium thermosuccinogenes</th>\n",
       "      <th>Clostridium xylanolyticum</th>\n",
       "      <th>Eubacterium brachy</th>\n",
       "      <th>Eubacterium dolichum</th>\n",
       "      <th>Eubacterium sulci</th>\n",
       "      <th>Ruminococcus gnavus</th>\n",
       "    </tr>\n",
       "  </thead>\n",
       "  <tbody>\n",
       "    <tr>\n",
       "      <th>0</th>\n",
       "      <td>0.000000</td>\n",
       "      <td>0.000000</td>\n",
       "      <td>0.000000</td>\n",
       "      <td>0.000000</td>\n",
       "      <td>0.017674</td>\n",
       "      <td>0.000000</td>\n",
       "      <td>0.00000</td>\n",
       "      <td>0.0</td>\n",
       "      <td>0.117827</td>\n",
       "      <td>0.005891</td>\n",
       "      <td>...</td>\n",
       "      <td>0.005891</td>\n",
       "      <td>0.029457</td>\n",
       "      <td>0.000000</td>\n",
       "      <td>0.000000</td>\n",
       "      <td>0.002946</td>\n",
       "      <td>0.000000</td>\n",
       "      <td>0.000000</td>\n",
       "      <td>0.000000</td>\n",
       "      <td>0.002946</td>\n",
       "      <td>0.100153</td>\n",
       "    </tr>\n",
       "    <tr>\n",
       "      <th>1</th>\n",
       "      <td>0.001028</td>\n",
       "      <td>0.000000</td>\n",
       "      <td>0.000000</td>\n",
       "      <td>0.000000</td>\n",
       "      <td>13.015800</td>\n",
       "      <td>0.001542</td>\n",
       "      <td>0.00000</td>\n",
       "      <td>0.0</td>\n",
       "      <td>0.073486</td>\n",
       "      <td>0.403916</td>\n",
       "      <td>...</td>\n",
       "      <td>0.000000</td>\n",
       "      <td>0.002569</td>\n",
       "      <td>0.412652</td>\n",
       "      <td>0.003083</td>\n",
       "      <td>0.000000</td>\n",
       "      <td>0.000000</td>\n",
       "      <td>0.008736</td>\n",
       "      <td>0.014903</td>\n",
       "      <td>0.077597</td>\n",
       "      <td>0.004625</td>\n",
       "    </tr>\n",
       "    <tr>\n",
       "      <th>2</th>\n",
       "      <td>0.001406</td>\n",
       "      <td>0.000000</td>\n",
       "      <td>0.000000</td>\n",
       "      <td>0.001406</td>\n",
       "      <td>0.002812</td>\n",
       "      <td>0.201074</td>\n",
       "      <td>0.00000</td>\n",
       "      <td>0.0</td>\n",
       "      <td>0.043590</td>\n",
       "      <td>0.105459</td>\n",
       "      <td>...</td>\n",
       "      <td>0.000000</td>\n",
       "      <td>0.005624</td>\n",
       "      <td>0.002812</td>\n",
       "      <td>0.007031</td>\n",
       "      <td>0.000000</td>\n",
       "      <td>0.000000</td>\n",
       "      <td>0.000000</td>\n",
       "      <td>0.000000</td>\n",
       "      <td>0.005624</td>\n",
       "      <td>0.016873</td>\n",
       "    </tr>\n",
       "    <tr>\n",
       "      <th>3</th>\n",
       "      <td>0.000000</td>\n",
       "      <td>0.008825</td>\n",
       "      <td>0.273562</td>\n",
       "      <td>0.000000</td>\n",
       "      <td>0.044123</td>\n",
       "      <td>0.004412</td>\n",
       "      <td>0.34857</td>\n",
       "      <td>0.0</td>\n",
       "      <td>0.026474</td>\n",
       "      <td>0.586834</td>\n",
       "      <td>...</td>\n",
       "      <td>0.017649</td>\n",
       "      <td>0.198553</td>\n",
       "      <td>0.000000</td>\n",
       "      <td>0.158842</td>\n",
       "      <td>0.030886</td>\n",
       "      <td>0.101483</td>\n",
       "      <td>0.000000</td>\n",
       "      <td>0.000000</td>\n",
       "      <td>0.000000</td>\n",
       "      <td>0.000000</td>\n",
       "    </tr>\n",
       "    <tr>\n",
       "      <th>4</th>\n",
       "      <td>0.002878</td>\n",
       "      <td>0.037419</td>\n",
       "      <td>7.359970</td>\n",
       "      <td>0.000000</td>\n",
       "      <td>0.872143</td>\n",
       "      <td>0.000000</td>\n",
       "      <td>0.00000</td>\n",
       "      <td>0.0</td>\n",
       "      <td>1.732770</td>\n",
       "      <td>1.004550</td>\n",
       "      <td>...</td>\n",
       "      <td>0.305106</td>\n",
       "      <td>0.135283</td>\n",
       "      <td>0.000000</td>\n",
       "      <td>0.051811</td>\n",
       "      <td>0.054689</td>\n",
       "      <td>0.083473</td>\n",
       "      <td>0.020148</td>\n",
       "      <td>0.000000</td>\n",
       "      <td>0.054689</td>\n",
       "      <td>0.011513</td>\n",
       "    </tr>\n",
       "  </tbody>\n",
       "</table>\n",
       "<p>5 rows × 134 columns</p>\n",
       "</div>"
      ],
      "text/plain": [
       "   Acholeplasma axanthum  Acidaminococcus fermentans  \\\n",
       "0               0.000000                    0.000000   \n",
       "1               0.001028                    0.000000   \n",
       "2               0.001406                    0.000000   \n",
       "3               0.000000                    0.008825   \n",
       "4               0.002878                    0.037419   \n",
       "\n",
       "   Acidaminococcus intestini  Actinomyces lingnae  Akkermansia muciniphila  \\\n",
       "0                   0.000000             0.000000                 0.017674   \n",
       "1                   0.000000             0.000000                13.015800   \n",
       "2                   0.000000             0.001406                 0.002812   \n",
       "3                   0.273562             0.000000                 0.044123   \n",
       "4                   7.359970             0.000000                 0.872143   \n",
       "\n",
       "   Alistipes finegoldii  Alistipes indistinctus  Alistipes obesi  \\\n",
       "0              0.000000                 0.00000              0.0   \n",
       "1              0.001542                 0.00000              0.0   \n",
       "2              0.201074                 0.00000              0.0   \n",
       "3              0.004412                 0.34857              0.0   \n",
       "4              0.000000                 0.00000              0.0   \n",
       "\n",
       "   Alistipes onderdonkii  Alistipes putredinis  ...  Clostridium sphenoides  \\\n",
       "0               0.117827              0.005891  ...                0.005891   \n",
       "1               0.073486              0.403916  ...                0.000000   \n",
       "2               0.043590              0.105459  ...                0.000000   \n",
       "3               0.026474              0.586834  ...                0.017649   \n",
       "4               1.732770              1.004550  ...                0.305106   \n",
       "\n",
       "   Clostridium spiroforme  Clostridium stercorarium  Clostridium symbiosum  \\\n",
       "0                0.029457                  0.000000               0.000000   \n",
       "1                0.002569                  0.412652               0.003083   \n",
       "2                0.005624                  0.002812               0.007031   \n",
       "3                0.198553                  0.000000               0.158842   \n",
       "4                0.135283                  0.000000               0.051811   \n",
       "\n",
       "   Clostridium thermosuccinogenes  Clostridium xylanolyticum  \\\n",
       "0                        0.002946                   0.000000   \n",
       "1                        0.000000                   0.000000   \n",
       "2                        0.000000                   0.000000   \n",
       "3                        0.030886                   0.101483   \n",
       "4                        0.054689                   0.083473   \n",
       "\n",
       "   Eubacterium brachy  Eubacterium dolichum  Eubacterium sulci  \\\n",
       "0            0.000000              0.000000           0.002946   \n",
       "1            0.008736              0.014903           0.077597   \n",
       "2            0.000000              0.000000           0.005624   \n",
       "3            0.000000              0.000000           0.000000   \n",
       "4            0.020148              0.000000           0.054689   \n",
       "\n",
       "   Ruminococcus gnavus  \n",
       "0             0.100153  \n",
       "1             0.004625  \n",
       "2             0.016873  \n",
       "3             0.000000  \n",
       "4             0.011513  \n",
       "\n",
       "[5 rows x 134 columns]"
      ]
     },
     "execution_count": 8,
     "metadata": {},
     "output_type": "execute_result"
    }
   ],
   "source": [
    "bacteria.head()"
   ]
  },
  {
   "cell_type": "markdown",
   "metadata": {},
   "source": [
    "## General Statistics"
   ]
  },
  {
   "cell_type": "markdown",
   "metadata": {},
   "source": [
    "### BMI"
   ]
  },
  {
   "cell_type": "code",
   "execution_count": null,
   "metadata": {},
   "outputs": [],
   "source": [
    "def plot_kde(\n",
    "        df,\n",
    "        title=\"Kernel Density Estimation\",\n",
    "        x_label=\"Values\",\n",
    "        y_label=\"Frequency\",\n",
    "        hue_by=None\n",
    "    ):\n",
    "    '''Plot Kernel Density Estimation of the given data.\n",
    "\n",
    "    Parameters\n",
    "    ----------\n",
    "    df : pd.Series or pd.DataFrame\n",
    "        Data to plot.\n",
    "\n",
    "    title : str, default=\"Kernel Density Estimation\"\n",
    "        Title of the plot.\n",
    "\n",
    "    x_label : str, default=\"Values\"\n",
    "        Label for x-axis.\n",
    "\n",
    "    y_label : str, default=\"Frequency\"\n",
    "        Label for y-axis.\n",
    "\n",
    "    hue_by : pd.Series or pd.DataFrame, default=None\n",
    "        Data to color the plot by.\n",
    "    '''\n",
    "\n",
    "    plt.figure(figsize=(10, 7))\n",
    "\n",
    "    if isinstance(hue_by, pd.Series) or isinstance(hue_by, pd.DataFrame):\n",
    "        data = pd.DataFrame({\"BMI\": df, \"Color by\": hue_by})\n",
    "        ax = sns.histplot(\n",
    "            data=data,\n",
    "            x=\"BMI\",\n",
    "            bins=20,\n",
    "            kde=True,\n",
    "            hue=\"Color by\",\n",
    "            alpha=0.6\n",
    "        )\n",
    "        ax.get_legend().set_title(\"\")\n",
    "    else:\n",
    "        sns.histplot(df, bins=20, kde=True)\n",
    "\n",
    "    plt.title(title)\n",
    "    plt.xlabel(x_label)\n",
    "    plt.ylabel(y_label)\n",
    "    plt.grid(True, linestyle=\"--\", alpha=0.6)\n",
    "\n",
    "    plt.show()"
   ]
  },
  {
   "cell_type": "code",
   "execution_count": 10,
   "metadata": {},
   "outputs": [
    {
     "data": {
      "image/png": "[encoded data removed]",
      "text/plain": [
       "<Figure size 1000x700 with 1 Axes>"
      ]
     },
     "metadata": {},
     "output_type": "display_data"
    }
   ],
   "source": [
    "plot_kde(\n",
    "    bmi,\n",
    "    title=\"BMI Distribution\",\n",
    "    x_label=\"BMI\",\n",
    "    hue_by=sex\n",
    ")"
   ]
  },
  {
   "cell_type": "markdown",
   "metadata": {},
   "source": [
    "### Bacteria"
   ]
  },
  {
   "cell_type": "code",
   "execution_count": null,
   "metadata": {},
   "outputs": [],
   "source": [
    "def plot_feature_spans(\n",
    "        data,\n",
    "        sort_features=True,\n",
    "        title=\"Features\"\n",
    "    ):\n",
    "    '''Plot the min, max, and mean values of each feature in the dataframe.\n",
    "\n",
    "    Parameters\n",
    "    ----------\n",
    "    data : pandas DataFrame or numpy array\n",
    "        The data to plot the feature spans for.\n",
    "\n",
    "    sort_features : bool, default=True\n",
    "        Whether to sort the features by their mean values.\n",
    "\n",
    "    title : str, default=\"Features\"\n",
    "        The title of the plot.\n",
    "\n",
    "    Returns\n",
    "    -------\n",
    "    None\n",
    "    '''\n",
    "\n",
    "    if isinstance(data, pd.DataFrame):\n",
    "        data = data.to_numpy()\n",
    "    elif not isinstance(data, np.ndarray):\n",
    "        raise ValueError(\"Input must be a pandas DataFrame or a numpy array.\")\n",
    "\n",
    "    stats = np.array([\n",
    "        np.mean(data, axis=0),\n",
    "        np.min(data, axis=0),\n",
    "        np.max(data, axis=0)\n",
    "    ]).T\n",
    "\n",
    "    if sort_features:\n",
    "        stats = stats[stats[:, 0].argsort()]\n",
    "\n",
    "    feature_indices = list(range(len(stats)))\n",
    "\n",
    "    fig = go.Figure()\n",
    "\n",
    "    fig.add_trace(go.Scatter(\n",
    "        x=feature_indices, y=stats[:, 0], \n",
    "        mode='markers',\n",
    "        marker=dict(color='black', size=12),\n",
    "        zorder=3,\n",
    "        name=\"Mean\"\n",
    "    ))\n",
    "    \n",
    "    for i in feature_indices:\n",
    "        min_val = stats[i, 1]\n",
    "        max_val = stats[i, 2]\n",
    "        fig.add_trace(go.Scatter(\n",
    "            x=[i, i],\n",
    "            y=[min_val, max_val],\n",
    "            mode='lines',\n",
    "            line=dict(color='red', width=5, dash='solid'),\n",
    "            showlegend=False,\n",
    "            hoverinfo=\"none\",\n",
    "            name=\"Min to Max\"\n",
    "        ))\n",
    "\n",
    "    fig.add_trace(go.Scatter(\n",
    "        x=feature_indices, y=stats[:, 1], \n",
    "        mode='markers',\n",
    "        marker=dict(color='red', size=10),\n",
    "        name=\"Min\"\n",
    "    ))\n",
    "\n",
    "    fig.add_trace(go.Scatter(\n",
    "        x=feature_indices, y=stats[:, 2], \n",
    "        mode='markers',\n",
    "        marker=dict(color='red', size=10),\n",
    "        name=\"Max\"\n",
    "    ))\n",
    "\n",
    "    fig.update_layout(\n",
    "        title=title,\n",
    "        xaxis_title=\"Feature Index\",\n",
    "        yaxis_title=\"Values\",\n",
    "        template=\"plotly_white\",\n",
    "        hovermode=\"x unified\",\n",
    "        height=600,\n",
    "    )\n",
    "\n",
    "    fig.show()"
   ]
  },
  {
   "cell_type": "code",
   "execution_count": 12,
   "metadata": {},
   "outputs": [
    {
     "data": {
      "application/vnd.plotly.v1+json": {
       "config": {
        "plotlyServerURL": "https://plot.ly"
       },
       "data": [
        {
         "marker": {
          "color": "black",
          "size": 12
         },
         "mode": "markers",
         "name": "Mean",
         "type": "scatter",
         "x": [
          0,
          1,
          2,
          3,
          4,
          5,
          6,
          7,
          8,
          9,
          10,
          11,
          12,
          13,
          14,
          15,
          16,
          17,
          18,
          19,
          20,
          21,
          22,
          23,
          24,
          25,
          26,
          27,
          28,
          29,
          30,
          31,
          32,
          33,
          34,
          35,
          36,
          37,
          38,
          39,
          40,
          41,
          42,
          43,
          44,
          45,
          46,
          47,
          48,
          49,
          50,
          51,
          52,
          53,
          54,
          55,
          56,
          57,
          58,
          59,
          60,
          61,
          62,
          63,
          64,
          65,
          66,
          67,
          68,
          69,
          70,
          71,
          72,
          73,
          74,
          75,
          76,
          77,
          78,
          79,
          80,
          81,
          82,
          83,
          84,
          85,
          86,
          87,
          88,
          89,
          90,
          91,
          92,
          93,
          94,
          95,
          96,
          97,
          98,
          99,
          100,
          101,
          102,
          103,
          104,
          105,
          106,
          107,
          108,
          109,
          110,
          111,
          112,
          113,
          114,
          115,
          116,
          117,
          118,
          119,
          120,
          121,
          122,
          123,
          124,
          125,
          126,
          127,
          128,
          129,
          130,
          131,
          132,
          133
         ],
         "y": {
          "bdata": "0YQ/HT84Rz80nc/WxqJHP+9ffsVHZk4/A806OUp2UD+7MhUDdr5ZP40TRkklWlo/5rDovkZxXT/iwDj2Oy9eP1IftqUcamE/HjbrJJSZYj98IuWvMl5nPyKjKIpa9Wc/KIm8KgwMaD873yB3wBxsP+FF3lf65W8/piCgOrA8cD9QD+IhG/9wP/HNgPogOHE/xznsPBiycT+1DK97fsBxP0heyg5Qd3I/kkgMHNPRcz8PQIcB7wN0P3CAIe38W3U/s393Of4keD/5+KgzVF94P0gCTkRn8ng/afODnnR2ej+FJDSzE+R6PzKEQiP353o/3OdZb9wKfD+0r/sg0TN9P7kE2AV5s30//j4QmljkfT/piwJiNKB/P7aZgS/fioA/gpob7mJagT/mmVKMVJmBP84TnF2lVYM/fDlfITUVhT9Hk8b21l+HP4TjT/kTr4k/KbAE37m7iT8UIe90agSKP5YS6Fp/JIo/FO6qXqNqjT+vGn3zViiPP6YC36ueOJE/0OagzJbbkz8mNLUQx+SUP/l9tH/sbZU/n/mkAN9zmD+yYBnjhdSYP9SLS72wiJk/fO0l7/eumT+4lgifH4ObP9y7VQxZsJw/tmy4RLfenD9f8RcsrOOdP2fPO/q5iZ4/d4mGR/uvnj8xyS32vXWgP6annLOvIqI/XMDnsDZcoj+kloFQhvKiP/AK1vjmTaM/itTySle6oz98JzgUE/ijP97bsSguAaQ/hLNLTPIHpT9YSnuNDG6lP2dpKINKYqg/LMT1yAyjqj9Q0p0dehqrP87lJQZJSqs/kGjvk4mbqz88nqNJukqsP8RtpgNwVqw/EM0/8ULHrj/5OVIyxqOvP+VBTQAOu7A/+Ksz+rXssD8u4+Qr3FmzP+/Y0nRPhrM/Lm8fmy+NtD9YqJV9PUy1P348mYVQubU/IXsCAWZNtj8KFRDOuIu3PzaZol/nrLg/QzSOnQ0OuT/9bireliO5P28AQ8C407k/fS6Tn68gvT89M/9IKP+9PyIxYL7hlcA/6QIkkav3wT98qCiQ1oXDP7KMWOKeJcQ/n2koDCM0xT8SpizgeKDIP4C4Akpoqso/vbPJdMAtzj+Xo2jfZzfOP1jjMC93sc8/KfadMxPzzz9yQ2wjha7RP6LaasVREtI/CrVWxgZ00j/9a6CI5YXSP6HBXdfr39I/QV7u31fh0j+s2Jvcg9LTP4jp6Zfgi9Q/s9UPRuTG1T97QgA+CAPXP5M/ty5Ubdg/4KERIXc32T8s55RzzRPbPwHStCPBMNs/SpybpqSE3D+JRgXWAjrhP2N8emCv3uI/mPIG9PhV4z/QJgmcEszkP9jbb8GBfuU/xaexUe2y5z+2AB4kegXoPw/YzQX9POs/i5qWheYK7T9UMA85My31P3FYPEIG5fg/u3e2ajUJBUAfczLNkacQQA==",
          "dtype": "f8"
         },
         "zorder": 3
        },
        {
         "hoverinfo": "none",
         "line": {
          "color": "red",
          "dash": "solid",
          "width": 5
         },
         "mode": "lines",
         "name": "Min to Max",
         "showlegend": false,
         "type": "scatter",
         "x": [
          0,
          0
         ],
         "y": [
          0,
          0.13438
         ]
        },
        {
         "hoverinfo": "none",
         "line": {
          "color": "red",
          "dash": "solid",
          "width": 5
         },
         "mode": "lines",
         "name": "Min to Max",
         "showlegend": false,
         "type": "scatter",
         "x": [
          1,
          1
         ],
         "y": [
          0,
          0.09967
         ]
        },
        {
         "hoverinfo": "none",
         "line": {
          "color": "red",
          "dash": "solid",
          "width": 5
         },
         "mode": "lines",
         "name": "Min to Max",
         "showlegend": false,
         "type": "scatter",
         "x": [
          2,
          2
         ],
         "y": [
          0,
          0.0927708
         ]
        },
        {
         "hoverinfo": "none",
         "line": {
          "color": "red",
          "dash": "solid",
          "width": 5
         },
         "mode": "lines",
         "name": "Min to Max",
         "showlegend": false,
         "type": "scatter",
         "x": [
          3,
          3
         ],
         "y": [
          0,
          0.024888
         ]
        },
        {
         "hoverinfo": "none",
         "line": {
          "color": "red",
          "dash": "solid",
          "width": 5
         },
         "mode": "lines",
         "name": "Min to Max",
         "showlegend": false,
         "type": "scatter",
         "x": [
          4,
          4
         ],
         "y": [
          0,
          0.37848
         ]
        },
        {
         "hoverinfo": "none",
         "line": {
          "color": "red",
          "dash": "solid",
          "width": 5
         },
         "mode": "lines",
         "name": "Min to Max",
         "showlegend": false,
         "type": "scatter",
         "x": [
          5,
          5
         ],
         "y": [
          0,
          0.206426
         ]
        },
        {
         "hoverinfo": "none",
         "line": {
          "color": "red",
          "dash": "solid",
          "width": 5
         },
         "mode": "lines",
         "name": "Min to Max",
         "showlegend": false,
         "type": "scatter",
         "x": [
          6,
          6
         ],
         "y": [
          0,
          0.206951
         ]
        },
        {
         "hoverinfo": "none",
         "line": {
          "color": "red",
          "dash": "solid",
          "width": 5
         },
         "mode": "lines",
         "name": "Min to Max",
         "showlegend": false,
         "type": "scatter",
         "x": [
          7,
          7
         ],
         "y": [
          0,
          0.127274
         ]
        },
        {
         "hoverinfo": "none",
         "line": {
          "color": "red",
          "dash": "solid",
          "width": 5
         },
         "mode": "lines",
         "name": "Min to Max",
         "showlegend": false,
         "type": "scatter",
         "x": [
          8,
          8
         ],
         "y": [
          0,
          0.41525
         ]
        },
        {
         "hoverinfo": "none",
         "line": {
          "color": "red",
          "dash": "solid",
          "width": 5
         },
         "mode": "lines",
         "name": "Min to Max",
         "showlegend": false,
         "type": "scatter",
         "x": [
          9,
          9
         ],
         "y": [
          0,
          0.0980032
         ]
        },
        {
         "hoverinfo": "none",
         "line": {
          "color": "red",
          "dash": "solid",
          "width": 5
         },
         "mode": "lines",
         "name": "Min to Max",
         "showlegend": false,
         "type": "scatter",
         "x": [
          10,
          10
         ],
         "y": [
          0,
          0.347222
         ]
        },
        {
         "hoverinfo": "none",
         "line": {
          "color": "red",
          "dash": "solid",
          "width": 5
         },
         "mode": "lines",
         "name": "Min to Max",
         "showlegend": false,
         "type": "scatter",
         "x": [
          11,
          11
         ],
         "y": [
          0,
          0.524166
         ]
        },
        {
         "hoverinfo": "none",
         "line": {
          "color": "red",
          "dash": "solid",
          "width": 5
         },
         "mode": "lines",
         "name": "Min to Max",
         "showlegend": false,
         "type": "scatter",
         "x": [
          12,
          12
         ],
         "y": [
          0,
          0.166142
         ]
        },
        {
         "hoverinfo": "none",
         "line": {
          "color": "red",
          "dash": "solid",
          "width": 5
         },
         "mode": "lines",
         "name": "Min to Max",
         "showlegend": false,
         "type": "scatter",
         "x": [
          13,
          13
         ],
         "y": [
          0,
          0.339398
         ]
        },
        {
         "hoverinfo": "none",
         "line": {
          "color": "red",
          "dash": "solid",
          "width": 5
         },
         "mode": "lines",
         "name": "Min to Max",
         "showlegend": false,
         "type": "scatter",
         "x": [
          14,
          14
         ],
         "y": [
          0,
          0.409558
         ]
        },
        {
         "hoverinfo": "none",
         "line": {
          "color": "red",
          "dash": "solid",
          "width": 5
         },
         "mode": "lines",
         "name": "Min to Max",
         "showlegend": false,
         "type": "scatter",
         "x": [
          15,
          15
         ],
         "y": [
          0,
          0.328389
         ]
        },
        {
         "hoverinfo": "none",
         "line": {
          "color": "red",
          "dash": "solid",
          "width": 5
         },
         "mode": "lines",
         "name": "Min to Max",
         "showlegend": false,
         "type": "scatter",
         "x": [
          16,
          16
         ],
         "y": [
          0,
          0.269675
         ]
        },
        {
         "hoverinfo": "none",
         "line": {
          "color": "red",
          "dash": "solid",
          "width": 5
         },
         "mode": "lines",
         "name": "Min to Max",
         "showlegend": false,
         "type": "scatter",
         "x": [
          17,
          17
         ],
         "y": [
          0,
          0.336531
         ]
        },
        {
         "hoverinfo": "none",
         "line": {
          "color": "red",
          "dash": "solid",
          "width": 5
         },
         "mode": "lines",
         "name": "Min to Max",
         "showlegend": false,
         "type": "scatter",
         "x": [
          18,
          18
         ],
         "y": [
          0,
          0.16782
         ]
        },
        {
         "hoverinfo": "none",
         "line": {
          "color": "red",
          "dash": "solid",
          "width": 5
         },
         "mode": "lines",
         "name": "Min to Max",
         "showlegend": false,
         "type": "scatter",
         "x": [
          19,
          19
         ],
         "y": [
          0,
          1.1556
         ]
        },
        {
         "hoverinfo": "none",
         "line": {
          "color": "red",
          "dash": "solid",
          "width": 5
         },
         "mode": "lines",
         "name": "Min to Max",
         "showlegend": false,
         "type": "scatter",
         "x": [
          20,
          20
         ],
         "y": [
          0,
          0.206725
         ]
        },
        {
         "hoverinfo": "none",
         "line": {
          "color": "red",
          "dash": "solid",
          "width": 5
         },
         "mode": "lines",
         "name": "Min to Max",
         "showlegend": false,
         "type": "scatter",
         "x": [
          21,
          21
         ],
         "y": [
          0,
          0.803661
         ]
        },
        {
         "hoverinfo": "none",
         "line": {
          "color": "red",
          "dash": "solid",
          "width": 5
         },
         "mode": "lines",
         "name": "Min to Max",
         "showlegend": false,
         "type": "scatter",
         "x": [
          22,
          22
         ],
         "y": [
          0,
          0.31184
         ]
        },
        {
         "hoverinfo": "none",
         "line": {
          "color": "red",
          "dash": "solid",
          "width": 5
         },
         "mode": "lines",
         "name": "Min to Max",
         "showlegend": false,
         "type": "scatter",
         "x": [
          23,
          23
         ],
         "y": [
          0,
          0.512735
         ]
        },
        {
         "hoverinfo": "none",
         "line": {
          "color": "red",
          "dash": "solid",
          "width": 5
         },
         "mode": "lines",
         "name": "Min to Max",
         "showlegend": false,
         "type": "scatter",
         "x": [
          24,
          24
         ],
         "y": [
          0,
          0.359376
         ]
        },
        {
         "hoverinfo": "none",
         "line": {
          "color": "red",
          "dash": "solid",
          "width": 5
         },
         "mode": "lines",
         "name": "Min to Max",
         "showlegend": false,
         "type": "scatter",
         "x": [
          25,
          25
         ],
         "y": [
          0,
          0.29203
         ]
        },
        {
         "hoverinfo": "none",
         "line": {
          "color": "red",
          "dash": "solid",
          "width": 5
         },
         "mode": "lines",
         "name": "Min to Max",
         "showlegend": false,
         "type": "scatter",
         "x": [
          26,
          26
         ],
         "y": [
          0,
          0.205523
         ]
        },
        {
         "hoverinfo": "none",
         "line": {
          "color": "red",
          "dash": "solid",
          "width": 5
         },
         "mode": "lines",
         "name": "Min to Max",
         "showlegend": false,
         "type": "scatter",
         "x": [
          27,
          27
         ],
         "y": [
          0,
          0.679724
         ]
        },
        {
         "hoverinfo": "none",
         "line": {
          "color": "red",
          "dash": "solid",
          "width": 5
         },
         "mode": "lines",
         "name": "Min to Max",
         "showlegend": false,
         "type": "scatter",
         "x": [
          28,
          28
         ],
         "y": [
          0,
          0.273194
         ]
        },
        {
         "hoverinfo": "none",
         "line": {
          "color": "red",
          "dash": "solid",
          "width": 5
         },
         "mode": "lines",
         "name": "Min to Max",
         "showlegend": false,
         "type": "scatter",
         "x": [
          29,
          29
         ],
         "y": [
          0,
          0.29099
         ]
        },
        {
         "hoverinfo": "none",
         "line": {
          "color": "red",
          "dash": "solid",
          "width": 5
         },
         "mode": "lines",
         "name": "Min to Max",
         "showlegend": false,
         "type": "scatter",
         "x": [
          30,
          30
         ],
         "y": [
          0,
          0.89682
         ]
        },
        {
         "hoverinfo": "none",
         "line": {
          "color": "red",
          "dash": "solid",
          "width": 5
         },
         "mode": "lines",
         "name": "Min to Max",
         "showlegend": false,
         "type": "scatter",
         "x": [
          31,
          31
         ],
         "y": [
          0,
          0.599113
         ]
        },
        {
         "hoverinfo": "none",
         "line": {
          "color": "red",
          "dash": "solid",
          "width": 5
         },
         "mode": "lines",
         "name": "Min to Max",
         "showlegend": false,
         "type": "scatter",
         "x": [
          32,
          32
         ],
         "y": [
          0,
          0.351094
         ]
        },
        {
         "hoverinfo": "none",
         "line": {
          "color": "red",
          "dash": "solid",
          "width": 5
         },
         "mode": "lines",
         "name": "Min to Max",
         "showlegend": false,
         "type": "scatter",
         "x": [
          33,
          33
         ],
         "y": [
          0,
          0.926186
         ]
        },
        {
         "hoverinfo": "none",
         "line": {
          "color": "red",
          "dash": "solid",
          "width": 5
         },
         "mode": "lines",
         "name": "Min to Max",
         "showlegend": false,
         "type": "scatter",
         "x": [
          34,
          34
         ],
         "y": [
          0,
          0.378765
         ]
        },
        {
         "hoverinfo": "none",
         "line": {
          "color": "red",
          "dash": "solid",
          "width": 5
         },
         "mode": "lines",
         "name": "Min to Max",
         "showlegend": false,
         "type": "scatter",
         "x": [
          35,
          35
         ],
         "y": [
          0,
          0.312923
         ]
        },
        {
         "hoverinfo": "none",
         "line": {
          "color": "red",
          "dash": "solid",
          "width": 5
         },
         "mode": "lines",
         "name": "Min to Max",
         "showlegend": false,
         "type": "scatter",
         "x": [
          36,
          36
         ],
         "y": [
          0,
          1.87128
         ]
        },
        {
         "hoverinfo": "none",
         "line": {
          "color": "red",
          "dash": "solid",
          "width": 5
         },
         "mode": "lines",
         "name": "Min to Max",
         "showlegend": false,
         "type": "scatter",
         "x": [
          37,
          37
         ],
         "y": [
          0,
          2.06338
         ]
        },
        {
         "hoverinfo": "none",
         "line": {
          "color": "red",
          "dash": "solid",
          "width": 5
         },
         "mode": "lines",
         "name": "Min to Max",
         "showlegend": false,
         "type": "scatter",
         "x": [
          38,
          38
         ],
         "y": [
          0,
          0.688224
         ]
        },
        {
         "hoverinfo": "none",
         "line": {
          "color": "red",
          "dash": "solid",
          "width": 5
         },
         "mode": "lines",
         "name": "Min to Max",
         "showlegend": false,
         "type": "scatter",
         "x": [
          39,
          39
         ],
         "y": [
          0,
          0.793871
         ]
        },
        {
         "hoverinfo": "none",
         "line": {
          "color": "red",
          "dash": "solid",
          "width": 5
         },
         "mode": "lines",
         "name": "Min to Max",
         "showlegend": false,
         "type": "scatter",
         "x": [
          40,
          40
         ],
         "y": [
          0,
          0.545262
         ]
        },
        {
         "hoverinfo": "none",
         "line": {
          "color": "red",
          "dash": "solid",
          "width": 5
         },
         "mode": "lines",
         "name": "Min to Max",
         "showlegend": false,
         "type": "scatter",
         "x": [
          41,
          41
         ],
         "y": [
          0,
          0.360838
         ]
        },
        {
         "hoverinfo": "none",
         "line": {
          "color": "red",
          "dash": "solid",
          "width": 5
         },
         "mode": "lines",
         "name": "Min to Max",
         "showlegend": false,
         "type": "scatter",
         "x": [
          42,
          42
         ],
         "y": [
          0,
          1.93915
         ]
        },
        {
         "hoverinfo": "none",
         "line": {
          "color": "red",
          "dash": "solid",
          "width": 5
         },
         "mode": "lines",
         "name": "Min to Max",
         "showlegend": false,
         "type": "scatter",
         "x": [
          43,
          43
         ],
         "y": [
          0,
          0.419209
         ]
        },
        {
         "hoverinfo": "none",
         "line": {
          "color": "red",
          "dash": "solid",
          "width": 5
         },
         "mode": "lines",
         "name": "Min to Max",
         "showlegend": false,
         "type": "scatter",
         "x": [
          44,
          44
         ],
         "y": [
          0,
          1.91109
         ]
        },
        {
         "hoverinfo": "none",
         "line": {
          "color": "red",
          "dash": "solid",
          "width": 5
         },
         "mode": "lines",
         "name": "Min to Max",
         "showlegend": false,
         "type": "scatter",
         "x": [
          45,
          45
         ],
         "y": [
          0,
          1.76899
         ]
        },
        {
         "hoverinfo": "none",
         "line": {
          "color": "red",
          "dash": "solid",
          "width": 5
         },
         "mode": "lines",
         "name": "Min to Max",
         "showlegend": false,
         "type": "scatter",
         "x": [
          46,
          46
         ],
         "y": [
          0,
          0.55224
         ]
        },
        {
         "hoverinfo": "none",
         "line": {
          "color": "red",
          "dash": "solid",
          "width": 5
         },
         "mode": "lines",
         "name": "Min to Max",
         "showlegend": false,
         "type": "scatter",
         "x": [
          47,
          47
         ],
         "y": [
          0,
          2.8613
         ]
        },
        {
         "hoverinfo": "none",
         "line": {
          "color": "red",
          "dash": "solid",
          "width": 5
         },
         "mode": "lines",
         "name": "Min to Max",
         "showlegend": false,
         "type": "scatter",
         "x": [
          48,
          48
         ],
         "y": [
          0,
          6.42818
         ]
        },
        {
         "hoverinfo": "none",
         "line": {
          "color": "red",
          "dash": "solid",
          "width": 5
         },
         "mode": "lines",
         "name": "Min to Max",
         "showlegend": false,
         "type": "scatter",
         "x": [
          49,
          49
         ],
         "y": [
          0,
          1.89966
         ]
        },
        {
         "hoverinfo": "none",
         "line": {
          "color": "red",
          "dash": "solid",
          "width": 5
         },
         "mode": "lines",
         "name": "Min to Max",
         "showlegend": false,
         "type": "scatter",
         "x": [
          50,
          50
         ],
         "y": [
          0,
          1.62949
         ]
        },
        {
         "hoverinfo": "none",
         "line": {
          "color": "red",
          "dash": "solid",
          "width": 5
         },
         "mode": "lines",
         "name": "Min to Max",
         "showlegend": false,
         "type": "scatter",
         "x": [
          51,
          51
         ],
         "y": [
          0,
          3.06707
         ]
        },
        {
         "hoverinfo": "none",
         "line": {
          "color": "red",
          "dash": "solid",
          "width": 5
         },
         "mode": "lines",
         "name": "Min to Max",
         "showlegend": false,
         "type": "scatter",
         "x": [
          52,
          52
         ],
         "y": [
          0,
          0.39424
         ]
        },
        {
         "hoverinfo": "none",
         "line": {
          "color": "red",
          "dash": "solid",
          "width": 5
         },
         "mode": "lines",
         "name": "Min to Max",
         "showlegend": false,
         "type": "scatter",
         "x": [
          53,
          53
         ],
         "y": [
          0,
          1.42628
         ]
        },
        {
         "hoverinfo": "none",
         "line": {
          "color": "red",
          "dash": "solid",
          "width": 5
         },
         "mode": "lines",
         "name": "Min to Max",
         "showlegend": false,
         "type": "scatter",
         "x": [
          54,
          54
         ],
         "y": [
          0,
          1.58912
         ]
        },
        {
         "hoverinfo": "none",
         "line": {
          "color": "red",
          "dash": "solid",
          "width": 5
         },
         "mode": "lines",
         "name": "Min to Max",
         "showlegend": false,
         "type": "scatter",
         "x": [
          55,
          55
         ],
         "y": [
          0,
          2.28249
         ]
        },
        {
         "hoverinfo": "none",
         "line": {
          "color": "red",
          "dash": "solid",
          "width": 5
         },
         "mode": "lines",
         "name": "Min to Max",
         "showlegend": false,
         "type": "scatter",
         "x": [
          56,
          56
         ],
         "y": [
          0,
          1.91692
         ]
        },
        {
         "hoverinfo": "none",
         "line": {
          "color": "red",
          "dash": "solid",
          "width": 5
         },
         "mode": "lines",
         "name": "Min to Max",
         "showlegend": false,
         "type": "scatter",
         "x": [
          57,
          57
         ],
         "y": [
          0,
          6.97114
         ]
        },
        {
         "hoverinfo": "none",
         "line": {
          "color": "red",
          "dash": "solid",
          "width": 5
         },
         "mode": "lines",
         "name": "Min to Max",
         "showlegend": false,
         "type": "scatter",
         "x": [
          58,
          58
         ],
         "y": [
          0,
          2.08896
         ]
        },
        {
         "hoverinfo": "none",
         "line": {
          "color": "red",
          "dash": "solid",
          "width": 5
         },
         "mode": "lines",
         "name": "Min to Max",
         "showlegend": false,
         "type": "scatter",
         "x": [
          59,
          59
         ],
         "y": [
          0,
          1.46516
         ]
        },
        {
         "hoverinfo": "none",
         "line": {
          "color": "red",
          "dash": "solid",
          "width": 5
         },
         "mode": "lines",
         "name": "Min to Max",
         "showlegend": false,
         "type": "scatter",
         "x": [
          60,
          60
         ],
         "y": [
          0,
          2.62282
         ]
        },
        {
         "hoverinfo": "none",
         "line": {
          "color": "red",
          "dash": "solid",
          "width": 5
         },
         "mode": "lines",
         "name": "Min to Max",
         "showlegend": false,
         "type": "scatter",
         "x": [
          61,
          61
         ],
         "y": [
          0,
          3.11815
         ]
        },
        {
         "hoverinfo": "none",
         "line": {
          "color": "red",
          "dash": "solid",
          "width": 5
         },
         "mode": "lines",
         "name": "Min to Max",
         "showlegend": false,
         "type": "scatter",
         "x": [
          62,
          62
         ],
         "y": [
          0,
          5.04002
         ]
        },
        {
         "hoverinfo": "none",
         "line": {
          "color": "red",
          "dash": "solid",
          "width": 5
         },
         "mode": "lines",
         "name": "Min to Max",
         "showlegend": false,
         "type": "scatter",
         "x": [
          63,
          63
         ],
         "y": [
          0,
          2.77196
         ]
        },
        {
         "hoverinfo": "none",
         "line": {
          "color": "red",
          "dash": "solid",
          "width": 5
         },
         "mode": "lines",
         "name": "Min to Max",
         "showlegend": false,
         "type": "scatter",
         "x": [
          64,
          64
         ],
         "y": [
          0,
          2.33412
         ]
        },
        {
         "hoverinfo": "none",
         "line": {
          "color": "red",
          "dash": "solid",
          "width": 5
         },
         "mode": "lines",
         "name": "Min to Max",
         "showlegend": false,
         "type": "scatter",
         "x": [
          65,
          65
         ],
         "y": [
          0,
          1.69309
         ]
        },
        {
         "hoverinfo": "none",
         "line": {
          "color": "red",
          "dash": "solid",
          "width": 5
         },
         "mode": "lines",
         "name": "Min to Max",
         "showlegend": false,
         "type": "scatter",
         "x": [
          66,
          66
         ],
         "y": [
          0,
          1.17338
         ]
        },
        {
         "hoverinfo": "none",
         "line": {
          "color": "red",
          "dash": "solid",
          "width": 5
         },
         "mode": "lines",
         "name": "Min to Max",
         "showlegend": false,
         "type": "scatter",
         "x": [
          67,
          67
         ],
         "y": [
          0,
          9.96304
         ]
        },
        {
         "hoverinfo": "none",
         "line": {
          "color": "red",
          "dash": "solid",
          "width": 5
         },
         "mode": "lines",
         "name": "Min to Max",
         "showlegend": false,
         "type": "scatter",
         "x": [
          68,
          68
         ],
         "y": [
          0,
          7.12505
         ]
        },
        {
         "hoverinfo": "none",
         "line": {
          "color": "red",
          "dash": "solid",
          "width": 5
         },
         "mode": "lines",
         "name": "Min to Max",
         "showlegend": false,
         "type": "scatter",
         "x": [
          69,
          69
         ],
         "y": [
          0,
          2.80333
         ]
        },
        {
         "hoverinfo": "none",
         "line": {
          "color": "red",
          "dash": "solid",
          "width": 5
         },
         "mode": "lines",
         "name": "Min to Max",
         "showlegend": false,
         "type": "scatter",
         "x": [
          70,
          70
         ],
         "y": [
          0,
          2.47807
         ]
        },
        {
         "hoverinfo": "none",
         "line": {
          "color": "red",
          "dash": "solid",
          "width": 5
         },
         "mode": "lines",
         "name": "Min to Max",
         "showlegend": false,
         "type": "scatter",
         "x": [
          71,
          71
         ],
         "y": [
          0,
          2.44089
         ]
        },
        {
         "hoverinfo": "none",
         "line": {
          "color": "red",
          "dash": "solid",
          "width": 5
         },
         "mode": "lines",
         "name": "Min to Max",
         "showlegend": false,
         "type": "scatter",
         "x": [
          72,
          72
         ],
         "y": [
          0,
          2.29
         ]
        },
        {
         "hoverinfo": "none",
         "line": {
          "color": "red",
          "dash": "solid",
          "width": 5
         },
         "mode": "lines",
         "name": "Min to Max",
         "showlegend": false,
         "type": "scatter",
         "x": [
          73,
          73
         ],
         "y": [
          0,
          4.72622
         ]
        },
        {
         "hoverinfo": "none",
         "line": {
          "color": "red",
          "dash": "solid",
          "width": 5
         },
         "mode": "lines",
         "name": "Min to Max",
         "showlegend": false,
         "type": "scatter",
         "x": [
          74,
          74
         ],
         "y": [
          0,
          1.86443
         ]
        },
        {
         "hoverinfo": "none",
         "line": {
          "color": "red",
          "dash": "solid",
          "width": 5
         },
         "mode": "lines",
         "name": "Min to Max",
         "showlegend": false,
         "type": "scatter",
         "x": [
          75,
          75
         ],
         "y": [
          0,
          5.92923
         ]
        },
        {
         "hoverinfo": "none",
         "line": {
          "color": "red",
          "dash": "solid",
          "width": 5
         },
         "mode": "lines",
         "name": "Min to Max",
         "showlegend": false,
         "type": "scatter",
         "x": [
          76,
          76
         ],
         "y": [
          0,
          11.2252
         ]
        },
        {
         "hoverinfo": "none",
         "line": {
          "color": "red",
          "dash": "solid",
          "width": 5
         },
         "mode": "lines",
         "name": "Min to Max",
         "showlegend": false,
         "type": "scatter",
         "x": [
          77,
          77
         ],
         "y": [
          0,
          6.26319
         ]
        },
        {
         "hoverinfo": "none",
         "line": {
          "color": "red",
          "dash": "solid",
          "width": 5
         },
         "mode": "lines",
         "name": "Min to Max",
         "showlegend": false,
         "type": "scatter",
         "x": [
          78,
          78
         ],
         "y": [
          0,
          1.16643
         ]
        },
        {
         "hoverinfo": "none",
         "line": {
          "color": "red",
          "dash": "solid",
          "width": 5
         },
         "mode": "lines",
         "name": "Min to Max",
         "showlegend": false,
         "type": "scatter",
         "x": [
          79,
          79
         ],
         "y": [
          0,
          4.47866
         ]
        },
        {
         "hoverinfo": "none",
         "line": {
          "color": "red",
          "dash": "solid",
          "width": 5
         },
         "mode": "lines",
         "name": "Min to Max",
         "showlegend": false,
         "type": "scatter",
         "x": [
          80,
          80
         ],
         "y": [
          0,
          1.61879
         ]
        },
        {
         "hoverinfo": "none",
         "line": {
          "color": "red",
          "dash": "solid",
          "width": 5
         },
         "mode": "lines",
         "name": "Min to Max",
         "showlegend": false,
         "type": "scatter",
         "x": [
          81,
          81
         ],
         "y": [
          0,
          10.6743
         ]
        },
        {
         "hoverinfo": "none",
         "line": {
          "color": "red",
          "dash": "solid",
          "width": 5
         },
         "mode": "lines",
         "name": "Min to Max",
         "showlegend": false,
         "type": "scatter",
         "x": [
          82,
          82
         ],
         "y": [
          0,
          5.8182
         ]
        },
        {
         "hoverinfo": "none",
         "line": {
          "color": "red",
          "dash": "solid",
          "width": 5
         },
         "mode": "lines",
         "name": "Min to Max",
         "showlegend": false,
         "type": "scatter",
         "x": [
          83,
          83
         ],
         "y": [
          0,
          1.60677
         ]
        },
        {
         "hoverinfo": "none",
         "line": {
          "color": "red",
          "dash": "solid",
          "width": 5
         },
         "mode": "lines",
         "name": "Min to Max",
         "showlegend": false,
         "type": "scatter",
         "x": [
          84,
          84
         ],
         "y": [
          0,
          7.10997
         ]
        },
        {
         "hoverinfo": "none",
         "line": {
          "color": "red",
          "dash": "solid",
          "width": 5
         },
         "mode": "lines",
         "name": "Min to Max",
         "showlegend": false,
         "type": "scatter",
         "x": [
          85,
          85
         ],
         "y": [
          0,
          2.64836
         ]
        },
        {
         "hoverinfo": "none",
         "line": {
          "color": "red",
          "dash": "solid",
          "width": 5
         },
         "mode": "lines",
         "name": "Min to Max",
         "showlegend": false,
         "type": "scatter",
         "x": [
          86,
          86
         ],
         "y": [
          0,
          3.51665
         ]
        },
        {
         "hoverinfo": "none",
         "line": {
          "color": "red",
          "dash": "solid",
          "width": 5
         },
         "mode": "lines",
         "name": "Min to Max",
         "showlegend": false,
         "type": "scatter",
         "x": [
          87,
          87
         ],
         "y": [
          0,
          2.50535
         ]
        },
        {
         "hoverinfo": "none",
         "line": {
          "color": "red",
          "dash": "solid",
          "width": 5
         },
         "mode": "lines",
         "name": "Min to Max",
         "showlegend": false,
         "type": "scatter",
         "x": [
          88,
          88
         ],
         "y": [
          0,
          6.75284
         ]
        },
        {
         "hoverinfo": "none",
         "line": {
          "color": "red",
          "dash": "solid",
          "width": 5
         },
         "mode": "lines",
         "name": "Min to Max",
         "showlegend": false,
         "type": "scatter",
         "x": [
          89,
          89
         ],
         "y": [
          0,
          4.93913
         ]
        },
        {
         "hoverinfo": "none",
         "line": {
          "color": "red",
          "dash": "solid",
          "width": 5
         },
         "mode": "lines",
         "name": "Min to Max",
         "showlegend": false,
         "type": "scatter",
         "x": [
          90,
          90
         ],
         "y": [
          0,
          1.80119
         ]
        },
        {
         "hoverinfo": "none",
         "line": {
          "color": "red",
          "dash": "solid",
          "width": 5
         },
         "mode": "lines",
         "name": "Min to Max",
         "showlegend": false,
         "type": "scatter",
         "x": [
          91,
          91
         ],
         "y": [
          0,
          4.90851
         ]
        },
        {
         "hoverinfo": "none",
         "line": {
          "color": "red",
          "dash": "solid",
          "width": 5
         },
         "mode": "lines",
         "name": "Min to Max",
         "showlegend": false,
         "type": "scatter",
         "x": [
          92,
          92
         ],
         "y": [
          0,
          6.11035
         ]
        },
        {
         "hoverinfo": "none",
         "line": {
          "color": "red",
          "dash": "solid",
          "width": 5
         },
         "mode": "lines",
         "name": "Min to Max",
         "showlegend": false,
         "type": "scatter",
         "x": [
          93,
          93
         ],
         "y": [
          0,
          5.62216
         ]
        },
        {
         "hoverinfo": "none",
         "line": {
          "color": "red",
          "dash": "solid",
          "width": 5
         },
         "mode": "lines",
         "name": "Min to Max",
         "showlegend": false,
         "type": "scatter",
         "x": [
          94,
          94
         ],
         "y": [
          0,
          4.24627
         ]
        },
        {
         "hoverinfo": "none",
         "line": {
          "color": "red",
          "dash": "solid",
          "width": 5
         },
         "mode": "lines",
         "name": "Min to Max",
         "showlegend": false,
         "type": "scatter",
         "x": [
          95,
          95
         ],
         "y": [
          0,
          5.23021
         ]
        },
        {
         "hoverinfo": "none",
         "line": {
          "color": "red",
          "dash": "solid",
          "width": 5
         },
         "mode": "lines",
         "name": "Min to Max",
         "showlegend": false,
         "type": "scatter",
         "x": [
          96,
          96
         ],
         "y": [
          0,
          3.98208
         ]
        },
        {
         "hoverinfo": "none",
         "line": {
          "color": "red",
          "dash": "solid",
          "width": 5
         },
         "mode": "lines",
         "name": "Min to Max",
         "showlegend": false,
         "type": "scatter",
         "x": [
          97,
          97
         ],
         "y": [
          0,
          7.10271
         ]
        },
        {
         "hoverinfo": "none",
         "line": {
          "color": "red",
          "dash": "solid",
          "width": 5
         },
         "mode": "lines",
         "name": "Min to Max",
         "showlegend": false,
         "type": "scatter",
         "x": [
          98,
          98
         ],
         "y": [
          0,
          4.23948
         ]
        },
        {
         "hoverinfo": "none",
         "line": {
          "color": "red",
          "dash": "solid",
          "width": 5
         },
         "mode": "lines",
         "name": "Min to Max",
         "showlegend": false,
         "type": "scatter",
         "x": [
          99,
          99
         ],
         "y": [
          0,
          8.01067
         ]
        },
        {
         "hoverinfo": "none",
         "line": {
          "color": "red",
          "dash": "solid",
          "width": 5
         },
         "mode": "lines",
         "name": "Min to Max",
         "showlegend": false,
         "type": "scatter",
         "x": [
          100,
          100
         ],
         "y": [
          0,
          8.56862
         ]
        },
        {
         "hoverinfo": "none",
         "line": {
          "color": "red",
          "dash": "solid",
          "width": 5
         },
         "mode": "lines",
         "name": "Min to Max",
         "showlegend": false,
         "type": "scatter",
         "x": [
          101,
          101
         ],
         "y": [
          0,
          2.23081
         ]
        },
        {
         "hoverinfo": "none",
         "line": {
          "color": "red",
          "dash": "solid",
          "width": 5
         },
         "mode": "lines",
         "name": "Min to Max",
         "showlegend": false,
         "type": "scatter",
         "x": [
          102,
          102
         ],
         "y": [
          0,
          8.36038
         ]
        },
        {
         "hoverinfo": "none",
         "line": {
          "color": "red",
          "dash": "solid",
          "width": 5
         },
         "mode": "lines",
         "name": "Min to Max",
         "showlegend": false,
         "type": "scatter",
         "x": [
          103,
          103
         ],
         "y": [
          0,
          5.42148
         ]
        },
        {
         "hoverinfo": "none",
         "line": {
          "color": "red",
          "dash": "solid",
          "width": 5
         },
         "mode": "lines",
         "name": "Min to Max",
         "showlegend": false,
         "type": "scatter",
         "x": [
          104,
          104
         ],
         "y": [
          0,
          3.71453
         ]
        },
        {
         "hoverinfo": "none",
         "line": {
          "color": "red",
          "dash": "solid",
          "width": 5
         },
         "mode": "lines",
         "name": "Min to Max",
         "showlegend": false,
         "type": "scatter",
         "x": [
          105,
          105
         ],
         "y": [
          0,
          6.06867
         ]
        },
        {
         "hoverinfo": "none",
         "line": {
          "color": "red",
          "dash": "solid",
          "width": 5
         },
         "mode": "lines",
         "name": "Min to Max",
         "showlegend": false,
         "type": "scatter",
         "x": [
          106,
          106
         ],
         "y": [
          0,
          4.24967
         ]
        },
        {
         "hoverinfo": "none",
         "line": {
          "color": "red",
          "dash": "solid",
          "width": 5
         },
         "mode": "lines",
         "name": "Min to Max",
         "showlegend": false,
         "type": "scatter",
         "x": [
          107,
          107
         ],
         "y": [
          0,
          35.1403
         ]
        },
        {
         "hoverinfo": "none",
         "line": {
          "color": "red",
          "dash": "solid",
          "width": 5
         },
         "mode": "lines",
         "name": "Min to Max",
         "showlegend": false,
         "type": "scatter",
         "x": [
          108,
          108
         ],
         "y": [
          0,
          19.2037
         ]
        },
        {
         "hoverinfo": "none",
         "line": {
          "color": "red",
          "dash": "solid",
          "width": 5
         },
         "mode": "lines",
         "name": "Min to Max",
         "showlegend": false,
         "type": "scatter",
         "x": [
          109,
          109
         ],
         "y": [
          0,
          6.78581
         ]
        },
        {
         "hoverinfo": "none",
         "line": {
          "color": "red",
          "dash": "solid",
          "width": 5
         },
         "mode": "lines",
         "name": "Min to Max",
         "showlegend": false,
         "type": "scatter",
         "x": [
          110,
          110
         ],
         "y": [
          0,
          7.66035
         ]
        },
        {
         "hoverinfo": "none",
         "line": {
          "color": "red",
          "dash": "solid",
          "width": 5
         },
         "mode": "lines",
         "name": "Min to Max",
         "showlegend": false,
         "type": "scatter",
         "x": [
          111,
          111
         ],
         "y": [
          0,
          27.3706
         ]
        },
        {
         "hoverinfo": "none",
         "line": {
          "color": "red",
          "dash": "solid",
          "width": 5
         },
         "mode": "lines",
         "name": "Min to Max",
         "showlegend": false,
         "type": "scatter",
         "x": [
          112,
          112
         ],
         "y": [
          0,
          7.10879
         ]
        },
        {
         "hoverinfo": "none",
         "line": {
          "color": "red",
          "dash": "solid",
          "width": 5
         },
         "mode": "lines",
         "name": "Min to Max",
         "showlegend": false,
         "type": "scatter",
         "x": [
          113,
          113
         ],
         "y": [
          0,
          7.38523
         ]
        },
        {
         "hoverinfo": "none",
         "line": {
          "color": "red",
          "dash": "solid",
          "width": 5
         },
         "mode": "lines",
         "name": "Min to Max",
         "showlegend": false,
         "type": "scatter",
         "x": [
          114,
          114
         ],
         "y": [
          0,
          6.80727
         ]
        },
        {
         "hoverinfo": "none",
         "line": {
          "color": "red",
          "dash": "solid",
          "width": 5
         },
         "mode": "lines",
         "name": "Min to Max",
         "showlegend": false,
         "type": "scatter",
         "x": [
          115,
          115
         ],
         "y": [
          0,
          6.88194
         ]
        },
        {
         "hoverinfo": "none",
         "line": {
          "color": "red",
          "dash": "solid",
          "width": 5
         },
         "mode": "lines",
         "name": "Min to Max",
         "showlegend": false,
         "type": "scatter",
         "x": [
          116,
          116
         ],
         "y": [
          0,
          5.19427
         ]
        },
        {
         "hoverinfo": "none",
         "line": {
          "color": "red",
          "dash": "solid",
          "width": 5
         },
         "mode": "lines",
         "name": "Min to Max",
         "showlegend": false,
         "type": "scatter",
         "x": [
          117,
          117
         ],
         "y": [
          0,
          8.96558
         ]
        },
        {
         "hoverinfo": "none",
         "line": {
          "color": "red",
          "dash": "solid",
          "width": 5
         },
         "mode": "lines",
         "name": "Min to Max",
         "showlegend": false,
         "type": "scatter",
         "x": [
          118,
          118
         ],
         "y": [
          0,
          21.4959
         ]
        },
        {
         "hoverinfo": "none",
         "line": {
          "color": "red",
          "dash": "solid",
          "width": 5
         },
         "mode": "lines",
         "name": "Min to Max",
         "showlegend": false,
         "type": "scatter",
         "x": [
          119,
          119
         ],
         "y": [
          0,
          17.8475
         ]
        },
        {
         "hoverinfo": "none",
         "line": {
          "color": "red",
          "dash": "solid",
          "width": 5
         },
         "mode": "lines",
         "name": "Min to Max",
         "showlegend": false,
         "type": "scatter",
         "x": [
          120,
          120
         ],
         "y": [
          0,
          6.32593
         ]
        },
        {
         "hoverinfo": "none",
         "line": {
          "color": "red",
          "dash": "solid",
          "width": 5
         },
         "mode": "lines",
         "name": "Min to Max",
         "showlegend": false,
         "type": "scatter",
         "x": [
          121,
          121
         ],
         "y": [
          0,
          35.0946
         ]
        },
        {
         "hoverinfo": "none",
         "line": {
          "color": "red",
          "dash": "solid",
          "width": 5
         },
         "mode": "lines",
         "name": "Min to Max",
         "showlegend": false,
         "type": "scatter",
         "x": [
          122,
          122
         ],
         "y": [
          0,
          11.7966
         ]
        },
        {
         "hoverinfo": "none",
         "line": {
          "color": "red",
          "dash": "solid",
          "width": 5
         },
         "mode": "lines",
         "name": "Min to Max",
         "showlegend": false,
         "type": "scatter",
         "x": [
          123,
          123
         ],
         "y": [
          0,
          17.7822
         ]
        },
        {
         "hoverinfo": "none",
         "line": {
          "color": "red",
          "dash": "solid",
          "width": 5
         },
         "mode": "lines",
         "name": "Min to Max",
         "showlegend": false,
         "type": "scatter",
         "x": [
          124,
          124
         ],
         "y": [
          0,
          41.7255
         ]
        },
        {
         "hoverinfo": "none",
         "line": {
          "color": "red",
          "dash": "solid",
          "width": 5
         },
         "mode": "lines",
         "name": "Min to Max",
         "showlegend": false,
         "type": "scatter",
         "x": [
          125,
          125
         ],
         "y": [
          0,
          6.63787
         ]
        },
        {
         "hoverinfo": "none",
         "line": {
          "color": "red",
          "dash": "solid",
          "width": 5
         },
         "mode": "lines",
         "name": "Min to Max",
         "showlegend": false,
         "type": "scatter",
         "x": [
          126,
          126
         ],
         "y": [
          0,
          14.4406
         ]
        },
        {
         "hoverinfo": "none",
         "line": {
          "color": "red",
          "dash": "solid",
          "width": 5
         },
         "mode": "lines",
         "name": "Min to Max",
         "showlegend": false,
         "type": "scatter",
         "x": [
          127,
          127
         ],
         "y": [
          0,
          17.5047
         ]
        },
        {
         "hoverinfo": "none",
         "line": {
          "color": "red",
          "dash": "solid",
          "width": 5
         },
         "mode": "lines",
         "name": "Min to Max",
         "showlegend": false,
         "type": "scatter",
         "x": [
          128,
          128
         ],
         "y": [
          0,
          20.6678
         ]
        },
        {
         "hoverinfo": "none",
         "line": {
          "color": "red",
          "dash": "solid",
          "width": 5
         },
         "mode": "lines",
         "name": "Min to Max",
         "showlegend": false,
         "type": "scatter",
         "x": [
          129,
          129
         ],
         "y": [
          0,
          13.9784
         ]
        },
        {
         "hoverinfo": "none",
         "line": {
          "color": "red",
          "dash": "solid",
          "width": 5
         },
         "mode": "lines",
         "name": "Min to Max",
         "showlegend": false,
         "type": "scatter",
         "x": [
          130,
          130
         ],
         "y": [
          0,
          15.0643
         ]
        },
        {
         "hoverinfo": "none",
         "line": {
          "color": "red",
          "dash": "solid",
          "width": 5
         },
         "mode": "lines",
         "name": "Min to Max",
         "showlegend": false,
         "type": "scatter",
         "x": [
          131,
          131
         ],
         "y": [
          0,
          38.8349
         ]
        },
        {
         "hoverinfo": "none",
         "line": {
          "color": "red",
          "dash": "solid",
          "width": 5
         },
         "mode": "lines",
         "name": "Min to Max",
         "showlegend": false,
         "type": "scatter",
         "x": [
          132,
          132
         ],
         "y": [
          0,
          26.0191
         ]
        },
        {
         "hoverinfo": "none",
         "line": {
          "color": "red",
          "dash": "solid",
          "width": 5
         },
         "mode": "lines",
         "name": "Min to Max",
         "showlegend": false,
         "type": "scatter",
         "x": [
          133,
          133
         ],
         "y": [
          0,
          41.9866
         ]
        },
        {
         "marker": {
          "color": "red",
          "size": 10
         },
         "mode": "markers",
         "name": "Min",
         "type": "scatter",
         "x": [
          0,
          1,
          2,
          3,
          4,
          5,
          6,
          7,
          8,
          9,
          10,
          11,
          12,
          13,
          14,
          15,
          16,
          17,
          18,
          19,
          20,
          21,
          22,
          23,
          24,
          25,
          26,
          27,
          28,
          29,
          30,
          31,
          32,
          33,
          34,
          35,
          36,
          37,
          38,
          39,
          40,
          41,
          42,
          43,
          44,
          45,
          46,
          47,
          48,
          49,
          50,
          51,
          52,
          53,
          54,
          55,
          56,
          57,
          58,
          59,
          60,
          61,
          62,
          63,
          64,
          65,
          66,
          67,
          68,
          69,
          70,
          71,
          72,
          73,
          74,
          75,
          76,
          77,
          78,
          79,
          80,
          81,
          82,
          83,
          84,
          85,
          86,
          87,
          88,
          89,
          90,
          91,
          92,
          93,
          94,
          95,
          96,
          97,
          98,
          99,
          100,
          101,
          102,
          103,
          104,
          105,
          106,
          107,
          108,
          109,
          110,
          111,
          112,
          113,
          114,
          115,
          116,
          117,
          118,
          119,
          120,
          121,
          122,
          123,
          124,
          125,
          126,
          127,
          128,
          129,
          130,
          131,
          132,
          133
         ],
         "y": {
          "bdata": "AAAAAAAAAAAAAAAAAAAAAAAAAAAAAAAAAAAAAAAAAAAAAAAAAAAAAAAAAAAAAAAAAAAAAAAAAAAAAAAAAAAAAAAAAAAAAAAAAAAAAAAAAAAAAAAAAAAAAAAAAAAAAAAAAAAAAAAAAAAAAAAAAAAAAAAAAAAAAAAAAAAAAAAAAAAAAAAAAAAAAAAAAAAAAAAAAAAAAAAAAAAAAAAAAAAAAAAAAAAAAAAAAAAAAAAAAAAAAAAAAAAAAAAAAAAAAAAAAAAAAAAAAAAAAAAAAAAAAAAAAAAAAAAAAAAAAAAAAAAAAAAAAAAAAAAAAAAAAAAAAAAAAAAAAAAAAAAAAAAAAAAAAAAAAAAAAAAAAAAAAAAAAAAAAAAAAAAAAAAAAAAAAAAAAAAAAAAAAAAAAAAAAAAAAAAAAAAAAAAAAAAAAAAAAAAAAAAAAAAAAAAAAAAAAAAAAAAAAAAAAAAAAAAAAAAAAAAAAAAAAAAAAAAAAAAAAAAAAAAAAAAAAAAAAAAAAAAAAAAAAAAAAAAAAAAAAAAAAAAAAAAAAAAAAAAAAAAAAAAAAAAAAAAAAAAAAAAAAAAAAAAAAAAAAAAAAAAAAAAAAAAAAAAAAAAAAAAAAAAAAAAAAAAAAAAAAAAAAAAAAAAAAAAAAAAAAAAAAAAAAAAAAAAAAAAAAAAAAAAAAAAAAAAAAAAAAAAAAAAAAAAAAAAAAAAAAAAAAAAAAAAAAAAAAAAAAAAAAAAAAAAAAAAAAAAAAAAAAAAAAAAAAAAAAAAAAAAAAAAAAAAAAAAAAAAAAAAAAAAAAAAAAAAAAAAAAAAAAAAAAAAAAAAAAAAAAAAAAAAAAAAAAAAAAAAAAAAAAAAAAAAAAAAAAAAAAAAAAAAAAAAAAAAAAAAAAAAAAAAAAAAAAAAAAAAAAAAAAAAAAAAAAAAAAAAAAAAAAAAAAAAAAAAAAAAAAAAAAAAAAAAAAAAAAAAAAAAAAAAAAAAAAAAAAAAAAAAAAAAAAAAAAAAAAAAAAAAAAAAAAAAAAAAAAAAAAAAAAAAAAAAAAAAAAAAAAAAAAAAAAAAAAAAAAAAAAAAAAAAAAAAAAAAAAAAAAAAAAAAAAAAAAAAAAAAAAAAAAAAAAAAAAAAAAAAAAAAAAAAAAAAAAAAAAAAAAAAAAAAAAAAAAAAAAAAAAAAAAAAAAAAAAAAAAAAAAAAAAAAAAAAAAAAAAAAAAAAAAAAAAAAAAAAAAAAAAAAAAAAAAAAAAAAAAAAAAAAAAAAAAAAAAAAAAAAAAAAAAAAAAAAAAAAAAAAAAAAAAAAAAAAAAAAAAAAAAAAAAAAAAAAAAAAAAAAAAAAAAAAAAAAAAAAAAAAAAAAAAAAAAAAAAAAAAAAAAAAAAAAAAAAAAAAAAAAAAAAAAAAAAAAAAAAAAAAAAAAAAAAAAAAAAAAAAA==",
          "dtype": "f8"
         }
        },
        {
         "marker": {
          "color": "red",
          "size": 10
         },
         "mode": "markers",
         "name": "Max",
         "type": "scatter",
         "x": [
          0,
          1,
          2,
          3,
          4,
          5,
          6,
          7,
          8,
          9,
          10,
          11,
          12,
          13,
          14,
          15,
          16,
          17,
          18,
          19,
          20,
          21,
          22,
          23,
          24,
          25,
          26,
          27,
          28,
          29,
          30,
          31,
          32,
          33,
          34,
          35,
          36,
          37,
          38,
          39,
          40,
          41,
          42,
          43,
          44,
          45,
          46,
          47,
          48,
          49,
          50,
          51,
          52,
          53,
          54,
          55,
          56,
          57,
          58,
          59,
          60,
          61,
          62,
          63,
          64,
          65,
          66,
          67,
          68,
          69,
          70,
          71,
          72,
          73,
          74,
          75,
          76,
          77,
          78,
          79,
          80,
          81,
          82,
          83,
          84,
          85,
          86,
          87,
          88,
          89,
          90,
          91,
          92,
          93,
          94,
          95,
          96,
          97,
          98,
          99,
          100,
          101,
          102,
          103,
          104,
          105,
          106,
          107,
          108,
          109,
          110,
          111,
          112,
          113,
          114,
          115,
          116,
          117,
          118,
          119,
          120,
          121,
          122,
          123,
          124,
          125,
          126,
          127,
          128,
          129,
          130,
          131,
          132,
          133
         ],
         "y": {
          "bdata": "+kSeJF0zwT8Vb2Qe+YO5P+0UBsDTv7c/OltAaD18mT9FKowtBDnYP/CkhcsqbMo/fO9v0F59yj8EyNCxg0rAP/p+arx0k9o/w0Hn2rwWuT/Z6Jyf4jjWP7eadcb3xeA/6Po+HCRExT/O+pRjsrjVP7Yr9MEyNto/527XS1ME1T+KH2PuWkLRP3LFxVG5idU/Ja/OMSB7xT8hH/RsVn3yPy7/If32dco/0EICRpe36T++amXCL/XTP0d3EDtTaOA/Lei9MQQA1z8429yYnrDSPxS0yeGTTso/Ps3Ji0zA5T+9qN2vAnzRP3OiXYWUn9I/UMJM27+y7D9oeLMG7yvjP8SY9PdSeNY/9GqA0lCj7T/opPeNrz3YPyejyjDuBtQ/xooaTMPw/T+Lw5lfzYEAQFBQilbuBeY/JsXHJ2Rn6T+3DDhLyXLhP+zbSUT4F9c/SZ2AJsIG/z9ZFkz8UdTaP/lmmxvTk/4/djdPdchN/D+VYHE486vhP8BbIEHx4wZAgzRj0XS2GUBMT1jiAWX+P26LMhtkEvo/flcE/1uJCEBBmrFoOjvZP6cFL/oK0vY/W7bWFwlt+T+Kk/sdikICQOvFUE60q/4/ilkvhnLiG0CgNxWpMLYAQIyEtpxLcfc/lltaDYn7BEDgLZCg+PEIQGK+vAD7KBRAsI9OXfksBkAjhEcbR6wCQEn0MorlFvs/2XxcGyrG8j/MejGUE+0jQI51cRsNgBxAWipvRzhtBkD7ljldFtMDQEkRGVbxhgNAUrgehetRAkDyzTY3pucSQIbmOo201P0/K9mxEYi3F0BPHhZqTXMmQHaJ6q2BDRlAKCzxgLKp8j8KndfYJeoRQC140VeQ5vk/t2J/2T1ZJUBLWYY41kUXQEwao3VUtfk/GyrG+ZtwHEDHRiBe1y8FQMPTK2UZIgxA0ETY8PQKBECJeyx96AIbQBnFckurwRNAqB3+mqzR/D8YWwhyUKITQFR0JJf/cBhAd4TTghd9FkCV8e8zLvwQQEDZlCu86xRACHJQwkzbD0B+42vPLGkcQDAvwD469RBAvRjKiXYFIED6sx8pIiMhQNS3zOmy2AFA1EM0uoO4IEAdrP9zmK8VQEgWMIFbtw1Ag92wbVFGGEBWKxN+qf8QQH3Qs1n1kUFA+THmriU0M0CiemtgqyQbQIenV8oypB5AyeU/pN9eO0ABh1ClZm8cQJjArbt5ih1A7Sqk/KQ6G0AQI4RHG4cbQC1gArfuxhRA5ldzgGDuIUAeFmpN8341QClcj8L12DFAICQLmMBNGUDOGVHaG4xBQLn8h/TblydAY+5aQj7IMUC+nxov3dxEQOllFMstjRpANjy9UpbhLECMSuoENIExQNBE2PD0qjRAFNBE2PD0K0D+Q/rt6yAuQBe30QDeakNAhlrTvOMEOkDnHafoSP5EQA==",
          "dtype": "f8"
         }
        }
       ],
       "layout": {
        "height": 600,
        "hovermode": "x unified",
        "template": {
         "data": {
          "bar": [
           {
            "error_x": {
             "color": "#2a3f5f"
            },
            "error_y": {
             "color": "#2a3f5f"
            },
            "marker": {
             "line": {
              "color": "white",
              "width": 0.5
             },
             "pattern": {
              "fillmode": "overlay",
              "size": 10,
              "solidity": 0.2
             }
            },
            "type": "bar"
           }
          ],
          "barpolar": [
           {
            "marker": {
             "line": {
              "color": "white",
              "width": 0.5
             },
             "pattern": {
              "fillmode": "overlay",
              "size": 10,
              "solidity": 0.2
             }
            },
            "type": "barpolar"
           }
          ],
          "carpet": [
           {
            "aaxis": {
             "endlinecolor": "#2a3f5f",
             "gridcolor": "#C8D4E3",
             "linecolor": "#C8D4E3",
             "minorgridcolor": "#C8D4E3",
             "startlinecolor": "#2a3f5f"
            },
            "baxis": {
             "endlinecolor": "#2a3f5f",
             "gridcolor": "#C8D4E3",
             "linecolor": "#C8D4E3",
             "minorgridcolor": "#C8D4E3",
             "startlinecolor": "#2a3f5f"
            },
            "type": "carpet"
           }
          ],
          "choropleth": [
           {
            "colorbar": {
             "outlinewidth": 0,
             "ticks": ""
            },
            "type": "choropleth"
           }
          ],
          "contour": [
           {
            "colorbar": {
             "outlinewidth": 0,
             "ticks": ""
            },
            "colorscale": [
             [
              0,
              "#0d0887"
             ],
             [
              0.1111111111111111,
              "#46039f"
             ],
             [
              0.2222222222222222,
              "#7201a8"
             ],
             [
              0.3333333333333333,
              "#9c179e"
             ],
             [
              0.4444444444444444,
              "#bd3786"
             ],
             [
              0.5555555555555556,
              "#d8576b"
             ],
             [
              0.6666666666666666,
              "#ed7953"
             ],
             [
              0.7777777777777778,
              "#fb9f3a"
             ],
             [
              0.8888888888888888,
              "#fdca26"
             ],
             [
              1,
              "#f0f921"
             ]
            ],
            "type": "contour"
           }
          ],
          "contourcarpet": [
           {
            "colorbar": {
             "outlinewidth": 0,
             "ticks": ""
            },
            "type": "contourcarpet"
           }
          ],
          "heatmap": [
           {
            "colorbar": {
             "outlinewidth": 0,
             "ticks": ""
            },
            "colorscale": [
             [
              0,
              "#0d0887"
             ],
             [
              0.1111111111111111,
              "#46039f"
             ],
             [
              0.2222222222222222,
              "#7201a8"
             ],
             [
              0.3333333333333333,
              "#9c179e"
             ],
             [
              0.4444444444444444,
              "#bd3786"
             ],
             [
              0.5555555555555556,
              "#d8576b"
             ],
             [
              0.6666666666666666,
              "#ed7953"
             ],
             [
              0.7777777777777778,
              "#fb9f3a"
             ],
             [
              0.8888888888888888,
              "#fdca26"
             ],
             [
              1,
              "#f0f921"
             ]
            ],
            "type": "heatmap"
           }
          ],
          "histogram": [
           {
            "marker": {
             "pattern": {
              "fillmode": "overlay",
              "size": 10,
              "solidity": 0.2
             }
            },
            "type": "histogram"
           }
          ],
          "histogram2d": [
           {
            "colorbar": {
             "outlinewidth": 0,
             "ticks": ""
            },
            "colorscale": [
             [
              0,
              "#0d0887"
             ],
             [
              0.1111111111111111,
              "#46039f"
             ],
             [
              0.2222222222222222,
              "#7201a8"
             ],
             [
              0.3333333333333333,
              "#9c179e"
             ],
             [
              0.4444444444444444,
              "#bd3786"
             ],
             [
              0.5555555555555556,
              "#d8576b"
             ],
             [
              0.6666666666666666,
              "#ed7953"
             ],
             [
              0.7777777777777778,
              "#fb9f3a"
             ],
             [
              0.8888888888888888,
              "#fdca26"
             ],
             [
              1,
              "#f0f921"
             ]
            ],
            "type": "histogram2d"
           }
          ],
          "histogram2dcontour": [
           {
            "colorbar": {
             "outlinewidth": 0,
             "ticks": ""
            },
            "colorscale": [
             [
              0,
              "#0d0887"
             ],
             [
              0.1111111111111111,
              "#46039f"
             ],
             [
              0.2222222222222222,
              "#7201a8"
             ],
             [
              0.3333333333333333,
              "#9c179e"
             ],
             [
              0.4444444444444444,
              "#bd3786"
             ],
             [
              0.5555555555555556,
              "#d8576b"
             ],
             [
              0.6666666666666666,
              "#ed7953"
             ],
             [
              0.7777777777777778,
              "#fb9f3a"
             ],
             [
              0.8888888888888888,
              "#fdca26"
             ],
             [
              1,
              "#f0f921"
             ]
            ],
            "type": "histogram2dcontour"
           }
          ],
          "mesh3d": [
           {
            "colorbar": {
             "outlinewidth": 0,
             "ticks": ""
            },
            "type": "mesh3d"
           }
          ],
          "parcoords": [
           {
            "line": {
             "colorbar": {
              "outlinewidth": 0,
              "ticks": ""
             }
            },
            "type": "parcoords"
           }
          ],
          "pie": [
           {
            "automargin": true,
            "type": "pie"
           }
          ],
          "scatter": [
           {
            "fillpattern": {
             "fillmode": "overlay",
             "size": 10,
             "solidity": 0.2
            },
            "type": "scatter"
           }
          ],
          "scatter3d": [
           {
            "line": {
             "colorbar": {
              "outlinewidth": 0,
              "ticks": ""
             }
            },
            "marker": {
             "colorbar": {
              "outlinewidth": 0,
              "ticks": ""
             }
            },
            "type": "scatter3d"
           }
          ],
          "scattercarpet": [
           {
            "marker": {
             "colorbar": {
              "outlinewidth": 0,
              "ticks": ""
             }
            },
            "type": "scattercarpet"
           }
          ],
          "scattergeo": [
           {
            "marker": {
             "colorbar": {
              "outlinewidth": 0,
              "ticks": ""
             }
            },
            "type": "scattergeo"
           }
          ],
          "scattergl": [
           {
            "marker": {
             "colorbar": {
              "outlinewidth": 0,
              "ticks": ""
             }
            },
            "type": "scattergl"
           }
          ],
          "scattermap": [
           {
            "marker": {
             "colorbar": {
              "outlinewidth": 0,
              "ticks": ""
             }
            },
            "type": "scattermap"
           }
          ],
          "scattermapbox": [
           {
            "marker": {
             "colorbar": {
              "outlinewidth": 0,
              "ticks": ""
             }
            },
            "type": "scattermapbox"
           }
          ],
          "scatterpolar": [
           {
            "marker": {
             "colorbar": {
              "outlinewidth": 0,
              "ticks": ""
             }
            },
            "type": "scatterpolar"
           }
          ],
          "scatterpolargl": [
           {
            "marker": {
             "colorbar": {
              "outlinewidth": 0,
              "ticks": ""
             }
            },
            "type": "scatterpolargl"
           }
          ],
          "scatterternary": [
           {
            "marker": {
             "colorbar": {
              "outlinewidth": 0,
              "ticks": ""
             }
            },
            "type": "scatterternary"
           }
          ],
          "surface": [
           {
            "colorbar": {
             "outlinewidth": 0,
             "ticks": ""
            },
            "colorscale": [
             [
              0,
              "#0d0887"
             ],
             [
              0.1111111111111111,
              "#46039f"
             ],
             [
              0.2222222222222222,
              "#7201a8"
             ],
             [
              0.3333333333333333,
              "#9c179e"
             ],
             [
              0.4444444444444444,
              "#bd3786"
             ],
             [
              0.5555555555555556,
              "#d8576b"
             ],
             [
              0.6666666666666666,
              "#ed7953"
             ],
             [
              0.7777777777777778,
              "#fb9f3a"
             ],
             [
              0.8888888888888888,
              "#fdca26"
             ],
             [
              1,
              "#f0f921"
             ]
            ],
            "type": "surface"
           }
          ],
          "table": [
           {
            "cells": {
             "fill": {
              "color": "#EBF0F8"
             },
             "line": {
              "color": "white"
             }
            },
            "header": {
             "fill": {
              "color": "#C8D4E3"
             },
             "line": {
              "color": "white"
             }
            },
            "type": "table"
           }
          ]
         },
         "layout": {
          "annotationdefaults": {
           "arrowcolor": "#2a3f5f",
           "arrowhead": 0,
           "arrowwidth": 1
          },
          "autotypenumbers": "strict",
          "coloraxis": {
           "colorbar": {
            "outlinewidth": 0,
            "ticks": ""
           }
          },
          "colorscale": {
           "diverging": [
            [
             0,
             "#8e0152"
            ],
            [
             0.1,
             "#c51b7d"
            ],
            [
             0.2,
             "#de77ae"
            ],
            [
             0.3,
             "#f1b6da"
            ],
            [
             0.4,
             "#fde0ef"
            ],
            [
             0.5,
             "#f7f7f7"
            ],
            [
             0.6,
             "#e6f5d0"
            ],
            [
             0.7,
             "#b8e186"
            ],
            [
             0.8,
             "#7fbc41"
            ],
            [
             0.9,
             "#4d9221"
            ],
            [
             1,
             "#276419"
            ]
           ],
           "sequential": [
            [
             0,
             "#0d0887"
            ],
            [
             0.1111111111111111,
             "#46039f"
            ],
            [
             0.2222222222222222,
             "#7201a8"
            ],
            [
             0.3333333333333333,
             "#9c179e"
            ],
            [
             0.4444444444444444,
             "#bd3786"
            ],
            [
             0.5555555555555556,
             "#d8576b"
            ],
            [
             0.6666666666666666,
             "#ed7953"
            ],
            [
             0.7777777777777778,
             "#fb9f3a"
            ],
            [
             0.8888888888888888,
             "#fdca26"
            ],
            [
             1,
             "#f0f921"
            ]
           ],
           "sequentialminus": [
            [
             0,
             "#0d0887"
            ],
            [
             0.1111111111111111,
             "#46039f"
            ],
            [
             0.2222222222222222,
             "#7201a8"
            ],
            [
             0.3333333333333333,
             "#9c179e"
            ],
            [
             0.4444444444444444,
             "#bd3786"
            ],
            [
             0.5555555555555556,
             "#d8576b"
            ],
            [
             0.6666666666666666,
             "#ed7953"
            ],
            [
             0.7777777777777778,
             "#fb9f3a"
            ],
            [
             0.8888888888888888,
             "#fdca26"
            ],
            [
             1,
             "#f0f921"
            ]
           ]
          },
          "colorway": [
           "#636efa",
           "#EF553B",
           "#00cc96",
           "#ab63fa",
           "#FFA15A",
           "#19d3f3",
           "#FF6692",
           "#B6E880",
           "#FF97FF",
           "#FECB52"
          ],
          "font": {
           "color": "#2a3f5f"
          },
          "geo": {
           "bgcolor": "white",
           "lakecolor": "white",
           "landcolor": "white",
           "showlakes": true,
           "showland": true,
           "subunitcolor": "#C8D4E3"
          },
          "hoverlabel": {
           "align": "left"
          },
          "hovermode": "closest",
          "mapbox": {
           "style": "light"
          },
          "paper_bgcolor": "white",
          "plot_bgcolor": "white",
          "polar": {
           "angularaxis": {
            "gridcolor": "#EBF0F8",
            "linecolor": "#EBF0F8",
            "ticks": ""
           },
           "bgcolor": "white",
           "radialaxis": {
            "gridcolor": "#EBF0F8",
            "linecolor": "#EBF0F8",
            "ticks": ""
           }
          },
          "scene": {
           "xaxis": {
            "backgroundcolor": "white",
            "gridcolor": "#DFE8F3",
            "gridwidth": 2,
            "linecolor": "#EBF0F8",
            "showbackground": true,
            "ticks": "",
            "zerolinecolor": "#EBF0F8"
           },
           "yaxis": {
            "backgroundcolor": "white",
            "gridcolor": "#DFE8F3",
            "gridwidth": 2,
            "linecolor": "#EBF0F8",
            "showbackground": true,
            "ticks": "",
            "zerolinecolor": "#EBF0F8"
           },
           "zaxis": {
            "backgroundcolor": "white",
            "gridcolor": "#DFE8F3",
            "gridwidth": 2,
            "linecolor": "#EBF0F8",
            "showbackground": true,
            "ticks": "",
            "zerolinecolor": "#EBF0F8"
           }
          },
          "shapedefaults": {
           "line": {
            "color": "#2a3f5f"
           }
          },
          "ternary": {
           "aaxis": {
            "gridcolor": "#DFE8F3",
            "linecolor": "#A2B1C6",
            "ticks": ""
           },
           "baxis": {
            "gridcolor": "#DFE8F3",
            "linecolor": "#A2B1C6",
            "ticks": ""
           },
           "bgcolor": "white",
           "caxis": {
            "gridcolor": "#DFE8F3",
            "linecolor": "#A2B1C6",
            "ticks": ""
           }
          },
          "title": {
           "x": 0.05
          },
          "xaxis": {
           "automargin": true,
           "gridcolor": "#EBF0F8",
           "linecolor": "#EBF0F8",
           "ticks": "",
           "title": {
            "standoff": 15
           },
           "zerolinecolor": "#EBF0F8",
           "zerolinewidth": 2
          },
          "yaxis": {
           "automargin": true,
           "gridcolor": "#EBF0F8",
           "linecolor": "#EBF0F8",
           "ticks": "",
           "title": {
            "standoff": 15
           },
           "zerolinecolor": "#EBF0F8",
           "zerolinewidth": 2
          }
         }
        },
        "title": {
         "text": "Features"
        },
        "xaxis": {
         "title": {
          "text": "Feature Index"
         }
        },
        "yaxis": {
         "title": {
          "text": "Values"
         }
        }
       }
      }
     },
     "metadata": {},
     "output_type": "display_data"
    }
   ],
   "source": [
    "plot_feature_spans(bacteria)"
   ]
  },
  {
   "cell_type": "markdown",
   "metadata": {},
   "source": [
    "Lets normalize them and see what they look like"
   ]
  },
  {
   "cell_type": "code",
   "execution_count": 13,
   "metadata": {},
   "outputs": [],
   "source": [
    "zscaler = StandardScaler()\n",
    "mmscaler = MinMaxScaler()\n",
    "\n",
    "bacteria_zscaled = zscaler.fit_transform(bacteria)\n",
    "bacteria_mmscaled = mmscaler.fit_transform(bacteria)"
   ]
  },
  {
   "cell_type": "code",
   "execution_count": 14,
   "metadata": {},
   "outputs": [
    {
     "data": {
      "application/vnd.plotly.v1+json": {
       "config": {
        "plotlyServerURL": "https://plot.ly"
       },
       "data": [
        {
         "marker": {
          "color": "black",
          "size": 12
         },
         "mode": "markers",
         "name": "Mean",
         "type": "scatter",
         "x": [
          0,
          1,
          2,
          3,
          4,
          5,
          6,
          7,
          8,
          9,
          10,
          11,
          12,
          13,
          14,
          15,
          16,
          17,
          18,
          19,
          20,
          21,
          22,
          23,
          24,
          25,
          26,
          27,
          28,
          29,
          30,
          31,
          32,
          33,
          34,
          35,
          36,
          37,
          38,
          39,
          40,
          41,
          42,
          43,
          44,
          45,
          46,
          47,
          48,
          49,
          50,
          51,
          52,
          53,
          54,
          55,
          56,
          57,
          58,
          59,
          60,
          61,
          62,
          63,
          64,
          65,
          66,
          67,
          68,
          69,
          70,
          71,
          72,
          73,
          74,
          75,
          76,
          77,
          78,
          79,
          80,
          81,
          82,
          83,
          84,
          85,
          86,
          87,
          88,
          89,
          90,
          91,
          92,
          93,
          94,
          95,
          96,
          97,
          98,
          99,
          100,
          101,
          102,
          103,
          104,
          105,
          106,
          107,
          108,
          109,
          110,
          111,
          112,
          113,
          114,
          115,
          116,
          117,
          118,
          119,
          120,
          121,
          122,
          123,
          124,
          125,
          126,
          127,
          128,
          129,
          130,
          131,
          132,
          133
         ],
         "y": {
          "bdata": "nGbcoy9dnrxipNZ2Fb+bvFdKojoQOZu8BtQzleuOl7wBpxn36EuXvPt5/1jmCJe8zREuaNHwlLyqA5GzwV6TvJ+pXHe82JK8cUGLhqfAkLxxQYuGp8CQvKKT9kEyoI68nGbcoy9djryFsnMrJVGNvIWycyslUY28hbJzKyVRjbxXSqI6EDmLvFdKojoQOYu8KeLQSfsgibwp4tBJ+yCJvCni0En7IIm8+3n/WOYIh7z7ef9Y5giHvM0RLmjR8IS8zREuaNHwhLyfqVx3vNiCvJ+pXHe82IK8n6lcd7zYgrxxQYuGp8CAvHFBi4anwIC8cUGLhqfAgLxxQYuGp8CAvHFBi4anwIC8cUGLhqfAgLxxQYuGp8CAvHFBi4anwIC8sxpFHDppf7yFsnMrJVF9vFdKojoQOXu8KeLQSfsgebwp4tBJ+yB5vCni0En7IHm8KeLQSfsgebwp4tBJ+yB5vCni0En7IHm8KeLQSfsgebzNES5o0fB0vM0RLmjR8HS8zREuaNHwdLzNES5o0fB0vM0RLmjR8HS8zREuaNHwdLyfqVx3vNhyvJ+pXHe82HK8cUGLhqfAcLxxQYuGp8BwvHFBi4anwHC8cUGLhqfAcLxxQYuGp8BwvIWycyslUW28hbJzKyVRbbyFsnMrJVFtvCni0En7IGm8KeLQSfsgabwp4tBJ+yBpvHFBi4anwGC8cUGLhqfAYLxxQYuGp8BgvHFBi4anwGC8cUGLhqfAYLxxQYuGp8BgvHFBi4anwGC8cUGLhqfAYLxxQYuGp8BgvHFBi4anwGC8cUGLhqfAYLwp4tBJ+yBZvHFBi4anwFC8cUGLhqfAULxxQYuGp8BQvHFBi4anwEC8cUGLhqfAQLwAAAAAAAAAAAAAAAAAAAAAAAAAAAAAAAAAAAAAAAAAAAAAAAAAAAAAAAAAAAAAAABxQYuGp8BQPHFBi4anwFA8zREuaNHwVDxxQYuGp8BgPHFBi4anwGA8cUGLhqfAYDxxQYuGp8BgPCni0En7IGk8KeLQSfsgaTwp4tBJ+yBpPCni0En7IGk8KeLQSfsgaTyFsnMrJVFtPHFBi4anwHA8cUGLhqfAcDxxQYuGp8BwPHFBi4anwHA8cUGLhqfAcDxxQYuGp8BwPHFBi4anwHA8cUGLhqfAcDyfqVx3vNhyPJ+pXHe82HI8+3n/WOYIdzwp4tBJ+yB5PCni0En7IHk8KeLQSfsgeTwp4tBJ+yB5PIWycyslUX08hbJzKyVRfTxxQYuGp8CAPJ+pXHe82II8zREuaNHwhDzNES5o0fCEPM0RLmjR8IQ8+3n/WOYIhzwp4tBJ+yCJPECWOcIFLYo8V0qiOhA5izyFsnMrJVGNPLMaRRw6aY88iPXz/rHMkTzYa2Kk1naVPO8fyxzhgpY8NDwFhgCnmTxu/gqzGkWcPA==",
          "dtype": "f8"
         },
         "zorder": 3
        },
        {
         "hoverinfo": "none",
         "line": {
          "color": "red",
          "dash": "solid",
          "width": 5
         },
         "mode": "lines",
         "name": "Min to Max",
         "showlegend": false,
         "type": "scatter",
         "x": [
          0,
          0
         ],
         "y": [
          -0.440764649003445,
          8.844989467900415
         ]
        },
        {
         "hoverinfo": "none",
         "line": {
          "color": "red",
          "dash": "solid",
          "width": 5
         },
         "mode": "lines",
         "name": "Min to Max",
         "showlegend": false,
         "type": "scatter",
         "x": [
          1,
          1
         ],
         "y": [
          -0.4704700782134874,
          10.352347974042411
         ]
        },
        {
         "hoverinfo": "none",
         "line": {
          "color": "red",
          "dash": "solid",
          "width": 5
         },
         "mode": "lines",
         "name": "Min to Max",
         "showlegend": false,
         "type": "scatter",
         "x": [
          2,
          2
         ],
         "y": [
          -0.529036386299737,
          5.13604115452586
         ]
        },
        {
         "hoverinfo": "none",
         "line": {
          "color": "red",
          "dash": "solid",
          "width": 5
         },
         "mode": "lines",
         "name": "Min to Max",
         "showlegend": false,
         "type": "scatter",
         "x": [
          3,
          3
         ],
         "y": [
          -0.6451582838720196,
          5.860684913039553
         ]
        },
        {
         "hoverinfo": "none",
         "line": {
          "color": "red",
          "dash": "solid",
          "width": 5
         },
         "mode": "lines",
         "name": "Min to Max",
         "showlegend": false,
         "type": "scatter",
         "x": [
          4,
          4
         ],
         "y": [
          -0.39369534727186906,
          8.642411522888349
         ]
        },
        {
         "hoverinfo": "none",
         "line": {
          "color": "red",
          "dash": "solid",
          "width": 5
         },
         "mode": "lines",
         "name": "Min to Max",
         "showlegend": false,
         "type": "scatter",
         "x": [
          5,
          5
         ],
         "y": [
          -0.7579969223270623,
          6.742449780401292
         ]
        },
        {
         "hoverinfo": "none",
         "line": {
          "color": "red",
          "dash": "solid",
          "width": 5
         },
         "mode": "lines",
         "name": "Min to Max",
         "showlegend": false,
         "type": "scatter",
         "x": [
          6,
          6
         ],
         "y": [
          -0.45529414347063996,
          11.807944913801688
         ]
        },
        {
         "hoverinfo": "none",
         "line": {
          "color": "red",
          "dash": "solid",
          "width": 5
         },
         "mode": "lines",
         "name": "Min to Max",
         "showlegend": false,
         "type": "scatter",
         "x": [
          7,
          7
         ],
         "y": [
          -0.38268228994116527,
          8.325131616970607
         ]
        },
        {
         "hoverinfo": "none",
         "line": {
          "color": "red",
          "dash": "solid",
          "width": 5
         },
         "mode": "lines",
         "name": "Min to Max",
         "showlegend": false,
         "type": "scatter",
         "x": [
          8,
          8
         ],
         "y": [
          -0.2622908462040416,
          15.728644293061231
         ]
        },
        {
         "hoverinfo": "none",
         "line": {
          "color": "red",
          "dash": "solid",
          "width": 5
         },
         "mode": "lines",
         "name": "Min to Max",
         "showlegend": false,
         "type": "scatter",
         "x": [
          9,
          9
         ],
         "y": [
          -0.2356985861534069,
          11.02465884327122
         ]
        },
        {
         "hoverinfo": "none",
         "line": {
          "color": "red",
          "dash": "solid",
          "width": 5
         },
         "mode": "lines",
         "name": "Min to Max",
         "showlegend": false,
         "type": "scatter",
         "x": [
          10,
          10
         ],
         "y": [
          -0.23986161694877053,
          12.051128839826024
         ]
        },
        {
         "hoverinfo": "none",
         "line": {
          "color": "red",
          "dash": "solid",
          "width": 5
         },
         "mode": "lines",
         "name": "Min to Max",
         "showlegend": false,
         "type": "scatter",
         "x": [
          11,
          11
         ],
         "y": [
          -0.37079395757415795,
          13.994012583938598
         ]
        },
        {
         "hoverinfo": "none",
         "line": {
          "color": "red",
          "dash": "solid",
          "width": 5
         },
         "mode": "lines",
         "name": "Min to Max",
         "showlegend": false,
         "type": "scatter",
         "x": [
          12,
          12
         ],
         "y": [
          -0.15273988387570991,
          14.067722432068788
         ]
        },
        {
         "hoverinfo": "none",
         "line": {
          "color": "red",
          "dash": "solid",
          "width": 5
         },
         "mode": "lines",
         "name": "Min to Max",
         "showlegend": false,
         "type": "scatter",
         "x": [
          13,
          13
         ],
         "y": [
          -0.2709386874617727,
          12.831103886093489
         ]
        },
        {
         "hoverinfo": "none",
         "line": {
          "color": "red",
          "dash": "solid",
          "width": 5
         },
         "mode": "lines",
         "name": "Min to Max",
         "showlegend": false,
         "type": "scatter",
         "x": [
          14,
          14
         ],
         "y": [
          -0.523047734808208,
          9.940954094831536
         ]
        },
        {
         "hoverinfo": "none",
         "line": {
          "color": "red",
          "dash": "solid",
          "width": 5
         },
         "mode": "lines",
         "name": "Min to Max",
         "showlegend": false,
         "type": "scatter",
         "x": [
          15,
          15
         ],
         "y": [
          -0.2550920898521755,
          16.734757027717773
         ]
        },
        {
         "hoverinfo": "none",
         "line": {
          "color": "red",
          "dash": "solid",
          "width": 5
         },
         "mode": "lines",
         "name": "Min to Max",
         "showlegend": false,
         "type": "scatter",
         "x": [
          16,
          16
         ],
         "y": [
          -0.2949084770055212,
          18.93059917835541
         ]
        },
        {
         "hoverinfo": "none",
         "line": {
          "color": "red",
          "dash": "solid",
          "width": 5
         },
         "mode": "lines",
         "name": "Min to Max",
         "showlegend": false,
         "type": "scatter",
         "x": [
          17,
          17
         ],
         "y": [
          -0.4916058431811397,
          7.0702384775336755
         ]
        },
        {
         "hoverinfo": "none",
         "line": {
          "color": "red",
          "dash": "solid",
          "width": 5
         },
         "mode": "lines",
         "name": "Min to Max",
         "showlegend": false,
         "type": "scatter",
         "x": [
          18,
          18
         ],
         "y": [
          -0.21438160764479564,
          13.718099471264978
         ]
        },
        {
         "hoverinfo": "none",
         "line": {
          "color": "red",
          "dash": "solid",
          "width": 5
         },
         "mode": "lines",
         "name": "Min to Max",
         "showlegend": false,
         "type": "scatter",
         "x": [
          19,
          19
         ],
         "y": [
          -0.26546003862833084,
          10.735504678377175
         ]
        },
        {
         "hoverinfo": "none",
         "line": {
          "color": "red",
          "dash": "solid",
          "width": 5
         },
         "mode": "lines",
         "name": "Min to Max",
         "showlegend": false,
         "type": "scatter",
         "x": [
          20,
          20
         ],
         "y": [
          -0.567035271056157,
          8.166344022168625
         ]
        },
        {
         "hoverinfo": "none",
         "line": {
          "color": "red",
          "dash": "solid",
          "width": 5
         },
         "mode": "lines",
         "name": "Min to Max",
         "showlegend": false,
         "type": "scatter",
         "x": [
          21,
          21
         ],
         "y": [
          -0.13298291357815123,
          15.18172925816734
         ]
        },
        {
         "hoverinfo": "none",
         "line": {
          "color": "red",
          "dash": "solid",
          "width": 5
         },
         "mode": "lines",
         "name": "Min to Max",
         "showlegend": false,
         "type": "scatter",
         "x": [
          22,
          22
         ],
         "y": [
          -0.5422538828223519,
          6.837397792754105
         ]
        },
        {
         "hoverinfo": "none",
         "line": {
          "color": "red",
          "dash": "solid",
          "width": 5
         },
         "mode": "lines",
         "name": "Min to Max",
         "showlegend": false,
         "type": "scatter",
         "x": [
          23,
          23
         ],
         "y": [
          -0.5739759099202915,
          8.758022385514181
         ]
        },
        {
         "hoverinfo": "none",
         "line": {
          "color": "red",
          "dash": "solid",
          "width": 5
         },
         "mode": "lines",
         "name": "Min to Max",
         "showlegend": false,
         "type": "scatter",
         "x": [
          24,
          24
         ],
         "y": [
          -0.21547521058742597,
          17.8915586580874
         ]
        },
        {
         "hoverinfo": "none",
         "line": {
          "color": "red",
          "dash": "solid",
          "width": 5
         },
         "mode": "lines",
         "name": "Min to Max",
         "showlegend": false,
         "type": "scatter",
         "x": [
          25,
          25
         ],
         "y": [
          -0.16002216538412936,
          20.393126428724322
         ]
        },
        {
         "hoverinfo": "none",
         "line": {
          "color": "red",
          "dash": "solid",
          "width": 5
         },
         "mode": "lines",
         "name": "Min to Max",
         "showlegend": false,
         "type": "scatter",
         "x": [
          26,
          26
         ],
         "y": [
          -0.11792578683408775,
          19.468091595728264
         ]
        },
        {
         "hoverinfo": "none",
         "line": {
          "color": "red",
          "dash": "solid",
          "width": 5
         },
         "mode": "lines",
         "name": "Min to Max",
         "showlegend": false,
         "type": "scatter",
         "x": [
          27,
          27
         ],
         "y": [
          -0.25726554870541024,
          10.127167556649226
         ]
        },
        {
         "hoverinfo": "none",
         "line": {
          "color": "red",
          "dash": "solid",
          "width": 5
         },
         "mode": "lines",
         "name": "Min to Max",
         "showlegend": false,
         "type": "scatter",
         "x": [
          28,
          28
         ],
         "y": [
          -0.4099727310050074,
          11.655035464476962
         ]
        },
        {
         "hoverinfo": "none",
         "line": {
          "color": "red",
          "dash": "solid",
          "width": 5
         },
         "mode": "lines",
         "name": "Min to Max",
         "showlegend": false,
         "type": "scatter",
         "x": [
          29,
          29
         ],
         "y": [
          -0.15435331307949185,
          19.655649814684935
         ]
        },
        {
         "hoverinfo": "none",
         "line": {
          "color": "red",
          "dash": "solid",
          "width": 5
         },
         "mode": "lines",
         "name": "Min to Max",
         "showlegend": false,
         "type": "scatter",
         "x": [
          30,
          30
         ],
         "y": [
          -0.4972023314695728,
          8.65319721015185
         ]
        },
        {
         "hoverinfo": "none",
         "line": {
          "color": "red",
          "dash": "solid",
          "width": 5
         },
         "mode": "lines",
         "name": "Min to Max",
         "showlegend": false,
         "type": "scatter",
         "x": [
          31,
          31
         ],
         "y": [
          -0.3646211181644587,
          11.242480553754342
         ]
        },
        {
         "hoverinfo": "none",
         "line": {
          "color": "red",
          "dash": "solid",
          "width": 5
         },
         "mode": "lines",
         "name": "Min to Max",
         "showlegend": false,
         "type": "scatter",
         "x": [
          32,
          32
         ],
         "y": [
          -0.31444821507725423,
          13.615071935109013
         ]
        },
        {
         "hoverinfo": "none",
         "line": {
          "color": "red",
          "dash": "solid",
          "width": 5
         },
         "mode": "lines",
         "name": "Min to Max",
         "showlegend": false,
         "type": "scatter",
         "x": [
          33,
          33
         ],
         "y": [
          -0.18838382571288287,
          18.649752788390394
         ]
        },
        {
         "hoverinfo": "none",
         "line": {
          "color": "red",
          "dash": "solid",
          "width": 5
         },
         "mode": "lines",
         "name": "Min to Max",
         "showlegend": false,
         "type": "scatter",
         "x": [
          34,
          34
         ],
         "y": [
          -0.2833043932911087,
          12.333965571191305
         ]
        },
        {
         "hoverinfo": "none",
         "line": {
          "color": "red",
          "dash": "solid",
          "width": 5
         },
         "mode": "lines",
         "name": "Min to Max",
         "showlegend": false,
         "type": "scatter",
         "x": [
          35,
          35
         ],
         "y": [
          -0.35799780820085064,
          14.539239004925891
         ]
        },
        {
         "hoverinfo": "none",
         "line": {
          "color": "red",
          "dash": "solid",
          "width": 5
         },
         "mode": "lines",
         "name": "Min to Max",
         "showlegend": false,
         "type": "scatter",
         "x": [
          36,
          36
         ],
         "y": [
          -0.17841698795875457,
          15.623153385704507
         ]
        },
        {
         "hoverinfo": "none",
         "line": {
          "color": "red",
          "dash": "solid",
          "width": 5
         },
         "mode": "lines",
         "name": "Min to Max",
         "showlegend": false,
         "type": "scatter",
         "x": [
          37,
          37
         ],
         "y": [
          -0.17818468133827187,
          17.10442610051189
         ]
        },
        {
         "hoverinfo": "none",
         "line": {
          "color": "red",
          "dash": "solid",
          "width": 5
         },
         "mode": "lines",
         "name": "Min to Max",
         "showlegend": false,
         "type": "scatter",
         "x": [
          38,
          38
         ],
         "y": [
          -0.2775971358061251,
          13.82647011313915
         ]
        },
        {
         "hoverinfo": "none",
         "line": {
          "color": "red",
          "dash": "solid",
          "width": 5
         },
         "mode": "lines",
         "name": "Min to Max",
         "showlegend": false,
         "type": "scatter",
         "x": [
          39,
          39
         ],
         "y": [
          -0.11870352689146141,
          14.50061529593506
         ]
        },
        {
         "hoverinfo": "none",
         "line": {
          "color": "red",
          "dash": "solid",
          "width": 5
         },
         "mode": "lines",
         "name": "Min to Max",
         "showlegend": false,
         "type": "scatter",
         "x": [
          40,
          40
         ],
         "y": [
          -0.26575481338257445,
          12.110036302036745
         ]
        },
        {
         "hoverinfo": "none",
         "line": {
          "color": "red",
          "dash": "solid",
          "width": 5
         },
         "mode": "lines",
         "name": "Min to Max",
         "showlegend": false,
         "type": "scatter",
         "x": [
          41,
          41
         ],
         "y": [
          -0.2290729292738386,
          13.645039943806141
         ]
        },
        {
         "hoverinfo": "none",
         "line": {
          "color": "red",
          "dash": "solid",
          "width": 5
         },
         "mode": "lines",
         "name": "Min to Max",
         "showlegend": false,
         "type": "scatter",
         "x": [
          42,
          42
         ],
         "y": [
          -0.16249255583839023,
          12.36846348371023
         ]
        },
        {
         "hoverinfo": "none",
         "line": {
          "color": "red",
          "dash": "solid",
          "width": 5
         },
         "mode": "lines",
         "name": "Min to Max",
         "showlegend": false,
         "type": "scatter",
         "x": [
          43,
          43
         ],
         "y": [
          -0.20037754213195297,
          9.50160240304814
         ]
        },
        {
         "hoverinfo": "none",
         "line": {
          "color": "red",
          "dash": "solid",
          "width": 5
         },
         "mode": "lines",
         "name": "Min to Max",
         "showlegend": false,
         "type": "scatter",
         "x": [
          44,
          44
         ],
         "y": [
          -0.19936132390144862,
          15.759857167886487
         ]
        },
        {
         "hoverinfo": "none",
         "line": {
          "color": "red",
          "dash": "solid",
          "width": 5
         },
         "mode": "lines",
         "name": "Min to Max",
         "showlegend": false,
         "type": "scatter",
         "x": [
          45,
          45
         ],
         "y": [
          -0.3490329696054057,
          8.296330878769158
         ]
        },
        {
         "hoverinfo": "none",
         "line": {
          "color": "red",
          "dash": "solid",
          "width": 5
         },
         "mode": "lines",
         "name": "Min to Max",
         "showlegend": false,
         "type": "scatter",
         "x": [
          46,
          46
         ],
         "y": [
          -0.42996554337396564,
          15.15147554816103
         ]
        },
        {
         "hoverinfo": "none",
         "line": {
          "color": "red",
          "dash": "solid",
          "width": 5
         },
         "mode": "lines",
         "name": "Min to Max",
         "showlegend": false,
         "type": "scatter",
         "x": [
          47,
          47
         ],
         "y": [
          -0.18273284800041473,
          14.045745973005202
         ]
        },
        {
         "hoverinfo": "none",
         "line": {
          "color": "red",
          "dash": "solid",
          "width": 5
         },
         "mode": "lines",
         "name": "Min to Max",
         "showlegend": false,
         "type": "scatter",
         "x": [
          48,
          48
         ],
         "y": [
          -0.22875760075046148,
          18.7215637311345
         ]
        },
        {
         "hoverinfo": "none",
         "line": {
          "color": "red",
          "dash": "solid",
          "width": 5
         },
         "mode": "lines",
         "name": "Min to Max",
         "showlegend": false,
         "type": "scatter",
         "x": [
          49,
          49
         ],
         "y": [
          -0.36686676515106764,
          9.162347111822365
         ]
        },
        {
         "hoverinfo": "none",
         "line": {
          "color": "red",
          "dash": "solid",
          "width": 5
         },
         "mode": "lines",
         "name": "Min to Max",
         "showlegend": false,
         "type": "scatter",
         "x": [
          50,
          50
         ],
         "y": [
          -0.15165068900989606,
          13.120837301833086
         ]
        },
        {
         "hoverinfo": "none",
         "line": {
          "color": "red",
          "dash": "solid",
          "width": 5
         },
         "mode": "lines",
         "name": "Min to Max",
         "showlegend": false,
         "type": "scatter",
         "x": [
          51,
          51
         ],
         "y": [
          -0.1185251339658839,
          13.294051644385132
         ]
        },
        {
         "hoverinfo": "none",
         "line": {
          "color": "red",
          "dash": "solid",
          "width": 5
         },
         "mode": "lines",
         "name": "Min to Max",
         "showlegend": false,
         "type": "scatter",
         "x": [
          52,
          52
         ],
         "y": [
          -0.35184699260500135,
          7.897572657134801
         ]
        },
        {
         "hoverinfo": "none",
         "line": {
          "color": "red",
          "dash": "solid",
          "width": 5
         },
         "mode": "lines",
         "name": "Min to Max",
         "showlegend": false,
         "type": "scatter",
         "x": [
          53,
          53
         ],
         "y": [
          -0.21675264865609023,
          15.295614780027421
         ]
        },
        {
         "hoverinfo": "none",
         "line": {
          "color": "red",
          "dash": "solid",
          "width": 5
         },
         "mode": "lines",
         "name": "Min to Max",
         "showlegend": false,
         "type": "scatter",
         "x": [
          54,
          54
         ],
         "y": [
          -0.07532464252583243,
          20.009081001525583
         ]
        },
        {
         "hoverinfo": "none",
         "line": {
          "color": "red",
          "dash": "solid",
          "width": 5
         },
         "mode": "lines",
         "name": "Min to Max",
         "showlegend": false,
         "type": "scatter",
         "x": [
          55,
          55
         ],
         "y": [
          -0.44800181595434224,
          9.840792143325624
         ]
        },
        {
         "hoverinfo": "none",
         "line": {
          "color": "red",
          "dash": "solid",
          "width": 5
         },
         "mode": "lines",
         "name": "Min to Max",
         "showlegend": false,
         "type": "scatter",
         "x": [
          56,
          56
         ],
         "y": [
          -0.18750705699220574,
          19.534664827921585
         ]
        },
        {
         "hoverinfo": "none",
         "line": {
          "color": "red",
          "dash": "solid",
          "width": 5
         },
         "mode": "lines",
         "name": "Min to Max",
         "showlegend": false,
         "type": "scatter",
         "x": [
          57,
          57
         ],
         "y": [
          -0.27490493263387294,
          13.30884903727361
         ]
        },
        {
         "hoverinfo": "none",
         "line": {
          "color": "red",
          "dash": "solid",
          "width": 5
         },
         "mode": "lines",
         "name": "Min to Max",
         "showlegend": false,
         "type": "scatter",
         "x": [
          58,
          58
         ],
         "y": [
          -0.25999915979276567,
          16.332056080254752
         ]
        },
        {
         "hoverinfo": "none",
         "line": {
          "color": "red",
          "dash": "solid",
          "width": 5
         },
         "mode": "lines",
         "name": "Min to Max",
         "showlegend": false,
         "type": "scatter",
         "x": [
          59,
          59
         ],
         "y": [
          -0.13485769546911783,
          20.055247193844785
         ]
        },
        {
         "hoverinfo": "none",
         "line": {
          "color": "red",
          "dash": "solid",
          "width": 5
         },
         "mode": "lines",
         "name": "Min to Max",
         "showlegend": false,
         "type": "scatter",
         "x": [
          60,
          60
         ],
         "y": [
          -0.14394558287078937,
          18.124511270684074
         ]
        },
        {
         "hoverinfo": "none",
         "line": {
          "color": "red",
          "dash": "solid",
          "width": 5
         },
         "mode": "lines",
         "name": "Min to Max",
         "showlegend": false,
         "type": "scatter",
         "x": [
          61,
          61
         ],
         "y": [
          -0.4547901033234857,
          8.249842195776319
         ]
        },
        {
         "hoverinfo": "none",
         "line": {
          "color": "red",
          "dash": "solid",
          "width": 5
         },
         "mode": "lines",
         "name": "Min to Max",
         "showlegend": false,
         "type": "scatter",
         "x": [
          62,
          62
         ],
         "y": [
          -0.2491623402829986,
          14.002620646110865
         ]
        },
        {
         "hoverinfo": "none",
         "line": {
          "color": "red",
          "dash": "solid",
          "width": 5
         },
         "mode": "lines",
         "name": "Min to Max",
         "showlegend": false,
         "type": "scatter",
         "x": [
          63,
          63
         ],
         "y": [
          -0.2903447151134737,
          13.952679208512595
         ]
        },
        {
         "hoverinfo": "none",
         "line": {
          "color": "red",
          "dash": "solid",
          "width": 5
         },
         "mode": "lines",
         "name": "Min to Max",
         "showlegend": false,
         "type": "scatter",
         "x": [
          64,
          64
         ],
         "y": [
          -0.06591488852783803,
          21.78356164902302
         ]
        },
        {
         "hoverinfo": "none",
         "line": {
          "color": "red",
          "dash": "solid",
          "width": 5
         },
         "mode": "lines",
         "name": "Min to Max",
         "showlegend": false,
         "type": "scatter",
         "x": [
          65,
          65
         ],
         "y": [
          -0.1708628447450906,
          21.092767910824623
         ]
        },
        {
         "hoverinfo": "none",
         "line": {
          "color": "red",
          "dash": "solid",
          "width": 5
         },
         "mode": "lines",
         "name": "Min to Max",
         "showlegend": false,
         "type": "scatter",
         "x": [
          66,
          66
         ],
         "y": [
          -0.47376936250064966,
          8.764133327373235
         ]
        },
        {
         "hoverinfo": "none",
         "line": {
          "color": "red",
          "dash": "solid",
          "width": 5
         },
         "mode": "lines",
         "name": "Min to Max",
         "showlegend": false,
         "type": "scatter",
         "x": [
          67,
          67
         ],
         "y": [
          -0.2587685476888734,
          18.495347382281224
         ]
        },
        {
         "hoverinfo": "none",
         "line": {
          "color": "red",
          "dash": "solid",
          "width": 5
         },
         "mode": "lines",
         "name": "Min to Max",
         "showlegend": false,
         "type": "scatter",
         "x": [
          68,
          68
         ],
         "y": [
          -0.26718494276491794,
          11.730785872130417
         ]
        },
        {
         "hoverinfo": "none",
         "line": {
          "color": "red",
          "dash": "solid",
          "width": 5
         },
         "mode": "lines",
         "name": "Min to Max",
         "showlegend": false,
         "type": "scatter",
         "x": [
          69,
          69
         ],
         "y": [
          -0.19029100475022814,
          14.456520854302067
         ]
        },
        {
         "hoverinfo": "none",
         "line": {
          "color": "red",
          "dash": "solid",
          "width": 5
         },
         "mode": "lines",
         "name": "Min to Max",
         "showlegend": false,
         "type": "scatter",
         "x": [
          70,
          70
         ],
         "y": [
          -0.24043210678439178,
          8.169687199332156
         ]
        },
        {
         "hoverinfo": "none",
         "line": {
          "color": "red",
          "dash": "solid",
          "width": 5
         },
         "mode": "lines",
         "name": "Min to Max",
         "showlegend": false,
         "type": "scatter",
         "x": [
          71,
          71
         ],
         "y": [
          -0.10431997816167697,
          21.087553115854035
         ]
        },
        {
         "hoverinfo": "none",
         "line": {
          "color": "red",
          "dash": "solid",
          "width": 5
         },
         "mode": "lines",
         "name": "Min to Max",
         "showlegend": false,
         "type": "scatter",
         "x": [
          72,
          72
         ],
         "y": [
          -0.2677239105141176,
          14.885133583687002
         ]
        },
        {
         "hoverinfo": "none",
         "line": {
          "color": "red",
          "dash": "solid",
          "width": 5
         },
         "mode": "lines",
         "name": "Min to Max",
         "showlegend": false,
         "type": "scatter",
         "x": [
          73,
          73
         ],
         "y": [
          -0.34229969971723484,
          8.136453810319304
         ]
        },
        {
         "hoverinfo": "none",
         "line": {
          "color": "red",
          "dash": "solid",
          "width": 5
         },
         "mode": "lines",
         "name": "Min to Max",
         "showlegend": false,
         "type": "scatter",
         "x": [
          74,
          74
         ],
         "y": [
          -0.1707650179115841,
          15.075329718203378
         ]
        },
        {
         "hoverinfo": "none",
         "line": {
          "color": "red",
          "dash": "solid",
          "width": 5
         },
         "mode": "lines",
         "name": "Min to Max",
         "showlegend": false,
         "type": "scatter",
         "x": [
          75,
          75
         ],
         "y": [
          -0.40313943455266815,
          9.385459516581896
         ]
        },
        {
         "hoverinfo": "none",
         "line": {
          "color": "red",
          "dash": "solid",
          "width": 5
         },
         "mode": "lines",
         "name": "Min to Max",
         "showlegend": false,
         "type": "scatter",
         "x": [
          76,
          76
         ],
         "y": [
          -0.39618378526427667,
          9.236248470383751
         ]
        },
        {
         "hoverinfo": "none",
         "line": {
          "color": "red",
          "dash": "solid",
          "width": 5
         },
         "mode": "lines",
         "name": "Min to Max",
         "showlegend": false,
         "type": "scatter",
         "x": [
          77,
          77
         ],
         "y": [
          -0.08702563973294776,
          21.431100216659516
         ]
        },
        {
         "hoverinfo": "none",
         "line": {
          "color": "red",
          "dash": "solid",
          "width": 5
         },
         "mode": "lines",
         "name": "Min to Max",
         "showlegend": false,
         "type": "scatter",
         "x": [
          78,
          78
         ],
         "y": [
          -0.17298029057900474,
          20.882879621339164
         ]
        },
        {
         "hoverinfo": "none",
         "line": {
          "color": "red",
          "dash": "solid",
          "width": 5
         },
         "mode": "lines",
         "name": "Min to Max",
         "showlegend": false,
         "type": "scatter",
         "x": [
          79,
          79
         ],
         "y": [
          -0.08911503822513787,
          21.308900536904815
         ]
        },
        {
         "hoverinfo": "none",
         "line": {
          "color": "red",
          "dash": "solid",
          "width": 5
         },
         "mode": "lines",
         "name": "Min to Max",
         "showlegend": false,
         "type": "scatter",
         "x": [
          80,
          80
         ],
         "y": [
          -0.3294842732856906,
          15.857993838435855
         ]
        },
        {
         "hoverinfo": "none",
         "line": {
          "color": "red",
          "dash": "solid",
          "width": 5
         },
         "mode": "lines",
         "name": "Min to Max",
         "showlegend": false,
         "type": "scatter",
         "x": [
          81,
          81
         ],
         "y": [
          -0.31556962413611217,
          9.294423980852484
         ]
        },
        {
         "hoverinfo": "none",
         "line": {
          "color": "red",
          "dash": "solid",
          "width": 5
         },
         "mode": "lines",
         "name": "Min to Max",
         "showlegend": false,
         "type": "scatter",
         "x": [
          82,
          82
         ],
         "y": [
          -0.31506045366000773,
          8.6226672176327
         ]
        },
        {
         "hoverinfo": "none",
         "line": {
          "color": "red",
          "dash": "solid",
          "width": 5
         },
         "mode": "lines",
         "name": "Min to Max",
         "showlegend": false,
         "type": "scatter",
         "x": [
          83,
          83
         ],
         "y": [
          -0.09467959142054563,
          20.8150652528845
         ]
        },
        {
         "hoverinfo": "none",
         "line": {
          "color": "red",
          "dash": "solid",
          "width": 5
         },
         "mode": "lines",
         "name": "Min to Max",
         "showlegend": false,
         "type": "scatter",
         "x": [
          84,
          84
         ],
         "y": [
          -0.2564627688938265,
          11.032287465118271
         ]
        },
        {
         "hoverinfo": "none",
         "line": {
          "color": "red",
          "dash": "solid",
          "width": 5
         },
         "mode": "lines",
         "name": "Min to Max",
         "showlegend": false,
         "type": "scatter",
         "x": [
          85,
          85
         ],
         "y": [
          -0.08127266398405984,
          20.67976799790212
         ]
        },
        {
         "hoverinfo": "none",
         "line": {
          "color": "red",
          "dash": "solid",
          "width": 5
         },
         "mode": "lines",
         "name": "Min to Max",
         "showlegend": false,
         "type": "scatter",
         "x": [
          86,
          86
         ],
         "y": [
          -0.11606598503601316,
          18.623718412992098
         ]
        },
        {
         "hoverinfo": "none",
         "line": {
          "color": "red",
          "dash": "solid",
          "width": 5
         },
         "mode": "lines",
         "name": "Min to Max",
         "showlegend": false,
         "type": "scatter",
         "x": [
          87,
          87
         ],
         "y": [
          -0.28833844195158065,
          9.441520514830485
         ]
        },
        {
         "hoverinfo": "none",
         "line": {
          "color": "red",
          "dash": "solid",
          "width": 5
         },
         "mode": "lines",
         "name": "Min to Max",
         "showlegend": false,
         "type": "scatter",
         "x": [
          88,
          88
         ],
         "y": [
          -0.19694096356167598,
          15.026588270591978
         ]
        },
        {
         "hoverinfo": "none",
         "line": {
          "color": "red",
          "dash": "solid",
          "width": 5
         },
         "mode": "lines",
         "name": "Min to Max",
         "showlegend": false,
         "type": "scatter",
         "x": [
          89,
          89
         ],
         "y": [
          -0.11153548214922161,
          20.22799037683735
         ]
        },
        {
         "hoverinfo": "none",
         "line": {
          "color": "red",
          "dash": "solid",
          "width": 5
         },
         "mode": "lines",
         "name": "Min to Max",
         "showlegend": false,
         "type": "scatter",
         "x": [
          90,
          90
         ],
         "y": [
          -0.3079458169688267,
          6.872984879720778
         ]
        },
        {
         "hoverinfo": "none",
         "line": {
          "color": "red",
          "dash": "solid",
          "width": 5
         },
         "mode": "lines",
         "name": "Min to Max",
         "showlegend": false,
         "type": "scatter",
         "x": [
          91,
          91
         ],
         "y": [
          -0.2558199673670667,
          11.47458539154139
         ]
        },
        {
         "hoverinfo": "none",
         "line": {
          "color": "red",
          "dash": "solid",
          "width": 5
         },
         "mode": "lines",
         "name": "Min to Max",
         "showlegend": false,
         "type": "scatter",
         "x": [
          92,
          92
         ],
         "y": [
          -0.2302363774566789,
          13.40107865408415
         ]
        },
        {
         "hoverinfo": "none",
         "line": {
          "color": "red",
          "dash": "solid",
          "width": 5
         },
         "mode": "lines",
         "name": "Min to Max",
         "showlegend": false,
         "type": "scatter",
         "x": [
          93,
          93
         ],
         "y": [
          -0.15819683519884675,
          17.23734250600958
         ]
        },
        {
         "hoverinfo": "none",
         "line": {
          "color": "red",
          "dash": "solid",
          "width": 5
         },
         "mode": "lines",
         "name": "Min to Max",
         "showlegend": false,
         "type": "scatter",
         "x": [
          94,
          94
         ],
         "y": [
          -0.6136536287412723,
          6.370869723991542
         ]
        },
        {
         "hoverinfo": "none",
         "line": {
          "color": "red",
          "dash": "solid",
          "width": 5
         },
         "mode": "lines",
         "name": "Min to Max",
         "showlegend": false,
         "type": "scatter",
         "x": [
          95,
          95
         ],
         "y": [
          -0.19531553437559204,
          17.92615360436232
         ]
        },
        {
         "hoverinfo": "none",
         "line": {
          "color": "red",
          "dash": "solid",
          "width": 5
         },
         "mode": "lines",
         "name": "Min to Max",
         "showlegend": false,
         "type": "scatter",
         "x": [
          96,
          96
         ],
         "y": [
          -0.24701427406884868,
          16.65399822811699
         ]
        },
        {
         "hoverinfo": "none",
         "line": {
          "color": "red",
          "dash": "solid",
          "width": 5
         },
         "mode": "lines",
         "name": "Min to Max",
         "showlegend": false,
         "type": "scatter",
         "x": [
          97,
          97
         ],
         "y": [
          -0.25616968945966023,
          16.19039730372896
         ]
        },
        {
         "hoverinfo": "none",
         "line": {
          "color": "red",
          "dash": "solid",
          "width": 5
         },
         "mode": "lines",
         "name": "Min to Max",
         "showlegend": false,
         "type": "scatter",
         "x": [
          98,
          98
         ],
         "y": [
          -0.6008036383727532,
          5.336518978046491
         ]
        },
        {
         "hoverinfo": "none",
         "line": {
          "color": "red",
          "dash": "solid",
          "width": 5
         },
         "mode": "lines",
         "name": "Min to Max",
         "showlegend": false,
         "type": "scatter",
         "x": [
          99,
          99
         ],
         "y": [
          -0.0981085672807251,
          19.066304282853043
         ]
        },
        {
         "hoverinfo": "none",
         "line": {
          "color": "red",
          "dash": "solid",
          "width": 5
         },
         "mode": "lines",
         "name": "Min to Max",
         "showlegend": false,
         "type": "scatter",
         "x": [
          100,
          100
         ],
         "y": [
          -0.2782527698207569,
          13.37791983448079
         ]
        },
        {
         "hoverinfo": "none",
         "line": {
          "color": "red",
          "dash": "solid",
          "width": 5
         },
         "mode": "lines",
         "name": "Min to Max",
         "showlegend": false,
         "type": "scatter",
         "x": [
          101,
          101
         ],
         "y": [
          -0.3411038739944761,
          9.468345615100617
         ]
        },
        {
         "hoverinfo": "none",
         "line": {
          "color": "red",
          "dash": "solid",
          "width": 5
         },
         "mode": "lines",
         "name": "Min to Max",
         "showlegend": false,
         "type": "scatter",
         "x": [
          102,
          102
         ],
         "y": [
          -0.09891252461426839,
          18.658762616646804
         ]
        },
        {
         "hoverinfo": "none",
         "line": {
          "color": "red",
          "dash": "solid",
          "width": 5
         },
         "mode": "lines",
         "name": "Min to Max",
         "showlegend": false,
         "type": "scatter",
         "x": [
          103,
          103
         ],
         "y": [
          -0.08862292979084553,
          21.258195179532883
         ]
        },
        {
         "hoverinfo": "none",
         "line": {
          "color": "red",
          "dash": "solid",
          "width": 5
         },
         "mode": "lines",
         "name": "Min to Max",
         "showlegend": false,
         "type": "scatter",
         "x": [
          104,
          104
         ],
         "y": [
          -0.17038380236591316,
          16.680821413014
         ]
        },
        {
         "hoverinfo": "none",
         "line": {
          "color": "red",
          "dash": "solid",
          "width": 5
         },
         "mode": "lines",
         "name": "Min to Max",
         "showlegend": false,
         "type": "scatter",
         "x": [
          105,
          105
         ],
         "y": [
          -0.2686901360678496,
          10.168607647468201
         ]
        },
        {
         "hoverinfo": "none",
         "line": {
          "color": "red",
          "dash": "solid",
          "width": 5
         },
         "mode": "lines",
         "name": "Min to Max",
         "showlegend": false,
         "type": "scatter",
         "x": [
          106,
          106
         ],
         "y": [
          -0.1718093322727075,
          16.721396550714125
         ]
        },
        {
         "hoverinfo": "none",
         "line": {
          "color": "red",
          "dash": "solid",
          "width": 5
         },
         "mode": "lines",
         "name": "Min to Max",
         "showlegend": false,
         "type": "scatter",
         "x": [
          107,
          107
         ],
         "y": [
          -0.2778597618161754,
          9.574967320571231
         ]
        },
        {
         "hoverinfo": "none",
         "line": {
          "color": "red",
          "dash": "solid",
          "width": 5
         },
         "mode": "lines",
         "name": "Min to Max",
         "showlegend": false,
         "type": "scatter",
         "x": [
          108,
          108
         ],
         "y": [
          -0.1460553716642269,
          18.98624468825317
         ]
        },
        {
         "hoverinfo": "none",
         "line": {
          "color": "red",
          "dash": "solid",
          "width": 5
         },
         "mode": "lines",
         "name": "Min to Max",
         "showlegend": false,
         "type": "scatter",
         "x": [
          109,
          109
         ],
         "y": [
          -0.26374042503049216,
          12.91937303023074
         ]
        },
        {
         "hoverinfo": "none",
         "line": {
          "color": "red",
          "dash": "solid",
          "width": 5
         },
         "mode": "lines",
         "name": "Min to Max",
         "showlegend": false,
         "type": "scatter",
         "x": [
          110,
          110
         ],
         "y": [
          -0.340152086890331,
          17.09345521987676
         ]
        },
        {
         "hoverinfo": "none",
         "line": {
          "color": "red",
          "dash": "solid",
          "width": 5
         },
         "mode": "lines",
         "name": "Min to Max",
         "showlegend": false,
         "type": "scatter",
         "x": [
          111,
          111
         ],
         "y": [
          -0.10937071769082686,
          15.452933646378122
         ]
        },
        {
         "hoverinfo": "none",
         "line": {
          "color": "red",
          "dash": "solid",
          "width": 5
         },
         "mode": "lines",
         "name": "Min to Max",
         "showlegend": false,
         "type": "scatter",
         "x": [
          112,
          112
         ],
         "y": [
          -0.3616610900719771,
          8.665232886683071
         ]
        },
        {
         "hoverinfo": "none",
         "line": {
          "color": "red",
          "dash": "solid",
          "width": 5
         },
         "mode": "lines",
         "name": "Min to Max",
         "showlegend": false,
         "type": "scatter",
         "x": [
          113,
          113
         ],
         "y": [
          -0.19618525628456898,
          12.233762567002234
         ]
        },
        {
         "hoverinfo": "none",
         "line": {
          "color": "red",
          "dash": "solid",
          "width": 5
         },
         "mode": "lines",
         "name": "Min to Max",
         "showlegend": false,
         "type": "scatter",
         "x": [
          114,
          114
         ],
         "y": [
          -0.18669305692782792,
          15.673616787745443
         ]
        },
        {
         "hoverinfo": "none",
         "line": {
          "color": "red",
          "dash": "solid",
          "width": 5
         },
         "mode": "lines",
         "name": "Min to Max",
         "showlegend": false,
         "type": "scatter",
         "x": [
          115,
          115
         ],
         "y": [
          -0.20824533841774753,
          14.972772265702726
         ]
        },
        {
         "hoverinfo": "none",
         "line": {
          "color": "red",
          "dash": "solid",
          "width": 5
         },
         "mode": "lines",
         "name": "Min to Max",
         "showlegend": false,
         "type": "scatter",
         "x": [
          116,
          116
         ],
         "y": [
          -0.2444319919286446,
          15.172659003534061
         ]
        },
        {
         "hoverinfo": "none",
         "line": {
          "color": "red",
          "dash": "solid",
          "width": 5
         },
         "mode": "lines",
         "name": "Min to Max",
         "showlegend": false,
         "type": "scatter",
         "x": [
          117,
          117
         ],
         "y": [
          -0.12959448422077618,
          19.87051201943469
         ]
        },
        {
         "hoverinfo": "none",
         "line": {
          "color": "red",
          "dash": "solid",
          "width": 5
         },
         "mode": "lines",
         "name": "Min to Max",
         "showlegend": false,
         "type": "scatter",
         "x": [
          118,
          118
         ],
         "y": [
          -0.10889014533227263,
          14.93748234274854
         ]
        },
        {
         "hoverinfo": "none",
         "line": {
          "color": "red",
          "dash": "solid",
          "width": 5
         },
         "mode": "lines",
         "name": "Min to Max",
         "showlegend": false,
         "type": "scatter",
         "x": [
          119,
          119
         ],
         "y": [
          -0.18235929467179998,
          12.26311124022824
         ]
        },
        {
         "hoverinfo": "none",
         "line": {
          "color": "red",
          "dash": "solid",
          "width": 5
         },
         "mode": "lines",
         "name": "Min to Max",
         "showlegend": false,
         "type": "scatter",
         "x": [
          120,
          120
         ],
         "y": [
          -0.27019258795567525,
          9.537516376087776
         ]
        },
        {
         "hoverinfo": "none",
         "line": {
          "color": "red",
          "dash": "solid",
          "width": 5
         },
         "mode": "lines",
         "name": "Min to Max",
         "showlegend": false,
         "type": "scatter",
         "x": [
          121,
          121
         ],
         "y": [
          -0.41887816141437323,
          11.633395728161766
         ]
        },
        {
         "hoverinfo": "none",
         "line": {
          "color": "red",
          "dash": "solid",
          "width": 5
         },
         "mode": "lines",
         "name": "Min to Max",
         "showlegend": false,
         "type": "scatter",
         "x": [
          122,
          122
         ],
         "y": [
          -0.11725936156263203,
          20.898654169540514
         ]
        },
        {
         "hoverinfo": "none",
         "line": {
          "color": "red",
          "dash": "solid",
          "width": 5
         },
         "mode": "lines",
         "name": "Min to Max",
         "showlegend": false,
         "type": "scatter",
         "x": [
          123,
          123
         ],
         "y": [
          -0.17719522904544202,
          18.465562038039682
         ]
        },
        {
         "hoverinfo": "none",
         "line": {
          "color": "red",
          "dash": "solid",
          "width": 5
         },
         "mode": "lines",
         "name": "Min to Max",
         "showlegend": false,
         "type": "scatter",
         "x": [
          124,
          124
         ],
         "y": [
          -0.22127694739201603,
          16.02483177207708
         ]
        },
        {
         "hoverinfo": "none",
         "line": {
          "color": "red",
          "dash": "solid",
          "width": 5
         },
         "mode": "lines",
         "name": "Min to Max",
         "showlegend": false,
         "type": "scatter",
         "x": [
          125,
          125
         ],
         "y": [
          -0.4657435079426531,
          8.571373456839467
         ]
        },
        {
         "hoverinfo": "none",
         "line": {
          "color": "red",
          "dash": "solid",
          "width": 5
         },
         "mode": "lines",
         "name": "Min to Max",
         "showlegend": false,
         "type": "scatter",
         "x": [
          126,
          126
         ],
         "y": [
          -0.23541275387841412,
          9.654011397655468
         ]
        },
        {
         "hoverinfo": "none",
         "line": {
          "color": "red",
          "dash": "solid",
          "width": 5
         },
         "mode": "lines",
         "name": "Min to Max",
         "showlegend": false,
         "type": "scatter",
         "x": [
          127,
          127
         ],
         "y": [
          -0.23300712638000495,
          15.863984763757392
         ]
        },
        {
         "hoverinfo": "none",
         "line": {
          "color": "red",
          "dash": "solid",
          "width": 5
         },
         "mode": "lines",
         "name": "Min to Max",
         "showlegend": false,
         "type": "scatter",
         "x": [
          128,
          128
         ],
         "y": [
          -0.11607416357775151,
          19.63252212645035
         ]
        },
        {
         "hoverinfo": "none",
         "line": {
          "color": "red",
          "dash": "solid",
          "width": 5
         },
         "mode": "lines",
         "name": "Min to Max",
         "showlegend": false,
         "type": "scatter",
         "x": [
          129,
          129
         ],
         "y": [
          -0.2692007559876527,
          11.350514210748736
         ]
        },
        {
         "hoverinfo": "none",
         "line": {
          "color": "red",
          "dash": "solid",
          "width": 5
         },
         "mode": "lines",
         "name": "Min to Max",
         "showlegend": false,
         "type": "scatter",
         "x": [
          130,
          130
         ],
         "y": [
          -0.3671744987348528,
          11.749171892431415
         ]
        },
        {
         "hoverinfo": "none",
         "line": {
          "color": "red",
          "dash": "solid",
          "width": 5
         },
         "mode": "lines",
         "name": "Min to Max",
         "showlegend": false,
         "type": "scatter",
         "x": [
          131,
          131
         ],
         "y": [
          -0.5405880390936174,
          7.133903852512396
         ]
        },
        {
         "hoverinfo": "none",
         "line": {
          "color": "red",
          "dash": "solid",
          "width": 5
         },
         "mode": "lines",
         "name": "Min to Max",
         "showlegend": false,
         "type": "scatter",
         "x": [
          132,
          132
         ],
         "y": [
          -0.5054994779030867,
          7.07797307673389
         ]
        },
        {
         "hoverinfo": "none",
         "line": {
          "color": "red",
          "dash": "solid",
          "width": 5
         },
         "mode": "lines",
         "name": "Min to Max",
         "showlegend": false,
         "type": "scatter",
         "x": [
          133,
          133
         ],
         "y": [
          -0.5770734106877099,
          10.967267323012042
         ]
        },
        {
         "marker": {
          "color": "red",
          "size": 10
         },
         "mode": "markers",
         "name": "Min",
         "type": "scatter",
         "x": [
          0,
          1,
          2,
          3,
          4,
          5,
          6,
          7,
          8,
          9,
          10,
          11,
          12,
          13,
          14,
          15,
          16,
          17,
          18,
          19,
          20,
          21,
          22,
          23,
          24,
          25,
          26,
          27,
          28,
          29,
          30,
          31,
          32,
          33,
          34,
          35,
          36,
          37,
          38,
          39,
          40,
          41,
          42,
          43,
          44,
          45,
          46,
          47,
          48,
          49,
          50,
          51,
          52,
          53,
          54,
          55,
          56,
          57,
          58,
          59,
          60,
          61,
          62,
          63,
          64,
          65,
          66,
          67,
          68,
          69,
          70,
          71,
          72,
          73,
          74,
          75,
          76,
          77,
          78,
          79,
          80,
          81,
          82,
          83,
          84,
          85,
          86,
          87,
          88,
          89,
          90,
          91,
          92,
          93,
          94,
          95,
          96,
          97,
          98,
          99,
          100,
          101,
          102,
          103,
          104,
          105,
          106,
          107,
          108,
          109,
          110,
          111,
          112,
          113,
          114,
          115,
          116,
          117,
          118,
          119,
          120,
          121,
          122,
          123,
          124,
          125,
          126,
          127,
          128,
          129,
          130,
          131,
          132,
          133
         ],
         "y": {
          "bdata": "Sfks7nw13L94GuuHLhzevwOlMbfd7eC/cCk//CKl5L++rkf4TTLZv9mg+8KCQei/HRIRDIoj3b+AkAPc3X3Yvzcjn4tfydC/YQSfC18rzr+9KS4UybPOv4V3VZQWu9e/4D8FA/uMw7+LpXc4D1fRv7fwZ5rOvOC/a4nYxW1T0L8HUgPOx9/Sv20Sv1p4dt+/7GHZRNtwy7/RbRMaTP3Qv4qrGycnJeK/plpfiJUFwb+JO5vQJFrhv3SVOboCXuK/ti1JE7GUy79H33o3m3vEv6K2zmViML6/X/GE6wl30L+gxfpD/jzav0hT2m/ZwcO/eAhKuinS37+XoHzQ81XXv1+2AmjrH9S//h5EEfYcyL9W5v+/qCHSvxXKkKNv6da/67UqLF7Wxr/efn9xwc7Gv3gJ8MYmxNG/1C7rtVpjvr845Q56IALRv7yl0AFDUs2/7qyVWo7MxL/6oCen+KXJv+Y6H/+rhMm/K5VrYY5W1r/irMwyjoTbv0qKCDvKY8e/2KL31u1Hzb+eCpS9vnrXv7dP2y5KacO/jjIjxqlXvr/HzZs/qYTWvwBPpgCNvsu/LDk7zHlIs78FpATPD6zcv2F+xjI7AMi/9vrK2wqY0b+2CBOE06PQv1ev01cEQ8G/n7ZqEc9swr++ZxTzRxvdv8qEdDON5M+/xKT+/wGV0r+y6otSzN+wv2cOJG3V3sW/LV9yuzxS3r/7p2P0qY/Qv08syt+OGdG/5gYQpXRbyL9RD8axesbOvysahs62tLq/wPsAeGMi0b9O1e3/POjVv/KUncug28W/02zIVwnN2b90mDo8E1vZv2kFkfRPR7a/79dx2Tckxr/nPcI+PtC2v0u8kzRFFtW/qaPR70oy1L/Z4y5S8ynUv4L4v/TrPLi/C5lC0eJp0L83zt4JSc60vydf6BmAtr2/ACWXFCN00r9zvN6KXDXJv/GrLOCWjby/HI00X2K10794V2C2Wl/Qv0BSw7dieM2/cD/BPMs/xL/lflDvDKPjv42fRXQZAMm/ZKxi6imez792Kp2NFWXQvwMfRI3IOeO/7Zntn6Qdub9Fs5m05M7Rv20X1lel1NW/YhFiylRSub9ZnCAJ/q+2vzYBd+0iz8W/PdTKHDgy0b/aIqEj2f3Fvxn9d090yNG/PftZQvGxwr8T5wiFH+HQvz0MN0INxdW/OUWfJ7j/u78OEoaOdCXXv5GM2TWZHMm/xZjy3o7lx78VOwaDyKfKvz//timMSc+/OjC8U42WwL9jDQ99OeC7v0dWXqOMV8e/5Ak52tVK0b9HIhJZ5s7avz60D6O1BL6/k/LgUFWuxr9iJjSSzVLMv2EIvNu9zt2/AQt8TwEizr9jvsRxLdPNv3scelAJt72/4qDBzpU60b/fcv93yX/Xv+WBkEl/TOG/g6S3PQ0t4L+/b0moYnfivw==",
          "dtype": "f8"
         }
        },
        {
         "marker": {
          "color": "red",
          "size": 10
         },
         "mode": "markers",
         "name": "Max",
         "type": "scatter",
         "x": [
          0,
          1,
          2,
          3,
          4,
          5,
          6,
          7,
          8,
          9,
          10,
          11,
          12,
          13,
          14,
          15,
          16,
          17,
          18,
          19,
          20,
          21,
          22,
          23,
          24,
          25,
          26,
          27,
          28,
          29,
          30,
          31,
          32,
          33,
          34,
          35,
          36,
          37,
          38,
          39,
          40,
          41,
          42,
          43,
          44,
          45,
          46,
          47,
          48,
          49,
          50,
          51,
          52,
          53,
          54,
          55,
          56,
          57,
          58,
          59,
          60,
          61,
          62,
          63,
          64,
          65,
          66,
          67,
          68,
          69,
          70,
          71,
          72,
          73,
          74,
          75,
          76,
          77,
          78,
          79,
          80,
          81,
          82,
          83,
          84,
          85,
          86,
          87,
          88,
          89,
          90,
          91,
          92,
          93,
          94,
          95,
          96,
          97,
          98,
          99,
          100,
          101,
          102,
          103,
          104,
          105,
          106,
          107,
          108,
          109,
          110,
          111,
          112,
          113,
          114,
          115,
          116,
          117,
          118,
          119,
          120,
          121,
          122,
          123,
          124,
          125,
          126,
          127,
          128,
          129,
          130,
          131,
          132,
          133
         ],
         "y": {
          "bdata": "hjGkdaKwIUDlpSL0ZrQkQAVlVl9OixRAdanGYldxF0AOwsIp6kghQNX7VsFE+BpA3n6r9KqdJ0CXkbumd6YgQOU6Yt0QdS9AbdB6FaAMJkDS3i2PLRooQFCopzfv/CtAzuG9g6wiLEA5s9RyhqkpQG6tMLzE4SNA041cCRm8MECRuGy/O+4yQD22b5jsRxxASLfgu6pvK0C0XrcRlHglQN0yLgsrVSBAMhwJngtdLkBifJbOflkbQLDWloIbhCFAd/MuMD3kMUBykALvo2Q0QHMvz9nUdzNAYNchGxxBJEAlTPPOYE8nQESzj6rYpzNAm+Fe3W9OIUDtlEBpJnwmQBf2a7XqOitAHp/gMlamMkBjgwyJ/aooQMHEhSIXFC1ALfzn9Q0/L0AhjD6ruxoxQK8bNhcnpytAPtbnpVAALUC/PZ2tVjgoQKmF7qxCSitAgJzoPqe8KEChX7kH0gAjQERoq/8LhS9AijdSrriXIECY/fozjk0uQEv2IwRsFyxA0TOTZri4MkAVwR8pH1MiQB0FB2PePSpANvDn742WKkAPtmBJHZcfQDDdCNJaly5AO5HsIVMCNEB1osxOfK4jQKM+TsvfiDNAhPsEdiGeKkDSIZWgAVUwQFbCGq4kDjRATpJ7+N8fMkBNCvhQ638gQF2uSn5XASxAEki4kcXnK0Am9Ah/l8g1QCkcR6O/FzVAE7TFezyHIUCcDgcWz34yQKNb2pApdidAtlb2Gb3pLEDmXJc94VYgQIhBieFpFjVAzQ2lOjDFLUDVeBlG3UUgQGgz6J2RJi5AbE0j81rFIkB1DjyP9XgiQOTZc5VcbjVA4vQbZgTiNEAYuQcbFE81QMWA6PdKty9Az9Zxvb6WIkAqDNA8zj4hQLI+zR2o0DRA54GN+4cQJkBk24dGBa40QM62iQKsnzJAh2sX+g7iIkCrTFH6nA0uQLNRzJNdOjRAgzaRv+99G0DFqD/b/PImQIvUbC5azSpAB0N9esI8MUAbe95FxXsZQAbPEWcY7TFAiGeJbWynMEAxw7DgvTAwQKfFVG6YWBVARXBGUfkQM0CfNWO1fsEqQBAqGP/K7yJATlO2qqSoMkAeFEwUGUI1QMhP509KrjBAfXbXvVNWJECuw8BxrbgwQI8+3B1iJiNAreYpiHr8MkC2VNMPuNYpQNwCaa7sFzFAdec86+bnLkAQDqlnmVQhQHKbKLqvdyhAd86yTORYL0BOTNc0D/ItQNYTy8JmWC5ANT8u4NneM0BpXYWv/d8tQAf7N4S2hihADrmwWDUTI0AEw+NxTEQnQC6XHDMO5jRAuaPfEi93MkAI+QBgWwYwQCDbzQ+LJCFAcUj4lNpOI0AbKQE2XLovQMMZV/jsoTNA7eU/mXazJkCVJlJ1k38nQIdlbRceiRxAiCmaLNhPHEACp52pPe8lQA==",
          "dtype": "f8"
         }
        }
       ],
       "layout": {
        "height": 600,
        "hovermode": "x unified",
        "template": {
         "data": {
          "bar": [
           {
            "error_x": {
             "color": "#2a3f5f"
            },
            "error_y": {
             "color": "#2a3f5f"
            },
            "marker": {
             "line": {
              "color": "white",
              "width": 0.5
             },
             "pattern": {
              "fillmode": "overlay",
              "size": 10,
              "solidity": 0.2
             }
            },
            "type": "bar"
           }
          ],
          "barpolar": [
           {
            "marker": {
             "line": {
              "color": "white",
              "width": 0.5
             },
             "pattern": {
              "fillmode": "overlay",
              "size": 10,
              "solidity": 0.2
             }
            },
            "type": "barpolar"
           }
          ],
          "carpet": [
           {
            "aaxis": {
             "endlinecolor": "#2a3f5f",
             "gridcolor": "#C8D4E3",
             "linecolor": "#C8D4E3",
             "minorgridcolor": "#C8D4E3",
             "startlinecolor": "#2a3f5f"
            },
            "baxis": {
             "endlinecolor": "#2a3f5f",
             "gridcolor": "#C8D4E3",
             "linecolor": "#C8D4E3",
             "minorgridcolor": "#C8D4E3",
             "startlinecolor": "#2a3f5f"
            },
            "type": "carpet"
           }
          ],
          "choropleth": [
           {
            "colorbar": {
             "outlinewidth": 0,
             "ticks": ""
            },
            "type": "choropleth"
           }
          ],
          "contour": [
           {
            "colorbar": {
             "outlinewidth": 0,
             "ticks": ""
            },
            "colorscale": [
             [
              0,
              "#0d0887"
             ],
             [
              0.1111111111111111,
              "#46039f"
             ],
             [
              0.2222222222222222,
              "#7201a8"
             ],
             [
              0.3333333333333333,
              "#9c179e"
             ],
             [
              0.4444444444444444,
              "#bd3786"
             ],
             [
              0.5555555555555556,
              "#d8576b"
             ],
             [
              0.6666666666666666,
              "#ed7953"
             ],
             [
              0.7777777777777778,
              "#fb9f3a"
             ],
             [
              0.8888888888888888,
              "#fdca26"
             ],
             [
              1,
              "#f0f921"
             ]
            ],
            "type": "contour"
           }
          ],
          "contourcarpet": [
           {
            "colorbar": {
             "outlinewidth": 0,
             "ticks": ""
            },
            "type": "contourcarpet"
           }
          ],
          "heatmap": [
           {
            "colorbar": {
             "outlinewidth": 0,
             "ticks": ""
            },
            "colorscale": [
             [
              0,
              "#0d0887"
             ],
             [
              0.1111111111111111,
              "#46039f"
             ],
             [
              0.2222222222222222,
              "#7201a8"
             ],
             [
              0.3333333333333333,
              "#9c179e"
             ],
             [
              0.4444444444444444,
              "#bd3786"
             ],
             [
              0.5555555555555556,
              "#d8576b"
             ],
             [
              0.6666666666666666,
              "#ed7953"
             ],
             [
              0.7777777777777778,
              "#fb9f3a"
             ],
             [
              0.8888888888888888,
              "#fdca26"
             ],
             [
              1,
              "#f0f921"
             ]
            ],
            "type": "heatmap"
           }
          ],
          "histogram": [
           {
            "marker": {
             "pattern": {
              "fillmode": "overlay",
              "size": 10,
              "solidity": 0.2
             }
            },
            "type": "histogram"
           }
          ],
          "histogram2d": [
           {
            "colorbar": {
             "outlinewidth": 0,
             "ticks": ""
            },
            "colorscale": [
             [
              0,
              "#0d0887"
             ],
             [
              0.1111111111111111,
              "#46039f"
             ],
             [
              0.2222222222222222,
              "#7201a8"
             ],
             [
              0.3333333333333333,
              "#9c179e"
             ],
             [
              0.4444444444444444,
              "#bd3786"
             ],
             [
              0.5555555555555556,
              "#d8576b"
             ],
             [
              0.6666666666666666,
              "#ed7953"
             ],
             [
              0.7777777777777778,
              "#fb9f3a"
             ],
             [
              0.8888888888888888,
              "#fdca26"
             ],
             [
              1,
              "#f0f921"
             ]
            ],
            "type": "histogram2d"
           }
          ],
          "histogram2dcontour": [
           {
            "colorbar": {
             "outlinewidth": 0,
             "ticks": ""
            },
            "colorscale": [
             [
              0,
              "#0d0887"
             ],
             [
              0.1111111111111111,
              "#46039f"
             ],
             [
              0.2222222222222222,
              "#7201a8"
             ],
             [
              0.3333333333333333,
              "#9c179e"
             ],
             [
              0.4444444444444444,
              "#bd3786"
             ],
             [
              0.5555555555555556,
              "#d8576b"
             ],
             [
              0.6666666666666666,
              "#ed7953"
             ],
             [
              0.7777777777777778,
              "#fb9f3a"
             ],
             [
              0.8888888888888888,
              "#fdca26"
             ],
             [
              1,
              "#f0f921"
             ]
            ],
            "type": "histogram2dcontour"
           }
          ],
          "mesh3d": [
           {
            "colorbar": {
             "outlinewidth": 0,
             "ticks": ""
            },
            "type": "mesh3d"
           }
          ],
          "parcoords": [
           {
            "line": {
             "colorbar": {
              "outlinewidth": 0,
              "ticks": ""
             }
            },
            "type": "parcoords"
           }
          ],
          "pie": [
           {
            "automargin": true,
            "type": "pie"
           }
          ],
          "scatter": [
           {
            "fillpattern": {
             "fillmode": "overlay",
             "size": 10,
             "solidity": 0.2
            },
            "type": "scatter"
           }
          ],
          "scatter3d": [
           {
            "line": {
             "colorbar": {
              "outlinewidth": 0,
              "ticks": ""
             }
            },
            "marker": {
             "colorbar": {
              "outlinewidth": 0,
              "ticks": ""
             }
            },
            "type": "scatter3d"
           }
          ],
          "scattercarpet": [
           {
            "marker": {
             "colorbar": {
              "outlinewidth": 0,
              "ticks": ""
             }
            },
            "type": "scattercarpet"
           }
          ],
          "scattergeo": [
           {
            "marker": {
             "colorbar": {
              "outlinewidth": 0,
              "ticks": ""
             }
            },
            "type": "scattergeo"
           }
          ],
          "scattergl": [
           {
            "marker": {
             "colorbar": {
              "outlinewidth": 0,
              "ticks": ""
             }
            },
            "type": "scattergl"
           }
          ],
          "scattermap": [
           {
            "marker": {
             "colorbar": {
              "outlinewidth": 0,
              "ticks": ""
             }
            },
            "type": "scattermap"
           }
          ],
          "scattermapbox": [
           {
            "marker": {
             "colorbar": {
              "outlinewidth": 0,
              "ticks": ""
             }
            },
            "type": "scattermapbox"
           }
          ],
          "scatterpolar": [
           {
            "marker": {
             "colorbar": {
              "outlinewidth": 0,
              "ticks": ""
             }
            },
            "type": "scatterpolar"
           }
          ],
          "scatterpolargl": [
           {
            "marker": {
             "colorbar": {
              "outlinewidth": 0,
              "ticks": ""
             }
            },
            "type": "scatterpolargl"
           }
          ],
          "scatterternary": [
           {
            "marker": {
             "colorbar": {
              "outlinewidth": 0,
              "ticks": ""
             }
            },
            "type": "scatterternary"
           }
          ],
          "surface": [
           {
            "colorbar": {
             "outlinewidth": 0,
             "ticks": ""
            },
            "colorscale": [
             [
              0,
              "#0d0887"
             ],
             [
              0.1111111111111111,
              "#46039f"
             ],
             [
              0.2222222222222222,
              "#7201a8"
             ],
             [
              0.3333333333333333,
              "#9c179e"
             ],
             [
              0.4444444444444444,
              "#bd3786"
             ],
             [
              0.5555555555555556,
              "#d8576b"
             ],
             [
              0.6666666666666666,
              "#ed7953"
             ],
             [
              0.7777777777777778,
              "#fb9f3a"
             ],
             [
              0.8888888888888888,
              "#fdca26"
             ],
             [
              1,
              "#f0f921"
             ]
            ],
            "type": "surface"
           }
          ],
          "table": [
           {
            "cells": {
             "fill": {
              "color": "#EBF0F8"
             },
             "line": {
              "color": "white"
             }
            },
            "header": {
             "fill": {
              "color": "#C8D4E3"
             },
             "line": {
              "color": "white"
             }
            },
            "type": "table"
           }
          ]
         },
         "layout": {
          "annotationdefaults": {
           "arrowcolor": "#2a3f5f",
           "arrowhead": 0,
           "arrowwidth": 1
          },
          "autotypenumbers": "strict",
          "coloraxis": {
           "colorbar": {
            "outlinewidth": 0,
            "ticks": ""
           }
          },
          "colorscale": {
           "diverging": [
            [
             0,
             "#8e0152"
            ],
            [
             0.1,
             "#c51b7d"
            ],
            [
             0.2,
             "#de77ae"
            ],
            [
             0.3,
             "#f1b6da"
            ],
            [
             0.4,
             "#fde0ef"
            ],
            [
             0.5,
             "#f7f7f7"
            ],
            [
             0.6,
             "#e6f5d0"
            ],
            [
             0.7,
             "#b8e186"
            ],
            [
             0.8,
             "#7fbc41"
            ],
            [
             0.9,
             "#4d9221"
            ],
            [
             1,
             "#276419"
            ]
           ],
           "sequential": [
            [
             0,
             "#0d0887"
            ],
            [
             0.1111111111111111,
             "#46039f"
            ],
            [
             0.2222222222222222,
             "#7201a8"
            ],
            [
             0.3333333333333333,
             "#9c179e"
            ],
            [
             0.4444444444444444,
             "#bd3786"
            ],
            [
             0.5555555555555556,
             "#d8576b"
            ],
            [
             0.6666666666666666,
             "#ed7953"
            ],
            [
             0.7777777777777778,
             "#fb9f3a"
            ],
            [
             0.8888888888888888,
             "#fdca26"
            ],
            [
             1,
             "#f0f921"
            ]
           ],
           "sequentialminus": [
            [
             0,
             "#0d0887"
            ],
            [
             0.1111111111111111,
             "#46039f"
            ],
            [
             0.2222222222222222,
             "#7201a8"
            ],
            [
             0.3333333333333333,
             "#9c179e"
            ],
            [
             0.4444444444444444,
             "#bd3786"
            ],
            [
             0.5555555555555556,
             "#d8576b"
            ],
            [
             0.6666666666666666,
             "#ed7953"
            ],
            [
             0.7777777777777778,
             "#fb9f3a"
            ],
            [
             0.8888888888888888,
             "#fdca26"
            ],
            [
             1,
             "#f0f921"
            ]
           ]
          },
          "colorway": [
           "#636efa",
           "#EF553B",
           "#00cc96",
           "#ab63fa",
           "#FFA15A",
           "#19d3f3",
           "#FF6692",
           "#B6E880",
           "#FF97FF",
           "#FECB52"
          ],
          "font": {
           "color": "#2a3f5f"
          },
          "geo": {
           "bgcolor": "white",
           "lakecolor": "white",
           "landcolor": "white",
           "showlakes": true,
           "showland": true,
           "subunitcolor": "#C8D4E3"
          },
          "hoverlabel": {
           "align": "left"
          },
          "hovermode": "closest",
          "mapbox": {
           "style": "light"
          },
          "paper_bgcolor": "white",
          "plot_bgcolor": "white",
          "polar": {
           "angularaxis": {
            "gridcolor": "#EBF0F8",
            "linecolor": "#EBF0F8",
            "ticks": ""
           },
           "bgcolor": "white",
           "radialaxis": {
            "gridcolor": "#EBF0F8",
            "linecolor": "#EBF0F8",
            "ticks": ""
           }
          },
          "scene": {
           "xaxis": {
            "backgroundcolor": "white",
            "gridcolor": "#DFE8F3",
            "gridwidth": 2,
            "linecolor": "#EBF0F8",
            "showbackground": true,
            "ticks": "",
            "zerolinecolor": "#EBF0F8"
           },
           "yaxis": {
            "backgroundcolor": "white",
            "gridcolor": "#DFE8F3",
            "gridwidth": 2,
            "linecolor": "#EBF0F8",
            "showbackground": true,
            "ticks": "",
            "zerolinecolor": "#EBF0F8"
           },
           "zaxis": {
            "backgroundcolor": "white",
            "gridcolor": "#DFE8F3",
            "gridwidth": 2,
            "linecolor": "#EBF0F8",
            "showbackground": true,
            "ticks": "",
            "zerolinecolor": "#EBF0F8"
           }
          },
          "shapedefaults": {
           "line": {
            "color": "#2a3f5f"
           }
          },
          "ternary": {
           "aaxis": {
            "gridcolor": "#DFE8F3",
            "linecolor": "#A2B1C6",
            "ticks": ""
           },
           "baxis": {
            "gridcolor": "#DFE8F3",
            "linecolor": "#A2B1C6",
            "ticks": ""
           },
           "bgcolor": "white",
           "caxis": {
            "gridcolor": "#DFE8F3",
            "linecolor": "#A2B1C6",
            "ticks": ""
           }
          },
          "title": {
           "x": 0.05
          },
          "xaxis": {
           "automargin": true,
           "gridcolor": "#EBF0F8",
           "linecolor": "#EBF0F8",
           "ticks": "",
           "title": {
            "standoff": 15
           },
           "zerolinecolor": "#EBF0F8",
           "zerolinewidth": 2
          },
          "yaxis": {
           "automargin": true,
           "gridcolor": "#EBF0F8",
           "linecolor": "#EBF0F8",
           "ticks": "",
           "title": {
            "standoff": 15
           },
           "zerolinecolor": "#EBF0F8",
           "zerolinewidth": 2
          }
         }
        },
        "title": {
         "text": "Z-Scaled Features"
        },
        "xaxis": {
         "title": {
          "text": "Feature Index"
         }
        },
        "yaxis": {
         "title": {
          "text": "Values"
         }
        }
       }
      }
     },
     "metadata": {},
     "output_type": "display_data"
    },
    {
     "data": {
      "application/vnd.plotly.v1+json": {
       "config": {
        "plotlyServerURL": "https://plot.ly"
       },
       "data": [
        {
         "marker": {
          "color": "black",
          "size": 12
         },
         "mode": "markers",
         "name": "Mean",
         "type": "scatter",
         "x": [
          0,
          1,
          2,
          3,
          4,
          5,
          6,
          7,
          8,
          9,
          10,
          11,
          12,
          13,
          14,
          15,
          16,
          17,
          18,
          19,
          20,
          21,
          22,
          23,
          24,
          25,
          26,
          27,
          28,
          29,
          30,
          31,
          32,
          33,
          34,
          35,
          36,
          37,
          38,
          39,
          40,
          41,
          42,
          43,
          44,
          45,
          46,
          47,
          48,
          49,
          50,
          51,
          52,
          53,
          54,
          55,
          56,
          57,
          58,
          59,
          60,
          61,
          62,
          63,
          64,
          65,
          66,
          67,
          68,
          69,
          70,
          71,
          72,
          73,
          74,
          75,
          76,
          77,
          78,
          79,
          80,
          81,
          82,
          83,
          84,
          85,
          86,
          87,
          88,
          89,
          90,
          91,
          92,
          93,
          94,
          95,
          96,
          97,
          98,
          99,
          100,
          101,
          102,
          103,
          104,
          105,
          106,
          107,
          108,
          109,
          110,
          111,
          112,
          113,
          114,
          115,
          116,
          117,
          118,
          119,
          120,
          121,
          122,
          123,
          124,
          125,
          126,
          127,
          128,
          129,
          130,
          131,
          132,
          133
         ],
         "y": {
          "bdata": "UXpdH6G2aD/XBosCK7luP8VnfsHUCHA/2TotD8CQcD8pVMMYPgFxP5lN6x7xDnE/62NhK/eLcj/GCtNQwyl0PySRc0X893Q/AR+tb1OZdT+oWOGMDnZ2P8xIz1GV2nY/Dn5RtRkTeD88iRKgY6l4P6/SQjBrXnk/7Vz5dXKKej8ESL6S2lt7P+uIyGtQyXw/HHgcU4OkfT+jsTPBy0R/P6dnBrz5438/DaDSoizqfz8fjc9GGyOAP8FFgNzjdIA/1mBh6AahgD/Kqr1wL9OAP3HT8bKSyIE/vMjN+g8Zgj/XU+/o7Z+CP37fcWs9d4M/ZoDV5KB4gz8NNs7N8nqEP23v54gdtYQ/5/JRbC3UhD8qF3dDcB2FP01GQsdM/4U/I7rzANgShj+vBdqkU/CGP+oBzr3IH4c/8NNIFnxmhz+YrWpMcBuIP+TYSiMSX4g/V70dyOi4iD/q5QF8XZWJP/LRlTZNTYo/erWFT4N+ij9gZpZcmI6KPxAMWkmJm4o/sHB2Uvbkiz8M+61K6ReMP9LtEOMaQow/njIt8NGdjD9+rMEILKWNP1PZKI6n7o0/944NPDcCjj+xTIxH3L+OP+T8N3pIao8/Gr8oeFCDjz/XWwezPuaPP5nc5ZbSC5A/HZZ6gH0pkD9XGLL7MDyQPyS8Hi7Py5A/GBiHIDbokD+I5IXHrUuRPznPUNII55E/ZDFesJ0Xkj+z3vgxxPqTPwujAYbN+5M/d/FR3ognlD/efVIib3yUP+SY5Pg1uZQ/AuV407/XlD/8AiepV92UP+LwZVzR35Q/bk5EAiEmlT93zREi6CyVP9gYzJMfb5U/M/5g4jf9lT/w6Jvp6FSWP0xDyTW7zZY/y5vpShr+lj+FCjYLsx2XP2juvIuAQ5c/R83ebz65lz/bv7SoNGCYP0lXtYSfm5g/4jROILK1mD8TvhFbZV6ZP9LaB1txXJo/6FAmtqJumj81NigwzjWcP62FDXvKQZw/h3rlVbrgnD+SsvsOSUadP6za30t6WJ4/2Ra9GQcInz8O0G9IchWgP0CjasEY0KA/CXofCd5loT9KLwAibMuhP42DieDDzaE/bJqFk14Moj9rEAvTRgKjP42jLpIptqM/7zXrDGGDpD9tet2SkaukP/6HqZysq6Q/8oeBOAQPpT/rZF2GJRalP3XHeyBe1qU/1+ebld70pT9ySvTouUGmP8ug5WQ6S6Y/TVSvh7FOpj8FcMuXOICmP9KDlx+QTag/smB9C7GXqT/8lxkk+JepP+F2fNcTQqo/yfM25AVjqj+q5Qc/G8CqP1hv3m4E0qs/KzbuKr59rz8SB5JcFJ+wP2cpBsOVpLA/5oJfeIAQsT/gmGcqVAiyP4XKIDCPz7I/tCBmXO59tj8t6HiOHei3P7w6ifvwYrk/jpphbRXfuT+MjBdWp+e5Pw==",
          "dtype": "f8"
         },
         "zorder": 3
        },
        {
         "hoverinfo": "none",
         "line": {
          "color": "red",
          "dash": "solid",
          "width": 5
         },
         "mode": "lines",
         "name": "Min to Max",
         "showlegend": false,
         "type": "scatter",
         "x": [
          0,
          0
         ],
         "y": [
          0,
          0.9999999999999999
         ]
        },
        {
         "hoverinfo": "none",
         "line": {
          "color": "red",
          "dash": "solid",
          "width": 5
         },
         "mode": "lines",
         "name": "Min to Max",
         "showlegend": false,
         "type": "scatter",
         "x": [
          1,
          1
         ],
         "y": [
          0,
          1
         ]
        },
        {
         "hoverinfo": "none",
         "line": {
          "color": "red",
          "dash": "solid",
          "width": 5
         },
         "mode": "lines",
         "name": "Min to Max",
         "showlegend": false,
         "type": "scatter",
         "x": [
          2,
          2
         ],
         "y": [
          0,
          1
         ]
        },
        {
         "hoverinfo": "none",
         "line": {
          "color": "red",
          "dash": "solid",
          "width": 5
         },
         "mode": "lines",
         "name": "Min to Max",
         "showlegend": false,
         "type": "scatter",
         "x": [
          3,
          3
         ],
         "y": [
          0,
          1
         ]
        },
        {
         "hoverinfo": "none",
         "line": {
          "color": "red",
          "dash": "solid",
          "width": 5
         },
         "mode": "lines",
         "name": "Min to Max",
         "showlegend": false,
         "type": "scatter",
         "x": [
          4,
          4
         ],
         "y": [
          0,
          1
         ]
        },
        {
         "hoverinfo": "none",
         "line": {
          "color": "red",
          "dash": "solid",
          "width": 5
         },
         "mode": "lines",
         "name": "Min to Max",
         "showlegend": false,
         "type": "scatter",
         "x": [
          5,
          5
         ],
         "y": [
          0,
          1
         ]
        },
        {
         "hoverinfo": "none",
         "line": {
          "color": "red",
          "dash": "solid",
          "width": 5
         },
         "mode": "lines",
         "name": "Min to Max",
         "showlegend": false,
         "type": "scatter",
         "x": [
          6,
          6
         ],
         "y": [
          0,
          1
         ]
        },
        {
         "hoverinfo": "none",
         "line": {
          "color": "red",
          "dash": "solid",
          "width": 5
         },
         "mode": "lines",
         "name": "Min to Max",
         "showlegend": false,
         "type": "scatter",
         "x": [
          7,
          7
         ],
         "y": [
          0,
          1
         ]
        },
        {
         "hoverinfo": "none",
         "line": {
          "color": "red",
          "dash": "solid",
          "width": 5
         },
         "mode": "lines",
         "name": "Min to Max",
         "showlegend": false,
         "type": "scatter",
         "x": [
          8,
          8
         ],
         "y": [
          0,
          1
         ]
        },
        {
         "hoverinfo": "none",
         "line": {
          "color": "red",
          "dash": "solid",
          "width": 5
         },
         "mode": "lines",
         "name": "Min to Max",
         "showlegend": false,
         "type": "scatter",
         "x": [
          9,
          9
         ],
         "y": [
          0,
          1
         ]
        },
        {
         "hoverinfo": "none",
         "line": {
          "color": "red",
          "dash": "solid",
          "width": 5
         },
         "mode": "lines",
         "name": "Min to Max",
         "showlegend": false,
         "type": "scatter",
         "x": [
          10,
          10
         ],
         "y": [
          0,
          0.9999999999999999
         ]
        },
        {
         "hoverinfo": "none",
         "line": {
          "color": "red",
          "dash": "solid",
          "width": 5
         },
         "mode": "lines",
         "name": "Min to Max",
         "showlegend": false,
         "type": "scatter",
         "x": [
          11,
          11
         ],
         "y": [
          0,
          1
         ]
        },
        {
         "hoverinfo": "none",
         "line": {
          "color": "red",
          "dash": "solid",
          "width": 5
         },
         "mode": "lines",
         "name": "Min to Max",
         "showlegend": false,
         "type": "scatter",
         "x": [
          12,
          12
         ],
         "y": [
          0,
          1
         ]
        },
        {
         "hoverinfo": "none",
         "line": {
          "color": "red",
          "dash": "solid",
          "width": 5
         },
         "mode": "lines",
         "name": "Min to Max",
         "showlegend": false,
         "type": "scatter",
         "x": [
          13,
          13
         ],
         "y": [
          0,
          1
         ]
        },
        {
         "hoverinfo": "none",
         "line": {
          "color": "red",
          "dash": "solid",
          "width": 5
         },
         "mode": "lines",
         "name": "Min to Max",
         "showlegend": false,
         "type": "scatter",
         "x": [
          14,
          14
         ],
         "y": [
          0,
          1
         ]
        },
        {
         "hoverinfo": "none",
         "line": {
          "color": "red",
          "dash": "solid",
          "width": 5
         },
         "mode": "lines",
         "name": "Min to Max",
         "showlegend": false,
         "type": "scatter",
         "x": [
          15,
          15
         ],
         "y": [
          0,
          1
         ]
        },
        {
         "hoverinfo": "none",
         "line": {
          "color": "red",
          "dash": "solid",
          "width": 5
         },
         "mode": "lines",
         "name": "Min to Max",
         "showlegend": false,
         "type": "scatter",
         "x": [
          16,
          16
         ],
         "y": [
          0,
          1
         ]
        },
        {
         "hoverinfo": "none",
         "line": {
          "color": "red",
          "dash": "solid",
          "width": 5
         },
         "mode": "lines",
         "name": "Min to Max",
         "showlegend": false,
         "type": "scatter",
         "x": [
          17,
          17
         ],
         "y": [
          0,
          1
         ]
        },
        {
         "hoverinfo": "none",
         "line": {
          "color": "red",
          "dash": "solid",
          "width": 5
         },
         "mode": "lines",
         "name": "Min to Max",
         "showlegend": false,
         "type": "scatter",
         "x": [
          18,
          18
         ],
         "y": [
          0,
          1
         ]
        },
        {
         "hoverinfo": "none",
         "line": {
          "color": "red",
          "dash": "solid",
          "width": 5
         },
         "mode": "lines",
         "name": "Min to Max",
         "showlegend": false,
         "type": "scatter",
         "x": [
          19,
          19
         ],
         "y": [
          0,
          1
         ]
        },
        {
         "hoverinfo": "none",
         "line": {
          "color": "red",
          "dash": "solid",
          "width": 5
         },
         "mode": "lines",
         "name": "Min to Max",
         "showlegend": false,
         "type": "scatter",
         "x": [
          20,
          20
         ],
         "y": [
          0,
          1
         ]
        },
        {
         "hoverinfo": "none",
         "line": {
          "color": "red",
          "dash": "solid",
          "width": 5
         },
         "mode": "lines",
         "name": "Min to Max",
         "showlegend": false,
         "type": "scatter",
         "x": [
          21,
          21
         ],
         "y": [
          0,
          1
         ]
        },
        {
         "hoverinfo": "none",
         "line": {
          "color": "red",
          "dash": "solid",
          "width": 5
         },
         "mode": "lines",
         "name": "Min to Max",
         "showlegend": false,
         "type": "scatter",
         "x": [
          22,
          22
         ],
         "y": [
          0,
          1
         ]
        },
        {
         "hoverinfo": "none",
         "line": {
          "color": "red",
          "dash": "solid",
          "width": 5
         },
         "mode": "lines",
         "name": "Min to Max",
         "showlegend": false,
         "type": "scatter",
         "x": [
          23,
          23
         ],
         "y": [
          0,
          1
         ]
        },
        {
         "hoverinfo": "none",
         "line": {
          "color": "red",
          "dash": "solid",
          "width": 5
         },
         "mode": "lines",
         "name": "Min to Max",
         "showlegend": false,
         "type": "scatter",
         "x": [
          24,
          24
         ],
         "y": [
          0,
          1
         ]
        },
        {
         "hoverinfo": "none",
         "line": {
          "color": "red",
          "dash": "solid",
          "width": 5
         },
         "mode": "lines",
         "name": "Min to Max",
         "showlegend": false,
         "type": "scatter",
         "x": [
          25,
          25
         ],
         "y": [
          0,
          1
         ]
        },
        {
         "hoverinfo": "none",
         "line": {
          "color": "red",
          "dash": "solid",
          "width": 5
         },
         "mode": "lines",
         "name": "Min to Max",
         "showlegend": false,
         "type": "scatter",
         "x": [
          26,
          26
         ],
         "y": [
          0,
          1
         ]
        },
        {
         "hoverinfo": "none",
         "line": {
          "color": "red",
          "dash": "solid",
          "width": 5
         },
         "mode": "lines",
         "name": "Min to Max",
         "showlegend": false,
         "type": "scatter",
         "x": [
          27,
          27
         ],
         "y": [
          0,
          1
         ]
        },
        {
         "hoverinfo": "none",
         "line": {
          "color": "red",
          "dash": "solid",
          "width": 5
         },
         "mode": "lines",
         "name": "Min to Max",
         "showlegend": false,
         "type": "scatter",
         "x": [
          28,
          28
         ],
         "y": [
          0,
          1
         ]
        },
        {
         "hoverinfo": "none",
         "line": {
          "color": "red",
          "dash": "solid",
          "width": 5
         },
         "mode": "lines",
         "name": "Min to Max",
         "showlegend": false,
         "type": "scatter",
         "x": [
          29,
          29
         ],
         "y": [
          0,
          1
         ]
        },
        {
         "hoverinfo": "none",
         "line": {
          "color": "red",
          "dash": "solid",
          "width": 5
         },
         "mode": "lines",
         "name": "Min to Max",
         "showlegend": false,
         "type": "scatter",
         "x": [
          30,
          30
         ],
         "y": [
          0,
          1
         ]
        },
        {
         "hoverinfo": "none",
         "line": {
          "color": "red",
          "dash": "solid",
          "width": 5
         },
         "mode": "lines",
         "name": "Min to Max",
         "showlegend": false,
         "type": "scatter",
         "x": [
          31,
          31
         ],
         "y": [
          0,
          1
         ]
        },
        {
         "hoverinfo": "none",
         "line": {
          "color": "red",
          "dash": "solid",
          "width": 5
         },
         "mode": "lines",
         "name": "Min to Max",
         "showlegend": false,
         "type": "scatter",
         "x": [
          32,
          32
         ],
         "y": [
          0,
          1
         ]
        },
        {
         "hoverinfo": "none",
         "line": {
          "color": "red",
          "dash": "solid",
          "width": 5
         },
         "mode": "lines",
         "name": "Min to Max",
         "showlegend": false,
         "type": "scatter",
         "x": [
          33,
          33
         ],
         "y": [
          0,
          1
         ]
        },
        {
         "hoverinfo": "none",
         "line": {
          "color": "red",
          "dash": "solid",
          "width": 5
         },
         "mode": "lines",
         "name": "Min to Max",
         "showlegend": false,
         "type": "scatter",
         "x": [
          34,
          34
         ],
         "y": [
          0,
          1
         ]
        },
        {
         "hoverinfo": "none",
         "line": {
          "color": "red",
          "dash": "solid",
          "width": 5
         },
         "mode": "lines",
         "name": "Min to Max",
         "showlegend": false,
         "type": "scatter",
         "x": [
          35,
          35
         ],
         "y": [
          0,
          1
         ]
        },
        {
         "hoverinfo": "none",
         "line": {
          "color": "red",
          "dash": "solid",
          "width": 5
         },
         "mode": "lines",
         "name": "Min to Max",
         "showlegend": false,
         "type": "scatter",
         "x": [
          36,
          36
         ],
         "y": [
          0,
          1
         ]
        },
        {
         "hoverinfo": "none",
         "line": {
          "color": "red",
          "dash": "solid",
          "width": 5
         },
         "mode": "lines",
         "name": "Min to Max",
         "showlegend": false,
         "type": "scatter",
         "x": [
          37,
          37
         ],
         "y": [
          0,
          1
         ]
        },
        {
         "hoverinfo": "none",
         "line": {
          "color": "red",
          "dash": "solid",
          "width": 5
         },
         "mode": "lines",
         "name": "Min to Max",
         "showlegend": false,
         "type": "scatter",
         "x": [
          38,
          38
         ],
         "y": [
          0,
          1
         ]
        },
        {
         "hoverinfo": "none",
         "line": {
          "color": "red",
          "dash": "solid",
          "width": 5
         },
         "mode": "lines",
         "name": "Min to Max",
         "showlegend": false,
         "type": "scatter",
         "x": [
          39,
          39
         ],
         "y": [
          0,
          1
         ]
        },
        {
         "hoverinfo": "none",
         "line": {
          "color": "red",
          "dash": "solid",
          "width": 5
         },
         "mode": "lines",
         "name": "Min to Max",
         "showlegend": false,
         "type": "scatter",
         "x": [
          40,
          40
         ],
         "y": [
          0,
          1
         ]
        },
        {
         "hoverinfo": "none",
         "line": {
          "color": "red",
          "dash": "solid",
          "width": 5
         },
         "mode": "lines",
         "name": "Min to Max",
         "showlegend": false,
         "type": "scatter",
         "x": [
          41,
          41
         ],
         "y": [
          0,
          1
         ]
        },
        {
         "hoverinfo": "none",
         "line": {
          "color": "red",
          "dash": "solid",
          "width": 5
         },
         "mode": "lines",
         "name": "Min to Max",
         "showlegend": false,
         "type": "scatter",
         "x": [
          42,
          42
         ],
         "y": [
          0,
          1
         ]
        },
        {
         "hoverinfo": "none",
         "line": {
          "color": "red",
          "dash": "solid",
          "width": 5
         },
         "mode": "lines",
         "name": "Min to Max",
         "showlegend": false,
         "type": "scatter",
         "x": [
          43,
          43
         ],
         "y": [
          0,
          1
         ]
        },
        {
         "hoverinfo": "none",
         "line": {
          "color": "red",
          "dash": "solid",
          "width": 5
         },
         "mode": "lines",
         "name": "Min to Max",
         "showlegend": false,
         "type": "scatter",
         "x": [
          44,
          44
         ],
         "y": [
          0,
          1
         ]
        },
        {
         "hoverinfo": "none",
         "line": {
          "color": "red",
          "dash": "solid",
          "width": 5
         },
         "mode": "lines",
         "name": "Min to Max",
         "showlegend": false,
         "type": "scatter",
         "x": [
          45,
          45
         ],
         "y": [
          0,
          1
         ]
        },
        {
         "hoverinfo": "none",
         "line": {
          "color": "red",
          "dash": "solid",
          "width": 5
         },
         "mode": "lines",
         "name": "Min to Max",
         "showlegend": false,
         "type": "scatter",
         "x": [
          46,
          46
         ],
         "y": [
          0,
          1
         ]
        },
        {
         "hoverinfo": "none",
         "line": {
          "color": "red",
          "dash": "solid",
          "width": 5
         },
         "mode": "lines",
         "name": "Min to Max",
         "showlegend": false,
         "type": "scatter",
         "x": [
          47,
          47
         ],
         "y": [
          0,
          1
         ]
        },
        {
         "hoverinfo": "none",
         "line": {
          "color": "red",
          "dash": "solid",
          "width": 5
         },
         "mode": "lines",
         "name": "Min to Max",
         "showlegend": false,
         "type": "scatter",
         "x": [
          48,
          48
         ],
         "y": [
          0,
          0.9999999999999999
         ]
        },
        {
         "hoverinfo": "none",
         "line": {
          "color": "red",
          "dash": "solid",
          "width": 5
         },
         "mode": "lines",
         "name": "Min to Max",
         "showlegend": false,
         "type": "scatter",
         "x": [
          49,
          49
         ],
         "y": [
          0,
          1
         ]
        },
        {
         "hoverinfo": "none",
         "line": {
          "color": "red",
          "dash": "solid",
          "width": 5
         },
         "mode": "lines",
         "name": "Min to Max",
         "showlegend": false,
         "type": "scatter",
         "x": [
          50,
          50
         ],
         "y": [
          0,
          1
         ]
        },
        {
         "hoverinfo": "none",
         "line": {
          "color": "red",
          "dash": "solid",
          "width": 5
         },
         "mode": "lines",
         "name": "Min to Max",
         "showlegend": false,
         "type": "scatter",
         "x": [
          51,
          51
         ],
         "y": [
          0,
          1
         ]
        },
        {
         "hoverinfo": "none",
         "line": {
          "color": "red",
          "dash": "solid",
          "width": 5
         },
         "mode": "lines",
         "name": "Min to Max",
         "showlegend": false,
         "type": "scatter",
         "x": [
          52,
          52
         ],
         "y": [
          0,
          1
         ]
        },
        {
         "hoverinfo": "none",
         "line": {
          "color": "red",
          "dash": "solid",
          "width": 5
         },
         "mode": "lines",
         "name": "Min to Max",
         "showlegend": false,
         "type": "scatter",
         "x": [
          53,
          53
         ],
         "y": [
          0,
          0.9999999999999999
         ]
        },
        {
         "hoverinfo": "none",
         "line": {
          "color": "red",
          "dash": "solid",
          "width": 5
         },
         "mode": "lines",
         "name": "Min to Max",
         "showlegend": false,
         "type": "scatter",
         "x": [
          54,
          54
         ],
         "y": [
          0,
          1
         ]
        },
        {
         "hoverinfo": "none",
         "line": {
          "color": "red",
          "dash": "solid",
          "width": 5
         },
         "mode": "lines",
         "name": "Min to Max",
         "showlegend": false,
         "type": "scatter",
         "x": [
          55,
          55
         ],
         "y": [
          0,
          1
         ]
        },
        {
         "hoverinfo": "none",
         "line": {
          "color": "red",
          "dash": "solid",
          "width": 5
         },
         "mode": "lines",
         "name": "Min to Max",
         "showlegend": false,
         "type": "scatter",
         "x": [
          56,
          56
         ],
         "y": [
          0,
          1
         ]
        },
        {
         "hoverinfo": "none",
         "line": {
          "color": "red",
          "dash": "solid",
          "width": 5
         },
         "mode": "lines",
         "name": "Min to Max",
         "showlegend": false,
         "type": "scatter",
         "x": [
          57,
          57
         ],
         "y": [
          0,
          1
         ]
        },
        {
         "hoverinfo": "none",
         "line": {
          "color": "red",
          "dash": "solid",
          "width": 5
         },
         "mode": "lines",
         "name": "Min to Max",
         "showlegend": false,
         "type": "scatter",
         "x": [
          58,
          58
         ],
         "y": [
          0,
          1
         ]
        },
        {
         "hoverinfo": "none",
         "line": {
          "color": "red",
          "dash": "solid",
          "width": 5
         },
         "mode": "lines",
         "name": "Min to Max",
         "showlegend": false,
         "type": "scatter",
         "x": [
          59,
          59
         ],
         "y": [
          0,
          1
         ]
        },
        {
         "hoverinfo": "none",
         "line": {
          "color": "red",
          "dash": "solid",
          "width": 5
         },
         "mode": "lines",
         "name": "Min to Max",
         "showlegend": false,
         "type": "scatter",
         "x": [
          60,
          60
         ],
         "y": [
          0,
          1
         ]
        },
        {
         "hoverinfo": "none",
         "line": {
          "color": "red",
          "dash": "solid",
          "width": 5
         },
         "mode": "lines",
         "name": "Min to Max",
         "showlegend": false,
         "type": "scatter",
         "x": [
          61,
          61
         ],
         "y": [
          0,
          1
         ]
        },
        {
         "hoverinfo": "none",
         "line": {
          "color": "red",
          "dash": "solid",
          "width": 5
         },
         "mode": "lines",
         "name": "Min to Max",
         "showlegend": false,
         "type": "scatter",
         "x": [
          62,
          62
         ],
         "y": [
          0,
          1
         ]
        },
        {
         "hoverinfo": "none",
         "line": {
          "color": "red",
          "dash": "solid",
          "width": 5
         },
         "mode": "lines",
         "name": "Min to Max",
         "showlegend": false,
         "type": "scatter",
         "x": [
          63,
          63
         ],
         "y": [
          0,
          1
         ]
        },
        {
         "hoverinfo": "none",
         "line": {
          "color": "red",
          "dash": "solid",
          "width": 5
         },
         "mode": "lines",
         "name": "Min to Max",
         "showlegend": false,
         "type": "scatter",
         "x": [
          64,
          64
         ],
         "y": [
          0,
          1
         ]
        },
        {
         "hoverinfo": "none",
         "line": {
          "color": "red",
          "dash": "solid",
          "width": 5
         },
         "mode": "lines",
         "name": "Min to Max",
         "showlegend": false,
         "type": "scatter",
         "x": [
          65,
          65
         ],
         "y": [
          0,
          1
         ]
        },
        {
         "hoverinfo": "none",
         "line": {
          "color": "red",
          "dash": "solid",
          "width": 5
         },
         "mode": "lines",
         "name": "Min to Max",
         "showlegend": false,
         "type": "scatter",
         "x": [
          66,
          66
         ],
         "y": [
          0,
          1
         ]
        },
        {
         "hoverinfo": "none",
         "line": {
          "color": "red",
          "dash": "solid",
          "width": 5
         },
         "mode": "lines",
         "name": "Min to Max",
         "showlegend": false,
         "type": "scatter",
         "x": [
          67,
          67
         ],
         "y": [
          0,
          1
         ]
        },
        {
         "hoverinfo": "none",
         "line": {
          "color": "red",
          "dash": "solid",
          "width": 5
         },
         "mode": "lines",
         "name": "Min to Max",
         "showlegend": false,
         "type": "scatter",
         "x": [
          68,
          68
         ],
         "y": [
          0,
          1
         ]
        },
        {
         "hoverinfo": "none",
         "line": {
          "color": "red",
          "dash": "solid",
          "width": 5
         },
         "mode": "lines",
         "name": "Min to Max",
         "showlegend": false,
         "type": "scatter",
         "x": [
          69,
          69
         ],
         "y": [
          0,
          1
         ]
        },
        {
         "hoverinfo": "none",
         "line": {
          "color": "red",
          "dash": "solid",
          "width": 5
         },
         "mode": "lines",
         "name": "Min to Max",
         "showlegend": false,
         "type": "scatter",
         "x": [
          70,
          70
         ],
         "y": [
          0,
          1
         ]
        },
        {
         "hoverinfo": "none",
         "line": {
          "color": "red",
          "dash": "solid",
          "width": 5
         },
         "mode": "lines",
         "name": "Min to Max",
         "showlegend": false,
         "type": "scatter",
         "x": [
          71,
          71
         ],
         "y": [
          0,
          1
         ]
        },
        {
         "hoverinfo": "none",
         "line": {
          "color": "red",
          "dash": "solid",
          "width": 5
         },
         "mode": "lines",
         "name": "Min to Max",
         "showlegend": false,
         "type": "scatter",
         "x": [
          72,
          72
         ],
         "y": [
          0,
          1
         ]
        },
        {
         "hoverinfo": "none",
         "line": {
          "color": "red",
          "dash": "solid",
          "width": 5
         },
         "mode": "lines",
         "name": "Min to Max",
         "showlegend": false,
         "type": "scatter",
         "x": [
          73,
          73
         ],
         "y": [
          0,
          1
         ]
        },
        {
         "hoverinfo": "none",
         "line": {
          "color": "red",
          "dash": "solid",
          "width": 5
         },
         "mode": "lines",
         "name": "Min to Max",
         "showlegend": false,
         "type": "scatter",
         "x": [
          74,
          74
         ],
         "y": [
          0,
          1
         ]
        },
        {
         "hoverinfo": "none",
         "line": {
          "color": "red",
          "dash": "solid",
          "width": 5
         },
         "mode": "lines",
         "name": "Min to Max",
         "showlegend": false,
         "type": "scatter",
         "x": [
          75,
          75
         ],
         "y": [
          0,
          1
         ]
        },
        {
         "hoverinfo": "none",
         "line": {
          "color": "red",
          "dash": "solid",
          "width": 5
         },
         "mode": "lines",
         "name": "Min to Max",
         "showlegend": false,
         "type": "scatter",
         "x": [
          76,
          76
         ],
         "y": [
          0,
          1
         ]
        },
        {
         "hoverinfo": "none",
         "line": {
          "color": "red",
          "dash": "solid",
          "width": 5
         },
         "mode": "lines",
         "name": "Min to Max",
         "showlegend": false,
         "type": "scatter",
         "x": [
          77,
          77
         ],
         "y": [
          0,
          1
         ]
        },
        {
         "hoverinfo": "none",
         "line": {
          "color": "red",
          "dash": "solid",
          "width": 5
         },
         "mode": "lines",
         "name": "Min to Max",
         "showlegend": false,
         "type": "scatter",
         "x": [
          78,
          78
         ],
         "y": [
          0,
          1
         ]
        },
        {
         "hoverinfo": "none",
         "line": {
          "color": "red",
          "dash": "solid",
          "width": 5
         },
         "mode": "lines",
         "name": "Min to Max",
         "showlegend": false,
         "type": "scatter",
         "x": [
          79,
          79
         ],
         "y": [
          0,
          1
         ]
        },
        {
         "hoverinfo": "none",
         "line": {
          "color": "red",
          "dash": "solid",
          "width": 5
         },
         "mode": "lines",
         "name": "Min to Max",
         "showlegend": false,
         "type": "scatter",
         "x": [
          80,
          80
         ],
         "y": [
          0,
          0.9999999999999999
         ]
        },
        {
         "hoverinfo": "none",
         "line": {
          "color": "red",
          "dash": "solid",
          "width": 5
         },
         "mode": "lines",
         "name": "Min to Max",
         "showlegend": false,
         "type": "scatter",
         "x": [
          81,
          81
         ],
         "y": [
          0,
          1
         ]
        },
        {
         "hoverinfo": "none",
         "line": {
          "color": "red",
          "dash": "solid",
          "width": 5
         },
         "mode": "lines",
         "name": "Min to Max",
         "showlegend": false,
         "type": "scatter",
         "x": [
          82,
          82
         ],
         "y": [
          0,
          1
         ]
        },
        {
         "hoverinfo": "none",
         "line": {
          "color": "red",
          "dash": "solid",
          "width": 5
         },
         "mode": "lines",
         "name": "Min to Max",
         "showlegend": false,
         "type": "scatter",
         "x": [
          83,
          83
         ],
         "y": [
          0,
          1
         ]
        },
        {
         "hoverinfo": "none",
         "line": {
          "color": "red",
          "dash": "solid",
          "width": 5
         },
         "mode": "lines",
         "name": "Min to Max",
         "showlegend": false,
         "type": "scatter",
         "x": [
          84,
          84
         ],
         "y": [
          0,
          1
         ]
        },
        {
         "hoverinfo": "none",
         "line": {
          "color": "red",
          "dash": "solid",
          "width": 5
         },
         "mode": "lines",
         "name": "Min to Max",
         "showlegend": false,
         "type": "scatter",
         "x": [
          85,
          85
         ],
         "y": [
          0,
          1
         ]
        },
        {
         "hoverinfo": "none",
         "line": {
          "color": "red",
          "dash": "solid",
          "width": 5
         },
         "mode": "lines",
         "name": "Min to Max",
         "showlegend": false,
         "type": "scatter",
         "x": [
          86,
          86
         ],
         "y": [
          0,
          1
         ]
        },
        {
         "hoverinfo": "none",
         "line": {
          "color": "red",
          "dash": "solid",
          "width": 5
         },
         "mode": "lines",
         "name": "Min to Max",
         "showlegend": false,
         "type": "scatter",
         "x": [
          87,
          87
         ],
         "y": [
          0,
          0.9999999999999999
         ]
        },
        {
         "hoverinfo": "none",
         "line": {
          "color": "red",
          "dash": "solid",
          "width": 5
         },
         "mode": "lines",
         "name": "Min to Max",
         "showlegend": false,
         "type": "scatter",
         "x": [
          88,
          88
         ],
         "y": [
          0,
          1
         ]
        },
        {
         "hoverinfo": "none",
         "line": {
          "color": "red",
          "dash": "solid",
          "width": 5
         },
         "mode": "lines",
         "name": "Min to Max",
         "showlegend": false,
         "type": "scatter",
         "x": [
          89,
          89
         ],
         "y": [
          0,
          1
         ]
        },
        {
         "hoverinfo": "none",
         "line": {
          "color": "red",
          "dash": "solid",
          "width": 5
         },
         "mode": "lines",
         "name": "Min to Max",
         "showlegend": false,
         "type": "scatter",
         "x": [
          90,
          90
         ],
         "y": [
          0,
          1
         ]
        },
        {
         "hoverinfo": "none",
         "line": {
          "color": "red",
          "dash": "solid",
          "width": 5
         },
         "mode": "lines",
         "name": "Min to Max",
         "showlegend": false,
         "type": "scatter",
         "x": [
          91,
          91
         ],
         "y": [
          0,
          1
         ]
        },
        {
         "hoverinfo": "none",
         "line": {
          "color": "red",
          "dash": "solid",
          "width": 5
         },
         "mode": "lines",
         "name": "Min to Max",
         "showlegend": false,
         "type": "scatter",
         "x": [
          92,
          92
         ],
         "y": [
          0,
          1
         ]
        },
        {
         "hoverinfo": "none",
         "line": {
          "color": "red",
          "dash": "solid",
          "width": 5
         },
         "mode": "lines",
         "name": "Min to Max",
         "showlegend": false,
         "type": "scatter",
         "x": [
          93,
          93
         ],
         "y": [
          0,
          1
         ]
        },
        {
         "hoverinfo": "none",
         "line": {
          "color": "red",
          "dash": "solid",
          "width": 5
         },
         "mode": "lines",
         "name": "Min to Max",
         "showlegend": false,
         "type": "scatter",
         "x": [
          94,
          94
         ],
         "y": [
          0,
          0.9999999999999999
         ]
        },
        {
         "hoverinfo": "none",
         "line": {
          "color": "red",
          "dash": "solid",
          "width": 5
         },
         "mode": "lines",
         "name": "Min to Max",
         "showlegend": false,
         "type": "scatter",
         "x": [
          95,
          95
         ],
         "y": [
          0,
          0.9999999999999999
         ]
        },
        {
         "hoverinfo": "none",
         "line": {
          "color": "red",
          "dash": "solid",
          "width": 5
         },
         "mode": "lines",
         "name": "Min to Max",
         "showlegend": false,
         "type": "scatter",
         "x": [
          96,
          96
         ],
         "y": [
          0,
          1
         ]
        },
        {
         "hoverinfo": "none",
         "line": {
          "color": "red",
          "dash": "solid",
          "width": 5
         },
         "mode": "lines",
         "name": "Min to Max",
         "showlegend": false,
         "type": "scatter",
         "x": [
          97,
          97
         ],
         "y": [
          0,
          1
         ]
        },
        {
         "hoverinfo": "none",
         "line": {
          "color": "red",
          "dash": "solid",
          "width": 5
         },
         "mode": "lines",
         "name": "Min to Max",
         "showlegend": false,
         "type": "scatter",
         "x": [
          98,
          98
         ],
         "y": [
          0,
          0.9999999999999999
         ]
        },
        {
         "hoverinfo": "none",
         "line": {
          "color": "red",
          "dash": "solid",
          "width": 5
         },
         "mode": "lines",
         "name": "Min to Max",
         "showlegend": false,
         "type": "scatter",
         "x": [
          99,
          99
         ],
         "y": [
          0,
          0.9999999999999999
         ]
        },
        {
         "hoverinfo": "none",
         "line": {
          "color": "red",
          "dash": "solid",
          "width": 5
         },
         "mode": "lines",
         "name": "Min to Max",
         "showlegend": false,
         "type": "scatter",
         "x": [
          100,
          100
         ],
         "y": [
          0,
          1
         ]
        },
        {
         "hoverinfo": "none",
         "line": {
          "color": "red",
          "dash": "solid",
          "width": 5
         },
         "mode": "lines",
         "name": "Min to Max",
         "showlegend": false,
         "type": "scatter",
         "x": [
          101,
          101
         ],
         "y": [
          0,
          1
         ]
        },
        {
         "hoverinfo": "none",
         "line": {
          "color": "red",
          "dash": "solid",
          "width": 5
         },
         "mode": "lines",
         "name": "Min to Max",
         "showlegend": false,
         "type": "scatter",
         "x": [
          102,
          102
         ],
         "y": [
          0,
          0.9999999999999999
         ]
        },
        {
         "hoverinfo": "none",
         "line": {
          "color": "red",
          "dash": "solid",
          "width": 5
         },
         "mode": "lines",
         "name": "Min to Max",
         "showlegend": false,
         "type": "scatter",
         "x": [
          103,
          103
         ],
         "y": [
          0,
          1
         ]
        },
        {
         "hoverinfo": "none",
         "line": {
          "color": "red",
          "dash": "solid",
          "width": 5
         },
         "mode": "lines",
         "name": "Min to Max",
         "showlegend": false,
         "type": "scatter",
         "x": [
          104,
          104
         ],
         "y": [
          0,
          1
         ]
        },
        {
         "hoverinfo": "none",
         "line": {
          "color": "red",
          "dash": "solid",
          "width": 5
         },
         "mode": "lines",
         "name": "Min to Max",
         "showlegend": false,
         "type": "scatter",
         "x": [
          105,
          105
         ],
         "y": [
          0,
          1
         ]
        },
        {
         "hoverinfo": "none",
         "line": {
          "color": "red",
          "dash": "solid",
          "width": 5
         },
         "mode": "lines",
         "name": "Min to Max",
         "showlegend": false,
         "type": "scatter",
         "x": [
          106,
          106
         ],
         "y": [
          0,
          1
         ]
        },
        {
         "hoverinfo": "none",
         "line": {
          "color": "red",
          "dash": "solid",
          "width": 5
         },
         "mode": "lines",
         "name": "Min to Max",
         "showlegend": false,
         "type": "scatter",
         "x": [
          107,
          107
         ],
         "y": [
          0,
          1
         ]
        },
        {
         "hoverinfo": "none",
         "line": {
          "color": "red",
          "dash": "solid",
          "width": 5
         },
         "mode": "lines",
         "name": "Min to Max",
         "showlegend": false,
         "type": "scatter",
         "x": [
          108,
          108
         ],
         "y": [
          0,
          1
         ]
        },
        {
         "hoverinfo": "none",
         "line": {
          "color": "red",
          "dash": "solid",
          "width": 5
         },
         "mode": "lines",
         "name": "Min to Max",
         "showlegend": false,
         "type": "scatter",
         "x": [
          109,
          109
         ],
         "y": [
          0,
          1
         ]
        },
        {
         "hoverinfo": "none",
         "line": {
          "color": "red",
          "dash": "solid",
          "width": 5
         },
         "mode": "lines",
         "name": "Min to Max",
         "showlegend": false,
         "type": "scatter",
         "x": [
          110,
          110
         ],
         "y": [
          0,
          0.9999999999999999
         ]
        },
        {
         "hoverinfo": "none",
         "line": {
          "color": "red",
          "dash": "solid",
          "width": 5
         },
         "mode": "lines",
         "name": "Min to Max",
         "showlegend": false,
         "type": "scatter",
         "x": [
          111,
          111
         ],
         "y": [
          0,
          1
         ]
        },
        {
         "hoverinfo": "none",
         "line": {
          "color": "red",
          "dash": "solid",
          "width": 5
         },
         "mode": "lines",
         "name": "Min to Max",
         "showlegend": false,
         "type": "scatter",
         "x": [
          112,
          112
         ],
         "y": [
          0,
          1
         ]
        },
        {
         "hoverinfo": "none",
         "line": {
          "color": "red",
          "dash": "solid",
          "width": 5
         },
         "mode": "lines",
         "name": "Min to Max",
         "showlegend": false,
         "type": "scatter",
         "x": [
          113,
          113
         ],
         "y": [
          0,
          1
         ]
        },
        {
         "hoverinfo": "none",
         "line": {
          "color": "red",
          "dash": "solid",
          "width": 5
         },
         "mode": "lines",
         "name": "Min to Max",
         "showlegend": false,
         "type": "scatter",
         "x": [
          114,
          114
         ],
         "y": [
          0,
          1
         ]
        },
        {
         "hoverinfo": "none",
         "line": {
          "color": "red",
          "dash": "solid",
          "width": 5
         },
         "mode": "lines",
         "name": "Min to Max",
         "showlegend": false,
         "type": "scatter",
         "x": [
          115,
          115
         ],
         "y": [
          0,
          1
         ]
        },
        {
         "hoverinfo": "none",
         "line": {
          "color": "red",
          "dash": "solid",
          "width": 5
         },
         "mode": "lines",
         "name": "Min to Max",
         "showlegend": false,
         "type": "scatter",
         "x": [
          116,
          116
         ],
         "y": [
          0,
          0.9999999999999999
         ]
        },
        {
         "hoverinfo": "none",
         "line": {
          "color": "red",
          "dash": "solid",
          "width": 5
         },
         "mode": "lines",
         "name": "Min to Max",
         "showlegend": false,
         "type": "scatter",
         "x": [
          117,
          117
         ],
         "y": [
          0,
          1
         ]
        },
        {
         "hoverinfo": "none",
         "line": {
          "color": "red",
          "dash": "solid",
          "width": 5
         },
         "mode": "lines",
         "name": "Min to Max",
         "showlegend": false,
         "type": "scatter",
         "x": [
          118,
          118
         ],
         "y": [
          0,
          1
         ]
        },
        {
         "hoverinfo": "none",
         "line": {
          "color": "red",
          "dash": "solid",
          "width": 5
         },
         "mode": "lines",
         "name": "Min to Max",
         "showlegend": false,
         "type": "scatter",
         "x": [
          119,
          119
         ],
         "y": [
          0,
          1
         ]
        },
        {
         "hoverinfo": "none",
         "line": {
          "color": "red",
          "dash": "solid",
          "width": 5
         },
         "mode": "lines",
         "name": "Min to Max",
         "showlegend": false,
         "type": "scatter",
         "x": [
          120,
          120
         ],
         "y": [
          0,
          1
         ]
        },
        {
         "hoverinfo": "none",
         "line": {
          "color": "red",
          "dash": "solid",
          "width": 5
         },
         "mode": "lines",
         "name": "Min to Max",
         "showlegend": false,
         "type": "scatter",
         "x": [
          121,
          121
         ],
         "y": [
          0,
          1
         ]
        },
        {
         "hoverinfo": "none",
         "line": {
          "color": "red",
          "dash": "solid",
          "width": 5
         },
         "mode": "lines",
         "name": "Min to Max",
         "showlegend": false,
         "type": "scatter",
         "x": [
          122,
          122
         ],
         "y": [
          0,
          0.9999999999999999
         ]
        },
        {
         "hoverinfo": "none",
         "line": {
          "color": "red",
          "dash": "solid",
          "width": 5
         },
         "mode": "lines",
         "name": "Min to Max",
         "showlegend": false,
         "type": "scatter",
         "x": [
          123,
          123
         ],
         "y": [
          0,
          1
         ]
        },
        {
         "hoverinfo": "none",
         "line": {
          "color": "red",
          "dash": "solid",
          "width": 5
         },
         "mode": "lines",
         "name": "Min to Max",
         "showlegend": false,
         "type": "scatter",
         "x": [
          124,
          124
         ],
         "y": [
          0,
          1
         ]
        },
        {
         "hoverinfo": "none",
         "line": {
          "color": "red",
          "dash": "solid",
          "width": 5
         },
         "mode": "lines",
         "name": "Min to Max",
         "showlegend": false,
         "type": "scatter",
         "x": [
          125,
          125
         ],
         "y": [
          0,
          1
         ]
        },
        {
         "hoverinfo": "none",
         "line": {
          "color": "red",
          "dash": "solid",
          "width": 5
         },
         "mode": "lines",
         "name": "Min to Max",
         "showlegend": false,
         "type": "scatter",
         "x": [
          126,
          126
         ],
         "y": [
          0,
          1
         ]
        },
        {
         "hoverinfo": "none",
         "line": {
          "color": "red",
          "dash": "solid",
          "width": 5
         },
         "mode": "lines",
         "name": "Min to Max",
         "showlegend": false,
         "type": "scatter",
         "x": [
          127,
          127
         ],
         "y": [
          0,
          1
         ]
        },
        {
         "hoverinfo": "none",
         "line": {
          "color": "red",
          "dash": "solid",
          "width": 5
         },
         "mode": "lines",
         "name": "Min to Max",
         "showlegend": false,
         "type": "scatter",
         "x": [
          128,
          128
         ],
         "y": [
          0,
          1
         ]
        },
        {
         "hoverinfo": "none",
         "line": {
          "color": "red",
          "dash": "solid",
          "width": 5
         },
         "mode": "lines",
         "name": "Min to Max",
         "showlegend": false,
         "type": "scatter",
         "x": [
          129,
          129
         ],
         "y": [
          0,
          0.9999999999999999
         ]
        },
        {
         "hoverinfo": "none",
         "line": {
          "color": "red",
          "dash": "solid",
          "width": 5
         },
         "mode": "lines",
         "name": "Min to Max",
         "showlegend": false,
         "type": "scatter",
         "x": [
          130,
          130
         ],
         "y": [
          0,
          1
         ]
        },
        {
         "hoverinfo": "none",
         "line": {
          "color": "red",
          "dash": "solid",
          "width": 5
         },
         "mode": "lines",
         "name": "Min to Max",
         "showlegend": false,
         "type": "scatter",
         "x": [
          131,
          131
         ],
         "y": [
          0,
          1
         ]
        },
        {
         "hoverinfo": "none",
         "line": {
          "color": "red",
          "dash": "solid",
          "width": 5
         },
         "mode": "lines",
         "name": "Min to Max",
         "showlegend": false,
         "type": "scatter",
         "x": [
          132,
          132
         ],
         "y": [
          0,
          1
         ]
        },
        {
         "hoverinfo": "none",
         "line": {
          "color": "red",
          "dash": "solid",
          "width": 5
         },
         "mode": "lines",
         "name": "Min to Max",
         "showlegend": false,
         "type": "scatter",
         "x": [
          133,
          133
         ],
         "y": [
          0,
          1
         ]
        },
        {
         "marker": {
          "color": "red",
          "size": 10
         },
         "mode": "markers",
         "name": "Min",
         "type": "scatter",
         "x": [
          0,
          1,
          2,
          3,
          4,
          5,
          6,
          7,
          8,
          9,
          10,
          11,
          12,
          13,
          14,
          15,
          16,
          17,
          18,
          19,
          20,
          21,
          22,
          23,
          24,
          25,
          26,
          27,
          28,
          29,
          30,
          31,
          32,
          33,
          34,
          35,
          36,
          37,
          38,
          39,
          40,
          41,
          42,
          43,
          44,
          45,
          46,
          47,
          48,
          49,
          50,
          51,
          52,
          53,
          54,
          55,
          56,
          57,
          58,
          59,
          60,
          61,
          62,
          63,
          64,
          65,
          66,
          67,
          68,
          69,
          70,
          71,
          72,
          73,
          74,
          75,
          76,
          77,
          78,
          79,
          80,
          81,
          82,
          83,
          84,
          85,
          86,
          87,
          88,
          89,
          90,
          91,
          92,
          93,
          94,
          95,
          96,
          97,
          98,
          99,
          100,
          101,
          102,
          103,
          104,
          105,
          106,
          107,
          108,
          109,
          110,
          111,
          112,
          113,
          114,
          115,
          116,
          117,
          118,
          119,
          120,
          121,
          122,
          123,
          124,
          125,
          126,
          127,
          128,
          129,
          130,
          131,
          132,
          133
         ],
         "y": {
          "bdata": "AAAAAAAAAAAAAAAAAAAAAAAAAAAAAAAAAAAAAAAAAAAAAAAAAAAAAAAAAAAAAAAAAAAAAAAAAAAAAAAAAAAAAAAAAAAAAAAAAAAAAAAAAAAAAAAAAAAAAAAAAAAAAAAAAAAAAAAAAAAAAAAAAAAAAAAAAAAAAAAAAAAAAAAAAAAAAAAAAAAAAAAAAAAAAAAAAAAAAAAAAAAAAAAAAAAAAAAAAAAAAAAAAAAAAAAAAAAAAAAAAAAAAAAAAAAAAAAAAAAAAAAAAAAAAAAAAAAAAAAAAAAAAAAAAAAAAAAAAAAAAAAAAAAAAAAAAAAAAAAAAAAAAAAAAAAAAAAAAAAAAAAAAAAAAAAAAAAAAAAAAAAAAAAAAAAAAAAAAAAAAAAAAAAAAAAAAAAAAAAAAAAAAAAAAAAAAAAAAAAAAAAAAAAAAAAAAAAAAAAAAAAAAAAAAAAAAAAAAAAAAAAAAAAAAAAAAAAAAAAAAAAAAAAAAAAAAAAAAAAAAAAAAAAAAAAAAAAAAAAAAAAAAAAAAAAAAAAAAAAAAAAAAAAAAAAAAAAAAAAAAAAAAAAAAAAAAAAAAAAAAAAAAAAAAAAAAAAAAAAAAAAAAAAAAAAAAAAAAAAAAAAAAAAAAAAAAAAAAAAAAAAAAAAAAAAAAAAAAAAAAAAAAAAAAAAAAAAAAAAAAAAAAAAAAAAAAAAAAAAAAAAAAAAAAAAAAAAAAAAAAAAAAAAAAAAAAAAAAAAAAAAAAAAAAAAAAAAAAAAAAAAAAAAAAAAAAAAAAAAAAAAAAAAAAAAAAAAAAAAAAAAAAAAAAAAAAAAAAAAAAAAAAAAAAAAAAAAAAAAAAAAAAAAAAAAAAAAAAAAAAAAAAAAAAAAAAAAAAAAAAAAAAAAAAAAAAAAAAAAAAAAAAAAAAAAAAAAAAAAAAAAAAAAAAAAAAAAAAAAAAAAAAAAAAAAAAAAAAAAAAAAAAAAAAAAAAAAAAAAAAAAAAAAAAAAAAAAAAAAAAAAAAAAAAAAAAAAAAAAAAAAAAAAAAAAAAAAAAAAAAAAAAAAAAAAAAAAAAAAAAAAAAAAAAAAAAAAAAAAAAAAAAAAAAAAAAAAAAAAAAAAAAAAAAAAAAAAAAAAAAAAAAAAAAAAAAAAAAAAAAAAAAAAAAAAAAAAAAAAAAAAAAAAAAAAAAAAAAAAAAAAAAAAAAAAAAAAAAAAAAAAAAAAAAAAAAAAAAAAAAAAAAAAAAAAAAAAAAAAAAAAAAAAAAAAAAAAAAAAAAAAAAAAAAAAAAAAAAAAAAAAAAAAAAAAAAAAAAAAAAAAAAAAAAAAAAAAAAAAAAAAAAAAAAAAAAAAAAAAAAAAAAAAAAAAAAAAAAAAAAAAAAAAAAAAAAAAAAAAAAAAAAAAAAAAAAAAAAAAAAAAAAAAAAAAAAAAAAAAAAAAAAAAAAA==",
          "dtype": "f8"
         }
        },
        {
         "marker": {
          "color": "red",
          "size": 10
         },
         "mode": "markers",
         "name": "Max",
         "type": "scatter",
         "x": [
          0,
          1,
          2,
          3,
          4,
          5,
          6,
          7,
          8,
          9,
          10,
          11,
          12,
          13,
          14,
          15,
          16,
          17,
          18,
          19,
          20,
          21,
          22,
          23,
          24,
          25,
          26,
          27,
          28,
          29,
          30,
          31,
          32,
          33,
          34,
          35,
          36,
          37,
          38,
          39,
          40,
          41,
          42,
          43,
          44,
          45,
          46,
          47,
          48,
          49,
          50,
          51,
          52,
          53,
          54,
          55,
          56,
          57,
          58,
          59,
          60,
          61,
          62,
          63,
          64,
          65,
          66,
          67,
          68,
          69,
          70,
          71,
          72,
          73,
          74,
          75,
          76,
          77,
          78,
          79,
          80,
          81,
          82,
          83,
          84,
          85,
          86,
          87,
          88,
          89,
          90,
          91,
          92,
          93,
          94,
          95,
          96,
          97,
          98,
          99,
          100,
          101,
          102,
          103,
          104,
          105,
          106,
          107,
          108,
          109,
          110,
          111,
          112,
          113,
          114,
          115,
          116,
          117,
          118,
          119,
          120,
          121,
          122,
          123,
          124,
          125,
          126,
          127,
          128,
          129,
          130,
          131,
          132,
          133
         ],
         "y": {
          "bdata": "////////7z8AAAAAAADwPwAAAAAAAPA/AAAAAAAA8D8AAAAAAADwPwAAAAAAAPA/AAAAAAAA8D8AAAAAAADwPwAAAAAAAPA/AAAAAAAA8D/////////vPwAAAAAAAPA/AAAAAAAA8D8AAAAAAADwPwAAAAAAAPA/AAAAAAAA8D8AAAAAAADwPwAAAAAAAPA/AAAAAAAA8D8AAAAAAADwPwAAAAAAAPA/AAAAAAAA8D8AAAAAAADwPwAAAAAAAPA/AAAAAAAA8D8AAAAAAADwPwAAAAAAAPA/AAAAAAAA8D8AAAAAAADwPwAAAAAAAPA/AAAAAAAA8D8AAAAAAADwPwAAAAAAAPA/AAAAAAAA8D8AAAAAAADwPwAAAAAAAPA/AAAAAAAA8D8AAAAAAADwPwAAAAAAAPA/AAAAAAAA8D8AAAAAAADwPwAAAAAAAPA/AAAAAAAA8D8AAAAAAADwPwAAAAAAAPA/AAAAAAAA8D8AAAAAAADwPwAAAAAAAPA/////////7z8AAAAAAADwPwAAAAAAAPA/AAAAAAAA8D8AAAAAAADwP////////+8/AAAAAAAA8D8AAAAAAADwPwAAAAAAAPA/AAAAAAAA8D8AAAAAAADwPwAAAAAAAPA/AAAAAAAA8D8AAAAAAADwPwAAAAAAAPA/AAAAAAAA8D8AAAAAAADwPwAAAAAAAPA/AAAAAAAA8D8AAAAAAADwPwAAAAAAAPA/AAAAAAAA8D8AAAAAAADwPwAAAAAAAPA/AAAAAAAA8D8AAAAAAADwPwAAAAAAAPA/AAAAAAAA8D8AAAAAAADwPwAAAAAAAPA/AAAAAAAA8D8AAAAAAADwP////////+8/AAAAAAAA8D8AAAAAAADwPwAAAAAAAPA/AAAAAAAA8D8AAAAAAADwPwAAAAAAAPA/////////7z8AAAAAAADwPwAAAAAAAPA/AAAAAAAA8D8AAAAAAADwPwAAAAAAAPA/AAAAAAAA8D/////////vP////////+8/AAAAAAAA8D8AAAAAAADwP////////+8/////////7z8AAAAAAADwPwAAAAAAAPA/////////7z8AAAAAAADwPwAAAAAAAPA/AAAAAAAA8D8AAAAAAADwPwAAAAAAAPA/AAAAAAAA8D8AAAAAAADwP////////+8/AAAAAAAA8D8AAAAAAADwPwAAAAAAAPA/AAAAAAAA8D8AAAAAAADwP////////+8/AAAAAAAA8D8AAAAAAADwPwAAAAAAAPA/AAAAAAAA8D8AAAAAAADwP////////+8/AAAAAAAA8D8AAAAAAADwPwAAAAAAAPA/AAAAAAAA8D8AAAAAAADwPwAAAAAAAPA/////////7z8AAAAAAADwPwAAAAAAAPA/AAAAAAAA8D8AAAAAAADwPw==",
          "dtype": "f8"
         }
        }
       ],
       "layout": {
        "height": 600,
        "hovermode": "x unified",
        "template": {
         "data": {
          "bar": [
           {
            "error_x": {
             "color": "#2a3f5f"
            },
            "error_y": {
             "color": "#2a3f5f"
            },
            "marker": {
             "line": {
              "color": "white",
              "width": 0.5
             },
             "pattern": {
              "fillmode": "overlay",
              "size": 10,
              "solidity": 0.2
             }
            },
            "type": "bar"
           }
          ],
          "barpolar": [
           {
            "marker": {
             "line": {
              "color": "white",
              "width": 0.5
             },
             "pattern": {
              "fillmode": "overlay",
              "size": 10,
              "solidity": 0.2
             }
            },
            "type": "barpolar"
           }
          ],
          "carpet": [
           {
            "aaxis": {
             "endlinecolor": "#2a3f5f",
             "gridcolor": "#C8D4E3",
             "linecolor": "#C8D4E3",
             "minorgridcolor": "#C8D4E3",
             "startlinecolor": "#2a3f5f"
            },
            "baxis": {
             "endlinecolor": "#2a3f5f",
             "gridcolor": "#C8D4E3",
             "linecolor": "#C8D4E3",
             "minorgridcolor": "#C8D4E3",
             "startlinecolor": "#2a3f5f"
            },
            "type": "carpet"
           }
          ],
          "choropleth": [
           {
            "colorbar": {
             "outlinewidth": 0,
             "ticks": ""
            },
            "type": "choropleth"
           }
          ],
          "contour": [
           {
            "colorbar": {
             "outlinewidth": 0,
             "ticks": ""
            },
            "colorscale": [
             [
              0,
              "#0d0887"
             ],
             [
              0.1111111111111111,
              "#46039f"
             ],
             [
              0.2222222222222222,
              "#7201a8"
             ],
             [
              0.3333333333333333,
              "#9c179e"
             ],
             [
              0.4444444444444444,
              "#bd3786"
             ],
             [
              0.5555555555555556,
              "#d8576b"
             ],
             [
              0.6666666666666666,
              "#ed7953"
             ],
             [
              0.7777777777777778,
              "#fb9f3a"
             ],
             [
              0.8888888888888888,
              "#fdca26"
             ],
             [
              1,
              "#f0f921"
             ]
            ],
            "type": "contour"
           }
          ],
          "contourcarpet": [
           {
            "colorbar": {
             "outlinewidth": 0,
             "ticks": ""
            },
            "type": "contourcarpet"
           }
          ],
          "heatmap": [
           {
            "colorbar": {
             "outlinewidth": 0,
             "ticks": ""
            },
            "colorscale": [
             [
              0,
              "#0d0887"
             ],
             [
              0.1111111111111111,
              "#46039f"
             ],
             [
              0.2222222222222222,
              "#7201a8"
             ],
             [
              0.3333333333333333,
              "#9c179e"
             ],
             [
              0.4444444444444444,
              "#bd3786"
             ],
             [
              0.5555555555555556,
              "#d8576b"
             ],
             [
              0.6666666666666666,
              "#ed7953"
             ],
             [
              0.7777777777777778,
              "#fb9f3a"
             ],
             [
              0.8888888888888888,
              "#fdca26"
             ],
             [
              1,
              "#f0f921"
             ]
            ],
            "type": "heatmap"
           }
          ],
          "histogram": [
           {
            "marker": {
             "pattern": {
              "fillmode": "overlay",
              "size": 10,
              "solidity": 0.2
             }
            },
            "type": "histogram"
           }
          ],
          "histogram2d": [
           {
            "colorbar": {
             "outlinewidth": 0,
             "ticks": ""
            },
            "colorscale": [
             [
              0,
              "#0d0887"
             ],
             [
              0.1111111111111111,
              "#46039f"
             ],
             [
              0.2222222222222222,
              "#7201a8"
             ],
             [
              0.3333333333333333,
              "#9c179e"
             ],
             [
              0.4444444444444444,
              "#bd3786"
             ],
             [
              0.5555555555555556,
              "#d8576b"
             ],
             [
              0.6666666666666666,
              "#ed7953"
             ],
             [
              0.7777777777777778,
              "#fb9f3a"
             ],
             [
              0.8888888888888888,
              "#fdca26"
             ],
             [
              1,
              "#f0f921"
             ]
            ],
            "type": "histogram2d"
           }
          ],
          "histogram2dcontour": [
           {
            "colorbar": {
             "outlinewidth": 0,
             "ticks": ""
            },
            "colorscale": [
             [
              0,
              "#0d0887"
             ],
             [
              0.1111111111111111,
              "#46039f"
             ],
             [
              0.2222222222222222,
              "#7201a8"
             ],
             [
              0.3333333333333333,
              "#9c179e"
             ],
             [
              0.4444444444444444,
              "#bd3786"
             ],
             [
              0.5555555555555556,
              "#d8576b"
             ],
             [
              0.6666666666666666,
              "#ed7953"
             ],
             [
              0.7777777777777778,
              "#fb9f3a"
             ],
             [
              0.8888888888888888,
              "#fdca26"
             ],
             [
              1,
              "#f0f921"
             ]
            ],
            "type": "histogram2dcontour"
           }
          ],
          "mesh3d": [
           {
            "colorbar": {
             "outlinewidth": 0,
             "ticks": ""
            },
            "type": "mesh3d"
           }
          ],
          "parcoords": [
           {
            "line": {
             "colorbar": {
              "outlinewidth": 0,
              "ticks": ""
             }
            },
            "type": "parcoords"
           }
          ],
          "pie": [
           {
            "automargin": true,
            "type": "pie"
           }
          ],
          "scatter": [
           {
            "fillpattern": {
             "fillmode": "overlay",
             "size": 10,
             "solidity": 0.2
            },
            "type": "scatter"
           }
          ],
          "scatter3d": [
           {
            "line": {
             "colorbar": {
              "outlinewidth": 0,
              "ticks": ""
             }
            },
            "marker": {
             "colorbar": {
              "outlinewidth": 0,
              "ticks": ""
             }
            },
            "type": "scatter3d"
           }
          ],
          "scattercarpet": [
           {
            "marker": {
             "colorbar": {
              "outlinewidth": 0,
              "ticks": ""
             }
            },
            "type": "scattercarpet"
           }
          ],
          "scattergeo": [
           {
            "marker": {
             "colorbar": {
              "outlinewidth": 0,
              "ticks": ""
             }
            },
            "type": "scattergeo"
           }
          ],
          "scattergl": [
           {
            "marker": {
             "colorbar": {
              "outlinewidth": 0,
              "ticks": ""
             }
            },
            "type": "scattergl"
           }
          ],
          "scattermap": [
           {
            "marker": {
             "colorbar": {
              "outlinewidth": 0,
              "ticks": ""
             }
            },
            "type": "scattermap"
           }
          ],
          "scattermapbox": [
           {
            "marker": {
             "colorbar": {
              "outlinewidth": 0,
              "ticks": ""
             }
            },
            "type": "scattermapbox"
           }
          ],
          "scatterpolar": [
           {
            "marker": {
             "colorbar": {
              "outlinewidth": 0,
              "ticks": ""
             }
            },
            "type": "scatterpolar"
           }
          ],
          "scatterpolargl": [
           {
            "marker": {
             "colorbar": {
              "outlinewidth": 0,
              "ticks": ""
             }
            },
            "type": "scatterpolargl"
           }
          ],
          "scatterternary": [
           {
            "marker": {
             "colorbar": {
              "outlinewidth": 0,
              "ticks": ""
             }
            },
            "type": "scatterternary"
           }
          ],
          "surface": [
           {
            "colorbar": {
             "outlinewidth": 0,
             "ticks": ""
            },
            "colorscale": [
             [
              0,
              "#0d0887"
             ],
             [
              0.1111111111111111,
              "#46039f"
             ],
             [
              0.2222222222222222,
              "#7201a8"
             ],
             [
              0.3333333333333333,
              "#9c179e"
             ],
             [
              0.4444444444444444,
              "#bd3786"
             ],
             [
              0.5555555555555556,
              "#d8576b"
             ],
             [
              0.6666666666666666,
              "#ed7953"
             ],
             [
              0.7777777777777778,
              "#fb9f3a"
             ],
             [
              0.8888888888888888,
              "#fdca26"
             ],
             [
              1,
              "#f0f921"
             ]
            ],
            "type": "surface"
           }
          ],
          "table": [
           {
            "cells": {
             "fill": {
              "color": "#EBF0F8"
             },
             "line": {
              "color": "white"
             }
            },
            "header": {
             "fill": {
              "color": "#C8D4E3"
             },
             "line": {
              "color": "white"
             }
            },
            "type": "table"
           }
          ]
         },
         "layout": {
          "annotationdefaults": {
           "arrowcolor": "#2a3f5f",
           "arrowhead": 0,
           "arrowwidth": 1
          },
          "autotypenumbers": "strict",
          "coloraxis": {
           "colorbar": {
            "outlinewidth": 0,
            "ticks": ""
           }
          },
          "colorscale": {
           "diverging": [
            [
             0,
             "#8e0152"
            ],
            [
             0.1,
             "#c51b7d"
            ],
            [
             0.2,
             "#de77ae"
            ],
            [
             0.3,
             "#f1b6da"
            ],
            [
             0.4,
             "#fde0ef"
            ],
            [
             0.5,
             "#f7f7f7"
            ],
            [
             0.6,
             "#e6f5d0"
            ],
            [
             0.7,
             "#b8e186"
            ],
            [
             0.8,
             "#7fbc41"
            ],
            [
             0.9,
             "#4d9221"
            ],
            [
             1,
             "#276419"
            ]
           ],
           "sequential": [
            [
             0,
             "#0d0887"
            ],
            [
             0.1111111111111111,
             "#46039f"
            ],
            [
             0.2222222222222222,
             "#7201a8"
            ],
            [
             0.3333333333333333,
             "#9c179e"
            ],
            [
             0.4444444444444444,
             "#bd3786"
            ],
            [
             0.5555555555555556,
             "#d8576b"
            ],
            [
             0.6666666666666666,
             "#ed7953"
            ],
            [
             0.7777777777777778,
             "#fb9f3a"
            ],
            [
             0.8888888888888888,
             "#fdca26"
            ],
            [
             1,
             "#f0f921"
            ]
           ],
           "sequentialminus": [
            [
             0,
             "#0d0887"
            ],
            [
             0.1111111111111111,
             "#46039f"
            ],
            [
             0.2222222222222222,
             "#7201a8"
            ],
            [
             0.3333333333333333,
             "#9c179e"
            ],
            [
             0.4444444444444444,
             "#bd3786"
            ],
            [
             0.5555555555555556,
             "#d8576b"
            ],
            [
             0.6666666666666666,
             "#ed7953"
            ],
            [
             0.7777777777777778,
             "#fb9f3a"
            ],
            [
             0.8888888888888888,
             "#fdca26"
            ],
            [
             1,
             "#f0f921"
            ]
           ]
          },
          "colorway": [
           "#636efa",
           "#EF553B",
           "#00cc96",
           "#ab63fa",
           "#FFA15A",
           "#19d3f3",
           "#FF6692",
           "#B6E880",
           "#FF97FF",
           "#FECB52"
          ],
          "font": {
           "color": "#2a3f5f"
          },
          "geo": {
           "bgcolor": "white",
           "lakecolor": "white",
           "landcolor": "white",
           "showlakes": true,
           "showland": true,
           "subunitcolor": "#C8D4E3"
          },
          "hoverlabel": {
           "align": "left"
          },
          "hovermode": "closest",
          "mapbox": {
           "style": "light"
          },
          "paper_bgcolor": "white",
          "plot_bgcolor": "white",
          "polar": {
           "angularaxis": {
            "gridcolor": "#EBF0F8",
            "linecolor": "#EBF0F8",
            "ticks": ""
           },
           "bgcolor": "white",
           "radialaxis": {
            "gridcolor": "#EBF0F8",
            "linecolor": "#EBF0F8",
            "ticks": ""
           }
          },
          "scene": {
           "xaxis": {
            "backgroundcolor": "white",
            "gridcolor": "#DFE8F3",
            "gridwidth": 2,
            "linecolor": "#EBF0F8",
            "showbackground": true,
            "ticks": "",
            "zerolinecolor": "#EBF0F8"
           },
           "yaxis": {
            "backgroundcolor": "white",
            "gridcolor": "#DFE8F3",
            "gridwidth": 2,
            "linecolor": "#EBF0F8",
            "showbackground": true,
            "ticks": "",
            "zerolinecolor": "#EBF0F8"
           },
           "zaxis": {
            "backgroundcolor": "white",
            "gridcolor": "#DFE8F3",
            "gridwidth": 2,
            "linecolor": "#EBF0F8",
            "showbackground": true,
            "ticks": "",
            "zerolinecolor": "#EBF0F8"
           }
          },
          "shapedefaults": {
           "line": {
            "color": "#2a3f5f"
           }
          },
          "ternary": {
           "aaxis": {
            "gridcolor": "#DFE8F3",
            "linecolor": "#A2B1C6",
            "ticks": ""
           },
           "baxis": {
            "gridcolor": "#DFE8F3",
            "linecolor": "#A2B1C6",
            "ticks": ""
           },
           "bgcolor": "white",
           "caxis": {
            "gridcolor": "#DFE8F3",
            "linecolor": "#A2B1C6",
            "ticks": ""
           }
          },
          "title": {
           "x": 0.05
          },
          "xaxis": {
           "automargin": true,
           "gridcolor": "#EBF0F8",
           "linecolor": "#EBF0F8",
           "ticks": "",
           "title": {
            "standoff": 15
           },
           "zerolinecolor": "#EBF0F8",
           "zerolinewidth": 2
          },
          "yaxis": {
           "automargin": true,
           "gridcolor": "#EBF0F8",
           "linecolor": "#EBF0F8",
           "ticks": "",
           "title": {
            "standoff": 15
           },
           "zerolinecolor": "#EBF0F8",
           "zerolinewidth": 2
          }
         }
        },
        "title": {
         "text": "MinMax Scaled Features"
        },
        "xaxis": {
         "title": {
          "text": "Feature Index"
         }
        },
        "yaxis": {
         "title": {
          "text": "Values"
         }
        }
       }
      }
     },
     "metadata": {},
     "output_type": "display_data"
    }
   ],
   "source": [
    "plot_feature_spans(bacteria_zscaled, title=\"Z-Scaled Features\")\n",
    "plot_feature_spans(bacteria_mmscaled, title=\"MinMax Scaled Features\")"
   ]
  },
  {
   "cell_type": "markdown",
   "metadata": {},
   "source": [
    "### Sex and Age"
   ]
  },
  {
   "cell_type": "code",
   "execution_count": 15,
   "metadata": {},
   "outputs": [
    {
     "data": {
      "image/png": "[encoded data removed]",
      "text/plain": [
       "<Figure size 1000x700 with 1 Axes>"
      ]
     },
     "metadata": {},
     "output_type": "display_data"
    }
   ],
   "source": [
    "plot_kde(\n",
    "    age,\n",
    "    title=\"Age Distribution\",\n",
    "    x_label=\"BMI\"\n",
    ")"
   ]
  },
  {
   "cell_type": "code",
   "execution_count": 16,
   "metadata": {},
   "outputs": [
    {
     "data": {
      "image/png": "[encoded data removed]",
      "text/plain": [
       "<Figure size 700x600 with 1 Axes>"
      ]
     },
     "metadata": {},
     "output_type": "display_data"
    }
   ],
   "source": [
    "plt.figure(figsize=(7, 6))\n",
    "sns.countplot(sex)\n",
    "plt.show()"
   ]
  },
  {
   "cell_type": "markdown",
   "metadata": {},
   "source": [
    "## Correlations"
   ]
  },
  {
   "cell_type": "code",
   "execution_count": 85,
   "metadata": {},
   "outputs": [],
   "source": [
    "def correlation_coefficients(\n",
    "        df,\n",
    "        against,\n",
    "        abs_corr=True,\n",
    "        show_plot=True,\n",
    "        title=\"Correlation Coefficients\"\n",
    "    ):\n",
    "    '''Calculate the correlation coefficients of the given dataframe against the\n",
    "    given target data.\n",
    "\n",
    "    The correlation coefficients are calculated using Pearson, Spearman, and Kendall\n",
    "    methods. The correlation coefficients are then sorted based on the sum of the\n",
    "    coefficients for each feature. The sorted features are plotted using a scatter\n",
    "    plot.\n",
    "\n",
    "    Parameters\n",
    "    ----------\n",
    "    df: pd.DataFrame\n",
    "        The dataframe containing the features to calculate the correlation\n",
    "        coefficients. The columns of the dataframe are the features.\n",
    "\n",
    "    against: pd.Series\n",
    "        The target data to calculate the correlation coefficients against.\n",
    "\n",
    "    abs_corr: bool\n",
    "        If True, the absolute value of the correlation coefficients are taken.\n",
    "        Otherwise, the raw correlation coefficients are used.\n",
    "\n",
    "    show_plot: bool\n",
    "        If True, the scatter plot of the sorted correlation coefficients is shown.\n",
    "\n",
    "    title: str\n",
    "        The title of the plot.\n",
    "\n",
    "    Returns\n",
    "    -------\n",
    "    corr_coeffs: np.ndarray\n",
    "        The sorted correlation coefficients of the features against the target data.\n",
    "\n",
    "    sorted_cols: list\n",
    "        The sorted columns of the dataframe based on the correlation coefficients.\n",
    "    '''\n",
    "\n",
    "    if isinstance(df, pd.Series):\n",
    "        df = df.to_frame()\n",
    "\n",
    "    corr_coeffs = np.zeros((df.shape[-1], 3))\n",
    "\n",
    "    for i, col in enumerate(df.columns):\n",
    "        pearsons_corr = pearsonr(against, df[col])\n",
    "        spearmans_corr = spearmanr(against, df[col])\n",
    "        kendalls_corr = kendalltau(against, df[col])\n",
    "\n",
    "        corr_coeffs[i, 0] = abs(pearsons_corr[0]) if abs_corr else pearsons_corr[0]\n",
    "        corr_coeffs[i, 1] = abs(spearmans_corr[0]) if abs_corr else spearmans_corr[0]\n",
    "        corr_coeffs[i, 2] = abs(kendalls_corr[0]) if abs_corr else kendalls_corr[0]\n",
    "\n",
    "    row_sums = np.sum(corr_coeffs, axis=1)\n",
    "    sorted_row_indices = np.argsort(row_sums)[::-1]\n",
    "    corr_coeffs = corr_coeffs[sorted_row_indices]\n",
    "\n",
    "    x = list(df.columns)\n",
    "    sorted_cols = [x[i] for i in sorted_row_indices]\n",
    "\n",
    "    if not show_plot:\n",
    "        return corr_coeffs, sorted_cols\n",
    "    \n",
    "    fig = go.Figure()\n",
    "\n",
    "    fig.add_trace(go.Scatter(\n",
    "        x=sorted_cols,\n",
    "        y=corr_coeffs[:, 0],\n",
    "        mode=\"markers\",\n",
    "        marker=dict(size=12),\n",
    "        name=\"Pearson\"\n",
    "    ))\n",
    "\n",
    "    fig.add_trace(go.Scatter(\n",
    "        x=sorted_cols,\n",
    "        y=corr_coeffs[:, 1],\n",
    "        mode=\"markers\",\n",
    "        marker=dict(size=12),\n",
    "        name=\"Spearman\"\n",
    "    ))\n",
    "\n",
    "    fig.add_trace(go.Scatter(\n",
    "        x=sorted_cols,\n",
    "        y=corr_coeffs[:, 2],\n",
    "        mode=\"markers\",\n",
    "        marker=dict(size=12),\n",
    "        name=\"Kendall\"\n",
    "    ))\n",
    "\n",
    "    fig.update_layout(\n",
    "        title=title,\n",
    "        xaxis_title=\"Features\",\n",
    "        yaxis_title=\"Correlation Coefficient\",\n",
    "        template=\"plotly_white\",\n",
    "        height=700\n",
    "    )\n",
    "\n",
    "    fig.show()\n",
    "\n",
    "    return corr_coeffs, sorted_cols\n"
   ]
  },
  {
   "cell_type": "code",
   "execution_count": 63,
   "metadata": {},
   "outputs": [
    {
     "data": {
      "application/vnd.plotly.v1+json": {
       "config": {
        "plotlyServerURL": "https://plot.ly"
       },
       "data": [
        {
         "marker": {
          "size": 12
         },
         "mode": "markers",
         "name": "Pearson",
         "type": "scatter",
         "x": [
          "Desulfonispora thiosulfatigenes",
          "Butyricimonas virosa",
          "Alistipes putredinis",
          "Ruminococcus champanellensis",
          "Sporobacter termitidis",
          "Parabacteroides johnsonii",
          "Christensenella minuta",
          "Ruminococcus flavefaciens",
          "Desulfosporosinus orientis",
          "Papillibacter cinnamivorans",
          "Eubacterium sulci",
          "Barnesiella viscericola",
          "Ruminiclostridium thermocellum",
          "Clostridium amylolyticum",
          "Clostridium stercorarium",
          "Anaerotruncus colihominis",
          "Acholeplasma axanthum",
          "Pseudoflavonifractor capillosus",
          "Bacillus megaterium",
          "Clostridium leptum",
          "Akkermansia muciniphila",
          "Anaerofustis stercorihominis",
          "Ruminococcus albus",
          "Clostridium symbiosum",
          "Bacteroides pectinophilus",
          "Clostridium asparagiforme",
          "Flavonifractor plautii",
          "Alistipes timonensis",
          "Oscillibacter valericigenes",
          "Eubacterium brachy",
          "Sutterella parvirubra",
          "Alistipes shahii",
          "Coprobacillus cateniformis",
          "Desulfovibrio piger",
          "Bacteroides plebeius",
          "Clostridium clariflavum",
          "Alistipes onderdonkii",
          "Anaerofilum pentosovorans",
          "Ethanoligenens harbinense",
          "Fusobacterium nucleatum",
          "Parabacteroides merdae",
          "Pseudobacteroides cellulosolvens",
          "Parabacteroides goldsteinii",
          "Holdemanella biformis",
          "Bacteroides massiliensis",
          "Clostridium sp.",
          "Prevotella timonensis",
          "Actinomyces lingnae",
          "Anaerostipes butyraticus",
          "Peptoniphilus lacrimalis",
          "Oxalobacter formigenes",
          "Victivallis sp. MC_44",
          "Desulfovibrio vulgaris",
          "Prevotella oryzae",
          "Blautia hydrogenotrophica",
          "Clostridium celerecrescens",
          "Clostridium propionicum",
          "Lachnospiraceae bacterium 3_1_57FAA_CT1",
          "Clostridium methylpentosum",
          "Bacteroides eggerthii",
          "Blautia schinkii",
          "Porphyromonas catoniae",
          "Coprococcus eutactus",
          "Prevotella bivia",
          "Blautia coccoides",
          "Clostridium neopropionicum",
          "Bilophila wadsworthia",
          "Bacillus nealsonii",
          "Bacteroides gallinarum",
          "Clostridium bolteae",
          "Eubacterium dolichum",
          "Clostridium maximum",
          "Bacteroides salyersiae",
          "Prevotella shahii",
          "Acidaminococcus fermentans",
          "Lachnospiraceae bacterium 7_1_58FAA",
          "Acidaminococcus intestini",
          "Desulfovibrio desulfuricans",
          "Alistipes indistinctus",
          "Ruminococcaceae bacterium D16",
          "Collinsella aerofaciens",
          "Bacteroides graminisolvens",
          "Streptococcus infantarius",
          "Prevotella ruminicola",
          "Prevotella buccalis",
          "Ruminococcus gnavus",
          "Alistipes sp. RMA 9912",
          "Thermobaculum terrenum",
          "Clostridium indolis",
          "Clostridium thermosuccinogenes",
          "Roseburia intestinalis",
          "Collinsella tanakaei",
          "Eubacterium xylanophilum",
          "Holdemania filiformis",
          "Desulfovibrio fairfieldensis",
          "Prevotella paludivivens",
          "Prevotella oris",
          "Parasutterella excrementihominis",
          "Clostridium colinum",
          "Clostridium cellobioparum",
          "Bacteroides fragilis",
          "Catabacter hongkongensis",
          "Clostridium malenominatum",
          "Lactococcus lactis",
          "Clostridium xylanolyticum",
          "Clostridium saccharolyticum",
          "Coprococcus catus",
          "Alistipes finegoldii",
          "Collinsella intestinalis",
          "Bifidobacterium saguini",
          "Anaerostipes caccae",
          "Bifidobacterium bifidum",
          "Hungatella hathewayi",
          "Alistipes obesi",
          "Streptococcus oralis",
          "Bacteroides ovatus",
          "Bifidobacterium pseudocatenulatum",
          "Bacteroides intestinalis",
          "Clostridium saccharogumia",
          "Bifidobacterium tsurumiense",
          "Eubacterium desmolans",
          "Faecalibacterium sp. MC_41",
          "Blautia glucerasea",
          "Blautia producta",
          "Roseburia hominis",
          "Ruminococcus sp. DSM 100440",
          "Clostridium spiroforme",
          "Clostridium aldenense",
          "Parabacteroides distasonis",
          "Clostridium sphenoides",
          "Lachnospiraceae bacterium 5_1_63FAA",
          "Streptococcus mitis",
          "Odoribacter splanchnicus",
          "Ruminococcus callidus"
         ],
         "y": {
          "bdata": "hGOeTpYSxz9I8gN0B3mwP3cHYIYQu8E/6vealr2nwD+v9aGp95LCP3TqK3X0frY/0FvltOCdvj9a4CAO5sO6P/5+STXGhbM/B6qDPu7Htj9Q/Pw5USrRP97KRiK0DLM/yujSUYwWwD/Bcz45yGC4P9F9rUaPUb0/oo08qGqyuD9SEgd5PaaxP/5ChG3L6rU/L3O5VQEmtT/L4xhaSTemP9A/81j74Zs/y4UkOmzymj+4+GwztKW2P1DCqDR9GcA/OEaXXDeatT9V7azKYry1Pzq+YoQPFbQ/uF2JCejCoT/c7eU4kwS3P+s7FbSXzLQ/Gpb1cHSZnz+cg0A2ZPOzP/uqj3HR534/LC/rzyEQsT8C9qnYRbmfP5iesoTN7ME/jYHuE3PWoz/+2w6Kr56lP7pJO5ANXqw//idMeR6ekz+afuhywhKIP3Cp1hf7rqE/gAORuZStrD9Dc5YO852sP98zbUWPlrQ/MskaCFm4sz/YzHmrdcp9P1w7+RPKJ5Q/XRzZfm24qD/MTpHOyKqrP5cknoOg46w/2C8Zskeuqj+CbxxZsXqSP4iDluRvkqU/rjLFMvrMqT8qkIvyZNCrP7KIFDKWA7g/wns61nghhj9DlU2SKYqxPx9p7F02M54/ECfYs+eMnz94HhymAxGiP3jybFmV3Kk/YqyxSYfTgD+mmhkQgaaiP8JnrD5/aKU/JhrYTNQwkz+jb2CpobygPxjIqgQvL48/1cV0GlsQrT+9uO8Uz4K4P+TUksLHfbI/APq/6lzJpD/ezoTYRwxzPx4KlBpZFXw/LmRHftQTuD+A9d46eUFwP/fI2NJlb7Y/lTOmMGHZmj98H8LqQX2VPxELW+Ip96s/Bs4gXBbNpT8yeFVAVtaLP4Z2dlZ5r50/ULeWxkDMgj9cDCB/cPOKP06btsCCQYE/mnYlhS9rYD/dOW33yzSwP0WweKqMsqE/OIDUKn1+cD80lgKjWP1wP3YjV5FOYoY/4P+CXszRXD9Mg3l/WB2mP5lhkzdYwI0/Eue7VFmjlT8X+9sNVZuRP4W1eizEerY/xHmCC21fiT8AJe+MKwplP4BTHK2tSHk/IP9m3rqbpj9fFaoq5SeoP9jf5goINq4/KGlMEQIVoz8CrjupIdGwP0j9TiOaF38/RihBCVG3oz8w1MQvevm1P7xvka/JNaQ/SMUKD35dqz8YrQOxE+mVP3HChGYyKqk/D62J+aY4gj8A50D9iIRtP5NxxpBq7pk/rmQ59Uw8jj/6IwRCwHmWP1DxGcUmGWw/UIYdA2kRmj8u31xMJhahPzQ7OQwGZaM/RuVdpukBkz/TEmMU+S+kP/nqStr70Ks/ACC5CrWW+T7oKjq0wGqmP5ZyZrzJRnU/UEWoS7rVdT+cKfvcxBWhP3a7D+Zlt3A/FtGLaMaQkT9Cgk6YL09hPw==",
          "dtype": "f8"
         }
        },
        {
         "marker": {
          "size": 12
         },
         "mode": "markers",
         "name": "Spearman",
         "type": "scatter",
         "x": [
          "Desulfonispora thiosulfatigenes",
          "Butyricimonas virosa",
          "Alistipes putredinis",
          "Ruminococcus champanellensis",
          "Sporobacter termitidis",
          "Parabacteroides johnsonii",
          "Christensenella minuta",
          "Ruminococcus flavefaciens",
          "Desulfosporosinus orientis",
          "Papillibacter cinnamivorans",
          "Eubacterium sulci",
          "Barnesiella viscericola",
          "Ruminiclostridium thermocellum",
          "Clostridium amylolyticum",
          "Clostridium stercorarium",
          "Anaerotruncus colihominis",
          "Acholeplasma axanthum",
          "Pseudoflavonifractor capillosus",
          "Bacillus megaterium",
          "Clostridium leptum",
          "Akkermansia muciniphila",
          "Anaerofustis stercorihominis",
          "Ruminococcus albus",
          "Clostridium symbiosum",
          "Bacteroides pectinophilus",
          "Clostridium asparagiforme",
          "Flavonifractor plautii",
          "Alistipes timonensis",
          "Oscillibacter valericigenes",
          "Eubacterium brachy",
          "Sutterella parvirubra",
          "Alistipes shahii",
          "Coprobacillus cateniformis",
          "Desulfovibrio piger",
          "Bacteroides plebeius",
          "Clostridium clariflavum",
          "Alistipes onderdonkii",
          "Anaerofilum pentosovorans",
          "Ethanoligenens harbinense",
          "Fusobacterium nucleatum",
          "Parabacteroides merdae",
          "Pseudobacteroides cellulosolvens",
          "Parabacteroides goldsteinii",
          "Holdemanella biformis",
          "Bacteroides massiliensis",
          "Clostridium sp.",
          "Prevotella timonensis",
          "Actinomyces lingnae",
          "Anaerostipes butyraticus",
          "Peptoniphilus lacrimalis",
          "Oxalobacter formigenes",
          "Victivallis sp. MC_44",
          "Desulfovibrio vulgaris",
          "Prevotella oryzae",
          "Blautia hydrogenotrophica",
          "Clostridium celerecrescens",
          "Clostridium propionicum",
          "Lachnospiraceae bacterium 3_1_57FAA_CT1",
          "Clostridium methylpentosum",
          "Bacteroides eggerthii",
          "Blautia schinkii",
          "Porphyromonas catoniae",
          "Coprococcus eutactus",
          "Prevotella bivia",
          "Blautia coccoides",
          "Clostridium neopropionicum",
          "Bilophila wadsworthia",
          "Bacillus nealsonii",
          "Bacteroides gallinarum",
          "Clostridium bolteae",
          "Eubacterium dolichum",
          "Clostridium maximum",
          "Bacteroides salyersiae",
          "Prevotella shahii",
          "Acidaminococcus fermentans",
          "Lachnospiraceae bacterium 7_1_58FAA",
          "Acidaminococcus intestini",
          "Desulfovibrio desulfuricans",
          "Alistipes indistinctus",
          "Ruminococcaceae bacterium D16",
          "Collinsella aerofaciens",
          "Bacteroides graminisolvens",
          "Streptococcus infantarius",
          "Prevotella ruminicola",
          "Prevotella buccalis",
          "Ruminococcus gnavus",
          "Alistipes sp. RMA 9912",
          "Thermobaculum terrenum",
          "Clostridium indolis",
          "Clostridium thermosuccinogenes",
          "Roseburia intestinalis",
          "Collinsella tanakaei",
          "Eubacterium xylanophilum",
          "Holdemania filiformis",
          "Desulfovibrio fairfieldensis",
          "Prevotella paludivivens",
          "Prevotella oris",
          "Parasutterella excrementihominis",
          "Clostridium colinum",
          "Clostridium cellobioparum",
          "Bacteroides fragilis",
          "Catabacter hongkongensis",
          "Clostridium malenominatum",
          "Lactococcus lactis",
          "Clostridium xylanolyticum",
          "Clostridium saccharolyticum",
          "Coprococcus catus",
          "Alistipes finegoldii",
          "Collinsella intestinalis",
          "Bifidobacterium saguini",
          "Anaerostipes caccae",
          "Bifidobacterium bifidum",
          "Hungatella hathewayi",
          "Alistipes obesi",
          "Streptococcus oralis",
          "Bacteroides ovatus",
          "Bifidobacterium pseudocatenulatum",
          "Bacteroides intestinalis",
          "Clostridium saccharogumia",
          "Bifidobacterium tsurumiense",
          "Eubacterium desmolans",
          "Faecalibacterium sp. MC_41",
          "Blautia glucerasea",
          "Blautia producta",
          "Roseburia hominis",
          "Ruminococcus sp. DSM 100440",
          "Clostridium spiroforme",
          "Clostridium aldenense",
          "Parabacteroides distasonis",
          "Clostridium sphenoides",
          "Lachnospiraceae bacterium 5_1_63FAA",
          "Streptococcus mitis",
          "Odoribacter splanchnicus",
          "Ruminococcus callidus"
         ],
         "y": {
          "bdata": "Y9dYDHg3zz997n9T3sfQP+9cNvUaLM0/4aLVhh6szD/v46CcQ9nJP+L/dqfpMMw/o6V5NlityT9lGHWE8tvKP+hiEdDxhsk/Qo5OsGNfyD+7N5ZtbJK2PxG7c2ChUck/QD7sBvQdxT9FQEJ49yzEPwEF3+HA88I/gzICdPVzxD/tiqBpqNDEPy6ohk5gkMM/TkyCd+TVwj+Q/eaNtuLFP7OrGbyiCMc/ozMmRceKxT+dZJCpb9rBPxonY1XeGb0/SHMQgps1wD+D+7J6EGK+P1362NLFF78/eGBkHffuwz9PXIOr+ra9P3pfOslfzLs/VjNegqtiwT8Ne45yMS69P7UU51sM7MI/EP6QhTGKvD+TxuKrPTTBPzbGyguZMrI/reeBIBK6wD9XSQl833q/P/Nw8AtLt7w/Ucj5GWS7wD8q0Jc1PCLCP6JwlkuzsL4/3PHvl0Gruz94xXh8M1K8Pw4foJ/6P7g/VO1rSbBRtz/5STzwX6PAP1F9ZKA9W70/eckANgbLuT8HI/RN5023Pyvfw3uf1bY/pDN8wTUctz80e1QYfPS7P+3GWtPvZrc/UpJhvnSLtj+swq1Bbqu0P9oqpgYCOK4/PHdGP4J2uT9aSyj0v3myP0QXX2q5Kbc/wfgvVAqstj/WVkWF0i+1P763zeVGwbM/IPYiHH4HuD8dLKqLSo20P5Qa9kAs/LI/Zz9CKX82tj/zSxhlB92zPyIyeKz9qLU/NZLOUwMqsT8aukciRMWjP+DLikm7TKo/uEo0OZv4sT+PENAP6YW2Pydelsc2ybU/4MW+RrLUoT8hZ74AMZ22P2QK+EqbD6Q/yHI6i1mxsj8QkkEG/o6yP51f3psgB6w/kaMiBRCKrj/By+03W+GyP/e7NFKFka8/SXVBt9kdsj+MJ4LfxwuyPzAWpX9SvbE/0hYHlIqqsj/INvXLbJekP4gR7y2Leaw/n/awD3musz/TMqfSWiqxP+b6PFz7FLA/YroN6D+vsD8+q8AdZACkP9vxtGi9m6s/kr5GI9BHqj/DrCId1o+rP7tI5hnzUYg/p52fimmcqj/uxgSp3yevP/pH5b5p16k/kvSJ1+MInj+GoSGqEeucP4INU3coNZY/Qs64ILCZoD92IZftTKmNP4o8sR1zRqk/Hr+wWjxRnj/9TWkd7iRAP5zGWpTV2Jo/h7zZSmixkD9/J1s118mgP3CwGm5Bg4w/6o3GeEScoj/PyjFqQg2kPwtBOQwkM5o/4kqm35t5oD94Dm0woBWZP3JQoOpJ6p8/SYbp+AYFlT+rtvE1QPmMP6N8l1J774s/DdZ29iyFlj9cQxT+xWyFP5hwz3Vk0ls/0oIRlIQynD++qvC4o6A7P81Zb1GLa5E/MUMeYNT8kD8v099pZilXP0fOI3xRk4I/D0GPfVw2aT+rYRdSswxQPw==",
          "dtype": "f8"
         }
        },
        {
         "marker": {
          "size": 12
         },
         "mode": "markers",
         "name": "Kendall",
         "type": "scatter",
         "x": [
          "Desulfonispora thiosulfatigenes",
          "Butyricimonas virosa",
          "Alistipes putredinis",
          "Ruminococcus champanellensis",
          "Sporobacter termitidis",
          "Parabacteroides johnsonii",
          "Christensenella minuta",
          "Ruminococcus flavefaciens",
          "Desulfosporosinus orientis",
          "Papillibacter cinnamivorans",
          "Eubacterium sulci",
          "Barnesiella viscericola",
          "Ruminiclostridium thermocellum",
          "Clostridium amylolyticum",
          "Clostridium stercorarium",
          "Anaerotruncus colihominis",
          "Acholeplasma axanthum",
          "Pseudoflavonifractor capillosus",
          "Bacillus megaterium",
          "Clostridium leptum",
          "Akkermansia muciniphila",
          "Anaerofustis stercorihominis",
          "Ruminococcus albus",
          "Clostridium symbiosum",
          "Bacteroides pectinophilus",
          "Clostridium asparagiforme",
          "Flavonifractor plautii",
          "Alistipes timonensis",
          "Oscillibacter valericigenes",
          "Eubacterium brachy",
          "Sutterella parvirubra",
          "Alistipes shahii",
          "Coprobacillus cateniformis",
          "Desulfovibrio piger",
          "Bacteroides plebeius",
          "Clostridium clariflavum",
          "Alistipes onderdonkii",
          "Anaerofilum pentosovorans",
          "Ethanoligenens harbinense",
          "Fusobacterium nucleatum",
          "Parabacteroides merdae",
          "Pseudobacteroides cellulosolvens",
          "Parabacteroides goldsteinii",
          "Holdemanella biformis",
          "Bacteroides massiliensis",
          "Clostridium sp.",
          "Prevotella timonensis",
          "Actinomyces lingnae",
          "Anaerostipes butyraticus",
          "Peptoniphilus lacrimalis",
          "Oxalobacter formigenes",
          "Victivallis sp. MC_44",
          "Desulfovibrio vulgaris",
          "Prevotella oryzae",
          "Blautia hydrogenotrophica",
          "Clostridium celerecrescens",
          "Clostridium propionicum",
          "Lachnospiraceae bacterium 3_1_57FAA_CT1",
          "Clostridium methylpentosum",
          "Bacteroides eggerthii",
          "Blautia schinkii",
          "Porphyromonas catoniae",
          "Coprococcus eutactus",
          "Prevotella bivia",
          "Blautia coccoides",
          "Clostridium neopropionicum",
          "Bilophila wadsworthia",
          "Bacillus nealsonii",
          "Bacteroides gallinarum",
          "Clostridium bolteae",
          "Eubacterium dolichum",
          "Clostridium maximum",
          "Bacteroides salyersiae",
          "Prevotella shahii",
          "Acidaminococcus fermentans",
          "Lachnospiraceae bacterium 7_1_58FAA",
          "Acidaminococcus intestini",
          "Desulfovibrio desulfuricans",
          "Alistipes indistinctus",
          "Ruminococcaceae bacterium D16",
          "Collinsella aerofaciens",
          "Bacteroides graminisolvens",
          "Streptococcus infantarius",
          "Prevotella ruminicola",
          "Prevotella buccalis",
          "Ruminococcus gnavus",
          "Alistipes sp. RMA 9912",
          "Thermobaculum terrenum",
          "Clostridium indolis",
          "Clostridium thermosuccinogenes",
          "Roseburia intestinalis",
          "Collinsella tanakaei",
          "Eubacterium xylanophilum",
          "Holdemania filiformis",
          "Desulfovibrio fairfieldensis",
          "Prevotella paludivivens",
          "Prevotella oris",
          "Parasutterella excrementihominis",
          "Clostridium colinum",
          "Clostridium cellobioparum",
          "Bacteroides fragilis",
          "Catabacter hongkongensis",
          "Clostridium malenominatum",
          "Lactococcus lactis",
          "Clostridium xylanolyticum",
          "Clostridium saccharolyticum",
          "Coprococcus catus",
          "Alistipes finegoldii",
          "Collinsella intestinalis",
          "Bifidobacterium saguini",
          "Anaerostipes caccae",
          "Bifidobacterium bifidum",
          "Hungatella hathewayi",
          "Alistipes obesi",
          "Streptococcus oralis",
          "Bacteroides ovatus",
          "Bifidobacterium pseudocatenulatum",
          "Bacteroides intestinalis",
          "Clostridium saccharogumia",
          "Bifidobacterium tsurumiense",
          "Eubacterium desmolans",
          "Faecalibacterium sp. MC_41",
          "Blautia glucerasea",
          "Blautia producta",
          "Roseburia hominis",
          "Ruminococcus sp. DSM 100440",
          "Clostridium spiroforme",
          "Clostridium aldenense",
          "Parabacteroides distasonis",
          "Clostridium sphenoides",
          "Lachnospiraceae bacterium 5_1_63FAA",
          "Streptococcus mitis",
          "Odoribacter splanchnicus",
          "Ruminococcus callidus"
         ],
         "y": {
          "bdata": "O4/zC4UMyT9ME7udXPfKPxFgP6JagsQ/BpVnKwm6xD9n6+zQY97CP/l8QCncFsU/6a3/pGOCwj/fN1FBli/DP6NBdD8fIcQ/r3Y1W4wywz/FWpp484WwP6zbcRN5GMI/skR1V81gvD/28TVC89q/P8CFX2wCerw/XxYMLwbeuz9em0NNbInAP+JoSgwt7L0/xv2zktcpvT8DKtGYsb2+P+L/0NqZJcA/reMo4j3iwD897924S+O4P5Avh5rwebM/2oLBxHqkuT91fgaDbyy5P9XC119zrLk/u25DL4kMvD8lgjLtvyW1Pw//c90qdrU//XlFActeuz/AITJPUeG0P9hwa3zB+7w/Aqmryl7Etj/9mvaOd9G5P029n9kUaak/I820yPd8tj/6Lf3531S3P0wyZVHko7Y//IEdliyJuj/PMwY1CMK4P1iX9jKxD7g/pEQNVuRAtD9SHwPbpYizP4wyE6y6CrE/NQ/Z5MGqsj+H9H963Nu5Pzk4ZE5sOLc/pC97T/4Lsj8zvhdZAmCyP1pPQtLLJrI/6HowUcOGsj+T7bOy25S1P+uI5V8oqLI/Ugc/QxTHsD9bXydkgBmwP9GrgMzbFaU/rtJJqoQmtT9DcIGso7SqP6wYw/tZrbE/n5Fy9bOWsD+8zJUDO3KwP4bS25/L8Ko/GX7cI/W1sj/YeK38HamsP/HebZ91Naw/g2zYwyCnsD+LEKCFpeatPxjWUZIMAbE/Qkq3ZRGipT/p+pt9/CKgP8OvREycoKM/Dgli48sjqj8u0i8sg5GxP5ZXdgzRNbE/OkwzxSs4nT8/VoCNTUqwP9PRBVCrdZ0/aUdAHfnMrD+ft5mMHdKuP+SgLCkaT6U/3aAzN04+qD8i8cHjCsWtP5VLdeWB/qY/zJd2rXFKrD/V3puZFAaqP1dtiWUsEaw/nbYrrcQ3rT/t5Fyy4dGcPxjxlQ66M6U/zvDrZ7ncqT+AWAMfi2KrPwZybV32zaY/dM+2W3J5qD/81cbqTx+fP4ELa95p0qU/d6gieZu6oz+wPrzMU6mjP5njO6Ejrn4/056JkaJJpT/0/jrBdIylPxKBQJB3GaU/hbbJfX1Olz8viHhucUiUPyAIbyCD24o/mvR+3Yfylz9OxUdlTl6IPzypZ8kY+KA/h0D+QvB5lT/aoCQwGy5XP2wrrC3k0ZI/DLr8Z8oyjD/ro027AviZP0ucTl4wJIk/16UGxkeUnD/JDdW6jRmeP3IaiQcrJJM/TWiSsfmrlj9wyfThj8qMPyjGt7mldZo/COoeNe72ij+8tZTdxDKGP4/z3J4EAHo/W8Zgw/u2kD8s2TFHcH58P7F1QFYZckk/082G+RLGlT/6bLdlnoEwP9Gb5zFFwos/7x9ro3o8jD8G1FP9mKpJP+AMWiqgsII/hJLeNODeVj8jtX20azVAPw==",
          "dtype": "f8"
         }
        }
       ],
       "layout": {
        "height": 700,
        "template": {
         "data": {
          "bar": [
           {
            "error_x": {
             "color": "#2a3f5f"
            },
            "error_y": {
             "color": "#2a3f5f"
            },
            "marker": {
             "line": {
              "color": "white",
              "width": 0.5
             },
             "pattern": {
              "fillmode": "overlay",
              "size": 10,
              "solidity": 0.2
             }
            },
            "type": "bar"
           }
          ],
          "barpolar": [
           {
            "marker": {
             "line": {
              "color": "white",
              "width": 0.5
             },
             "pattern": {
              "fillmode": "overlay",
              "size": 10,
              "solidity": 0.2
             }
            },
            "type": "barpolar"
           }
          ],
          "carpet": [
           {
            "aaxis": {
             "endlinecolor": "#2a3f5f",
             "gridcolor": "#C8D4E3",
             "linecolor": "#C8D4E3",
             "minorgridcolor": "#C8D4E3",
             "startlinecolor": "#2a3f5f"
            },
            "baxis": {
             "endlinecolor": "#2a3f5f",
             "gridcolor": "#C8D4E3",
             "linecolor": "#C8D4E3",
             "minorgridcolor": "#C8D4E3",
             "startlinecolor": "#2a3f5f"
            },
            "type": "carpet"
           }
          ],
          "choropleth": [
           {
            "colorbar": {
             "outlinewidth": 0,
             "ticks": ""
            },
            "type": "choropleth"
           }
          ],
          "contour": [
           {
            "colorbar": {
             "outlinewidth": 0,
             "ticks": ""
            },
            "colorscale": [
             [
              0,
              "#0d0887"
             ],
             [
              0.1111111111111111,
              "#46039f"
             ],
             [
              0.2222222222222222,
              "#7201a8"
             ],
             [
              0.3333333333333333,
              "#9c179e"
             ],
             [
              0.4444444444444444,
              "#bd3786"
             ],
             [
              0.5555555555555556,
              "#d8576b"
             ],
             [
              0.6666666666666666,
              "#ed7953"
             ],
             [
              0.7777777777777778,
              "#fb9f3a"
             ],
             [
              0.8888888888888888,
              "#fdca26"
             ],
             [
              1,
              "#f0f921"
             ]
            ],
            "type": "contour"
           }
          ],
          "contourcarpet": [
           {
            "colorbar": {
             "outlinewidth": 0,
             "ticks": ""
            },
            "type": "contourcarpet"
           }
          ],
          "heatmap": [
           {
            "colorbar": {
             "outlinewidth": 0,
             "ticks": ""
            },
            "colorscale": [
             [
              0,
              "#0d0887"
             ],
             [
              0.1111111111111111,
              "#46039f"
             ],
             [
              0.2222222222222222,
              "#7201a8"
             ],
             [
              0.3333333333333333,
              "#9c179e"
             ],
             [
              0.4444444444444444,
              "#bd3786"
             ],
             [
              0.5555555555555556,
              "#d8576b"
             ],
             [
              0.6666666666666666,
              "#ed7953"
             ],
             [
              0.7777777777777778,
              "#fb9f3a"
             ],
             [
              0.8888888888888888,
              "#fdca26"
             ],
             [
              1,
              "#f0f921"
             ]
            ],
            "type": "heatmap"
           }
          ],
          "histogram": [
           {
            "marker": {
             "pattern": {
              "fillmode": "overlay",
              "size": 10,
              "solidity": 0.2
             }
            },
            "type": "histogram"
           }
          ],
          "histogram2d": [
           {
            "colorbar": {
             "outlinewidth": 0,
             "ticks": ""
            },
            "colorscale": [
             [
              0,
              "#0d0887"
             ],
             [
              0.1111111111111111,
              "#46039f"
             ],
             [
              0.2222222222222222,
              "#7201a8"
             ],
             [
              0.3333333333333333,
              "#9c179e"
             ],
             [
              0.4444444444444444,
              "#bd3786"
             ],
             [
              0.5555555555555556,
              "#d8576b"
             ],
             [
              0.6666666666666666,
              "#ed7953"
             ],
             [
              0.7777777777777778,
              "#fb9f3a"
             ],
             [
              0.8888888888888888,
              "#fdca26"
             ],
             [
              1,
              "#f0f921"
             ]
            ],
            "type": "histogram2d"
           }
          ],
          "histogram2dcontour": [
           {
            "colorbar": {
             "outlinewidth": 0,
             "ticks": ""
            },
            "colorscale": [
             [
              0,
              "#0d0887"
             ],
             [
              0.1111111111111111,
              "#46039f"
             ],
             [
              0.2222222222222222,
              "#7201a8"
             ],
             [
              0.3333333333333333,
              "#9c179e"
             ],
             [
              0.4444444444444444,
              "#bd3786"
             ],
             [
              0.5555555555555556,
              "#d8576b"
             ],
             [
              0.6666666666666666,
              "#ed7953"
             ],
             [
              0.7777777777777778,
              "#fb9f3a"
             ],
             [
              0.8888888888888888,
              "#fdca26"
             ],
             [
              1,
              "#f0f921"
             ]
            ],
            "type": "histogram2dcontour"
           }
          ],
          "mesh3d": [
           {
            "colorbar": {
             "outlinewidth": 0,
             "ticks": ""
            },
            "type": "mesh3d"
           }
          ],
          "parcoords": [
           {
            "line": {
             "colorbar": {
              "outlinewidth": 0,
              "ticks": ""
             }
            },
            "type": "parcoords"
           }
          ],
          "pie": [
           {
            "automargin": true,
            "type": "pie"
           }
          ],
          "scatter": [
           {
            "fillpattern": {
             "fillmode": "overlay",
             "size": 10,
             "solidity": 0.2
            },
            "type": "scatter"
           }
          ],
          "scatter3d": [
           {
            "line": {
             "colorbar": {
              "outlinewidth": 0,
              "ticks": ""
             }
            },
            "marker": {
             "colorbar": {
              "outlinewidth": 0,
              "ticks": ""
             }
            },
            "type": "scatter3d"
           }
          ],
          "scattercarpet": [
           {
            "marker": {
             "colorbar": {
              "outlinewidth": 0,
              "ticks": ""
             }
            },
            "type": "scattercarpet"
           }
          ],
          "scattergeo": [
           {
            "marker": {
             "colorbar": {
              "outlinewidth": 0,
              "ticks": ""
             }
            },
            "type": "scattergeo"
           }
          ],
          "scattergl": [
           {
            "marker": {
             "colorbar": {
              "outlinewidth": 0,
              "ticks": ""
             }
            },
            "type": "scattergl"
           }
          ],
          "scattermap": [
           {
            "marker": {
             "colorbar": {
              "outlinewidth": 0,
              "ticks": ""
             }
            },
            "type": "scattermap"
           }
          ],
          "scattermapbox": [
           {
            "marker": {
             "colorbar": {
              "outlinewidth": 0,
              "ticks": ""
             }
            },
            "type": "scattermapbox"
           }
          ],
          "scatterpolar": [
           {
            "marker": {
             "colorbar": {
              "outlinewidth": 0,
              "ticks": ""
             }
            },
            "type": "scatterpolar"
           }
          ],
          "scatterpolargl": [
           {
            "marker": {
             "colorbar": {
              "outlinewidth": 0,
              "ticks": ""
             }
            },
            "type": "scatterpolargl"
           }
          ],
          "scatterternary": [
           {
            "marker": {
             "colorbar": {
              "outlinewidth": 0,
              "ticks": ""
             }
            },
            "type": "scatterternary"
           }
          ],
          "surface": [
           {
            "colorbar": {
             "outlinewidth": 0,
             "ticks": ""
            },
            "colorscale": [
             [
              0,
              "#0d0887"
             ],
             [
              0.1111111111111111,
              "#46039f"
             ],
             [
              0.2222222222222222,
              "#7201a8"
             ],
             [
              0.3333333333333333,
              "#9c179e"
             ],
             [
              0.4444444444444444,
              "#bd3786"
             ],
             [
              0.5555555555555556,
              "#d8576b"
             ],
             [
              0.6666666666666666,
              "#ed7953"
             ],
             [
              0.7777777777777778,
              "#fb9f3a"
             ],
             [
              0.8888888888888888,
              "#fdca26"
             ],
             [
              1,
              "#f0f921"
             ]
            ],
            "type": "surface"
           }
          ],
          "table": [
           {
            "cells": {
             "fill": {
              "color": "#EBF0F8"
             },
             "line": {
              "color": "white"
             }
            },
            "header": {
             "fill": {
              "color": "#C8D4E3"
             },
             "line": {
              "color": "white"
             }
            },
            "type": "table"
           }
          ]
         },
         "layout": {
          "annotationdefaults": {
           "arrowcolor": "#2a3f5f",
           "arrowhead": 0,
           "arrowwidth": 1
          },
          "autotypenumbers": "strict",
          "coloraxis": {
           "colorbar": {
            "outlinewidth": 0,
            "ticks": ""
           }
          },
          "colorscale": {
           "diverging": [
            [
             0,
             "#8e0152"
            ],
            [
             0.1,
             "#c51b7d"
            ],
            [
             0.2,
             "#de77ae"
            ],
            [
             0.3,
             "#f1b6da"
            ],
            [
             0.4,
             "#fde0ef"
            ],
            [
             0.5,
             "#f7f7f7"
            ],
            [
             0.6,
             "#e6f5d0"
            ],
            [
             0.7,
             "#b8e186"
            ],
            [
             0.8,
             "#7fbc41"
            ],
            [
             0.9,
             "#4d9221"
            ],
            [
             1,
             "#276419"
            ]
           ],
           "sequential": [
            [
             0,
             "#0d0887"
            ],
            [
             0.1111111111111111,
             "#46039f"
            ],
            [
             0.2222222222222222,
             "#7201a8"
            ],
            [
             0.3333333333333333,
             "#9c179e"
            ],
            [
             0.4444444444444444,
             "#bd3786"
            ],
            [
             0.5555555555555556,
             "#d8576b"
            ],
            [
             0.6666666666666666,
             "#ed7953"
            ],
            [
             0.7777777777777778,
             "#fb9f3a"
            ],
            [
             0.8888888888888888,
             "#fdca26"
            ],
            [
             1,
             "#f0f921"
            ]
           ],
           "sequentialminus": [
            [
             0,
             "#0d0887"
            ],
            [
             0.1111111111111111,
             "#46039f"
            ],
            [
             0.2222222222222222,
             "#7201a8"
            ],
            [
             0.3333333333333333,
             "#9c179e"
            ],
            [
             0.4444444444444444,
             "#bd3786"
            ],
            [
             0.5555555555555556,
             "#d8576b"
            ],
            [
             0.6666666666666666,
             "#ed7953"
            ],
            [
             0.7777777777777778,
             "#fb9f3a"
            ],
            [
             0.8888888888888888,
             "#fdca26"
            ],
            [
             1,
             "#f0f921"
            ]
           ]
          },
          "colorway": [
           "#636efa",
           "#EF553B",
           "#00cc96",
           "#ab63fa",
           "#FFA15A",
           "#19d3f3",
           "#FF6692",
           "#B6E880",
           "#FF97FF",
           "#FECB52"
          ],
          "font": {
           "color": "#2a3f5f"
          },
          "geo": {
           "bgcolor": "white",
           "lakecolor": "white",
           "landcolor": "white",
           "showlakes": true,
           "showland": true,
           "subunitcolor": "#C8D4E3"
          },
          "hoverlabel": {
           "align": "left"
          },
          "hovermode": "closest",
          "mapbox": {
           "style": "light"
          },
          "paper_bgcolor": "white",
          "plot_bgcolor": "white",
          "polar": {
           "angularaxis": {
            "gridcolor": "#EBF0F8",
            "linecolor": "#EBF0F8",
            "ticks": ""
           },
           "bgcolor": "white",
           "radialaxis": {
            "gridcolor": "#EBF0F8",
            "linecolor": "#EBF0F8",
            "ticks": ""
           }
          },
          "scene": {
           "xaxis": {
            "backgroundcolor": "white",
            "gridcolor": "#DFE8F3",
            "gridwidth": 2,
            "linecolor": "#EBF0F8",
            "showbackground": true,
            "ticks": "",
            "zerolinecolor": "#EBF0F8"
           },
           "yaxis": {
            "backgroundcolor": "white",
            "gridcolor": "#DFE8F3",
            "gridwidth": 2,
            "linecolor": "#EBF0F8",
            "showbackground": true,
            "ticks": "",
            "zerolinecolor": "#EBF0F8"
           },
           "zaxis": {
            "backgroundcolor": "white",
            "gridcolor": "#DFE8F3",
            "gridwidth": 2,
            "linecolor": "#EBF0F8",
            "showbackground": true,
            "ticks": "",
            "zerolinecolor": "#EBF0F8"
           }
          },
          "shapedefaults": {
           "line": {
            "color": "#2a3f5f"
           }
          },
          "ternary": {
           "aaxis": {
            "gridcolor": "#DFE8F3",
            "linecolor": "#A2B1C6",
            "ticks": ""
           },
           "baxis": {
            "gridcolor": "#DFE8F3",
            "linecolor": "#A2B1C6",
            "ticks": ""
           },
           "bgcolor": "white",
           "caxis": {
            "gridcolor": "#DFE8F3",
            "linecolor": "#A2B1C6",
            "ticks": ""
           }
          },
          "title": {
           "x": 0.05
          },
          "xaxis": {
           "automargin": true,
           "gridcolor": "#EBF0F8",
           "linecolor": "#EBF0F8",
           "ticks": "",
           "title": {
            "standoff": 15
           },
           "zerolinecolor": "#EBF0F8",
           "zerolinewidth": 2
          },
          "yaxis": {
           "automargin": true,
           "gridcolor": "#EBF0F8",
           "linecolor": "#EBF0F8",
           "ticks": "",
           "title": {
            "standoff": 15
           },
           "zerolinecolor": "#EBF0F8",
           "zerolinewidth": 2
          }
         }
        },
        "title": {
         "text": "Correlation Coefficients of Bacteria against BMI"
        },
        "xaxis": {
         "title": {
          "text": "Features"
         }
        },
        "yaxis": {
         "title": {
          "text": "Correlation Coefficient"
         }
        }
       }
      }
     },
     "metadata": {},
     "output_type": "display_data"
    }
   ],
   "source": [
    "bacteria_corr_array, bactera_sorted_by_corr = correlation_coefficients(\n",
    "    bacteria,\n",
    "    bmi,\n",
    "    title=\"Correlation Coefficients of Bacteria against BMI\"\n",
    ")"
   ]
  },
  {
   "cell_type": "code",
   "execution_count": 62,
   "metadata": {},
   "outputs": [
    {
     "data": {
      "application/vnd.plotly.v1+json": {
       "config": {
        "plotlyServerURL": "https://plot.ly"
       },
       "data": [
        {
         "marker": {
          "size": 12
         },
         "mode": "markers",
         "name": "Pearson",
         "type": "scatter",
         "x": [
          "Flavonifractor plautii",
          "Clostridium asparagiforme",
          "Bacteroides fragilis",
          "Lachnospiraceae bacterium 3_1_57FAA_CT1",
          "Ruminococcus albus",
          "Blautia coccoides",
          "Clostridium bolteae",
          "Butyricimonas virosa",
          "Ruminococcaceae bacterium D16",
          "Bifidobacterium bifidum",
          "Desulfovibrio desulfuricans",
          "Pseudoflavonifractor capillosus",
          "Clostridium thermosuccinogenes",
          "Alistipes putredinis",
          "Collinsella intestinalis",
          "Eubacterium sulci",
          "Bacteroides ovatus",
          "Parabacteroides merdae",
          "Hungatella hathewayi",
          "Streptococcus oralis",
          "Coprococcus eutactus",
          "Clostridium cellobioparum",
          "Odoribacter splanchnicus",
          "Parabacteroides goldsteinii",
          "Bifidobacterium saguini",
          "Bifidobacterium tsurumiense",
          "Desulfonispora thiosulfatigenes",
          "Blautia glucerasea",
          "Bifidobacterium pseudocatenulatum",
          "Lactococcus lactis",
          "Parabacteroides johnsonii",
          "Anaerostipes butyraticus",
          "Collinsella aerofaciens",
          "Catabacter hongkongensis",
          "Clostridium saccharogumia",
          "Coprococcus catus",
          "Sutterella parvirubra",
          "Roseburia intestinalis",
          "Victivallis sp. MC_44",
          "Clostridium amylolyticum",
          "Holdemania filiformis",
          "Pseudobacteroides cellulosolvens",
          "Clostridium clariflavum",
          "Collinsella tanakaei",
          "Actinomyces lingnae",
          "Alistipes finegoldii",
          "Streptococcus infantarius",
          "Ruminococcus callidus",
          "Alistipes timonensis",
          "Roseburia hominis",
          "Bacteroides massiliensis",
          "Peptoniphilus lacrimalis",
          "Lachnospiraceae bacterium 7_1_58FAA",
          "Prevotella bivia",
          "Blautia schinkii",
          "Clostridium indolis",
          "Oxalobacter formigenes",
          "Streptococcus mitis",
          "Porphyromonas catoniae",
          "Alistipes shahii",
          "Prevotella shahii",
          "Desulfovibrio vulgaris",
          "Anaerofustis stercorihominis",
          "Holdemanella biformis",
          "Ruminococcus sp. DSM 100440",
          "Anaerostipes caccae",
          "Clostridium spiroforme",
          "Desulfovibrio piger",
          "Clostridium sp.",
          "Clostridium methylpentosum",
          "Bacteroides gallinarum",
          "Clostridium propionicum",
          "Clostridium saccharolyticum",
          "Ruminiclostridium thermocellum",
          "Blautia hydrogenotrophica",
          "Ruminococcus gnavus",
          "Bacteroides pectinophilus",
          "Alistipes indistinctus",
          "Eubacterium desmolans",
          "Alistipes onderdonkii",
          "Anaerotruncus colihominis",
          "Alistipes sp. RMA 9912",
          "Acholeplasma axanthum",
          "Parasutterella excrementihominis",
          "Fusobacterium nucleatum",
          "Bacteroides plebeius",
          "Christensenella minuta",
          "Clostridium xylanolyticum",
          "Prevotella oryzae",
          "Barnesiella viscericola",
          "Eubacterium dolichum",
          "Thermobaculum terrenum",
          "Eubacterium xylanophilum",
          "Coprobacillus cateniformis",
          "Clostridium maximum",
          "Ethanoligenens harbinense",
          "Bacillus megaterium",
          "Bacteroides salyersiae",
          "Alistipes obesi",
          "Prevotella paludivivens",
          "Clostridium symbiosum",
          "Bacteroides eggerthii",
          "Faecalibacterium sp. MC_41",
          "Prevotella oris",
          "Clostridium stercorarium",
          "Clostridium malenominatum",
          "Oscillibacter valericigenes",
          "Ruminococcus champanellensis",
          "Bacteroides intestinalis",
          "Clostridium neopropionicum",
          "Bilophila wadsworthia",
          "Desulfosporosinus orientis",
          "Bacteroides graminisolvens",
          "Clostridium colinum",
          "Prevotella timonensis",
          "Parabacteroides distasonis",
          "Lachnospiraceae bacterium 5_1_63FAA",
          "Eubacterium brachy",
          "Blautia producta",
          "Anaerofilum pentosovorans",
          "Clostridium celerecrescens",
          "Acidaminococcus intestini",
          "Bacillus nealsonii",
          "Ruminococcus flavefaciens",
          "Prevotella ruminicola",
          "Clostridium sphenoides",
          "Sporobacter termitidis",
          "Papillibacter cinnamivorans",
          "Prevotella buccalis",
          "Clostridium aldenense",
          "Clostridium leptum",
          "Acidaminococcus fermentans",
          "Akkermansia muciniphila",
          "Desulfovibrio fairfieldensis"
         ],
         "y": {
          "bdata": "VA6v9xr2xz/kP1/uk0vCP8YSXeHPn8E/fBjWlnCmwD8aeaqhLazEP1/D/dNbx8Y/6lUqVXU3xD/SF9oCSy2jPzRRms1c7ag/7l2jR9R7wD9KNkpZUUOzP9v679iktLs/4gXk3i6qtD/wqdZoeeLCP6rwEot1WqU/6+b0sxgywD8Zi051Rrm3P/oX7n74gb0/xMDdPXNgwz8Yb8KMgLuwP44sOQXXELY/6IJvIirMqj+t1cI+vQOyP+bkdEE087g/kUc8KB0yqT/Y+QS4/9G4PwhXHWXxyLs/evije44rxT8cERZm1faGP0fHE9V68bQ/kJptSZ3Tsz9sI/+meY++P+l+W/zSU7M/M01eOtiEvD8Myq0s58y2P8BSSnC2Trc/FZHqrII7sT8qG1Puzj+zP3ulMGQrJKQ/h1/0WlZupj8QIR+RIVyyP/9ARsRTnbI/YGz58nE1wj8YZD2NA4uyP4D2CTDuJqE/S0xktFzgqT90Huf5SkudP1RAMl8keKQ/LIWPJdQHvD/K7Me5u/eqPxR7LbcePLM/VmRPJTbOjT+09PSbcFyyP1ZrSoNoYnQ/sSV+KDkbqT+SD6MxGNmpP6IZLOcVB5Q/raFyEnWMsD8mF6RPTcqxP+YGmTXN9bU/ocb+k2VxoT8YePm3E5mgP6s7jOyouL0/+8jFID5kqz/QS3toB99sP8TWBRPFY7I/TMzABH1nrD/mOIq3k2euPzFPNpIE4bY/IqH4qMcotz/wE8rnz5R5P8GaXTHVvKk/vt9iKU4rtj8EtEeEtPi5P6yRjRxOR68/CZ0ieRGBtD/+9kRou92rP1bzfhCSea4/0kakHorAkD+VOJrIbrC7Py7H0N64sbo/lrLa/B0uvj8QqzWOT0CxPwrsXqeiL7c/SXLKrM4Wsj90HRTwBz2bP1yNwxMduro/NGOpdQe4sj8t3AFWG9a2P/RFuzZmKqA/tYCR3kFSuT/tNNNrJpiqP4piSA2WjaI/MCFfOIH4Xj+0fq/DmzykP9hRi13SY64/2/IhKCh0nT88XuqG68mvP+IQms4BX7k/4Ip6RIc2qT94Vqh7u896P0itfUQU0bA/9K/1XAZFnT8pQpc3XCKyP/9+D6QpOaA/bon1a+SBoD9+yI0CJIeqPxszVG+R440/Ig7HkRkclz80lQhy+wuoP5siJLR+KaI/ilsAelaxgz/Emu1wcImtP2BrimCJLac/TyIk/szfmD/DkSNFkx+fP/Q/mfD0g2E//F4XIMHhkD8DcjbiKDGjPy/4TB/VD5Y/JmWDVremgT/AiHqEE8OSP6hAR8X4yJg/xn2W/V6Aoz9PRpHo/D2SP+7LKhOiLJM/AvGeM8a9gj/IuwoHIxadP5hnTIJBRXs/nNNbbcP6bz8sx8ElerR2PyDhTENaG0Q/y/fIydi8lD8uTDm4iwiSPw==",
          "dtype": "f8"
         }
        },
        {
         "marker": {
          "size": 12
         },
         "mode": "markers",
         "name": "Spearman",
         "type": "scatter",
         "x": [
          "Flavonifractor plautii",
          "Clostridium asparagiforme",
          "Bacteroides fragilis",
          "Lachnospiraceae bacterium 3_1_57FAA_CT1",
          "Ruminococcus albus",
          "Blautia coccoides",
          "Clostridium bolteae",
          "Butyricimonas virosa",
          "Ruminococcaceae bacterium D16",
          "Bifidobacterium bifidum",
          "Desulfovibrio desulfuricans",
          "Pseudoflavonifractor capillosus",
          "Clostridium thermosuccinogenes",
          "Alistipes putredinis",
          "Collinsella intestinalis",
          "Eubacterium sulci",
          "Bacteroides ovatus",
          "Parabacteroides merdae",
          "Hungatella hathewayi",
          "Streptococcus oralis",
          "Coprococcus eutactus",
          "Clostridium cellobioparum",
          "Odoribacter splanchnicus",
          "Parabacteroides goldsteinii",
          "Bifidobacterium saguini",
          "Bifidobacterium tsurumiense",
          "Desulfonispora thiosulfatigenes",
          "Blautia glucerasea",
          "Bifidobacterium pseudocatenulatum",
          "Lactococcus lactis",
          "Parabacteroides johnsonii",
          "Anaerostipes butyraticus",
          "Collinsella aerofaciens",
          "Catabacter hongkongensis",
          "Clostridium saccharogumia",
          "Coprococcus catus",
          "Sutterella parvirubra",
          "Roseburia intestinalis",
          "Victivallis sp. MC_44",
          "Clostridium amylolyticum",
          "Holdemania filiformis",
          "Pseudobacteroides cellulosolvens",
          "Clostridium clariflavum",
          "Collinsella tanakaei",
          "Actinomyces lingnae",
          "Alistipes finegoldii",
          "Streptococcus infantarius",
          "Ruminococcus callidus",
          "Alistipes timonensis",
          "Roseburia hominis",
          "Bacteroides massiliensis",
          "Peptoniphilus lacrimalis",
          "Lachnospiraceae bacterium 7_1_58FAA",
          "Prevotella bivia",
          "Blautia schinkii",
          "Clostridium indolis",
          "Oxalobacter formigenes",
          "Streptococcus mitis",
          "Porphyromonas catoniae",
          "Alistipes shahii",
          "Prevotella shahii",
          "Desulfovibrio vulgaris",
          "Anaerofustis stercorihominis",
          "Holdemanella biformis",
          "Ruminococcus sp. DSM 100440",
          "Anaerostipes caccae",
          "Clostridium spiroforme",
          "Desulfovibrio piger",
          "Clostridium sp.",
          "Clostridium methylpentosum",
          "Bacteroides gallinarum",
          "Clostridium propionicum",
          "Clostridium saccharolyticum",
          "Ruminiclostridium thermocellum",
          "Blautia hydrogenotrophica",
          "Ruminococcus gnavus",
          "Bacteroides pectinophilus",
          "Alistipes indistinctus",
          "Eubacterium desmolans",
          "Alistipes onderdonkii",
          "Anaerotruncus colihominis",
          "Alistipes sp. RMA 9912",
          "Acholeplasma axanthum",
          "Parasutterella excrementihominis",
          "Fusobacterium nucleatum",
          "Bacteroides plebeius",
          "Christensenella minuta",
          "Clostridium xylanolyticum",
          "Prevotella oryzae",
          "Barnesiella viscericola",
          "Eubacterium dolichum",
          "Thermobaculum terrenum",
          "Eubacterium xylanophilum",
          "Coprobacillus cateniformis",
          "Clostridium maximum",
          "Ethanoligenens harbinense",
          "Bacillus megaterium",
          "Bacteroides salyersiae",
          "Alistipes obesi",
          "Prevotella paludivivens",
          "Clostridium symbiosum",
          "Bacteroides eggerthii",
          "Faecalibacterium sp. MC_41",
          "Prevotella oris",
          "Clostridium stercorarium",
          "Clostridium malenominatum",
          "Oscillibacter valericigenes",
          "Ruminococcus champanellensis",
          "Bacteroides intestinalis",
          "Clostridium neopropionicum",
          "Bilophila wadsworthia",
          "Desulfosporosinus orientis",
          "Bacteroides graminisolvens",
          "Clostridium colinum",
          "Prevotella timonensis",
          "Parabacteroides distasonis",
          "Lachnospiraceae bacterium 5_1_63FAA",
          "Eubacterium brachy",
          "Blautia producta",
          "Anaerofilum pentosovorans",
          "Clostridium celerecrescens",
          "Acidaminococcus intestini",
          "Bacillus nealsonii",
          "Ruminococcus flavefaciens",
          "Prevotella ruminicola",
          "Clostridium sphenoides",
          "Sporobacter termitidis",
          "Papillibacter cinnamivorans",
          "Prevotella buccalis",
          "Clostridium aldenense",
          "Clostridium leptum",
          "Acidaminococcus fermentans",
          "Akkermansia muciniphila",
          "Desulfovibrio fairfieldensis"
         ],
         "y": {
          "bdata": "YlBP5tJmzj++0P/dg+fPP3xznXWYccw/b7OqYHTpyT98q3W/d+3FP4VYBrz2FMI/gXN6dobiwj9oDbYlXTvIP4dGVqcJ5MY/rBeGBFjewD/Fe9AL+SDFP9WhXTi/QcI/g0ahTzJWwz8dq1cne3O9PwrHgaP0scU/e8CXN3c2wD9nKE6kVpnCP4nsNwPNp78/QBJj8bgouD8DnQDBFrvCPw6kkJjPjsE/8bBKnPv4wj8xVtchzELCP+pRTa5nHr8/9vfJH4OrwT9pL1/etau8P+kBjFLu5Lo/95NE3r8esT+aWA5aKQfEP+1A/7vDlrw/gnyLwcjUvD+6eJXiTVW1PygIX53o8Lo/1PoyxuQTtD99w1s1ZEC3P1qVZhCBO7U/jMXopoUPuT/Wz7aSqBC5PxNkcY1F1Ls//vCsMG8Buz8glbp5yRq4P9AUCvrmmrU/IP4xHPzFpz9w5CJ06XizP6owvooNGbg/IG6yLgdLtj/t5nWpebu3PyJtTUBYRbc/U+3lDeHuqT8Cob9zFXa1P35J9OT2X7E/R6MRkaHzuD8FUDM1InSuP2jm8GVYdLk/UntzMB9bsj8fTwAHLS6xP0WNKl70HLU/UcV4j4qjrT8DoSmZ7t2rP7OrDSzlP6c/aWloL+aYsj/lEpt6taCyPxMW0myF7Zc/RL6mYK1DsD8YY+ck50+2P6n5M1KqCKg/eDRk3PO5rD/Ojsl/yWCrPzW++pOui6E/XVMWM6aGoT8KM4UJcw6zP7pJdEVBOas/518BghMOmz9oCmihmRCUP3P0d8N7EaU/zWn0/aq5nD/9CkNjVLWlP7MjQnW6YKQ/dBSTJ2rfsD8oUQRCN4mGP1ylNKb2lZE/e4VzDBsqcz8isE+J8lGfP3wskScEjZY//0GMJpq2nT+rtTnwcAutPxWZ7GQoNIA/WUWTYglWmD+MNRI/YwCQP7R9xBBMdKg/sUwMWAjKgj+N2VStG12hP9yM3g/NnaQ/Z+YVaA1PrT9QHqzmH3SjPzr60SRFpZk//zSymMPOpD+Yfo46xI+YP3Swg3cpaEc/vhkNlFk4nD8/bQfg2J2sPy+tl2bqfY8/9wigvfbUoj9Ng2lQ2BmFP3SI6R3S/qA/jO0eAXn9nT9TzFPHMnGWP1GveApYtqM/ItoPlfTpoD8QRAAdyJ6UP4MazcO75ZU/BhmmAooKoT/EJrCvNQh5P8nWdafACYg/FNJaFe+0lz98bajjrwKVP7DdC/+ekKA/b7aew5QPmz+m6LgpHKyIPwSzUu+m15U/HKcs8BFZmj+LhHhYJamNP+yxwC0l0Y0/BnswIQZ6cT8WlKZbRLyPP05B9kAkapA/qzd1DvgTkj932D3UUhd5P37Irv2a+Y0/MdK/GKe7kj/dGG/JI4aOP2kLtfn1E4s/N/kMRpIlWT/E/LIXnJJLPw==",
          "dtype": "f8"
         }
        },
        {
         "marker": {
          "size": 12
         },
         "mode": "markers",
         "name": "Kendall",
         "type": "scatter",
         "x": [
          "Flavonifractor plautii",
          "Clostridium asparagiforme",
          "Bacteroides fragilis",
          "Lachnospiraceae bacterium 3_1_57FAA_CT1",
          "Ruminococcus albus",
          "Blautia coccoides",
          "Clostridium bolteae",
          "Butyricimonas virosa",
          "Ruminococcaceae bacterium D16",
          "Bifidobacterium bifidum",
          "Desulfovibrio desulfuricans",
          "Pseudoflavonifractor capillosus",
          "Clostridium thermosuccinogenes",
          "Alistipes putredinis",
          "Collinsella intestinalis",
          "Eubacterium sulci",
          "Bacteroides ovatus",
          "Parabacteroides merdae",
          "Hungatella hathewayi",
          "Streptococcus oralis",
          "Coprococcus eutactus",
          "Clostridium cellobioparum",
          "Odoribacter splanchnicus",
          "Parabacteroides goldsteinii",
          "Bifidobacterium saguini",
          "Bifidobacterium tsurumiense",
          "Desulfonispora thiosulfatigenes",
          "Blautia glucerasea",
          "Bifidobacterium pseudocatenulatum",
          "Lactococcus lactis",
          "Parabacteroides johnsonii",
          "Anaerostipes butyraticus",
          "Collinsella aerofaciens",
          "Catabacter hongkongensis",
          "Clostridium saccharogumia",
          "Coprococcus catus",
          "Sutterella parvirubra",
          "Roseburia intestinalis",
          "Victivallis sp. MC_44",
          "Clostridium amylolyticum",
          "Holdemania filiformis",
          "Pseudobacteroides cellulosolvens",
          "Clostridium clariflavum",
          "Collinsella tanakaei",
          "Actinomyces lingnae",
          "Alistipes finegoldii",
          "Streptococcus infantarius",
          "Ruminococcus callidus",
          "Alistipes timonensis",
          "Roseburia hominis",
          "Bacteroides massiliensis",
          "Peptoniphilus lacrimalis",
          "Lachnospiraceae bacterium 7_1_58FAA",
          "Prevotella bivia",
          "Blautia schinkii",
          "Clostridium indolis",
          "Oxalobacter formigenes",
          "Streptococcus mitis",
          "Porphyromonas catoniae",
          "Alistipes shahii",
          "Prevotella shahii",
          "Desulfovibrio vulgaris",
          "Anaerofustis stercorihominis",
          "Holdemanella biformis",
          "Ruminococcus sp. DSM 100440",
          "Anaerostipes caccae",
          "Clostridium spiroforme",
          "Desulfovibrio piger",
          "Clostridium sp.",
          "Clostridium methylpentosum",
          "Bacteroides gallinarum",
          "Clostridium propionicum",
          "Clostridium saccharolyticum",
          "Ruminiclostridium thermocellum",
          "Blautia hydrogenotrophica",
          "Ruminococcus gnavus",
          "Bacteroides pectinophilus",
          "Alistipes indistinctus",
          "Eubacterium desmolans",
          "Alistipes onderdonkii",
          "Anaerotruncus colihominis",
          "Alistipes sp. RMA 9912",
          "Acholeplasma axanthum",
          "Parasutterella excrementihominis",
          "Fusobacterium nucleatum",
          "Bacteroides plebeius",
          "Christensenella minuta",
          "Clostridium xylanolyticum",
          "Prevotella oryzae",
          "Barnesiella viscericola",
          "Eubacterium dolichum",
          "Thermobaculum terrenum",
          "Eubacterium xylanophilum",
          "Coprobacillus cateniformis",
          "Clostridium maximum",
          "Ethanoligenens harbinense",
          "Bacillus megaterium",
          "Bacteroides salyersiae",
          "Alistipes obesi",
          "Prevotella paludivivens",
          "Clostridium symbiosum",
          "Bacteroides eggerthii",
          "Faecalibacterium sp. MC_41",
          "Prevotella oris",
          "Clostridium stercorarium",
          "Clostridium malenominatum",
          "Oscillibacter valericigenes",
          "Ruminococcus champanellensis",
          "Bacteroides intestinalis",
          "Clostridium neopropionicum",
          "Bilophila wadsworthia",
          "Desulfosporosinus orientis",
          "Bacteroides graminisolvens",
          "Clostridium colinum",
          "Prevotella timonensis",
          "Parabacteroides distasonis",
          "Lachnospiraceae bacterium 5_1_63FAA",
          "Eubacterium brachy",
          "Blautia producta",
          "Anaerofilum pentosovorans",
          "Clostridium celerecrescens",
          "Acidaminococcus intestini",
          "Bacillus nealsonii",
          "Ruminococcus flavefaciens",
          "Prevotella ruminicola",
          "Clostridium sphenoides",
          "Sporobacter termitidis",
          "Papillibacter cinnamivorans",
          "Prevotella buccalis",
          "Clostridium aldenense",
          "Clostridium leptum",
          "Acidaminococcus fermentans",
          "Akkermansia muciniphila",
          "Desulfovibrio fairfieldensis"
         ],
         "y": {
          "bdata": "rtEvcfFcyT9JYtLzx43KP4aH0fbdrMM/5+Uz2DV5xT+1H/oWSETAPw9rhKhrobs/e4vgfAv5uD/hTcvmknnDP3ia7JSsEcM/BA03h61huz9hkYM9j8q/P63cHRxnRbs/MFGGnpLTvT9dEylTZaa1P1wiLpaKS8E/3mqVZZUitz9Ny5smB/S3P5rimKSn7bY/V9t6Sbr2sj9dDrRVv4q7P+75rWTPOrg/1yHVT9UJvj/KjnKc2e25Pw682Le5Zbc/S6GS9PVkvD90kaUm53u2P7HGLQRUKrU/NXgl8dgAqj+eiDqMpRe9Pz1ziI4Er7U/OtvBZOOhtT9YqQhFoy+wP/Y0A7OmirM/2duaLEU0sD/6XbFC3UayP9B3ShekTbE/uy+h1HnWsj975s50Z46wPyK7BQbQfrY/SbB3+DwAtj86gDk/yR6wPwgSMvoEh7E/2BwDcD53oT/vmWnL08CvP0AbHIF+l7M/EhAgJOF0sD8ATuV1zgOzPzwZ45Letq8/wUmKKClkoD9xRRFMoG6sP5cho78TdKc/dyMdf5Fysz8gfzRIlKiqP0Gfrc+UirM/L65+cqiFrD/GfeGqIIyrP8hqKTCL/rA/u5zEpkTUpj9T3i0Rpu+kP94GCs01O6A/VYJ/xE+hrD/su3gsqB2tPxcXJ2wsDZU/LhuVmvfJpT+S4EVyjXKxPxZkPLJE+qI/PaN0Rv2Tpj8Enh4nyMelPwOUaki6KJ0/s2/GiNpWmj8JOwRKiz+vP2k1y++/f6I/4FSJUz/elz+UDJ8bDCSOP+ZL+kkdX58/BSzkC8w0mD9l1aGTzeWhP7ahBKClBJ8/9h6P/V4CqD+mNbRyU76DP2e6KpZFr3c/s3z9q7+maD8p8G77+zSbP4Y0S9IeWYY/sFzBGpEHlz/Cyql+QZ2jP1wCk37e8nk/tqn9fgi+kz/LkOgrk+SGPytd7/MxvqE/Cd/pjv2qdz/Tkzt/7kmbP4wtpV8VPqA//0QfVCV2pz8Go+oIFQecP0eLpYi0e5M/7dqAvk2hoD+qvmrhIW+PP/HsthDWckU/8iWWiTg3lj9A2LN+8hOhP3QwAPMVZYc/yV4KVIUAmT+GKwAUd9aAP2mXHQkyF5g/+Bj+t46pmD84wfy4WwCIP9BAzYPseJ4/41UTLJb5mD/Rn7rSu2yGP5V4m1us75I/HNlIpKk1nD/G0li9yuxxP1hBqdLGWoQ/JkqPmJwmkT+keqFrVMaHP2LJN8ZKWZo/CTzEsIN7kT8OyOSm68GCPyEj2LxuOo8/RD9Miu0lkz9dHaNB8M2IP3JgZl02K3k/Oi/6tXQZXT81LKjRfLmFP1VehB6Bm4E/cAbvp1TRjT/5lunTpcVzP7MZhAcrQ40/flPXFDE2iT9c5E1f5WqFP7ZtrMAoOog/yBby4ysbYj/Bi9XfkERRPw==",
          "dtype": "f8"
         }
        }
       ],
       "layout": {
        "height": 700,
        "template": {
         "data": {
          "bar": [
           {
            "error_x": {
             "color": "#2a3f5f"
            },
            "error_y": {
             "color": "#2a3f5f"
            },
            "marker": {
             "line": {
              "color": "white",
              "width": 0.5
             },
             "pattern": {
              "fillmode": "overlay",
              "size": 10,
              "solidity": 0.2
             }
            },
            "type": "bar"
           }
          ],
          "barpolar": [
           {
            "marker": {
             "line": {
              "color": "white",
              "width": 0.5
             },
             "pattern": {
              "fillmode": "overlay",
              "size": 10,
              "solidity": 0.2
             }
            },
            "type": "barpolar"
           }
          ],
          "carpet": [
           {
            "aaxis": {
             "endlinecolor": "#2a3f5f",
             "gridcolor": "#C8D4E3",
             "linecolor": "#C8D4E3",
             "minorgridcolor": "#C8D4E3",
             "startlinecolor": "#2a3f5f"
            },
            "baxis": {
             "endlinecolor": "#2a3f5f",
             "gridcolor": "#C8D4E3",
             "linecolor": "#C8D4E3",
             "minorgridcolor": "#C8D4E3",
             "startlinecolor": "#2a3f5f"
            },
            "type": "carpet"
           }
          ],
          "choropleth": [
           {
            "colorbar": {
             "outlinewidth": 0,
             "ticks": ""
            },
            "type": "choropleth"
           }
          ],
          "contour": [
           {
            "colorbar": {
             "outlinewidth": 0,
             "ticks": ""
            },
            "colorscale": [
             [
              0,
              "#0d0887"
             ],
             [
              0.1111111111111111,
              "#46039f"
             ],
             [
              0.2222222222222222,
              "#7201a8"
             ],
             [
              0.3333333333333333,
              "#9c179e"
             ],
             [
              0.4444444444444444,
              "#bd3786"
             ],
             [
              0.5555555555555556,
              "#d8576b"
             ],
             [
              0.6666666666666666,
              "#ed7953"
             ],
             [
              0.7777777777777778,
              "#fb9f3a"
             ],
             [
              0.8888888888888888,
              "#fdca26"
             ],
             [
              1,
              "#f0f921"
             ]
            ],
            "type": "contour"
           }
          ],
          "contourcarpet": [
           {
            "colorbar": {
             "outlinewidth": 0,
             "ticks": ""
            },
            "type": "contourcarpet"
           }
          ],
          "heatmap": [
           {
            "colorbar": {
             "outlinewidth": 0,
             "ticks": ""
            },
            "colorscale": [
             [
              0,
              "#0d0887"
             ],
             [
              0.1111111111111111,
              "#46039f"
             ],
             [
              0.2222222222222222,
              "#7201a8"
             ],
             [
              0.3333333333333333,
              "#9c179e"
             ],
             [
              0.4444444444444444,
              "#bd3786"
             ],
             [
              0.5555555555555556,
              "#d8576b"
             ],
             [
              0.6666666666666666,
              "#ed7953"
             ],
             [
              0.7777777777777778,
              "#fb9f3a"
             ],
             [
              0.8888888888888888,
              "#fdca26"
             ],
             [
              1,
              "#f0f921"
             ]
            ],
            "type": "heatmap"
           }
          ],
          "histogram": [
           {
            "marker": {
             "pattern": {
              "fillmode": "overlay",
              "size": 10,
              "solidity": 0.2
             }
            },
            "type": "histogram"
           }
          ],
          "histogram2d": [
           {
            "colorbar": {
             "outlinewidth": 0,
             "ticks": ""
            },
            "colorscale": [
             [
              0,
              "#0d0887"
             ],
             [
              0.1111111111111111,
              "#46039f"
             ],
             [
              0.2222222222222222,
              "#7201a8"
             ],
             [
              0.3333333333333333,
              "#9c179e"
             ],
             [
              0.4444444444444444,
              "#bd3786"
             ],
             [
              0.5555555555555556,
              "#d8576b"
             ],
             [
              0.6666666666666666,
              "#ed7953"
             ],
             [
              0.7777777777777778,
              "#fb9f3a"
             ],
             [
              0.8888888888888888,
              "#fdca26"
             ],
             [
              1,
              "#f0f921"
             ]
            ],
            "type": "histogram2d"
           }
          ],
          "histogram2dcontour": [
           {
            "colorbar": {
             "outlinewidth": 0,
             "ticks": ""
            },
            "colorscale": [
             [
              0,
              "#0d0887"
             ],
             [
              0.1111111111111111,
              "#46039f"
             ],
             [
              0.2222222222222222,
              "#7201a8"
             ],
             [
              0.3333333333333333,
              "#9c179e"
             ],
             [
              0.4444444444444444,
              "#bd3786"
             ],
             [
              0.5555555555555556,
              "#d8576b"
             ],
             [
              0.6666666666666666,
              "#ed7953"
             ],
             [
              0.7777777777777778,
              "#fb9f3a"
             ],
             [
              0.8888888888888888,
              "#fdca26"
             ],
             [
              1,
              "#f0f921"
             ]
            ],
            "type": "histogram2dcontour"
           }
          ],
          "mesh3d": [
           {
            "colorbar": {
             "outlinewidth": 0,
             "ticks": ""
            },
            "type": "mesh3d"
           }
          ],
          "parcoords": [
           {
            "line": {
             "colorbar": {
              "outlinewidth": 0,
              "ticks": ""
             }
            },
            "type": "parcoords"
           }
          ],
          "pie": [
           {
            "automargin": true,
            "type": "pie"
           }
          ],
          "scatter": [
           {
            "fillpattern": {
             "fillmode": "overlay",
             "size": 10,
             "solidity": 0.2
            },
            "type": "scatter"
           }
          ],
          "scatter3d": [
           {
            "line": {
             "colorbar": {
              "outlinewidth": 0,
              "ticks": ""
             }
            },
            "marker": {
             "colorbar": {
              "outlinewidth": 0,
              "ticks": ""
             }
            },
            "type": "scatter3d"
           }
          ],
          "scattercarpet": [
           {
            "marker": {
             "colorbar": {
              "outlinewidth": 0,
              "ticks": ""
             }
            },
            "type": "scattercarpet"
           }
          ],
          "scattergeo": [
           {
            "marker": {
             "colorbar": {
              "outlinewidth": 0,
              "ticks": ""
             }
            },
            "type": "scattergeo"
           }
          ],
          "scattergl": [
           {
            "marker": {
             "colorbar": {
              "outlinewidth": 0,
              "ticks": ""
             }
            },
            "type": "scattergl"
           }
          ],
          "scattermap": [
           {
            "marker": {
             "colorbar": {
              "outlinewidth": 0,
              "ticks": ""
             }
            },
            "type": "scattermap"
           }
          ],
          "scattermapbox": [
           {
            "marker": {
             "colorbar": {
              "outlinewidth": 0,
              "ticks": ""
             }
            },
            "type": "scattermapbox"
           }
          ],
          "scatterpolar": [
           {
            "marker": {
             "colorbar": {
              "outlinewidth": 0,
              "ticks": ""
             }
            },
            "type": "scatterpolar"
           }
          ],
          "scatterpolargl": [
           {
            "marker": {
             "colorbar": {
              "outlinewidth": 0,
              "ticks": ""
             }
            },
            "type": "scatterpolargl"
           }
          ],
          "scatterternary": [
           {
            "marker": {
             "colorbar": {
              "outlinewidth": 0,
              "ticks": ""
             }
            },
            "type": "scatterternary"
           }
          ],
          "surface": [
           {
            "colorbar": {
             "outlinewidth": 0,
             "ticks": ""
            },
            "colorscale": [
             [
              0,
              "#0d0887"
             ],
             [
              0.1111111111111111,
              "#46039f"
             ],
             [
              0.2222222222222222,
              "#7201a8"
             ],
             [
              0.3333333333333333,
              "#9c179e"
             ],
             [
              0.4444444444444444,
              "#bd3786"
             ],
             [
              0.5555555555555556,
              "#d8576b"
             ],
             [
              0.6666666666666666,
              "#ed7953"
             ],
             [
              0.7777777777777778,
              "#fb9f3a"
             ],
             [
              0.8888888888888888,
              "#fdca26"
             ],
             [
              1,
              "#f0f921"
             ]
            ],
            "type": "surface"
           }
          ],
          "table": [
           {
            "cells": {
             "fill": {
              "color": "#EBF0F8"
             },
             "line": {
              "color": "white"
             }
            },
            "header": {
             "fill": {
              "color": "#C8D4E3"
             },
             "line": {
              "color": "white"
             }
            },
            "type": "table"
           }
          ]
         },
         "layout": {
          "annotationdefaults": {
           "arrowcolor": "#2a3f5f",
           "arrowhead": 0,
           "arrowwidth": 1
          },
          "autotypenumbers": "strict",
          "coloraxis": {
           "colorbar": {
            "outlinewidth": 0,
            "ticks": ""
           }
          },
          "colorscale": {
           "diverging": [
            [
             0,
             "#8e0152"
            ],
            [
             0.1,
             "#c51b7d"
            ],
            [
             0.2,
             "#de77ae"
            ],
            [
             0.3,
             "#f1b6da"
            ],
            [
             0.4,
             "#fde0ef"
            ],
            [
             0.5,
             "#f7f7f7"
            ],
            [
             0.6,
             "#e6f5d0"
            ],
            [
             0.7,
             "#b8e186"
            ],
            [
             0.8,
             "#7fbc41"
            ],
            [
             0.9,
             "#4d9221"
            ],
            [
             1,
             "#276419"
            ]
           ],
           "sequential": [
            [
             0,
             "#0d0887"
            ],
            [
             0.1111111111111111,
             "#46039f"
            ],
            [
             0.2222222222222222,
             "#7201a8"
            ],
            [
             0.3333333333333333,
             "#9c179e"
            ],
            [
             0.4444444444444444,
             "#bd3786"
            ],
            [
             0.5555555555555556,
             "#d8576b"
            ],
            [
             0.6666666666666666,
             "#ed7953"
            ],
            [
             0.7777777777777778,
             "#fb9f3a"
            ],
            [
             0.8888888888888888,
             "#fdca26"
            ],
            [
             1,
             "#f0f921"
            ]
           ],
           "sequentialminus": [
            [
             0,
             "#0d0887"
            ],
            [
             0.1111111111111111,
             "#46039f"
            ],
            [
             0.2222222222222222,
             "#7201a8"
            ],
            [
             0.3333333333333333,
             "#9c179e"
            ],
            [
             0.4444444444444444,
             "#bd3786"
            ],
            [
             0.5555555555555556,
             "#d8576b"
            ],
            [
             0.6666666666666666,
             "#ed7953"
            ],
            [
             0.7777777777777778,
             "#fb9f3a"
            ],
            [
             0.8888888888888888,
             "#fdca26"
            ],
            [
             1,
             "#f0f921"
            ]
           ]
          },
          "colorway": [
           "#636efa",
           "#EF553B",
           "#00cc96",
           "#ab63fa",
           "#FFA15A",
           "#19d3f3",
           "#FF6692",
           "#B6E880",
           "#FF97FF",
           "#FECB52"
          ],
          "font": {
           "color": "#2a3f5f"
          },
          "geo": {
           "bgcolor": "white",
           "lakecolor": "white",
           "landcolor": "white",
           "showlakes": true,
           "showland": true,
           "subunitcolor": "#C8D4E3"
          },
          "hoverlabel": {
           "align": "left"
          },
          "hovermode": "closest",
          "mapbox": {
           "style": "light"
          },
          "paper_bgcolor": "white",
          "plot_bgcolor": "white",
          "polar": {
           "angularaxis": {
            "gridcolor": "#EBF0F8",
            "linecolor": "#EBF0F8",
            "ticks": ""
           },
           "bgcolor": "white",
           "radialaxis": {
            "gridcolor": "#EBF0F8",
            "linecolor": "#EBF0F8",
            "ticks": ""
           }
          },
          "scene": {
           "xaxis": {
            "backgroundcolor": "white",
            "gridcolor": "#DFE8F3",
            "gridwidth": 2,
            "linecolor": "#EBF0F8",
            "showbackground": true,
            "ticks": "",
            "zerolinecolor": "#EBF0F8"
           },
           "yaxis": {
            "backgroundcolor": "white",
            "gridcolor": "#DFE8F3",
            "gridwidth": 2,
            "linecolor": "#EBF0F8",
            "showbackground": true,
            "ticks": "",
            "zerolinecolor": "#EBF0F8"
           },
           "zaxis": {
            "backgroundcolor": "white",
            "gridcolor": "#DFE8F3",
            "gridwidth": 2,
            "linecolor": "#EBF0F8",
            "showbackground": true,
            "ticks": "",
            "zerolinecolor": "#EBF0F8"
           }
          },
          "shapedefaults": {
           "line": {
            "color": "#2a3f5f"
           }
          },
          "ternary": {
           "aaxis": {
            "gridcolor": "#DFE8F3",
            "linecolor": "#A2B1C6",
            "ticks": ""
           },
           "baxis": {
            "gridcolor": "#DFE8F3",
            "linecolor": "#A2B1C6",
            "ticks": ""
           },
           "bgcolor": "white",
           "caxis": {
            "gridcolor": "#DFE8F3",
            "linecolor": "#A2B1C6",
            "ticks": ""
           }
          },
          "title": {
           "x": 0.05
          },
          "xaxis": {
           "automargin": true,
           "gridcolor": "#EBF0F8",
           "linecolor": "#EBF0F8",
           "ticks": "",
           "title": {
            "standoff": 15
           },
           "zerolinecolor": "#EBF0F8",
           "zerolinewidth": 2
          },
          "yaxis": {
           "automargin": true,
           "gridcolor": "#EBF0F8",
           "linecolor": "#EBF0F8",
           "ticks": "",
           "title": {
            "standoff": 15
           },
           "zerolinecolor": "#EBF0F8",
           "zerolinewidth": 2
          }
         }
        },
        "title": {
         "text": "Correlation Coefficients of Bacteria against age"
        },
        "xaxis": {
         "title": {
          "text": "Features"
         }
        },
        "yaxis": {
         "title": {
          "text": "Correlation Coefficient"
         }
        }
       }
      }
     },
     "metadata": {},
     "output_type": "display_data"
    }
   ],
   "source": [
    "_ = correlation_coefficients(\n",
    "    bacteria,\n",
    "    age,\n",
    "    title=\"Correlation Coefficients of Bacteria against age\"\n",
    ")"
   ]
  },
  {
   "cell_type": "markdown",
   "metadata": {},
   "source": [
    "#### Correlation between features\n",
    "\n",
    "Let's inspect the feature correlation of the top `n` most correlated bacteria with bmi."
   ]
  },
  {
   "cell_type": "code",
   "execution_count": 149,
   "metadata": {},
   "outputs": [],
   "source": [
    "def create_correlated_pairplot(\n",
    "        data,\n",
    "        title=\"Pairplot with Correlation Coefficients\",\n",
    "        scatter_color=\"#55278c\",\n",
    "        kde_color=\"#7d47bf\"\n",
    "    ):\n",
    "    '''Creates a pairplot with Pearson, Spearman, and Kendall correlation\n",
    "    coefficients overlaid on the upper triangle of the plot and the lower\n",
    "    triangle replaced with kernel density estimates.\n",
    "\n",
    "    '''\n",
    "\n",
    "    def annotate_correlations(x, y, **kwargs):\n",
    "        '''Annotate the correlation coefficients on the pairplot.'''\n",
    "\n",
    "        pearson_coef, _ = pearsonr(x, y)\n",
    "        spearman_coef, _ = spearmanr(x, y)\n",
    "        kendall_coef, _ = kendalltau(x, y)\n",
    "\n",
    "        text = \"\".join([\n",
    "            f\"Pearson: {pearson_coef:.2f}\\n\",\n",
    "            f\"Spearman: {spearman_coef:.2f}\\n\",\n",
    "            f\"Kendall: {kendall_coef:.2f}\"\n",
    "        ])\n",
    "        \n",
    "        plt.annotate(\n",
    "            text,\n",
    "            xy=(0.95, 0.95),\n",
    "            xycoords='axes fraction',\n",
    "            ha='right',\n",
    "            va='top',\n",
    "            bbox=dict(boxstyle='round,pad=0.5', fc='white', alpha=0.75)\n",
    "        )\n",
    "\n",
    "    def plot_mean(x, **kwargs):\n",
    "        '''Plot the mean of the data on the diagonal of the pairplot.'''\n",
    "\n",
    "        mean_val = np.mean(x)\n",
    "        plt.axvline(\n",
    "            mean_val,\n",
    "            color='black',\n",
    "            linestyle='--',\n",
    "            label=f\"Mean: {mean_val:.2f}\"\n",
    "        )\n",
    "        plt.legend()\n",
    "\n",
    "    g = sns.pairplot(\n",
    "        data,\n",
    "        diag_kind=\"kde\",\n",
    "        plot_kws={\"color\": scatter_color},\n",
    "        diag_kws={\"color\": kde_color}\n",
    "    )\n",
    "\n",
    "    g.map_lower(sns.kdeplot, levels=4, color=\"black\")\n",
    "    g.map_upper(annotate_correlations)\n",
    "    g.map_diag(plot_mean)\n",
    "\n",
    "    plt.suptitle(title, y=1.02)\n",
    "    plt.show()"
   ]
  },
  {
   "cell_type": "code",
   "execution_count": 136,
   "metadata": {},
   "outputs": [],
   "source": [
    "n = 5\n",
    "first_n_bacteria_names = bactera_sorted_by_corr[:n]\n",
    "first_n_bacteria = bacteria[first_n_bacteria_names]"
   ]
  },
  {
   "cell_type": "code",
   "execution_count": 150,
   "metadata": {},
   "outputs": [
    {
     "data": {
      "image/png": "[encoded data removed]",
      "text/plain": [
       "<Figure size 1250x1250 with 30 Axes>"
      ]
     },
     "metadata": {},
     "output_type": "display_data"
    }
   ],
   "source": [
    "create_correlated_pairplot(\n",
    "        first_n_bacteria,\n",
    "        title=\"Pairplot with Correlation Coefficients and KDE\"\n",
    "        # scatter_color=\"skyblue\",\n",
    "        # kde_color=\"skyblue\"\n",
    "    )"
   ]
  }
 ],
 "metadata": {
  "kernelspec": {
   "display_name": ".venv",
   "language": "python",
   "name": "python3"
  },
  "language_info": {
   "codemirror_mode": {
    "name": "ipython",
    "version": 3
   },
   "file_extension": ".py",
   "mimetype": "text/x-python",
   "name": "python",
   "nbconvert_exporter": "python",
   "pygments_lexer": "ipython3",
   "version": "3.12.3"
  }
 },
 "nbformat": 4,
 "nbformat_minor": 2
}
