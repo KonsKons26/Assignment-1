{
 "cells": [
  {
   "cell_type": "markdown",
   "metadata": {},
   "source": [
    "# Imports"
   ]
  },
  {
   "cell_type": "code",
   "execution_count": 1,
   "metadata": {},
   "outputs": [],
   "source": [
    "import os\n",
    "import pandas as pd\n",
    "import numpy as np\n",
    "import matplotlib.pyplot as plt\n",
    "import seaborn as sns\n",
    "from IPython.display import display"
   ]
  },
  {
   "cell_type": "markdown",
   "metadata": {},
   "source": [
    "# Directories"
   ]
  },
  {
   "cell_type": "code",
   "execution_count": 2,
   "metadata": {},
   "outputs": [
    {
     "name": "stdout",
     "output_type": "stream",
     "text": [
      "/home/cotsios/dsit/2nd-semester/ml-in-comp-bio/Assignment-1\n"
     ]
    }
   ],
   "source": [
    "os.chdir(\"..\")\n",
    "print(os.getcwd())"
   ]
  },
  {
   "cell_type": "code",
   "execution_count": 3,
   "metadata": {},
   "outputs": [
    {
     "name": "stdout",
     "output_type": "stream",
     "text": [
      "/home/cotsios/dsit/2nd-semester/ml-in-comp-bio/Assignment-1/data\n"
     ]
    }
   ],
   "source": [
    "DATA_DIR = os.path.join(os.getcwd(), \"data\")\n",
    "print(DATA_DIR)"
   ]
  },
  {
   "cell_type": "markdown",
   "metadata": {},
   "source": [
    "# The data"
   ]
  },
  {
   "cell_type": "code",
   "execution_count": 4,
   "metadata": {},
   "outputs": [],
   "source": [
    "file_name = \"assignment1_dev_set.csv\"\n",
    "\n",
    "df = pd.read_csv(os.path.join(DATA_DIR, file_name), index_col=0)\n",
    "cols = df.columns"
   ]
  },
  {
   "cell_type": "code",
   "execution_count": 5,
   "metadata": {},
   "outputs": [
    {
     "data": {
      "text/plain": [
       "Index(['Project ID', 'Experiment type', 'Sex', 'Host age', 'BMI',\n",
       "       'Disease MESH ID', 'Acholeplasma axanthum',\n",
       "       'Acidaminococcus fermentans', 'Acidaminococcus intestini',\n",
       "       'Actinomyces lingnae',\n",
       "       ...\n",
       "       'Clostridium sphenoides', 'Clostridium spiroforme',\n",
       "       'Clostridium stercorarium', 'Clostridium symbiosum',\n",
       "       'Clostridium thermosuccinogenes', 'Clostridium xylanolyticum',\n",
       "       'Eubacterium brachy', 'Eubacterium dolichum', 'Eubacterium sulci',\n",
       "       'Ruminococcus gnavus'],\n",
       "      dtype='object', length=140)"
      ]
     },
     "metadata": {},
     "output_type": "display_data"
    }
   ],
   "source": [
    "display(cols)"
   ]
  },
  {
   "cell_type": "markdown",
   "metadata": {},
   "source": [
    "We can see that the `BMI` column is the 6<sup>th</sup> one and the bacterial concentrations start from the 8<sup>th</sup> column up to the last (141<sup>st</sup>)  \n",
    "Also, since we want to classify `BMI` based **only** on the bacteria in the gut microbiome, we can **exclude** the following columns:\n",
    "- `Project ID`\n",
    "- `Experiment type`\n",
    "- `Disease MESH ID`\n",
    "\n",
    "Regarding the `Sex` and `Host age` columns, I decided to separate them in order to examine them one by one, and not with the bacterial data."
   ]
  },
  {
   "cell_type": "code",
   "execution_count": 6,
   "metadata": {},
   "outputs": [],
   "source": [
    "# drop columns Project ID, Experiment type, Sex, Host age, Disease MESH ID\n",
    "cols_to_drop = [\n",
    "    \"Project ID\",\n",
    "    \"Experiment type\",\n",
    "    \"Sex\",\n",
    "    \"Host age\",\n",
    "    \"BMI\",\n",
    "    \"Disease MESH ID\"\n",
    "]\n",
    "\n",
    "bmi = df[\"BMI\"]\n",
    "sex = df[\"Sex\"]\n",
    "age = df[\"Host age\"]\n",
    "bacteria = df.drop(cols_to_drop, axis=1)"
   ]
  },
  {
   "cell_type": "code",
   "execution_count": 7,
   "metadata": {},
   "outputs": [
    {
     "data": {
      "application/vnd.microsoft.datawrangler.viewer.v0+json": {
       "columns": [
        {
         "name": "index",
         "rawType": "int64",
         "type": "integer"
        },
        {
         "name": "Acholeplasma axanthum",
         "rawType": "float64",
         "type": "float"
        },
        {
         "name": "Acidaminococcus fermentans",
         "rawType": "float64",
         "type": "float"
        },
        {
         "name": "Acidaminococcus intestini",
         "rawType": "float64",
         "type": "float"
        },
        {
         "name": "Actinomyces lingnae",
         "rawType": "float64",
         "type": "float"
        },
        {
         "name": "Akkermansia muciniphila",
         "rawType": "float64",
         "type": "float"
        },
        {
         "name": "Alistipes finegoldii",
         "rawType": "float64",
         "type": "float"
        },
        {
         "name": "Alistipes indistinctus",
         "rawType": "float64",
         "type": "float"
        },
        {
         "name": "Alistipes obesi",
         "rawType": "float64",
         "type": "float"
        },
        {
         "name": "Alistipes onderdonkii",
         "rawType": "float64",
         "type": "float"
        },
        {
         "name": "Alistipes putredinis",
         "rawType": "float64",
         "type": "float"
        },
        {
         "name": "Alistipes shahii",
         "rawType": "float64",
         "type": "float"
        },
        {
         "name": "Alistipes sp. RMA 9912",
         "rawType": "float64",
         "type": "float"
        },
        {
         "name": "Alistipes timonensis",
         "rawType": "float64",
         "type": "float"
        },
        {
         "name": "Anaerofilum pentosovorans",
         "rawType": "float64",
         "type": "float"
        },
        {
         "name": "Anaerofustis stercorihominis",
         "rawType": "float64",
         "type": "float"
        },
        {
         "name": "Anaerostipes butyraticus",
         "rawType": "float64",
         "type": "float"
        },
        {
         "name": "Anaerostipes caccae",
         "rawType": "float64",
         "type": "float"
        },
        {
         "name": "Anaerotruncus colihominis",
         "rawType": "float64",
         "type": "float"
        },
        {
         "name": "Bacillus megaterium",
         "rawType": "float64",
         "type": "float"
        },
        {
         "name": "Bacillus nealsonii",
         "rawType": "float64",
         "type": "float"
        },
        {
         "name": "Bacteroides eggerthii",
         "rawType": "float64",
         "type": "float"
        },
        {
         "name": "Bacteroides fragilis",
         "rawType": "float64",
         "type": "float"
        },
        {
         "name": "Bacteroides gallinarum",
         "rawType": "float64",
         "type": "float"
        },
        {
         "name": "Bacteroides graminisolvens",
         "rawType": "float64",
         "type": "float"
        },
        {
         "name": "Bacteroides intestinalis",
         "rawType": "float64",
         "type": "float"
        },
        {
         "name": "Bacteroides massiliensis",
         "rawType": "float64",
         "type": "float"
        },
        {
         "name": "Bacteroides ovatus",
         "rawType": "float64",
         "type": "float"
        },
        {
         "name": "Bacteroides plebeius",
         "rawType": "float64",
         "type": "float"
        },
        {
         "name": "Bacteroides salyersiae",
         "rawType": "float64",
         "type": "float"
        },
        {
         "name": "Barnesiella viscericola",
         "rawType": "float64",
         "type": "float"
        },
        {
         "name": "Bifidobacterium bifidum",
         "rawType": "float64",
         "type": "float"
        },
        {
         "name": "Bifidobacterium pseudocatenulatum",
         "rawType": "float64",
         "type": "float"
        },
        {
         "name": "Bifidobacterium saguini",
         "rawType": "float64",
         "type": "float"
        },
        {
         "name": "Bifidobacterium tsurumiense",
         "rawType": "float64",
         "type": "float"
        },
        {
         "name": "Bilophila wadsworthia",
         "rawType": "float64",
         "type": "float"
        },
        {
         "name": "Blautia coccoides",
         "rawType": "float64",
         "type": "float"
        },
        {
         "name": "Blautia glucerasea",
         "rawType": "float64",
         "type": "float"
        },
        {
         "name": "Blautia hydrogenotrophica",
         "rawType": "float64",
         "type": "float"
        },
        {
         "name": "Blautia producta",
         "rawType": "float64",
         "type": "float"
        },
        {
         "name": "Blautia schinkii",
         "rawType": "float64",
         "type": "float"
        },
        {
         "name": "Butyricimonas virosa",
         "rawType": "float64",
         "type": "float"
        },
        {
         "name": "Catabacter hongkongensis",
         "rawType": "float64",
         "type": "float"
        },
        {
         "name": "Christensenella minuta",
         "rawType": "float64",
         "type": "float"
        },
        {
         "name": "Clostridium amylolyticum",
         "rawType": "float64",
         "type": "float"
        },
        {
         "name": "Clostridium malenominatum",
         "rawType": "float64",
         "type": "float"
        },
        {
         "name": "Clostridium maximum",
         "rawType": "float64",
         "type": "float"
        },
        {
         "name": "Clostridium sp.",
         "rawType": "float64",
         "type": "float"
        },
        {
         "name": "Collinsella aerofaciens",
         "rawType": "float64",
         "type": "float"
        },
        {
         "name": "Collinsella intestinalis",
         "rawType": "float64",
         "type": "float"
        },
        {
         "name": "Collinsella tanakaei",
         "rawType": "float64",
         "type": "float"
        },
        {
         "name": "Coprobacillus cateniformis",
         "rawType": "float64",
         "type": "float"
        },
        {
         "name": "Coprococcus catus",
         "rawType": "float64",
         "type": "float"
        },
        {
         "name": "Coprococcus eutactus",
         "rawType": "float64",
         "type": "float"
        },
        {
         "name": "Desulfonispora thiosulfatigenes",
         "rawType": "float64",
         "type": "float"
        },
        {
         "name": "Desulfosporosinus orientis",
         "rawType": "float64",
         "type": "float"
        },
        {
         "name": "Desulfovibrio desulfuricans",
         "rawType": "float64",
         "type": "float"
        },
        {
         "name": "Desulfovibrio fairfieldensis",
         "rawType": "float64",
         "type": "float"
        },
        {
         "name": "Desulfovibrio piger",
         "rawType": "float64",
         "type": "float"
        },
        {
         "name": "Desulfovibrio vulgaris",
         "rawType": "float64",
         "type": "float"
        },
        {
         "name": "Ethanoligenens harbinense",
         "rawType": "float64",
         "type": "float"
        },
        {
         "name": "Eubacterium desmolans",
         "rawType": "float64",
         "type": "float"
        },
        {
         "name": "Eubacterium xylanophilum",
         "rawType": "float64",
         "type": "float"
        },
        {
         "name": "Faecalibacterium sp. MC_41",
         "rawType": "float64",
         "type": "float"
        },
        {
         "name": "Flavonifractor plautii",
         "rawType": "float64",
         "type": "float"
        },
        {
         "name": "Fusobacterium nucleatum",
         "rawType": "float64",
         "type": "float"
        },
        {
         "name": "Holdemanella biformis",
         "rawType": "float64",
         "type": "float"
        },
        {
         "name": "Holdemania filiformis",
         "rawType": "float64",
         "type": "float"
        },
        {
         "name": "Hungatella hathewayi",
         "rawType": "float64",
         "type": "float"
        },
        {
         "name": "Lachnospiraceae bacterium 3_1_57FAA_CT1",
         "rawType": "float64",
         "type": "float"
        },
        {
         "name": "Lachnospiraceae bacterium 5_1_63FAA",
         "rawType": "float64",
         "type": "float"
        },
        {
         "name": "Lachnospiraceae bacterium 7_1_58FAA",
         "rawType": "float64",
         "type": "float"
        },
        {
         "name": "Lactococcus lactis",
         "rawType": "float64",
         "type": "float"
        },
        {
         "name": "Odoribacter splanchnicus",
         "rawType": "float64",
         "type": "float"
        },
        {
         "name": "Oscillibacter valericigenes",
         "rawType": "float64",
         "type": "float"
        },
        {
         "name": "Oxalobacter formigenes",
         "rawType": "float64",
         "type": "float"
        },
        {
         "name": "Papillibacter cinnamivorans",
         "rawType": "float64",
         "type": "float"
        },
        {
         "name": "Parabacteroides distasonis",
         "rawType": "float64",
         "type": "float"
        },
        {
         "name": "Parabacteroides goldsteinii",
         "rawType": "float64",
         "type": "float"
        },
        {
         "name": "Parabacteroides johnsonii",
         "rawType": "float64",
         "type": "float"
        },
        {
         "name": "Parabacteroides merdae",
         "rawType": "float64",
         "type": "float"
        },
        {
         "name": "Parasutterella excrementihominis",
         "rawType": "float64",
         "type": "float"
        },
        {
         "name": "Peptoniphilus lacrimalis",
         "rawType": "float64",
         "type": "float"
        },
        {
         "name": "Porphyromonas catoniae",
         "rawType": "float64",
         "type": "float"
        },
        {
         "name": "Prevotella bivia",
         "rawType": "float64",
         "type": "float"
        },
        {
         "name": "Prevotella buccalis",
         "rawType": "float64",
         "type": "float"
        },
        {
         "name": "Prevotella oris",
         "rawType": "float64",
         "type": "float"
        },
        {
         "name": "Prevotella oryzae",
         "rawType": "float64",
         "type": "float"
        },
        {
         "name": "Prevotella paludivivens",
         "rawType": "float64",
         "type": "float"
        },
        {
         "name": "Prevotella ruminicola",
         "rawType": "float64",
         "type": "float"
        },
        {
         "name": "Prevotella shahii",
         "rawType": "float64",
         "type": "float"
        },
        {
         "name": "Prevotella timonensis",
         "rawType": "float64",
         "type": "float"
        },
        {
         "name": "Pseudobacteroides cellulosolvens",
         "rawType": "float64",
         "type": "float"
        },
        {
         "name": "Pseudoflavonifractor capillosus",
         "rawType": "float64",
         "type": "float"
        },
        {
         "name": "Roseburia hominis",
         "rawType": "float64",
         "type": "float"
        },
        {
         "name": "Roseburia intestinalis",
         "rawType": "float64",
         "type": "float"
        },
        {
         "name": "Ruminiclostridium thermocellum",
         "rawType": "float64",
         "type": "float"
        },
        {
         "name": "Ruminococcaceae bacterium D16",
         "rawType": "float64",
         "type": "float"
        },
        {
         "name": "Ruminococcus albus",
         "rawType": "float64",
         "type": "float"
        },
        {
         "name": "Ruminococcus callidus",
         "rawType": "float64",
         "type": "float"
        },
        {
         "name": "Ruminococcus champanellensis",
         "rawType": "float64",
         "type": "float"
        },
        {
         "name": "Ruminococcus flavefaciens",
         "rawType": "float64",
         "type": "float"
        },
        {
         "name": "Ruminococcus sp. DSM 100440",
         "rawType": "float64",
         "type": "float"
        },
        {
         "name": "Sporobacter termitidis",
         "rawType": "float64",
         "type": "float"
        },
        {
         "name": "Streptococcus infantarius",
         "rawType": "float64",
         "type": "float"
        },
        {
         "name": "Streptococcus mitis",
         "rawType": "float64",
         "type": "float"
        },
        {
         "name": "Streptococcus oralis",
         "rawType": "float64",
         "type": "float"
        },
        {
         "name": "Sutterella parvirubra",
         "rawType": "float64",
         "type": "float"
        },
        {
         "name": "Thermobaculum terrenum",
         "rawType": "float64",
         "type": "float"
        },
        {
         "name": "Victivallis sp. MC_44",
         "rawType": "float64",
         "type": "float"
        },
        {
         "name": "Bacteroides pectinophilus",
         "rawType": "float64",
         "type": "float"
        },
        {
         "name": "Clostridium aldenense",
         "rawType": "float64",
         "type": "float"
        },
        {
         "name": "Clostridium asparagiforme",
         "rawType": "float64",
         "type": "float"
        },
        {
         "name": "Clostridium bolteae",
         "rawType": "float64",
         "type": "float"
        },
        {
         "name": "Clostridium celerecrescens",
         "rawType": "float64",
         "type": "float"
        },
        {
         "name": "Clostridium cellobioparum",
         "rawType": "float64",
         "type": "float"
        },
        {
         "name": "Clostridium clariflavum",
         "rawType": "float64",
         "type": "float"
        },
        {
         "name": "Clostridium colinum",
         "rawType": "float64",
         "type": "float"
        },
        {
         "name": "Clostridium indolis",
         "rawType": "float64",
         "type": "float"
        },
        {
         "name": "Clostridium leptum",
         "rawType": "float64",
         "type": "float"
        },
        {
         "name": "Clostridium methylpentosum",
         "rawType": "float64",
         "type": "float"
        },
        {
         "name": "Clostridium neopropionicum",
         "rawType": "float64",
         "type": "float"
        },
        {
         "name": "Clostridium propionicum",
         "rawType": "float64",
         "type": "float"
        },
        {
         "name": "Clostridium saccharogumia",
         "rawType": "float64",
         "type": "float"
        },
        {
         "name": "Clostridium saccharolyticum",
         "rawType": "float64",
         "type": "float"
        },
        {
         "name": "Clostridium sphenoides",
         "rawType": "float64",
         "type": "float"
        },
        {
         "name": "Clostridium spiroforme",
         "rawType": "float64",
         "type": "float"
        },
        {
         "name": "Clostridium stercorarium",
         "rawType": "float64",
         "type": "float"
        },
        {
         "name": "Clostridium symbiosum",
         "rawType": "float64",
         "type": "float"
        },
        {
         "name": "Clostridium thermosuccinogenes",
         "rawType": "float64",
         "type": "float"
        },
        {
         "name": "Clostridium xylanolyticum",
         "rawType": "float64",
         "type": "float"
        },
        {
         "name": "Eubacterium brachy",
         "rawType": "float64",
         "type": "float"
        },
        {
         "name": "Eubacterium dolichum",
         "rawType": "float64",
         "type": "float"
        },
        {
         "name": "Eubacterium sulci",
         "rawType": "float64",
         "type": "float"
        },
        {
         "name": "Ruminococcus gnavus",
         "rawType": "float64",
         "type": "float"
        }
       ],
       "conversionMethod": "pd.DataFrame",
       "ref": "633c6f99-3c4c-4a83-8fd1-9fc4da91d805",
       "rows": [
        [
         "0",
         "0.0",
         "0.0",
         "0.0",
         "0.0",
         "0.0176741",
         "0.0",
         "0.0",
         "0.0",
         "0.117827",
         "0.00589136",
         "0.0",
         "0.0",
         "0.00883705",
         "0.00294568",
         "0.0",
         "0.0324025",
         "0.0294568",
         "0.0",
         "0.00589136",
         "0.0",
         "0.0",
         "0.0",
         "0.0",
         "0.0",
         "0.0",
         "0.0",
         "0.913161",
         "0.0",
         "0.0",
         "0.00294568",
         "0.0",
         "0.0",
         "0.0",
         "0.0",
         "0.0",
         "0.0471309",
         "0.0176741",
         "0.0",
         "0.0765877",
         "0.0",
         "0.0",
         "0.0",
         "0.0",
         "0.0",
         "0.0",
         "0.00294568",
         "0.0",
         "0.0",
         "0.0",
         "0.0",
         "0.0441852",
         "0.0",
         "0.0",
         "0.0",
         "0.0",
         "0.0117827",
         "0.0",
         "0.0",
         "0.00294568",
         "0.0",
         "0.00294568",
         "0.0",
         "0.00883705",
         "0.0",
         "0.0",
         "0.0",
         "0.0235655",
         "0.0",
         "0.0",
         "0.0",
         "0.0",
         "0.00883705",
         "0.0",
         "0.0",
         "0.0",
         "0.0",
         "0.0",
         "0.0",
         "0.0",
         "0.00294568",
         "0.0",
         "0.0",
         "0.0",
         "0.0",
         "0.0",
         "0.0",
         "0.0",
         "0.0",
         "0.0",
         "0.0",
         "0.0",
         "0.0",
         "0.0",
         "0.00294568",
         "0.00294568",
         "0.0235655",
         "0.0",
         "0.0",
         "0.0",
         "0.0",
         "0.0",
         "0.0235655",
         "0.00294568",
         "0.0",
         "0.0",
         "0.0",
         "0.0",
         "0.00294568",
         "0.0",
         "0.0",
         "0.0",
         "0.0",
         "0.00883705",
         "0.00883705",
         "0.0",
         "0.00589136",
         "0.0",
         "0.00883705",
         "0.00294568",
         "0.0",
         "0.0",
         "0.0",
         "0.0",
         "0.00294568",
         "0.00589136",
         "0.0294568",
         "0.0",
         "0.0",
         "0.00294568",
         "0.0",
         "0.0",
         "0.0",
         "0.00294568",
         "0.100153"
        ],
        [
         "1",
         "0.00102778",
         "0.0",
         "0.0",
         "0.0",
         "13.0158",
         "0.00154166",
         "0.0",
         "0.0",
         "0.073486",
         "0.403916",
         "0.0986665",
         "0.0",
         "0.0190139",
         "0.0113055",
         "0.00873609",
         "0.0",
         "0.00102778",
         "0.107916",
         "0.0",
         "0.0",
         "0.201444",
         "0.2035",
         "1.37876",
         "0.0",
         "0.0205555",
         "0.0107916",
         "0.134125",
         "0.0",
         "0.0",
         "1.14494",
         "0.00154166",
         "0.592513",
         "0.0",
         "0.0",
         "0.00565277",
         "0.0220972",
         "0.00154166",
         "0.00668054",
         "0.0",
         "0.00462499",
         "0.0560138",
         "0.0",
         "3.75601",
         "0.000513888",
         "0.0",
         "0.0",
         "0.000513888",
         "0.648526",
         "0.0421388",
         "0.000513888",
         "0.00102778",
         "0.0",
         "0.00462499",
         "0.00359721",
         "0.00462499",
         "0.00462499",
         "0.0215833",
         "0.0",
         "0.0",
         "0.0262083",
         "0.102778",
         "0.0200416",
         "0.0",
         "0.0",
         "0.0",
         "1.04114",
         "0.00513888",
         "0.00102778",
         "0.0",
         "0.0",
         "0.0",
         "0.0123333",
         "0.00102778",
         "2.58794",
         "0.0",
         "0.0493332",
         "0.292402",
         "0.000513888",
         "0.144402",
         "0.000513888",
         "0.041111",
         "0.00256944",
         "0.00205555",
         "0.0",
         "0.0298055",
         "0.0",
         "0.0",
         "0.0",
         "0.0",
         "0.0",
         "0.0",
         "0.524166",
         "0.0",
         "1.09921",
         "0.0118194",
         "5.15327",
         "0.0",
         "0.0185",
         "0.354069",
         "0.0143889",
         "0.332999",
         "0.0",
         "3.02629",
         "0.000513888",
         "0.0082222",
         "0.0236388",
         "0.0",
         "0.0",
         "0.0",
         "0.0",
         "0.00205555",
         "0.0",
         "0.00154166",
         "0.0",
         "0.0",
         "0.202472",
         "0.0",
         "0.00513888",
         "1.79604",
         "1.73437",
         "0.000513888",
         "0.00102778",
         "0.0",
         "0.00719443",
         "0.0",
         "0.00256944",
         "0.412652",
         "0.00308333",
         "0.0",
         "0.0",
         "0.00873609",
         "0.0149027",
         "0.0775971",
         "0.00462499"
        ],
        [
         "2",
         "0.00140611",
         "0.0",
         "0.0",
         "0.00140611",
         "0.00281223",
         "0.201074",
         "0.0",
         "0.0",
         "0.0435895",
         "0.105459",
         "0.262943",
         "0.0",
         "0.00703057",
         "0.0",
         "0.0",
         "0.0",
         "0.0",
         "0.00843668",
         "0.0",
         "0.00140611",
         "0.00562445",
         "0.0210917",
         "0.0",
         "0.0",
         "0.0632751",
         "0.849293",
         "8.85008",
         "0.0196856",
         "0.00281223",
         "0.0",
         "0.00281223",
         "1.13614",
         "0.0",
         "0.0",
         "0.0",
         "0.0323406",
         "0.0",
         "0.00140611",
         "0.0",
         "0.00140611",
         "0.0",
         "0.0",
         "0.154673",
         "0.0",
         "0.0",
         "0.0",
         "0.0",
         "0.00843668",
         "0.00140611",
         "0.0",
         "0.0",
         "0.0",
         "0.210917",
         "0.0",
         "0.0",
         "0.0",
         "0.0",
         "0.0",
         "0.0",
         "0.00140611",
         "0.0112489",
         "0.00562445",
         "0.0",
         "0.0",
         "0.0",
         "0.733991",
         "0.0",
         "0.0",
         "0.0",
         "0.0",
         "0.0",
         "0.0",
         "0.0970218",
         "0.172952",
         "0.0",
         "0.0",
         "0.0717118",
         "0.00281223",
         "0.0",
         "0.0",
         "0.178576",
         "0.00140611",
         "0.0",
         "0.0",
         "0.0",
         "0.0",
         "0.0",
         "0.0",
         "0.0",
         "0.0",
         "0.0",
         "0.0",
         "0.0",
         "0.731179",
         "0.108271",
         "0.104052",
         "0.0",
         "0.00281223",
         "0.552603",
         "0.036559",
         "0.0098428",
         "0.0",
         "0.00843668",
         "0.0",
         "0.00281223",
         "0.0098428",
         "0.0",
         "0.0",
         "0.0",
         "0.00421834",
         "0.0",
         "0.0",
         "0.00562445",
         "0.0",
         "0.0",
         "0.118114",
         "0.0",
         "0.0885852",
         "0.036559",
         "0.428865",
         "0.0239039",
         "0.0154673",
         "0.00281223",
         "0.0295284",
         "0.0",
         "0.00562445",
         "0.00281223",
         "0.00703057",
         "0.0",
         "0.0",
         "0.0",
         "0.0",
         "0.00562445",
         "0.0168734"
        ],
        [
         "3",
         "0.0",
         "0.00882457",
         "0.273562",
         "0.0",
         "0.0441228",
         "0.00441228",
         "0.34857",
         "0.0",
         "0.0264737",
         "0.586834",
         "0.34857",
         "0.0",
         "0.167667",
         "0.00882457",
         "0.0",
         "0.0132369",
         "0.0176491",
         "0.207377",
         "0.0",
         "0.00441228",
         "1.41634",
         "0.030886",
         "0.0132369",
         "0.0132369",
         "0.101483",
         "3.6269",
         "1.61048",
         "2.56354",
         "1.75609",
         "2.78415",
         "0.0",
         "0.00441228",
         "0.00882457",
         "0.00441228",
         "0.0",
         "0.114719",
         "0.547123",
         "0.0",
         "0.136781",
         "0.00441228",
         "0.0",
         "0.0",
         "0.0176491",
         "0.0",
         "0.0",
         "0.0",
         "0.00882457",
         "0.0",
         "0.0",
         "0.0",
         "0.0",
         "0.0",
         "0.0750088",
         "0.0",
         "0.0",
         "0.0264737",
         "0.0",
         "0.0",
         "0.0264737",
         "0.0",
         "0.198553",
         "0.0661843",
         "4.33286",
         "0.0",
         "0.0",
         "0.0794211",
         "0.00441228",
         "0.0",
         "0.0",
         "0.0",
         "0.0",
         "0.0",
         "0.516237",
         "1.34575",
         "0.0",
         "0.0",
         "1.21779",
         "0.00441228",
         "0.688316",
         "0.891281",
         "0.0705965",
         "0.00882457",
         "0.00441228",
         "0.00882457",
         "0.0",
         "0.0",
         "0.00882457",
         "0.0",
         "0.0220614",
         "0.0",
         "0.00882457",
         "0.0",
         "0.00441228",
         "0.578009",
         "0.21179",
         "0.061772",
         "0.0",
         "0.520649",
         "0.626544",
         "0.0132369",
         "0.0132369",
         "0.0",
         "0.233851",
         "0.0",
         "0.00882457",
         "0.0",
         "0.644193",
         "0.00441228",
         "0.286798",
         "0.0",
         "0.0",
         "0.0",
         "0.030886",
         "0.00441228",
         "0.00882457",
         "0.00882457",
         "0.00441228",
         "0.326509",
         "0.0220614",
         "0.0264737",
         "0.0441228",
         "0.123544",
         "0.0132369",
         "0.163254",
         "0.0176491",
         "0.198553",
         "0.0",
         "0.158842",
         "0.030886",
         "0.101483",
         "0.0",
         "0.0",
         "0.0",
         "0.0"
        ],
        [
         "4",
         "0.00287836",
         "0.0374187",
         "7.35997",
         "0.0",
         "0.872143",
         "0.0",
         "0.0",
         "0.0",
         "1.73277",
         "1.00455",
         "0.0460538",
         "0.0",
         "0.0115134",
         "0.0575672",
         "0.00287836",
         "0.0115134",
         "0.00575672",
         "0.126648",
         "0.0",
         "0.0",
         "0.0115134",
         "0.518105",
         "0.00287836",
         "0.0",
         "0.0863508",
         "0.031662",
         "20.0737",
         "0.00575672",
         "0.00575672",
         "0.00287836",
         "0.0",
         "0.0",
         "0.0",
         "0.0",
         "0.0",
         "0.0259052",
         "1.44494",
         "0.0",
         "0.0143918",
         "0.00287836",
         "0.0",
         "0.0",
         "0.031662",
         "0.00287836",
         "0.0",
         "0.0",
         "0.0",
         "0.0",
         "0.17558",
         "0.00287836",
         "0.0604456",
         "0.0",
         "0.0",
         "0.00575672",
         "0.00287836",
         "0.0",
         "0.0",
         "0.0",
         "0.0",
         "0.0",
         "0.00575672",
         "0.0",
         "0.31662",
         "0.0",
         "0.0",
         "0.0",
         "0.0777157",
         "0.0",
         "0.0",
         "0.0",
         "0.0",
         "0.00575672",
         "0.195729",
         "0.91244",
         "0.0",
         "0.0",
         "0.00863508",
         "0.0",
         "0.0",
         "0.00575672",
         "1.46221",
         "0.0",
         "0.0",
         "0.00287836",
         "0.0",
         "0.00287836",
         "0.0",
         "0.0",
         "0.0201485",
         "0.0",
         "0.0",
         "0.0",
         "0.0",
         "0.898048",
         "0.00287836",
         "0.0143918",
         "0.0",
         "0.0",
         "0.00287836",
         "0.0172702",
         "0.0",
         "0.00863508",
         "0.0259052",
         "0.0",
         "0.0115134",
         "0.00287836",
         "0.0",
         "0.0",
         "0.0",
         "0.0",
         "0.0143918",
         "0.0",
         "0.820333",
         "0.103621",
         "0.0",
         "0.00287836",
         "0.0259052",
         "0.906684",
         "0.434632",
         "0.040297",
         "0.00287836",
         "0.0921075",
         "0.00287836",
         "0.423119",
         "0.305106",
         "0.135283",
         "0.0",
         "0.0518105",
         "0.0546888",
         "0.0834725",
         "0.0201485",
         "0.0",
         "0.0546888",
         "0.0115134"
        ]
       ],
       "shape": {
        "columns": 134,
        "rows": 5
       }
      },
      "text/html": [
       "<div>\n",
       "<style scoped>\n",
       "    .dataframe tbody tr th:only-of-type {\n",
       "        vertical-align: middle;\n",
       "    }\n",
       "\n",
       "    .dataframe tbody tr th {\n",
       "        vertical-align: top;\n",
       "    }\n",
       "\n",
       "    .dataframe thead th {\n",
       "        text-align: right;\n",
       "    }\n",
       "</style>\n",
       "<table border=\"1\" class=\"dataframe\">\n",
       "  <thead>\n",
       "    <tr style=\"text-align: right;\">\n",
       "      <th></th>\n",
       "      <th>Acholeplasma axanthum</th>\n",
       "      <th>Acidaminococcus fermentans</th>\n",
       "      <th>Acidaminococcus intestini</th>\n",
       "      <th>Actinomyces lingnae</th>\n",
       "      <th>Akkermansia muciniphila</th>\n",
       "      <th>Alistipes finegoldii</th>\n",
       "      <th>Alistipes indistinctus</th>\n",
       "      <th>Alistipes obesi</th>\n",
       "      <th>Alistipes onderdonkii</th>\n",
       "      <th>Alistipes putredinis</th>\n",
       "      <th>...</th>\n",
       "      <th>Clostridium sphenoides</th>\n",
       "      <th>Clostridium spiroforme</th>\n",
       "      <th>Clostridium stercorarium</th>\n",
       "      <th>Clostridium symbiosum</th>\n",
       "      <th>Clostridium thermosuccinogenes</th>\n",
       "      <th>Clostridium xylanolyticum</th>\n",
       "      <th>Eubacterium brachy</th>\n",
       "      <th>Eubacterium dolichum</th>\n",
       "      <th>Eubacterium sulci</th>\n",
       "      <th>Ruminococcus gnavus</th>\n",
       "    </tr>\n",
       "  </thead>\n",
       "  <tbody>\n",
       "    <tr>\n",
       "      <th>0</th>\n",
       "      <td>0.000000</td>\n",
       "      <td>0.000000</td>\n",
       "      <td>0.000000</td>\n",
       "      <td>0.000000</td>\n",
       "      <td>0.017674</td>\n",
       "      <td>0.000000</td>\n",
       "      <td>0.00000</td>\n",
       "      <td>0.0</td>\n",
       "      <td>0.117827</td>\n",
       "      <td>0.005891</td>\n",
       "      <td>...</td>\n",
       "      <td>0.005891</td>\n",
       "      <td>0.029457</td>\n",
       "      <td>0.000000</td>\n",
       "      <td>0.000000</td>\n",
       "      <td>0.002946</td>\n",
       "      <td>0.000000</td>\n",
       "      <td>0.000000</td>\n",
       "      <td>0.000000</td>\n",
       "      <td>0.002946</td>\n",
       "      <td>0.100153</td>\n",
       "    </tr>\n",
       "    <tr>\n",
       "      <th>1</th>\n",
       "      <td>0.001028</td>\n",
       "      <td>0.000000</td>\n",
       "      <td>0.000000</td>\n",
       "      <td>0.000000</td>\n",
       "      <td>13.015800</td>\n",
       "      <td>0.001542</td>\n",
       "      <td>0.00000</td>\n",
       "      <td>0.0</td>\n",
       "      <td>0.073486</td>\n",
       "      <td>0.403916</td>\n",
       "      <td>...</td>\n",
       "      <td>0.000000</td>\n",
       "      <td>0.002569</td>\n",
       "      <td>0.412652</td>\n",
       "      <td>0.003083</td>\n",
       "      <td>0.000000</td>\n",
       "      <td>0.000000</td>\n",
       "      <td>0.008736</td>\n",
       "      <td>0.014903</td>\n",
       "      <td>0.077597</td>\n",
       "      <td>0.004625</td>\n",
       "    </tr>\n",
       "    <tr>\n",
       "      <th>2</th>\n",
       "      <td>0.001406</td>\n",
       "      <td>0.000000</td>\n",
       "      <td>0.000000</td>\n",
       "      <td>0.001406</td>\n",
       "      <td>0.002812</td>\n",
       "      <td>0.201074</td>\n",
       "      <td>0.00000</td>\n",
       "      <td>0.0</td>\n",
       "      <td>0.043590</td>\n",
       "      <td>0.105459</td>\n",
       "      <td>...</td>\n",
       "      <td>0.000000</td>\n",
       "      <td>0.005624</td>\n",
       "      <td>0.002812</td>\n",
       "      <td>0.007031</td>\n",
       "      <td>0.000000</td>\n",
       "      <td>0.000000</td>\n",
       "      <td>0.000000</td>\n",
       "      <td>0.000000</td>\n",
       "      <td>0.005624</td>\n",
       "      <td>0.016873</td>\n",
       "    </tr>\n",
       "    <tr>\n",
       "      <th>3</th>\n",
       "      <td>0.000000</td>\n",
       "      <td>0.008825</td>\n",
       "      <td>0.273562</td>\n",
       "      <td>0.000000</td>\n",
       "      <td>0.044123</td>\n",
       "      <td>0.004412</td>\n",
       "      <td>0.34857</td>\n",
       "      <td>0.0</td>\n",
       "      <td>0.026474</td>\n",
       "      <td>0.586834</td>\n",
       "      <td>...</td>\n",
       "      <td>0.017649</td>\n",
       "      <td>0.198553</td>\n",
       "      <td>0.000000</td>\n",
       "      <td>0.158842</td>\n",
       "      <td>0.030886</td>\n",
       "      <td>0.101483</td>\n",
       "      <td>0.000000</td>\n",
       "      <td>0.000000</td>\n",
       "      <td>0.000000</td>\n",
       "      <td>0.000000</td>\n",
       "    </tr>\n",
       "    <tr>\n",
       "      <th>4</th>\n",
       "      <td>0.002878</td>\n",
       "      <td>0.037419</td>\n",
       "      <td>7.359970</td>\n",
       "      <td>0.000000</td>\n",
       "      <td>0.872143</td>\n",
       "      <td>0.000000</td>\n",
       "      <td>0.00000</td>\n",
       "      <td>0.0</td>\n",
       "      <td>1.732770</td>\n",
       "      <td>1.004550</td>\n",
       "      <td>...</td>\n",
       "      <td>0.305106</td>\n",
       "      <td>0.135283</td>\n",
       "      <td>0.000000</td>\n",
       "      <td>0.051811</td>\n",
       "      <td>0.054689</td>\n",
       "      <td>0.083473</td>\n",
       "      <td>0.020148</td>\n",
       "      <td>0.000000</td>\n",
       "      <td>0.054689</td>\n",
       "      <td>0.011513</td>\n",
       "    </tr>\n",
       "  </tbody>\n",
       "</table>\n",
       "<p>5 rows × 134 columns</p>\n",
       "</div>"
      ],
      "text/plain": [
       "   Acholeplasma axanthum  Acidaminococcus fermentans  \\\n",
       "0               0.000000                    0.000000   \n",
       "1               0.001028                    0.000000   \n",
       "2               0.001406                    0.000000   \n",
       "3               0.000000                    0.008825   \n",
       "4               0.002878                    0.037419   \n",
       "\n",
       "   Acidaminococcus intestini  Actinomyces lingnae  Akkermansia muciniphila  \\\n",
       "0                   0.000000             0.000000                 0.017674   \n",
       "1                   0.000000             0.000000                13.015800   \n",
       "2                   0.000000             0.001406                 0.002812   \n",
       "3                   0.273562             0.000000                 0.044123   \n",
       "4                   7.359970             0.000000                 0.872143   \n",
       "\n",
       "   Alistipes finegoldii  Alistipes indistinctus  Alistipes obesi  \\\n",
       "0              0.000000                 0.00000              0.0   \n",
       "1              0.001542                 0.00000              0.0   \n",
       "2              0.201074                 0.00000              0.0   \n",
       "3              0.004412                 0.34857              0.0   \n",
       "4              0.000000                 0.00000              0.0   \n",
       "\n",
       "   Alistipes onderdonkii  Alistipes putredinis  ...  Clostridium sphenoides  \\\n",
       "0               0.117827              0.005891  ...                0.005891   \n",
       "1               0.073486              0.403916  ...                0.000000   \n",
       "2               0.043590              0.105459  ...                0.000000   \n",
       "3               0.026474              0.586834  ...                0.017649   \n",
       "4               1.732770              1.004550  ...                0.305106   \n",
       "\n",
       "   Clostridium spiroforme  Clostridium stercorarium  Clostridium symbiosum  \\\n",
       "0                0.029457                  0.000000               0.000000   \n",
       "1                0.002569                  0.412652               0.003083   \n",
       "2                0.005624                  0.002812               0.007031   \n",
       "3                0.198553                  0.000000               0.158842   \n",
       "4                0.135283                  0.000000               0.051811   \n",
       "\n",
       "   Clostridium thermosuccinogenes  Clostridium xylanolyticum  \\\n",
       "0                        0.002946                   0.000000   \n",
       "1                        0.000000                   0.000000   \n",
       "2                        0.000000                   0.000000   \n",
       "3                        0.030886                   0.101483   \n",
       "4                        0.054689                   0.083473   \n",
       "\n",
       "   Eubacterium brachy  Eubacterium dolichum  Eubacterium sulci  \\\n",
       "0            0.000000              0.000000           0.002946   \n",
       "1            0.008736              0.014903           0.077597   \n",
       "2            0.000000              0.000000           0.005624   \n",
       "3            0.000000              0.000000           0.000000   \n",
       "4            0.020148              0.000000           0.054689   \n",
       "\n",
       "   Ruminococcus gnavus  \n",
       "0             0.100153  \n",
       "1             0.004625  \n",
       "2             0.016873  \n",
       "3             0.000000  \n",
       "4             0.011513  \n",
       "\n",
       "[5 rows x 134 columns]"
      ]
     },
     "execution_count": 7,
     "metadata": {},
     "output_type": "execute_result"
    }
   ],
   "source": [
    "bacteria.head()"
   ]
  },
  {
   "cell_type": "markdown",
   "metadata": {},
   "source": [
    "## General Statistics"
   ]
  },
  {
   "cell_type": "markdown",
   "metadata": {},
   "source": [
    "### BMI"
   ]
  },
  {
   "cell_type": "code",
   "execution_count": 16,
   "metadata": {},
   "outputs": [],
   "source": [
    "def plot_kde(\n",
    "        df,\n",
    "        title=\"Kernel Density Estimation\",\n",
    "        x_label=\"Values\",\n",
    "        y_label=\"Frequency\",\n",
    "        color_by_sex=None\n",
    "    ):\n",
    "\n",
    "    plt.figure(figsize=(10, 7))\n",
    "    # sns.histplot(\n",
    "    #     df, bins=20, kde=True\n",
    "    # )\n",
    "\n",
    "    if isinstance(color_by_sex, pd.Series) or isinstance(color_by_sex, pd.DataFrame):\n",
    "        data = pd.DataFrame({\"BMI\": df, \"Sex\": color_by_sex})\n",
    "        sns.histplot(data=data, x=\"BMI\", bins=20, kde=True, hue=\"Sex\", alpha=0.6)\n",
    "    else:\n",
    "        sns.histplot(df, bins=20, kde=True)\n",
    "\n",
    "    plt.title(title)\n",
    "    plt.xlabel(x_label)\n",
    "    plt.ylabel(y_label)\n",
    "    plt.grid(True, linestyle=\"--\", alpha=0.6)\n",
    "\n",
    "    plt.show()"
   ]
  },
  {
   "cell_type": "code",
   "execution_count": 17,
   "metadata": {},
   "outputs": [
    {
     "data": {
      "image/png": "[encoded data removed]",
      "text/plain": [
       "<Figure size 1000x700 with 1 Axes>"
      ]
     },
     "metadata": {},
     "output_type": "display_data"
    }
   ],
   "source": [
    "plot_kde(\n",
    "    bmi,\n",
    "    title=\"BMI Distribution\",\n",
    "    x_label=\"BMI\",\n",
    "    color_by_sex=sex\n",
    ")"
   ]
  },
  {
   "cell_type": "markdown",
   "metadata": {},
   "source": [
    "### Bacteria"
   ]
  },
  {
   "cell_type": "code",
   "execution_count": 10,
   "metadata": {},
   "outputs": [],
   "source": [
    "def plot_feature_spans(df, sort_features=True):\n",
    "    stats = np.array([df.mean(), df.min(), df.max()]).T\n",
    "\n",
    "    if sort_features:\n",
    "        stats = stats[stats[:, 0].argsort()]\n",
    "\n",
    "    plt.figure(figsize=(15, 5))\n",
    "    plt.scatter(\n",
    "        range(len(stats)), stats[:, 0],\n",
    "        marker=\"o\", c='black', s=50,\n",
    "        label=\"Mean\",\n",
    "        zorder=4\n",
    "    )\n",
    "    plt.vlines(\n",
    "        range(len(stats)),\n",
    "        stats[:, 1], stats[:, 2],\n",
    "        color='blue', linestyle='-', lw=3, alpha=0.5,\n",
    "        label=\"Min to Max\"\n",
    "    )\n",
    "    plt.scatter(\n",
    "        range(len(stats)), stats[:, 1],\n",
    "        c='blue', s=25,\n",
    "        label=\"Min\",\n",
    "        zorder=3\n",
    "    )\n",
    "    plt.scatter(\n",
    "        range(len(stats)), stats[:, 2],\n",
    "        c='blue', s=25,\n",
    "        label=\"Max\",\n",
    "        zorder=3\n",
    "    )\n",
    "    plt.xlabel(\"Feature index\")\n",
    "    plt.ylabel(\"Values\")\n",
    "    plt.title(\"Sorted features by mean value\")\n",
    "    plt.grid(True, linestyle=\"--\", alpha=0.6)\n",
    "    plt.legend()\n",
    "    plt.show()"
   ]
  },
  {
   "cell_type": "code",
   "execution_count": 11,
   "metadata": {},
   "outputs": [
    {
     "data": {
      "image/png": "[encoded data removed]",
      "text/plain": [
       "<Figure size 1500x500 with 1 Axes>"
      ]
     },
     "metadata": {},
     "output_type": "display_data"
    }
   ],
   "source": [
    "plot_feature_spans(bacteria)"
   ]
  },
  {
   "cell_type": "markdown",
   "metadata": {},
   "source": [
    "### Sex and Age"
   ]
  },
  {
   "cell_type": "code",
   "execution_count": 12,
   "metadata": {},
   "outputs": [
    {
     "data": {
      "image/png": "[encoded data removed]",
      "text/plain": [
       "<Figure size 700x600 with 1 Axes>"
      ]
     },
     "metadata": {},
     "output_type": "display_data"
    }
   ],
   "source": [
    "plot_kde(\n",
    "    age,\n",
    "    title=\"Age Distribution\",\n",
    "    x_label=\"BMI\"\n",
    ")"
   ]
  },
  {
   "cell_type": "code",
   "execution_count": 27,
   "metadata": {},
   "outputs": [
    {
     "data": {
      "image/png": "[encoded data removed]",
      "text/plain": [
       "<Figure size 700x600 with 1 Axes>"
      ]
     },
     "metadata": {},
     "output_type": "display_data"
    }
   ],
   "source": [
    "# Plot the number of males and females in the study\n",
    "plt.figure(figsize=(7, 6))\n",
    "sns.countplot(sex)\n",
    "plt.show()"
   ]
  }
 ],
 "metadata": {
  "kernelspec": {
   "display_name": ".venv",
   "language": "python",
   "name": "python3"
  },
  "language_info": {
   "codemirror_mode": {
    "name": "ipython",
    "version": 3
   },
   "file_extension": ".py",
   "mimetype": "text/x-python",
   "name": "python",
   "nbconvert_exporter": "python",
   "pygments_lexer": "ipython3",
   "version": "3.12.3"
  }
 },
 "nbformat": 4,
 "nbformat_minor": 2
}
