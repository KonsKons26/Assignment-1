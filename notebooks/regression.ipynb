{
 "cells": [
  {
   "cell_type": "markdown",
   "metadata": {},
   "source": [
    "# Imports"
   ]
  },
  {
   "cell_type": "code",
   "execution_count": 1,
   "metadata": {},
   "outputs": [
    {
     "name": "stdout",
     "output_type": "stream",
     "text": [
      "/home/cotsios/dsit/2nd-semester/ml-in-comp-bio/Assignment-1\n"
     ]
    }
   ],
   "source": [
    "import sys\n",
    "import os\n",
    "import json\n",
    "import numpy as np\n",
    "import pickle\n",
    "\n",
    "\n",
    "sys.path.append(os.path.abspath(os.path.join(os.getcwd(), \"..\")))\n",
    "print(sys.path[-1])"
   ]
  },
  {
   "cell_type": "code",
   "execution_count": 2,
   "metadata": {},
   "outputs": [],
   "source": [
    "import pandas as pd\n",
    "\n",
    "from src.regression import pipeline\n",
    "from src.regression_visualizations import pretty_print_metrics, plot_metrics"
   ]
  },
  {
   "cell_type": "code",
   "execution_count": 3,
   "metadata": {},
   "outputs": [
    {
     "name": "stdout",
     "output_type": "stream",
     "text": [
      "/home/cotsios/dsit/2nd-semester/ml-in-comp-bio/Assignment-1/data\n",
      "/home/cotsios/dsit/2nd-semester/ml-in-comp-bio/Assignment-1/models\n"
     ]
    }
   ],
   "source": [
    "model_names = [\n",
    "    \"ElasticNet\",\n",
    "    \"SVR\",\n",
    "    \"BayesianRidge\"\n",
    "]\n",
    "\n",
    "RANDOM_STATE = 42\n",
    "\n",
    "BASE_DIR = os.path.abspath(os.path.join(os.getcwd(), \"..\"))\n",
    "DATA_DIR = os.path.join(BASE_DIR, \"data\")\n",
    "MODELS_DIR = os.path.join(BASE_DIR, \"models\")\n",
    "print(DATA_DIR)\n",
    "print(MODELS_DIR)"
   ]
  },
  {
   "cell_type": "code",
   "execution_count": 4,
   "metadata": {},
   "outputs": [
    {
     "data": {
      "application/vnd.microsoft.datawrangler.viewer.v0+json": {
       "columns": [
        {
         "name": "index",
         "rawType": "int64",
         "type": "integer"
        },
        {
         "name": "Sex",
         "rawType": "int64",
         "type": "integer"
        },
        {
         "name": "Host age",
         "rawType": "float64",
         "type": "float"
        },
        {
         "name": "BMI",
         "rawType": "float64",
         "type": "float"
        },
        {
         "name": "Acholeplasma axanthum",
         "rawType": "float64",
         "type": "float"
        },
        {
         "name": "Acidaminococcus fermentans",
         "rawType": "float64",
         "type": "float"
        },
        {
         "name": "Acidaminococcus intestini",
         "rawType": "float64",
         "type": "float"
        },
        {
         "name": "Actinomyces lingnae",
         "rawType": "float64",
         "type": "float"
        },
        {
         "name": "Akkermansia muciniphila",
         "rawType": "float64",
         "type": "float"
        },
        {
         "name": "Alistipes finegoldii",
         "rawType": "float64",
         "type": "float"
        },
        {
         "name": "Alistipes indistinctus",
         "rawType": "float64",
         "type": "float"
        },
        {
         "name": "Alistipes obesi",
         "rawType": "float64",
         "type": "float"
        },
        {
         "name": "Alistipes onderdonkii",
         "rawType": "float64",
         "type": "float"
        },
        {
         "name": "Alistipes putredinis",
         "rawType": "float64",
         "type": "float"
        },
        {
         "name": "Alistipes shahii",
         "rawType": "float64",
         "type": "float"
        },
        {
         "name": "Alistipes sp. RMA 9912",
         "rawType": "float64",
         "type": "float"
        },
        {
         "name": "Alistipes timonensis",
         "rawType": "float64",
         "type": "float"
        },
        {
         "name": "Anaerofilum pentosovorans",
         "rawType": "float64",
         "type": "float"
        },
        {
         "name": "Anaerofustis stercorihominis",
         "rawType": "float64",
         "type": "float"
        },
        {
         "name": "Anaerostipes butyraticus",
         "rawType": "float64",
         "type": "float"
        },
        {
         "name": "Anaerostipes caccae",
         "rawType": "float64",
         "type": "float"
        },
        {
         "name": "Anaerotruncus colihominis",
         "rawType": "float64",
         "type": "float"
        },
        {
         "name": "Bacillus megaterium",
         "rawType": "float64",
         "type": "float"
        },
        {
         "name": "Bacillus nealsonii",
         "rawType": "float64",
         "type": "float"
        },
        {
         "name": "Bacteroides eggerthii",
         "rawType": "float64",
         "type": "float"
        },
        {
         "name": "Bacteroides fragilis",
         "rawType": "float64",
         "type": "float"
        },
        {
         "name": "Bacteroides gallinarum",
         "rawType": "float64",
         "type": "float"
        },
        {
         "name": "Bacteroides graminisolvens",
         "rawType": "float64",
         "type": "float"
        },
        {
         "name": "Bacteroides intestinalis",
         "rawType": "float64",
         "type": "float"
        },
        {
         "name": "Bacteroides massiliensis",
         "rawType": "float64",
         "type": "float"
        },
        {
         "name": "Bacteroides ovatus",
         "rawType": "float64",
         "type": "float"
        },
        {
         "name": "Bacteroides plebeius",
         "rawType": "float64",
         "type": "float"
        },
        {
         "name": "Bacteroides salyersiae",
         "rawType": "float64",
         "type": "float"
        },
        {
         "name": "Barnesiella viscericola",
         "rawType": "float64",
         "type": "float"
        },
        {
         "name": "Bifidobacterium bifidum",
         "rawType": "float64",
         "type": "float"
        },
        {
         "name": "Bifidobacterium pseudocatenulatum",
         "rawType": "float64",
         "type": "float"
        },
        {
         "name": "Bifidobacterium saguini",
         "rawType": "float64",
         "type": "float"
        },
        {
         "name": "Bifidobacterium tsurumiense",
         "rawType": "float64",
         "type": "float"
        },
        {
         "name": "Bilophila wadsworthia",
         "rawType": "float64",
         "type": "float"
        },
        {
         "name": "Blautia coccoides",
         "rawType": "float64",
         "type": "float"
        },
        {
         "name": "Blautia glucerasea",
         "rawType": "float64",
         "type": "float"
        },
        {
         "name": "Blautia hydrogenotrophica",
         "rawType": "float64",
         "type": "float"
        },
        {
         "name": "Blautia producta",
         "rawType": "float64",
         "type": "float"
        },
        {
         "name": "Blautia schinkii",
         "rawType": "float64",
         "type": "float"
        },
        {
         "name": "Butyricimonas virosa",
         "rawType": "float64",
         "type": "float"
        },
        {
         "name": "Catabacter hongkongensis",
         "rawType": "float64",
         "type": "float"
        },
        {
         "name": "Christensenella minuta",
         "rawType": "float64",
         "type": "float"
        },
        {
         "name": "Clostridium amylolyticum",
         "rawType": "float64",
         "type": "float"
        },
        {
         "name": "Clostridium malenominatum",
         "rawType": "float64",
         "type": "float"
        },
        {
         "name": "Clostridium maximum",
         "rawType": "float64",
         "type": "float"
        },
        {
         "name": "Clostridium sp.",
         "rawType": "float64",
         "type": "float"
        },
        {
         "name": "Collinsella aerofaciens",
         "rawType": "float64",
         "type": "float"
        },
        {
         "name": "Collinsella intestinalis",
         "rawType": "float64",
         "type": "float"
        },
        {
         "name": "Collinsella tanakaei",
         "rawType": "float64",
         "type": "float"
        },
        {
         "name": "Coprobacillus cateniformis",
         "rawType": "float64",
         "type": "float"
        },
        {
         "name": "Coprococcus catus",
         "rawType": "float64",
         "type": "float"
        },
        {
         "name": "Coprococcus eutactus",
         "rawType": "float64",
         "type": "float"
        },
        {
         "name": "Desulfonispora thiosulfatigenes",
         "rawType": "float64",
         "type": "float"
        },
        {
         "name": "Desulfosporosinus orientis",
         "rawType": "float64",
         "type": "float"
        },
        {
         "name": "Desulfovibrio desulfuricans",
         "rawType": "float64",
         "type": "float"
        },
        {
         "name": "Desulfovibrio fairfieldensis",
         "rawType": "float64",
         "type": "float"
        },
        {
         "name": "Desulfovibrio piger",
         "rawType": "float64",
         "type": "float"
        },
        {
         "name": "Desulfovibrio vulgaris",
         "rawType": "float64",
         "type": "float"
        },
        {
         "name": "Ethanoligenens harbinense",
         "rawType": "float64",
         "type": "float"
        },
        {
         "name": "Eubacterium desmolans",
         "rawType": "float64",
         "type": "float"
        },
        {
         "name": "Eubacterium xylanophilum",
         "rawType": "float64",
         "type": "float"
        },
        {
         "name": "Faecalibacterium sp. MC_41",
         "rawType": "float64",
         "type": "float"
        },
        {
         "name": "Flavonifractor plautii",
         "rawType": "float64",
         "type": "float"
        },
        {
         "name": "Fusobacterium nucleatum",
         "rawType": "float64",
         "type": "float"
        },
        {
         "name": "Holdemanella biformis",
         "rawType": "float64",
         "type": "float"
        },
        {
         "name": "Holdemania filiformis",
         "rawType": "float64",
         "type": "float"
        },
        {
         "name": "Hungatella hathewayi",
         "rawType": "float64",
         "type": "float"
        },
        {
         "name": "Lachnospiraceae bacterium 3_1_57FAA_CT1",
         "rawType": "float64",
         "type": "float"
        },
        {
         "name": "Lachnospiraceae bacterium 5_1_63FAA",
         "rawType": "float64",
         "type": "float"
        },
        {
         "name": "Lachnospiraceae bacterium 7_1_58FAA",
         "rawType": "float64",
         "type": "float"
        },
        {
         "name": "Lactococcus lactis",
         "rawType": "float64",
         "type": "float"
        },
        {
         "name": "Odoribacter splanchnicus",
         "rawType": "float64",
         "type": "float"
        },
        {
         "name": "Oscillibacter valericigenes",
         "rawType": "float64",
         "type": "float"
        },
        {
         "name": "Oxalobacter formigenes",
         "rawType": "float64",
         "type": "float"
        },
        {
         "name": "Papillibacter cinnamivorans",
         "rawType": "float64",
         "type": "float"
        },
        {
         "name": "Parabacteroides distasonis",
         "rawType": "float64",
         "type": "float"
        },
        {
         "name": "Parabacteroides goldsteinii",
         "rawType": "float64",
         "type": "float"
        },
        {
         "name": "Parabacteroides johnsonii",
         "rawType": "float64",
         "type": "float"
        },
        {
         "name": "Parabacteroides merdae",
         "rawType": "float64",
         "type": "float"
        },
        {
         "name": "Parasutterella excrementihominis",
         "rawType": "float64",
         "type": "float"
        },
        {
         "name": "Peptoniphilus lacrimalis",
         "rawType": "float64",
         "type": "float"
        },
        {
         "name": "Porphyromonas catoniae",
         "rawType": "float64",
         "type": "float"
        },
        {
         "name": "Prevotella bivia",
         "rawType": "float64",
         "type": "float"
        },
        {
         "name": "Prevotella buccalis",
         "rawType": "float64",
         "type": "float"
        },
        {
         "name": "Prevotella oris",
         "rawType": "float64",
         "type": "float"
        },
        {
         "name": "Prevotella oryzae",
         "rawType": "float64",
         "type": "float"
        },
        {
         "name": "Prevotella paludivivens",
         "rawType": "float64",
         "type": "float"
        },
        {
         "name": "Prevotella ruminicola",
         "rawType": "float64",
         "type": "float"
        },
        {
         "name": "Prevotella shahii",
         "rawType": "float64",
         "type": "float"
        },
        {
         "name": "Prevotella timonensis",
         "rawType": "float64",
         "type": "float"
        },
        {
         "name": "Pseudobacteroides cellulosolvens",
         "rawType": "float64",
         "type": "float"
        },
        {
         "name": "Pseudoflavonifractor capillosus",
         "rawType": "float64",
         "type": "float"
        },
        {
         "name": "Roseburia hominis",
         "rawType": "float64",
         "type": "float"
        },
        {
         "name": "Roseburia intestinalis",
         "rawType": "float64",
         "type": "float"
        },
        {
         "name": "Ruminiclostridium thermocellum",
         "rawType": "float64",
         "type": "float"
        },
        {
         "name": "Ruminococcaceae bacterium D16",
         "rawType": "float64",
         "type": "float"
        },
        {
         "name": "Ruminococcus albus",
         "rawType": "float64",
         "type": "float"
        },
        {
         "name": "Ruminococcus callidus",
         "rawType": "float64",
         "type": "float"
        },
        {
         "name": "Ruminococcus champanellensis",
         "rawType": "float64",
         "type": "float"
        },
        {
         "name": "Ruminococcus flavefaciens",
         "rawType": "float64",
         "type": "float"
        },
        {
         "name": "Ruminococcus sp. DSM 100440",
         "rawType": "float64",
         "type": "float"
        },
        {
         "name": "Sporobacter termitidis",
         "rawType": "float64",
         "type": "float"
        },
        {
         "name": "Streptococcus infantarius",
         "rawType": "float64",
         "type": "float"
        },
        {
         "name": "Streptococcus mitis",
         "rawType": "float64",
         "type": "float"
        },
        {
         "name": "Streptococcus oralis",
         "rawType": "float64",
         "type": "float"
        },
        {
         "name": "Sutterella parvirubra",
         "rawType": "float64",
         "type": "float"
        },
        {
         "name": "Thermobaculum terrenum",
         "rawType": "float64",
         "type": "float"
        },
        {
         "name": "Victivallis sp. MC_44",
         "rawType": "float64",
         "type": "float"
        },
        {
         "name": "Bacteroides pectinophilus",
         "rawType": "float64",
         "type": "float"
        },
        {
         "name": "Clostridium aldenense",
         "rawType": "float64",
         "type": "float"
        },
        {
         "name": "Clostridium asparagiforme",
         "rawType": "float64",
         "type": "float"
        },
        {
         "name": "Clostridium bolteae",
         "rawType": "float64",
         "type": "float"
        },
        {
         "name": "Clostridium celerecrescens",
         "rawType": "float64",
         "type": "float"
        },
        {
         "name": "Clostridium cellobioparum",
         "rawType": "float64",
         "type": "float"
        },
        {
         "name": "Clostridium clariflavum",
         "rawType": "float64",
         "type": "float"
        },
        {
         "name": "Clostridium colinum",
         "rawType": "float64",
         "type": "float"
        },
        {
         "name": "Clostridium indolis",
         "rawType": "float64",
         "type": "float"
        },
        {
         "name": "Clostridium leptum",
         "rawType": "float64",
         "type": "float"
        },
        {
         "name": "Clostridium methylpentosum",
         "rawType": "float64",
         "type": "float"
        },
        {
         "name": "Clostridium neopropionicum",
         "rawType": "float64",
         "type": "float"
        },
        {
         "name": "Clostridium propionicum",
         "rawType": "float64",
         "type": "float"
        },
        {
         "name": "Clostridium saccharogumia",
         "rawType": "float64",
         "type": "float"
        },
        {
         "name": "Clostridium saccharolyticum",
         "rawType": "float64",
         "type": "float"
        },
        {
         "name": "Clostridium sphenoides",
         "rawType": "float64",
         "type": "float"
        },
        {
         "name": "Clostridium spiroforme",
         "rawType": "float64",
         "type": "float"
        },
        {
         "name": "Clostridium stercorarium",
         "rawType": "float64",
         "type": "float"
        },
        {
         "name": "Clostridium symbiosum",
         "rawType": "float64",
         "type": "float"
        },
        {
         "name": "Clostridium thermosuccinogenes",
         "rawType": "float64",
         "type": "float"
        },
        {
         "name": "Clostridium xylanolyticum",
         "rawType": "float64",
         "type": "float"
        },
        {
         "name": "Eubacterium brachy",
         "rawType": "float64",
         "type": "float"
        },
        {
         "name": "Eubacterium dolichum",
         "rawType": "float64",
         "type": "float"
        },
        {
         "name": "Eubacterium sulci",
         "rawType": "float64",
         "type": "float"
        },
        {
         "name": "Ruminococcus gnavus",
         "rawType": "float64",
         "type": "float"
        }
       ],
       "conversionMethod": "pd.DataFrame",
       "ref": "da4ede38-bb24-4bf9-a396-50e2e90df566",
       "rows": [
        [
         "0",
         "0",
         "53.0",
         "19.01",
         "0.0",
         "0.0",
         "0.0",
         "0.0",
         "0.0176741",
         "0.0",
         "0.0",
         "0.0",
         "0.117827",
         "0.00589136",
         "0.0",
         "0.0",
         "0.00883705",
         "0.00294568",
         "0.0",
         "0.0324025",
         "0.0294568",
         "0.0",
         "0.00589136",
         "0.0",
         "0.0",
         "0.0",
         "0.0",
         "0.0",
         "0.0",
         "0.0",
         "0.913161",
         "0.0",
         "0.0",
         "0.00294568",
         "0.0",
         "0.0",
         "0.0",
         "0.0",
         "0.0",
         "0.0471309",
         "0.0176741",
         "0.0",
         "0.0765877",
         "0.0",
         "0.0",
         "0.0",
         "0.0",
         "0.0",
         "0.0",
         "0.00294568",
         "0.0",
         "0.0",
         "0.0",
         "0.0",
         "0.0441852",
         "0.0",
         "0.0",
         "0.0",
         "0.0",
         "0.0117827",
         "0.0",
         "0.0",
         "0.00294568",
         "0.0",
         "0.00294568",
         "0.0",
         "0.00883705",
         "0.0",
         "0.0",
         "0.0",
         "0.0235655",
         "0.0",
         "0.0",
         "0.0",
         "0.0",
         "0.00883705",
         "0.0",
         "0.0",
         "0.0",
         "0.0",
         "0.0",
         "0.0",
         "0.0",
         "0.00294568",
         "0.0",
         "0.0",
         "0.0",
         "0.0",
         "0.0",
         "0.0",
         "0.0",
         "0.0",
         "0.0",
         "0.0",
         "0.0",
         "0.0",
         "0.0",
         "0.00294568",
         "0.00294568",
         "0.0235655",
         "0.0",
         "0.0",
         "0.0",
         "0.0",
         "0.0",
         "0.0235655",
         "0.00294568",
         "0.0",
         "0.0",
         "0.0",
         "0.0",
         "0.00294568",
         "0.0",
         "0.0",
         "0.0",
         "0.0",
         "0.00883705",
         "0.00883705",
         "0.0",
         "0.00589136",
         "0.0",
         "0.00883705",
         "0.00294568",
         "0.0",
         "0.0",
         "0.0",
         "0.0",
         "0.00294568",
         "0.00589136",
         "0.0294568",
         "0.0",
         "0.0",
         "0.00294568",
         "0.0",
         "0.0",
         "0.0",
         "0.00294568",
         "0.100153"
        ],
        [
         "1",
         "1",
         "21.0",
         "23.5",
         "0.00102778",
         "0.0",
         "0.0",
         "0.0",
         "13.0158",
         "0.00154166",
         "0.0",
         "0.0",
         "0.073486",
         "0.403916",
         "0.0986665",
         "0.0",
         "0.0190139",
         "0.0113055",
         "0.00873609",
         "0.0",
         "0.00102778",
         "0.107916",
         "0.0",
         "0.0",
         "0.201444",
         "0.2035",
         "1.37876",
         "0.0",
         "0.0205555",
         "0.0107916",
         "0.134125",
         "0.0",
         "0.0",
         "1.14494",
         "0.00154166",
         "0.592513",
         "0.0",
         "0.0",
         "0.00565277",
         "0.0220972",
         "0.00154166",
         "0.00668054",
         "0.0",
         "0.00462499",
         "0.0560138",
         "0.0",
         "3.75601",
         "0.000513888",
         "0.0",
         "0.0",
         "0.000513888",
         "0.648526",
         "0.0421388",
         "0.000513888",
         "0.00102778",
         "0.0",
         "0.00462499",
         "0.00359721",
         "0.00462499",
         "0.00462499",
         "0.0215833",
         "0.0",
         "0.0",
         "0.0262083",
         "0.102778",
         "0.0200416",
         "0.0",
         "0.0",
         "0.0",
         "1.04114",
         "0.00513888",
         "0.00102778",
         "0.0",
         "0.0",
         "0.0",
         "0.0123333",
         "0.00102778",
         "2.58794",
         "0.0",
         "0.0493332",
         "0.292402",
         "0.000513888",
         "0.144402",
         "0.000513888",
         "0.041111",
         "0.00256944",
         "0.00205555",
         "0.0",
         "0.0298055",
         "0.0",
         "0.0",
         "0.0",
         "0.0",
         "0.0",
         "0.0",
         "0.524166",
         "0.0",
         "1.09921",
         "0.0118194",
         "5.15327",
         "0.0",
         "0.0185",
         "0.354069",
         "0.0143889",
         "0.332999",
         "0.0",
         "3.02629",
         "0.000513888",
         "0.0082222",
         "0.0236388",
         "0.0",
         "0.0",
         "0.0",
         "0.0",
         "0.00205555",
         "0.0",
         "0.00154166",
         "0.0",
         "0.0",
         "0.202472",
         "0.0",
         "0.00513888",
         "1.79604",
         "1.73437",
         "0.000513888",
         "0.00102778",
         "0.0",
         "0.00719443",
         "0.0",
         "0.00256944",
         "0.412652",
         "0.00308333",
         "0.0",
         "0.0",
         "0.00873609",
         "0.0149027",
         "0.0775971",
         "0.00462499"
        ],
        [
         "2",
         "0",
         "52.0",
         "25.8",
         "0.00140611",
         "0.0",
         "0.0",
         "0.00140611",
         "0.00281223",
         "0.201074",
         "0.0",
         "0.0",
         "0.0435895",
         "0.105459",
         "0.262943",
         "0.0",
         "0.00703057",
         "0.0",
         "0.0",
         "0.0",
         "0.0",
         "0.00843668",
         "0.0",
         "0.00140611",
         "0.00562445",
         "0.0210917",
         "0.0",
         "0.0",
         "0.0632751",
         "0.849293",
         "8.85008",
         "0.0196856",
         "0.00281223",
         "0.0",
         "0.00281223",
         "1.13614",
         "0.0",
         "0.0",
         "0.0",
         "0.0323406",
         "0.0",
         "0.00140611",
         "0.0",
         "0.00140611",
         "0.0",
         "0.0",
         "0.154673",
         "0.0",
         "0.0",
         "0.0",
         "0.0",
         "0.00843668",
         "0.00140611",
         "0.0",
         "0.0",
         "0.0",
         "0.210917",
         "0.0",
         "0.0",
         "0.0",
         "0.0",
         "0.0",
         "0.0",
         "0.00140611",
         "0.0112489",
         "0.00562445",
         "0.0",
         "0.0",
         "0.0",
         "0.733991",
         "0.0",
         "0.0",
         "0.0",
         "0.0",
         "0.0",
         "0.0",
         "0.0970218",
         "0.172952",
         "0.0",
         "0.0",
         "0.0717118",
         "0.00281223",
         "0.0",
         "0.0",
         "0.178576",
         "0.00140611",
         "0.0",
         "0.0",
         "0.0",
         "0.0",
         "0.0",
         "0.0",
         "0.0",
         "0.0",
         "0.0",
         "0.0",
         "0.0",
         "0.731179",
         "0.108271",
         "0.104052",
         "0.0",
         "0.00281223",
         "0.552603",
         "0.036559",
         "0.0098428",
         "0.0",
         "0.00843668",
         "0.0",
         "0.00281223",
         "0.0098428",
         "0.0",
         "0.0",
         "0.0",
         "0.00421834",
         "0.0",
         "0.0",
         "0.00562445",
         "0.0",
         "0.0",
         "0.118114",
         "0.0",
         "0.0885852",
         "0.036559",
         "0.428865",
         "0.0239039",
         "0.0154673",
         "0.00281223",
         "0.0295284",
         "0.0",
         "0.00562445",
         "0.00281223",
         "0.00703057",
         "0.0",
         "0.0",
         "0.0",
         "0.0",
         "0.00562445",
         "0.0168734"
        ],
        [
         "3",
         "1",
         "40.0",
         "23.49",
         "0.0",
         "0.00882457",
         "0.273562",
         "0.0",
         "0.0441228",
         "0.00441228",
         "0.34857",
         "0.0",
         "0.0264737",
         "0.586834",
         "0.34857",
         "0.0",
         "0.167667",
         "0.00882457",
         "0.0",
         "0.0132369",
         "0.0176491",
         "0.207377",
         "0.0",
         "0.00441228",
         "1.41634",
         "0.030886",
         "0.0132369",
         "0.0132369",
         "0.101483",
         "3.6269",
         "1.61048",
         "2.56354",
         "1.75609",
         "2.78415",
         "0.0",
         "0.00441228",
         "0.00882457",
         "0.00441228",
         "0.0",
         "0.114719",
         "0.547123",
         "0.0",
         "0.136781",
         "0.00441228",
         "0.0",
         "0.0",
         "0.0176491",
         "0.0",
         "0.0",
         "0.0",
         "0.00882457",
         "0.0",
         "0.0",
         "0.0",
         "0.0",
         "0.0",
         "0.0750088",
         "0.0",
         "0.0",
         "0.0264737",
         "0.0",
         "0.0",
         "0.0264737",
         "0.0",
         "0.198553",
         "0.0661843",
         "4.33286",
         "0.0",
         "0.0",
         "0.0794211",
         "0.00441228",
         "0.0",
         "0.0",
         "0.0",
         "0.0",
         "0.0",
         "0.516237",
         "1.34575",
         "0.0",
         "0.0",
         "1.21779",
         "0.00441228",
         "0.688316",
         "0.891281",
         "0.0705965",
         "0.00882457",
         "0.00441228",
         "0.00882457",
         "0.0",
         "0.0",
         "0.00882457",
         "0.0",
         "0.0220614",
         "0.0",
         "0.00882457",
         "0.0",
         "0.00441228",
         "0.578009",
         "0.21179",
         "0.061772",
         "0.0",
         "0.520649",
         "0.626544",
         "0.0132369",
         "0.0132369",
         "0.0",
         "0.233851",
         "0.0",
         "0.00882457",
         "0.0",
         "0.644193",
         "0.00441228",
         "0.286798",
         "0.0",
         "0.0",
         "0.0",
         "0.030886",
         "0.00441228",
         "0.00882457",
         "0.00882457",
         "0.00441228",
         "0.326509",
         "0.0220614",
         "0.0264737",
         "0.0441228",
         "0.123544",
         "0.0132369",
         "0.163254",
         "0.0176491",
         "0.198553",
         "0.0",
         "0.158842",
         "0.030886",
         "0.101483",
         "0.0",
         "0.0",
         "0.0",
         "0.0"
        ],
        [
         "4",
         "1",
         "30.0",
         "22.6",
         "0.00287836",
         "0.0374187",
         "7.35997",
         "0.0",
         "0.872143",
         "0.0",
         "0.0",
         "0.0",
         "1.73277",
         "1.00455",
         "0.0460538",
         "0.0",
         "0.0115134",
         "0.0575672",
         "0.00287836",
         "0.0115134",
         "0.00575672",
         "0.126648",
         "0.0",
         "0.0",
         "0.0115134",
         "0.518105",
         "0.00287836",
         "0.0",
         "0.0863508",
         "0.031662",
         "20.0737",
         "0.00575672",
         "0.00575672",
         "0.00287836",
         "0.0",
         "0.0",
         "0.0",
         "0.0",
         "0.0",
         "0.0259052",
         "1.44494",
         "0.0",
         "0.0143918",
         "0.00287836",
         "0.0",
         "0.0",
         "0.031662",
         "0.00287836",
         "0.0",
         "0.0",
         "0.0",
         "0.0",
         "0.17558",
         "0.00287836",
         "0.0604456",
         "0.0",
         "0.0",
         "0.00575672",
         "0.00287836",
         "0.0",
         "0.0",
         "0.0",
         "0.0",
         "0.0",
         "0.00575672",
         "0.0",
         "0.31662",
         "0.0",
         "0.0",
         "0.0",
         "0.0777157",
         "0.0",
         "0.0",
         "0.0",
         "0.0",
         "0.00575672",
         "0.195729",
         "0.91244",
         "0.0",
         "0.0",
         "0.00863508",
         "0.0",
         "0.0",
         "0.00575672",
         "1.46221",
         "0.0",
         "0.0",
         "0.00287836",
         "0.0",
         "0.00287836",
         "0.0",
         "0.0",
         "0.0201485",
         "0.0",
         "0.0",
         "0.0",
         "0.0",
         "0.898048",
         "0.00287836",
         "0.0143918",
         "0.0",
         "0.0",
         "0.00287836",
         "0.0172702",
         "0.0",
         "0.00863508",
         "0.0259052",
         "0.0",
         "0.0115134",
         "0.00287836",
         "0.0",
         "0.0",
         "0.0",
         "0.0",
         "0.0143918",
         "0.0",
         "0.820333",
         "0.103621",
         "0.0",
         "0.00287836",
         "0.0259052",
         "0.906684",
         "0.434632",
         "0.040297",
         "0.00287836",
         "0.0921075",
         "0.00287836",
         "0.423119",
         "0.305106",
         "0.135283",
         "0.0",
         "0.0518105",
         "0.0546888",
         "0.0834725",
         "0.0201485",
         "0.0",
         "0.0546888",
         "0.0115134"
        ]
       ],
       "shape": {
        "columns": 137,
        "rows": 5
       }
      },
      "text/html": [
       "<div>\n",
       "<style scoped>\n",
       "    .dataframe tbody tr th:only-of-type {\n",
       "        vertical-align: middle;\n",
       "    }\n",
       "\n",
       "    .dataframe tbody tr th {\n",
       "        vertical-align: top;\n",
       "    }\n",
       "\n",
       "    .dataframe thead th {\n",
       "        text-align: right;\n",
       "    }\n",
       "</style>\n",
       "<table border=\"1\" class=\"dataframe\">\n",
       "  <thead>\n",
       "    <tr style=\"text-align: right;\">\n",
       "      <th></th>\n",
       "      <th>Sex</th>\n",
       "      <th>Host age</th>\n",
       "      <th>BMI</th>\n",
       "      <th>Acholeplasma axanthum</th>\n",
       "      <th>Acidaminococcus fermentans</th>\n",
       "      <th>Acidaminococcus intestini</th>\n",
       "      <th>Actinomyces lingnae</th>\n",
       "      <th>Akkermansia muciniphila</th>\n",
       "      <th>Alistipes finegoldii</th>\n",
       "      <th>Alistipes indistinctus</th>\n",
       "      <th>...</th>\n",
       "      <th>Clostridium sphenoides</th>\n",
       "      <th>Clostridium spiroforme</th>\n",
       "      <th>Clostridium stercorarium</th>\n",
       "      <th>Clostridium symbiosum</th>\n",
       "      <th>Clostridium thermosuccinogenes</th>\n",
       "      <th>Clostridium xylanolyticum</th>\n",
       "      <th>Eubacterium brachy</th>\n",
       "      <th>Eubacterium dolichum</th>\n",
       "      <th>Eubacterium sulci</th>\n",
       "      <th>Ruminococcus gnavus</th>\n",
       "    </tr>\n",
       "  </thead>\n",
       "  <tbody>\n",
       "    <tr>\n",
       "      <th>0</th>\n",
       "      <td>0</td>\n",
       "      <td>53.0</td>\n",
       "      <td>19.01</td>\n",
       "      <td>0.000000</td>\n",
       "      <td>0.000000</td>\n",
       "      <td>0.000000</td>\n",
       "      <td>0.000000</td>\n",
       "      <td>0.017674</td>\n",
       "      <td>0.000000</td>\n",
       "      <td>0.00000</td>\n",
       "      <td>...</td>\n",
       "      <td>0.005891</td>\n",
       "      <td>0.029457</td>\n",
       "      <td>0.000000</td>\n",
       "      <td>0.000000</td>\n",
       "      <td>0.002946</td>\n",
       "      <td>0.000000</td>\n",
       "      <td>0.000000</td>\n",
       "      <td>0.000000</td>\n",
       "      <td>0.002946</td>\n",
       "      <td>0.100153</td>\n",
       "    </tr>\n",
       "    <tr>\n",
       "      <th>1</th>\n",
       "      <td>1</td>\n",
       "      <td>21.0</td>\n",
       "      <td>23.50</td>\n",
       "      <td>0.001028</td>\n",
       "      <td>0.000000</td>\n",
       "      <td>0.000000</td>\n",
       "      <td>0.000000</td>\n",
       "      <td>13.015800</td>\n",
       "      <td>0.001542</td>\n",
       "      <td>0.00000</td>\n",
       "      <td>...</td>\n",
       "      <td>0.000000</td>\n",
       "      <td>0.002569</td>\n",
       "      <td>0.412652</td>\n",
       "      <td>0.003083</td>\n",
       "      <td>0.000000</td>\n",
       "      <td>0.000000</td>\n",
       "      <td>0.008736</td>\n",
       "      <td>0.014903</td>\n",
       "      <td>0.077597</td>\n",
       "      <td>0.004625</td>\n",
       "    </tr>\n",
       "    <tr>\n",
       "      <th>2</th>\n",
       "      <td>0</td>\n",
       "      <td>52.0</td>\n",
       "      <td>25.80</td>\n",
       "      <td>0.001406</td>\n",
       "      <td>0.000000</td>\n",
       "      <td>0.000000</td>\n",
       "      <td>0.001406</td>\n",
       "      <td>0.002812</td>\n",
       "      <td>0.201074</td>\n",
       "      <td>0.00000</td>\n",
       "      <td>...</td>\n",
       "      <td>0.000000</td>\n",
       "      <td>0.005624</td>\n",
       "      <td>0.002812</td>\n",
       "      <td>0.007031</td>\n",
       "      <td>0.000000</td>\n",
       "      <td>0.000000</td>\n",
       "      <td>0.000000</td>\n",
       "      <td>0.000000</td>\n",
       "      <td>0.005624</td>\n",
       "      <td>0.016873</td>\n",
       "    </tr>\n",
       "    <tr>\n",
       "      <th>3</th>\n",
       "      <td>1</td>\n",
       "      <td>40.0</td>\n",
       "      <td>23.49</td>\n",
       "      <td>0.000000</td>\n",
       "      <td>0.008825</td>\n",
       "      <td>0.273562</td>\n",
       "      <td>0.000000</td>\n",
       "      <td>0.044123</td>\n",
       "      <td>0.004412</td>\n",
       "      <td>0.34857</td>\n",
       "      <td>...</td>\n",
       "      <td>0.017649</td>\n",
       "      <td>0.198553</td>\n",
       "      <td>0.000000</td>\n",
       "      <td>0.158842</td>\n",
       "      <td>0.030886</td>\n",
       "      <td>0.101483</td>\n",
       "      <td>0.000000</td>\n",
       "      <td>0.000000</td>\n",
       "      <td>0.000000</td>\n",
       "      <td>0.000000</td>\n",
       "    </tr>\n",
       "    <tr>\n",
       "      <th>4</th>\n",
       "      <td>1</td>\n",
       "      <td>30.0</td>\n",
       "      <td>22.60</td>\n",
       "      <td>0.002878</td>\n",
       "      <td>0.037419</td>\n",
       "      <td>7.359970</td>\n",
       "      <td>0.000000</td>\n",
       "      <td>0.872143</td>\n",
       "      <td>0.000000</td>\n",
       "      <td>0.00000</td>\n",
       "      <td>...</td>\n",
       "      <td>0.305106</td>\n",
       "      <td>0.135283</td>\n",
       "      <td>0.000000</td>\n",
       "      <td>0.051811</td>\n",
       "      <td>0.054689</td>\n",
       "      <td>0.083473</td>\n",
       "      <td>0.020148</td>\n",
       "      <td>0.000000</td>\n",
       "      <td>0.054689</td>\n",
       "      <td>0.011513</td>\n",
       "    </tr>\n",
       "  </tbody>\n",
       "</table>\n",
       "<p>5 rows × 137 columns</p>\n",
       "</div>"
      ],
      "text/plain": [
       "   Sex  Host age    BMI  Acholeplasma axanthum  Acidaminococcus fermentans  \\\n",
       "0    0      53.0  19.01               0.000000                    0.000000   \n",
       "1    1      21.0  23.50               0.001028                    0.000000   \n",
       "2    0      52.0  25.80               0.001406                    0.000000   \n",
       "3    1      40.0  23.49               0.000000                    0.008825   \n",
       "4    1      30.0  22.60               0.002878                    0.037419   \n",
       "\n",
       "   Acidaminococcus intestini  Actinomyces lingnae  Akkermansia muciniphila  \\\n",
       "0                   0.000000             0.000000                 0.017674   \n",
       "1                   0.000000             0.000000                13.015800   \n",
       "2                   0.000000             0.001406                 0.002812   \n",
       "3                   0.273562             0.000000                 0.044123   \n",
       "4                   7.359970             0.000000                 0.872143   \n",
       "\n",
       "   Alistipes finegoldii  Alistipes indistinctus  ...  Clostridium sphenoides  \\\n",
       "0              0.000000                 0.00000  ...                0.005891   \n",
       "1              0.001542                 0.00000  ...                0.000000   \n",
       "2              0.201074                 0.00000  ...                0.000000   \n",
       "3              0.004412                 0.34857  ...                0.017649   \n",
       "4              0.000000                 0.00000  ...                0.305106   \n",
       "\n",
       "   Clostridium spiroforme  Clostridium stercorarium  Clostridium symbiosum  \\\n",
       "0                0.029457                  0.000000               0.000000   \n",
       "1                0.002569                  0.412652               0.003083   \n",
       "2                0.005624                  0.002812               0.007031   \n",
       "3                0.198553                  0.000000               0.158842   \n",
       "4                0.135283                  0.000000               0.051811   \n",
       "\n",
       "   Clostridium thermosuccinogenes  Clostridium xylanolyticum  \\\n",
       "0                        0.002946                   0.000000   \n",
       "1                        0.000000                   0.000000   \n",
       "2                        0.000000                   0.000000   \n",
       "3                        0.030886                   0.101483   \n",
       "4                        0.054689                   0.083473   \n",
       "\n",
       "   Eubacterium brachy  Eubacterium dolichum  Eubacterium sulci  \\\n",
       "0            0.000000              0.000000           0.002946   \n",
       "1            0.008736              0.014903           0.077597   \n",
       "2            0.000000              0.000000           0.005624   \n",
       "3            0.000000              0.000000           0.000000   \n",
       "4            0.020148              0.000000           0.054689   \n",
       "\n",
       "   Ruminococcus gnavus  \n",
       "0             0.100153  \n",
       "1             0.004625  \n",
       "2             0.016873  \n",
       "3             0.000000  \n",
       "4             0.011513  \n",
       "\n",
       "[5 rows x 137 columns]"
      ]
     },
     "metadata": {},
     "output_type": "display_data"
    },
    {
     "data": {
      "application/vnd.microsoft.datawrangler.viewer.v0+json": {
       "columns": [
        {
         "name": "index",
         "rawType": "int64",
         "type": "integer"
        },
        {
         "name": "Sex",
         "rawType": "int64",
         "type": "integer"
        },
        {
         "name": "Host age",
         "rawType": "float64",
         "type": "float"
        },
        {
         "name": "BMI",
         "rawType": "float64",
         "type": "float"
        },
        {
         "name": "Acholeplasma axanthum",
         "rawType": "float64",
         "type": "float"
        },
        {
         "name": "Acidaminococcus fermentans",
         "rawType": "float64",
         "type": "float"
        },
        {
         "name": "Acidaminococcus intestini",
         "rawType": "float64",
         "type": "float"
        },
        {
         "name": "Actinomyces lingnae",
         "rawType": "float64",
         "type": "float"
        },
        {
         "name": "Akkermansia muciniphila",
         "rawType": "float64",
         "type": "float"
        },
        {
         "name": "Alistipes finegoldii",
         "rawType": "float64",
         "type": "float"
        },
        {
         "name": "Alistipes indistinctus",
         "rawType": "float64",
         "type": "float"
        },
        {
         "name": "Alistipes obesi",
         "rawType": "float64",
         "type": "float"
        },
        {
         "name": "Alistipes onderdonkii",
         "rawType": "float64",
         "type": "float"
        },
        {
         "name": "Alistipes putredinis",
         "rawType": "float64",
         "type": "float"
        },
        {
         "name": "Alistipes shahii",
         "rawType": "float64",
         "type": "float"
        },
        {
         "name": "Alistipes sp. RMA 9912",
         "rawType": "float64",
         "type": "float"
        },
        {
         "name": "Alistipes timonensis",
         "rawType": "float64",
         "type": "float"
        },
        {
         "name": "Anaerofilum pentosovorans",
         "rawType": "float64",
         "type": "float"
        },
        {
         "name": "Anaerofustis stercorihominis",
         "rawType": "float64",
         "type": "float"
        },
        {
         "name": "Anaerostipes butyraticus",
         "rawType": "float64",
         "type": "float"
        },
        {
         "name": "Anaerostipes caccae",
         "rawType": "float64",
         "type": "float"
        },
        {
         "name": "Anaerotruncus colihominis",
         "rawType": "float64",
         "type": "float"
        },
        {
         "name": "Bacillus megaterium",
         "rawType": "float64",
         "type": "float"
        },
        {
         "name": "Bacillus nealsonii",
         "rawType": "float64",
         "type": "float"
        },
        {
         "name": "Bacteroides eggerthii",
         "rawType": "float64",
         "type": "float"
        },
        {
         "name": "Bacteroides fragilis",
         "rawType": "float64",
         "type": "float"
        },
        {
         "name": "Bacteroides gallinarum",
         "rawType": "float64",
         "type": "float"
        },
        {
         "name": "Bacteroides graminisolvens",
         "rawType": "float64",
         "type": "float"
        },
        {
         "name": "Bacteroides intestinalis",
         "rawType": "float64",
         "type": "float"
        },
        {
         "name": "Bacteroides massiliensis",
         "rawType": "float64",
         "type": "float"
        },
        {
         "name": "Bacteroides ovatus",
         "rawType": "float64",
         "type": "float"
        },
        {
         "name": "Bacteroides plebeius",
         "rawType": "float64",
         "type": "float"
        },
        {
         "name": "Bacteroides salyersiae",
         "rawType": "float64",
         "type": "float"
        },
        {
         "name": "Barnesiella viscericola",
         "rawType": "float64",
         "type": "float"
        },
        {
         "name": "Bifidobacterium bifidum",
         "rawType": "float64",
         "type": "float"
        },
        {
         "name": "Bifidobacterium pseudocatenulatum",
         "rawType": "float64",
         "type": "float"
        },
        {
         "name": "Bifidobacterium saguini",
         "rawType": "float64",
         "type": "float"
        },
        {
         "name": "Bifidobacterium tsurumiense",
         "rawType": "float64",
         "type": "float"
        },
        {
         "name": "Bilophila wadsworthia",
         "rawType": "float64",
         "type": "float"
        },
        {
         "name": "Blautia coccoides",
         "rawType": "float64",
         "type": "float"
        },
        {
         "name": "Blautia glucerasea",
         "rawType": "float64",
         "type": "float"
        },
        {
         "name": "Blautia hydrogenotrophica",
         "rawType": "float64",
         "type": "float"
        },
        {
         "name": "Blautia producta",
         "rawType": "float64",
         "type": "float"
        },
        {
         "name": "Blautia schinkii",
         "rawType": "float64",
         "type": "float"
        },
        {
         "name": "Butyricimonas virosa",
         "rawType": "float64",
         "type": "float"
        },
        {
         "name": "Catabacter hongkongensis",
         "rawType": "float64",
         "type": "float"
        },
        {
         "name": "Christensenella minuta",
         "rawType": "float64",
         "type": "float"
        },
        {
         "name": "Clostridium amylolyticum",
         "rawType": "float64",
         "type": "float"
        },
        {
         "name": "Clostridium malenominatum",
         "rawType": "float64",
         "type": "float"
        },
        {
         "name": "Clostridium maximum",
         "rawType": "float64",
         "type": "float"
        },
        {
         "name": "Clostridium sp.",
         "rawType": "float64",
         "type": "float"
        },
        {
         "name": "Collinsella aerofaciens",
         "rawType": "float64",
         "type": "float"
        },
        {
         "name": "Collinsella intestinalis",
         "rawType": "float64",
         "type": "float"
        },
        {
         "name": "Collinsella tanakaei",
         "rawType": "float64",
         "type": "float"
        },
        {
         "name": "Coprobacillus cateniformis",
         "rawType": "float64",
         "type": "float"
        },
        {
         "name": "Coprococcus catus",
         "rawType": "float64",
         "type": "float"
        },
        {
         "name": "Coprococcus eutactus",
         "rawType": "float64",
         "type": "float"
        },
        {
         "name": "Desulfonispora thiosulfatigenes",
         "rawType": "float64",
         "type": "float"
        },
        {
         "name": "Desulfosporosinus orientis",
         "rawType": "float64",
         "type": "float"
        },
        {
         "name": "Desulfovibrio desulfuricans",
         "rawType": "float64",
         "type": "float"
        },
        {
         "name": "Desulfovibrio fairfieldensis",
         "rawType": "float64",
         "type": "float"
        },
        {
         "name": "Desulfovibrio piger",
         "rawType": "float64",
         "type": "float"
        },
        {
         "name": "Desulfovibrio vulgaris",
         "rawType": "float64",
         "type": "float"
        },
        {
         "name": "Ethanoligenens harbinense",
         "rawType": "float64",
         "type": "float"
        },
        {
         "name": "Eubacterium desmolans",
         "rawType": "float64",
         "type": "float"
        },
        {
         "name": "Eubacterium xylanophilum",
         "rawType": "float64",
         "type": "float"
        },
        {
         "name": "Faecalibacterium sp. MC_41",
         "rawType": "float64",
         "type": "float"
        },
        {
         "name": "Flavonifractor plautii",
         "rawType": "float64",
         "type": "float"
        },
        {
         "name": "Fusobacterium nucleatum",
         "rawType": "float64",
         "type": "float"
        },
        {
         "name": "Holdemanella biformis",
         "rawType": "float64",
         "type": "float"
        },
        {
         "name": "Holdemania filiformis",
         "rawType": "float64",
         "type": "float"
        },
        {
         "name": "Hungatella hathewayi",
         "rawType": "float64",
         "type": "float"
        },
        {
         "name": "Lachnospiraceae bacterium 3_1_57FAA_CT1",
         "rawType": "float64",
         "type": "float"
        },
        {
         "name": "Lachnospiraceae bacterium 5_1_63FAA",
         "rawType": "float64",
         "type": "float"
        },
        {
         "name": "Lachnospiraceae bacterium 7_1_58FAA",
         "rawType": "float64",
         "type": "float"
        },
        {
         "name": "Lactococcus lactis",
         "rawType": "float64",
         "type": "float"
        },
        {
         "name": "Odoribacter splanchnicus",
         "rawType": "float64",
         "type": "float"
        },
        {
         "name": "Oscillibacter valericigenes",
         "rawType": "float64",
         "type": "float"
        },
        {
         "name": "Oxalobacter formigenes",
         "rawType": "float64",
         "type": "float"
        },
        {
         "name": "Papillibacter cinnamivorans",
         "rawType": "float64",
         "type": "float"
        },
        {
         "name": "Parabacteroides distasonis",
         "rawType": "float64",
         "type": "float"
        },
        {
         "name": "Parabacteroides goldsteinii",
         "rawType": "float64",
         "type": "float"
        },
        {
         "name": "Parabacteroides johnsonii",
         "rawType": "float64",
         "type": "float"
        },
        {
         "name": "Parabacteroides merdae",
         "rawType": "float64",
         "type": "float"
        },
        {
         "name": "Parasutterella excrementihominis",
         "rawType": "float64",
         "type": "float"
        },
        {
         "name": "Peptoniphilus lacrimalis",
         "rawType": "float64",
         "type": "float"
        },
        {
         "name": "Porphyromonas catoniae",
         "rawType": "float64",
         "type": "float"
        },
        {
         "name": "Prevotella bivia",
         "rawType": "float64",
         "type": "float"
        },
        {
         "name": "Prevotella buccalis",
         "rawType": "float64",
         "type": "float"
        },
        {
         "name": "Prevotella oris",
         "rawType": "float64",
         "type": "float"
        },
        {
         "name": "Prevotella oryzae",
         "rawType": "float64",
         "type": "float"
        },
        {
         "name": "Prevotella paludivivens",
         "rawType": "float64",
         "type": "float"
        },
        {
         "name": "Prevotella ruminicola",
         "rawType": "float64",
         "type": "float"
        },
        {
         "name": "Prevotella shahii",
         "rawType": "float64",
         "type": "float"
        },
        {
         "name": "Prevotella timonensis",
         "rawType": "float64",
         "type": "float"
        },
        {
         "name": "Pseudobacteroides cellulosolvens",
         "rawType": "float64",
         "type": "float"
        },
        {
         "name": "Pseudoflavonifractor capillosus",
         "rawType": "float64",
         "type": "float"
        },
        {
         "name": "Roseburia hominis",
         "rawType": "float64",
         "type": "float"
        },
        {
         "name": "Roseburia intestinalis",
         "rawType": "float64",
         "type": "float"
        },
        {
         "name": "Ruminiclostridium thermocellum",
         "rawType": "float64",
         "type": "float"
        },
        {
         "name": "Ruminococcaceae bacterium D16",
         "rawType": "float64",
         "type": "float"
        },
        {
         "name": "Ruminococcus albus",
         "rawType": "float64",
         "type": "float"
        },
        {
         "name": "Ruminococcus callidus",
         "rawType": "float64",
         "type": "float"
        },
        {
         "name": "Ruminococcus champanellensis",
         "rawType": "float64",
         "type": "float"
        },
        {
         "name": "Ruminococcus flavefaciens",
         "rawType": "float64",
         "type": "float"
        },
        {
         "name": "Ruminococcus sp. DSM 100440",
         "rawType": "float64",
         "type": "float"
        },
        {
         "name": "Sporobacter termitidis",
         "rawType": "float64",
         "type": "float"
        },
        {
         "name": "Streptococcus infantarius",
         "rawType": "float64",
         "type": "float"
        },
        {
         "name": "Streptococcus mitis",
         "rawType": "float64",
         "type": "float"
        },
        {
         "name": "Streptococcus oralis",
         "rawType": "float64",
         "type": "float"
        },
        {
         "name": "Sutterella parvirubra",
         "rawType": "float64",
         "type": "float"
        },
        {
         "name": "Thermobaculum terrenum",
         "rawType": "float64",
         "type": "float"
        },
        {
         "name": "Victivallis sp. MC_44",
         "rawType": "float64",
         "type": "float"
        },
        {
         "name": "Bacteroides pectinophilus",
         "rawType": "float64",
         "type": "float"
        },
        {
         "name": "Clostridium aldenense",
         "rawType": "float64",
         "type": "float"
        },
        {
         "name": "Clostridium asparagiforme",
         "rawType": "float64",
         "type": "float"
        },
        {
         "name": "Clostridium bolteae",
         "rawType": "float64",
         "type": "float"
        },
        {
         "name": "Clostridium celerecrescens",
         "rawType": "float64",
         "type": "float"
        },
        {
         "name": "Clostridium cellobioparum",
         "rawType": "float64",
         "type": "float"
        },
        {
         "name": "Clostridium clariflavum",
         "rawType": "float64",
         "type": "float"
        },
        {
         "name": "Clostridium colinum",
         "rawType": "float64",
         "type": "float"
        },
        {
         "name": "Clostridium indolis",
         "rawType": "float64",
         "type": "float"
        },
        {
         "name": "Clostridium leptum",
         "rawType": "float64",
         "type": "float"
        },
        {
         "name": "Clostridium methylpentosum",
         "rawType": "float64",
         "type": "float"
        },
        {
         "name": "Clostridium neopropionicum",
         "rawType": "float64",
         "type": "float"
        },
        {
         "name": "Clostridium propionicum",
         "rawType": "float64",
         "type": "float"
        },
        {
         "name": "Clostridium saccharogumia",
         "rawType": "float64",
         "type": "float"
        },
        {
         "name": "Clostridium saccharolyticum",
         "rawType": "float64",
         "type": "float"
        },
        {
         "name": "Clostridium sphenoides",
         "rawType": "float64",
         "type": "float"
        },
        {
         "name": "Clostridium spiroforme",
         "rawType": "float64",
         "type": "float"
        },
        {
         "name": "Clostridium stercorarium",
         "rawType": "float64",
         "type": "float"
        },
        {
         "name": "Clostridium symbiosum",
         "rawType": "float64",
         "type": "float"
        },
        {
         "name": "Clostridium thermosuccinogenes",
         "rawType": "float64",
         "type": "float"
        },
        {
         "name": "Clostridium xylanolyticum",
         "rawType": "float64",
         "type": "float"
        },
        {
         "name": "Eubacterium brachy",
         "rawType": "float64",
         "type": "float"
        },
        {
         "name": "Eubacterium dolichum",
         "rawType": "float64",
         "type": "float"
        },
        {
         "name": "Eubacterium sulci",
         "rawType": "float64",
         "type": "float"
        },
        {
         "name": "Ruminococcus gnavus",
         "rawType": "float64",
         "type": "float"
        }
       ],
       "conversionMethod": "pd.DataFrame",
       "ref": "0e15493d-f20d-4e00-8f55-066e483c0619",
       "rows": [
        [
         "0",
         "0",
         "60.0",
         "25.71",
         "0.0",
         "0.0",
         "1.62196",
         "0.0",
         "0.0",
         "0.0682379",
         "0.0209963",
         "0.0",
         "0.0314944",
         "0.493412",
         "0.0262453",
         "0.00524907",
         "0.0",
         "0.0262453",
         "0.0",
         "0.0314944",
         "0.0262453",
         "0.556401",
         "0.0",
         "0.0",
         "0.0419925",
         "0.0",
         "0.0",
         "0.0",
         "0.0",
         "0.362186",
         "0.346438",
         "0.0",
         "0.00524907",
         "0.115479",
         "0.0",
         "0.00524907",
         "0.0682379",
         "0.0577397",
         "0.0997323",
         "0.0419925",
         "0.0944832",
         "0.0",
         "0.0524907",
         "0.0",
         "0.0",
         "0.0",
         "0.00524907",
         "0.0",
         "0.0",
         "0.0",
         "0.00524907",
         "0.0",
         "0.0",
         "0.0",
         "0.0",
         "0.0",
         "2.23085",
         "0.0",
         "0.0",
         "0.0262453",
         "0.0",
         "0.0",
         "0.0",
         "0.0",
         "0.488163",
         "0.0262453",
         "6.23064",
         "0.0",
         "0.0",
         "0.0",
         "0.0419925",
         "0.0",
         "0.0",
         "0.0",
         "0.0",
         "0.0",
         "0.0104981",
         "0.593145",
         "0.0",
         "0.0",
         "0.0944832",
         "0.0209963",
         "0.0419925",
         "0.0262453",
         "0.0",
         "0.0157472",
         "0.0",
         "0.0",
         "0.0629888",
         "0.00524907",
         "0.0",
         "0.0",
         "0.0104981",
         "0.0",
         "0.0",
         "0.0",
         "0.00524907",
         "0.178468",
         "0.0262453",
         "0.545903",
         "0.0",
         "0.0",
         "0.0",
         "0.0",
         "0.00524907",
         "0.00524907",
         "0.178468",
         "0.0",
         "0.0314944",
         "0.0157472",
         "0.0",
         "0.00524907",
         "0.0",
         "0.0",
         "0.0",
         "0.0",
         "0.0209963",
         "0.0",
         "0.0157472",
         "0.131227",
         "0.0157472",
         "0.16797",
         "0.188966",
         "0.0104981",
         "0.0",
         "0.0",
         "0.0629888",
         "0.16797",
         "0.0",
         "2.87124",
         "0.0",
         "0.0682379",
         "0.115479",
         "0.0157472",
         "0.0104981",
         "0.0",
         "0.0104981",
         "0.551152"
        ],
        [
         "1",
         "0",
         "57.0",
         "27.2",
         "0.0",
         "0.0",
         "0.0",
         "0.0",
         "0.0",
         "0.0",
         "0.0",
         "0.0",
         "0.0",
         "0.0",
         "0.0",
         "0.0",
         "0.0",
         "0.0",
         "0.0",
         "0.0",
         "0.0",
         "0.0",
         "0.0",
         "0.0",
         "0.0",
         "0.0",
         "0.0",
         "0.0",
         "0.0",
         "0.0",
         "0.0",
         "0.0",
         "0.0",
         "0.0",
         "0.0",
         "0.0",
         "0.0",
         "0.0",
         "0.0",
         "0.0",
         "0.0",
         "0.0",
         "0.0",
         "0.0",
         "0.0",
         "0.0",
         "0.0",
         "0.0",
         "0.0",
         "0.0",
         "0.0",
         "0.0",
         "0.0",
         "0.0",
         "0.0",
         "0.0",
         "0.0",
         "0.0",
         "0.0",
         "0.0",
         "0.0",
         "0.0",
         "0.0",
         "0.0",
         "0.0",
         "0.0",
         "0.0",
         "0.0",
         "0.0",
         "0.0",
         "0.0",
         "0.0",
         "0.0",
         "0.0",
         "0.0",
         "0.0",
         "0.0",
         "0.0",
         "0.0",
         "0.0",
         "0.0",
         "0.0",
         "0.0",
         "0.0",
         "0.0",
         "0.0",
         "0.0",
         "0.0",
         "0.0",
         "0.0",
         "0.0",
         "0.0",
         "0.0",
         "0.0",
         "0.0",
         "0.0",
         "0.0",
         "0.0",
         "0.0",
         "0.0",
         "0.0",
         "0.0",
         "0.0",
         "0.0",
         "0.0",
         "0.0",
         "0.0",
         "0.0",
         "0.0",
         "0.0",
         "0.0",
         "0.0",
         "0.0",
         "0.0",
         "0.0",
         "0.0",
         "0.0",
         "0.0",
         "0.0",
         "0.0",
         "0.0",
         "0.0",
         "0.0",
         "0.0",
         "0.0",
         "0.0",
         "0.0",
         "0.0",
         "0.0",
         "0.0",
         "0.0",
         "0.0",
         "0.0",
         "0.0",
         "0.0",
         "0.0",
         "0.0",
         "0.0"
        ],
        [
         "2",
         "0",
         "65.0",
         "22.35",
         "0.0",
         "0.00209472",
         "0.0",
         "0.0",
         "0.00209472",
         "0.0418945",
         "0.0",
         "0.0",
         "0.140346",
         "0.714301",
         "0.0104736",
         "0.00209472",
         "0.142441",
         "0.00628417",
         "0.0",
         "0.0",
         "0.0",
         "0.0481786",
         "0.0",
         "0.0",
         "0.00418945",
         "0.0209472",
         "0.0",
         "0.0",
         "0.0837889",
         "0.228325",
         "0.123589",
         "0.00418945",
         "0.0",
         "0.374955",
         "0.0",
         "0.465029",
         "0.0",
         "0.0",
         "0.00209472",
         "0.0356103",
         "0.00837889",
         "0.00628417",
         "0.0",
         "0.0",
         "0.0",
         "0.0",
         "0.0418945",
         "0.0",
         "0.0",
         "0.0",
         "0.0",
         "0.0",
         "0.0481786",
         "0.0",
         "0.0",
         "0.0",
         "0.0",
         "0.0460839",
         "0.0",
         "0.00209472",
         "0.0",
         "0.0",
         "0.0",
         "0.0",
         "0.0314208",
         "0.00209472",
         "0.0",
         "0.0",
         "0.0188525",
         "0.72268",
         "0.0963573",
         "0.00837889",
         "0.0",
         "0.0",
         "0.0",
         "0.0",
         "0.0",
         "0.0691259",
         "0.0",
         "0.0",
         "0.119399",
         "0.0",
         "0.664027",
         "0.0104736",
         "0.0",
         "0.0963573",
         "0.0146631",
         "6.63608",
         "0.0209472",
         "0.0356103",
         "0.00209472",
         "0.00418945",
         "0.00418945",
         "0.00209472",
         "0.921678",
         "0.00209472",
         "0.0",
         "0.144536",
         "0.023042",
         "0.00628417",
         "0.0",
         "0.0104736",
         "0.0167578",
         "0.0502734",
         "3.01431",
         "0.0",
         "0.0293261",
         "0.0",
         "0.119399",
         "0.07541",
         "0.0",
         "0.0",
         "0.0",
         "0.0",
         "0.0356103",
         "0.0",
         "0.0146631",
         "0.0",
         "0.0",
         "0.00837889",
         "0.060747",
         "0.441987",
         "0.232514",
         "0.0146631",
         "0.0314208",
         "0.0397997",
         "0.00628417",
         "0.037705",
         "0.0",
         "0.0649364",
         "0.0",
         "0.0167578",
         "0.0",
         "0.0418945",
         "0.0104736",
         "0.00628417",
         "0.0146631",
         "0.0"
        ],
        [
         "3",
         "0",
         "55.0",
         "25.52",
         "0.0",
         "0.0",
         "0.0449983",
         "0.0",
         "0.0138456",
         "0.0103842",
         "0.0",
         "0.0",
         "0.0415369",
         "0.0346141",
         "0.0",
         "0.0",
         "0.00346141",
         "0.0",
         "0.0",
         "0.0207684",
         "0.017307",
         "0.00346141",
         "0.00692281",
         "0.00346141",
         "0.0",
         "0.0",
         "0.0",
         "0.00346141",
         "0.0138456",
         "0.138456",
         "0.0484597",
         "0.0",
         "0.0",
         "0.00346141",
         "0.0",
         "0.0",
         "0.0",
         "0.00692281",
         "0.00346141",
         "0.0311526",
         "0.231914",
         "0.0",
         "0.0484597",
         "0.00346141",
         "0.0",
         "0.0",
         "0.0",
         "0.0",
         "0.0",
         "0.00346141",
         "0.00346141",
         "0.0",
         "0.0",
         "0.0",
         "0.0",
         "0.0",
         "0.0",
         "0.0",
         "0.0",
         "0.0484597",
         "0.00692281",
         "0.0",
         "0.0",
         "0.0",
         "0.0311526",
         "0.0",
         "0.228453",
         "0.0",
         "0.0",
         "0.0",
         "0.00346141",
         "0.0",
         "0.0",
         "0.0",
         "0.0",
         "0.0346141",
         "0.0",
         "0.0207684",
         "0.0",
         "0.0",
         "0.0",
         "0.0",
         "0.0",
         "0.017307",
         "0.0",
         "0.0",
         "0.0",
         "0.0",
         "0.0",
         "0.0",
         "0.0",
         "0.0",
         "0.0",
         "0.0",
         "0.0",
         "0.0",
         "0.0",
         "0.0276912",
         "0.00692281",
         "0.0380755",
         "0.0",
         "0.017307",
         "0.0",
         "0.0",
         "0.0",
         "0.00346141",
         "0.00692281",
         "0.0",
         "0.00346141",
         "0.00346141",
         "0.0",
         "0.0",
         "0.00346141",
         "0.0",
         "0.0",
         "0.0",
         "0.0",
         "0.0",
         "0.0",
         "0.00346141",
         "0.017307",
         "0.0138456",
         "0.0346141",
         "0.00346141",
         "0.00346141",
         "0.0",
         "0.0103842",
         "0.00346141",
         "0.00346141",
         "0.0899965",
         "0.0",
         "0.00346141",
         "0.00692281",
         "0.0",
         "0.0",
         "0.0207684",
         "0.0346141",
         "0.0138456"
        ],
        [
         "4",
         "1",
         "54.0",
         "21.6",
         "0.0",
         "0.0",
         "0.0",
         "0.0",
         "0.0",
         "0.0",
         "0.0",
         "0.0",
         "0.0",
         "0.0",
         "0.0",
         "0.0",
         "0.0",
         "0.0",
         "0.0",
         "0.0",
         "0.0",
         "0.0",
         "0.0",
         "0.0",
         "0.0",
         "0.0",
         "0.0",
         "0.0",
         "0.0",
         "0.0",
         "0.0",
         "0.0",
         "0.0",
         "0.0",
         "0.0",
         "0.0",
         "0.0",
         "0.0",
         "0.0",
         "0.0",
         "0.0",
         "0.0",
         "0.0",
         "0.0",
         "0.0",
         "0.0",
         "0.0",
         "0.0",
         "0.0",
         "0.0",
         "0.0",
         "0.0",
         "0.0",
         "0.0",
         "0.0",
         "0.0",
         "0.0",
         "0.0",
         "0.0",
         "0.0",
         "0.0",
         "0.0",
         "0.0",
         "0.0",
         "0.0",
         "0.0",
         "0.0",
         "0.0",
         "0.0",
         "0.0",
         "0.0",
         "0.0",
         "0.0",
         "0.0",
         "0.0",
         "0.0",
         "0.0",
         "0.0",
         "0.0",
         "0.0",
         "0.0",
         "0.0",
         "0.0",
         "0.0",
         "0.0",
         "0.0",
         "0.0",
         "0.0",
         "0.0",
         "0.0",
         "0.0",
         "0.0",
         "0.0",
         "0.0",
         "0.0",
         "0.0",
         "0.0",
         "0.0",
         "0.0",
         "0.0",
         "0.0",
         "0.0",
         "0.0",
         "0.0",
         "0.0",
         "0.0",
         "0.0",
         "0.0",
         "0.0",
         "0.0",
         "0.0",
         "0.0",
         "0.0",
         "0.0",
         "0.0",
         "0.0",
         "0.0",
         "0.0",
         "0.0",
         "0.0",
         "0.0",
         "0.0",
         "0.0",
         "0.0",
         "0.0",
         "0.0",
         "0.0",
         "0.0",
         "0.0",
         "0.0",
         "0.0",
         "0.0",
         "0.0",
         "0.0",
         "0.0",
         "0.0",
         "0.0",
         "0.0"
        ]
       ],
       "shape": {
        "columns": 137,
        "rows": 5
       }
      },
      "text/html": [
       "<div>\n",
       "<style scoped>\n",
       "    .dataframe tbody tr th:only-of-type {\n",
       "        vertical-align: middle;\n",
       "    }\n",
       "\n",
       "    .dataframe tbody tr th {\n",
       "        vertical-align: top;\n",
       "    }\n",
       "\n",
       "    .dataframe thead th {\n",
       "        text-align: right;\n",
       "    }\n",
       "</style>\n",
       "<table border=\"1\" class=\"dataframe\">\n",
       "  <thead>\n",
       "    <tr style=\"text-align: right;\">\n",
       "      <th></th>\n",
       "      <th>Sex</th>\n",
       "      <th>Host age</th>\n",
       "      <th>BMI</th>\n",
       "      <th>Acholeplasma axanthum</th>\n",
       "      <th>Acidaminococcus fermentans</th>\n",
       "      <th>Acidaminococcus intestini</th>\n",
       "      <th>Actinomyces lingnae</th>\n",
       "      <th>Akkermansia muciniphila</th>\n",
       "      <th>Alistipes finegoldii</th>\n",
       "      <th>Alistipes indistinctus</th>\n",
       "      <th>...</th>\n",
       "      <th>Clostridium sphenoides</th>\n",
       "      <th>Clostridium spiroforme</th>\n",
       "      <th>Clostridium stercorarium</th>\n",
       "      <th>Clostridium symbiosum</th>\n",
       "      <th>Clostridium thermosuccinogenes</th>\n",
       "      <th>Clostridium xylanolyticum</th>\n",
       "      <th>Eubacterium brachy</th>\n",
       "      <th>Eubacterium dolichum</th>\n",
       "      <th>Eubacterium sulci</th>\n",
       "      <th>Ruminococcus gnavus</th>\n",
       "    </tr>\n",
       "  </thead>\n",
       "  <tbody>\n",
       "    <tr>\n",
       "      <th>0</th>\n",
       "      <td>0</td>\n",
       "      <td>60.0</td>\n",
       "      <td>25.71</td>\n",
       "      <td>0.0</td>\n",
       "      <td>0.000000</td>\n",
       "      <td>1.621960</td>\n",
       "      <td>0.0</td>\n",
       "      <td>0.000000</td>\n",
       "      <td>0.068238</td>\n",
       "      <td>0.020996</td>\n",
       "      <td>...</td>\n",
       "      <td>0.000000</td>\n",
       "      <td>2.871240</td>\n",
       "      <td>0.0</td>\n",
       "      <td>0.068238</td>\n",
       "      <td>0.115479</td>\n",
       "      <td>0.015747</td>\n",
       "      <td>0.010498</td>\n",
       "      <td>0.000000</td>\n",
       "      <td>0.010498</td>\n",
       "      <td>0.551152</td>\n",
       "    </tr>\n",
       "    <tr>\n",
       "      <th>1</th>\n",
       "      <td>0</td>\n",
       "      <td>57.0</td>\n",
       "      <td>27.20</td>\n",
       "      <td>0.0</td>\n",
       "      <td>0.000000</td>\n",
       "      <td>0.000000</td>\n",
       "      <td>0.0</td>\n",
       "      <td>0.000000</td>\n",
       "      <td>0.000000</td>\n",
       "      <td>0.000000</td>\n",
       "      <td>...</td>\n",
       "      <td>0.000000</td>\n",
       "      <td>0.000000</td>\n",
       "      <td>0.0</td>\n",
       "      <td>0.000000</td>\n",
       "      <td>0.000000</td>\n",
       "      <td>0.000000</td>\n",
       "      <td>0.000000</td>\n",
       "      <td>0.000000</td>\n",
       "      <td>0.000000</td>\n",
       "      <td>0.000000</td>\n",
       "    </tr>\n",
       "    <tr>\n",
       "      <th>2</th>\n",
       "      <td>0</td>\n",
       "      <td>65.0</td>\n",
       "      <td>22.35</td>\n",
       "      <td>0.0</td>\n",
       "      <td>0.002095</td>\n",
       "      <td>0.000000</td>\n",
       "      <td>0.0</td>\n",
       "      <td>0.002095</td>\n",
       "      <td>0.041895</td>\n",
       "      <td>0.000000</td>\n",
       "      <td>...</td>\n",
       "      <td>0.000000</td>\n",
       "      <td>0.064936</td>\n",
       "      <td>0.0</td>\n",
       "      <td>0.016758</td>\n",
       "      <td>0.000000</td>\n",
       "      <td>0.041895</td>\n",
       "      <td>0.010474</td>\n",
       "      <td>0.006284</td>\n",
       "      <td>0.014663</td>\n",
       "      <td>0.000000</td>\n",
       "    </tr>\n",
       "    <tr>\n",
       "      <th>3</th>\n",
       "      <td>0</td>\n",
       "      <td>55.0</td>\n",
       "      <td>25.52</td>\n",
       "      <td>0.0</td>\n",
       "      <td>0.000000</td>\n",
       "      <td>0.044998</td>\n",
       "      <td>0.0</td>\n",
       "      <td>0.013846</td>\n",
       "      <td>0.010384</td>\n",
       "      <td>0.000000</td>\n",
       "      <td>...</td>\n",
       "      <td>0.003461</td>\n",
       "      <td>0.089996</td>\n",
       "      <td>0.0</td>\n",
       "      <td>0.003461</td>\n",
       "      <td>0.006923</td>\n",
       "      <td>0.000000</td>\n",
       "      <td>0.000000</td>\n",
       "      <td>0.020768</td>\n",
       "      <td>0.034614</td>\n",
       "      <td>0.013846</td>\n",
       "    </tr>\n",
       "    <tr>\n",
       "      <th>4</th>\n",
       "      <td>1</td>\n",
       "      <td>54.0</td>\n",
       "      <td>21.60</td>\n",
       "      <td>0.0</td>\n",
       "      <td>0.000000</td>\n",
       "      <td>0.000000</td>\n",
       "      <td>0.0</td>\n",
       "      <td>0.000000</td>\n",
       "      <td>0.000000</td>\n",
       "      <td>0.000000</td>\n",
       "      <td>...</td>\n",
       "      <td>0.000000</td>\n",
       "      <td>0.000000</td>\n",
       "      <td>0.0</td>\n",
       "      <td>0.000000</td>\n",
       "      <td>0.000000</td>\n",
       "      <td>0.000000</td>\n",
       "      <td>0.000000</td>\n",
       "      <td>0.000000</td>\n",
       "      <td>0.000000</td>\n",
       "      <td>0.000000</td>\n",
       "    </tr>\n",
       "  </tbody>\n",
       "</table>\n",
       "<p>5 rows × 137 columns</p>\n",
       "</div>"
      ],
      "text/plain": [
       "   Sex  Host age    BMI  Acholeplasma axanthum  Acidaminococcus fermentans  \\\n",
       "0    0      60.0  25.71                    0.0                    0.000000   \n",
       "1    0      57.0  27.20                    0.0                    0.000000   \n",
       "2    0      65.0  22.35                    0.0                    0.002095   \n",
       "3    0      55.0  25.52                    0.0                    0.000000   \n",
       "4    1      54.0  21.60                    0.0                    0.000000   \n",
       "\n",
       "   Acidaminococcus intestini  Actinomyces lingnae  Akkermansia muciniphila  \\\n",
       "0                   1.621960                  0.0                 0.000000   \n",
       "1                   0.000000                  0.0                 0.000000   \n",
       "2                   0.000000                  0.0                 0.002095   \n",
       "3                   0.044998                  0.0                 0.013846   \n",
       "4                   0.000000                  0.0                 0.000000   \n",
       "\n",
       "   Alistipes finegoldii  Alistipes indistinctus  ...  Clostridium sphenoides  \\\n",
       "0              0.068238                0.020996  ...                0.000000   \n",
       "1              0.000000                0.000000  ...                0.000000   \n",
       "2              0.041895                0.000000  ...                0.000000   \n",
       "3              0.010384                0.000000  ...                0.003461   \n",
       "4              0.000000                0.000000  ...                0.000000   \n",
       "\n",
       "   Clostridium spiroforme  Clostridium stercorarium  Clostridium symbiosum  \\\n",
       "0                2.871240                       0.0               0.068238   \n",
       "1                0.000000                       0.0               0.000000   \n",
       "2                0.064936                       0.0               0.016758   \n",
       "3                0.089996                       0.0               0.003461   \n",
       "4                0.000000                       0.0               0.000000   \n",
       "\n",
       "   Clostridium thermosuccinogenes  Clostridium xylanolyticum  \\\n",
       "0                        0.115479                   0.015747   \n",
       "1                        0.000000                   0.000000   \n",
       "2                        0.000000                   0.041895   \n",
       "3                        0.006923                   0.000000   \n",
       "4                        0.000000                   0.000000   \n",
       "\n",
       "   Eubacterium brachy  Eubacterium dolichum  Eubacterium sulci  \\\n",
       "0            0.010498              0.000000           0.010498   \n",
       "1            0.000000              0.000000           0.000000   \n",
       "2            0.010474              0.006284           0.014663   \n",
       "3            0.000000              0.020768           0.034614   \n",
       "4            0.000000              0.000000           0.000000   \n",
       "\n",
       "   Ruminococcus gnavus  \n",
       "0             0.551152  \n",
       "1             0.000000  \n",
       "2             0.000000  \n",
       "3             0.013846  \n",
       "4             0.000000  \n",
       "\n",
       "[5 rows x 137 columns]"
      ]
     },
     "metadata": {},
     "output_type": "display_data"
    }
   ],
   "source": [
    "dev_df = pd.read_csv(os.path.join(DATA_DIR, \"development_final.csv\"), index_col=0)\n",
    "val_df = pd.read_csv(os.path.join(DATA_DIR, \"validation_final.csv\"), index_col=0)\n",
    "display(dev_df.head())\n",
    "display(val_df.head())"
   ]
  },
  {
   "cell_type": "markdown",
   "metadata": {},
   "source": [
    "# Complete pipeline"
   ]
  },
  {
   "cell_type": "code",
   "execution_count": 5,
   "metadata": {},
   "outputs": [],
   "source": [
    "# # Uncomment the following line to rerun the entire pipeline, otherwise skip this\n",
    "# # step and just load the metrics from the pickled file\n",
    "\n",
    "# all_metrics = pipeline(\n",
    "#     models_dir=MODELS_DIR,\n",
    "#     dataset_dir=DATA_DIR\n",
    "# )\n",
    "# with open(\n",
    "#     os.path.join(BASE_DIR, \"all_metrics.pkl\"),\n",
    "#     \"wb\"\n",
    "# ) as f:\n",
    "#     pickle.dump(all_metrics, f, protocol=pickle.HIGHEST_PROTOCOL)"
   ]
  },
  {
   "cell_type": "code",
   "execution_count": 6,
   "metadata": {},
   "outputs": [],
   "source": [
    "# This is used to load the metrics from the pickled file in case the pipeline\n",
    "# was not re-run\n",
    "\n",
    "with open(\n",
    "    os.path.join(BASE_DIR, \"all_metrics.pkl\"),\n",
    "    \"rb\"\n",
    ") as f:\n",
    "    all_metrics = pickle.load(f)"
   ]
  },
  {
   "cell_type": "markdown",
   "metadata": {},
   "source": [
    "### Tabulated metrics for training and validation runs on all models and all modes"
   ]
  },
  {
   "cell_type": "code",
   "execution_count": 7,
   "metadata": {},
   "outputs": [
    {
     "name": "stdout",
     "output_type": "stream",
     "text": [
      "========================================================\n",
      "\t\t--------------------\n",
      "\t\t     ElasticNet     \n",
      "\t\t--------------------\n",
      "baseline:\n",
      "\ttraining\t\t\tvalidation\n",
      "\t--------\t\t\t----------\n",
      "\tRMSE:\t3.1614\t\t\tRMSE:\t3.8554\n",
      "\tMAE:\t2.5094\t\t\tMAE:\t2.7548\n",
      "\tR2:\t0.0551\t\t\tR2:\t0.0482\n",
      "\n",
      "feature_selection:\n",
      "\ttraining\t\t\tvalidation\n",
      "\t--------\t\t\t----------\n",
      "\tRMSE:\t3.1611\t\t\tRMSE:\t3.8525\n",
      "\tMAE:\t2.5120\t\t\tMAE:\t2.7644\n",
      "\tR2:\t0.0553\t\t\tR2:\t0.0478\n",
      "\n",
      "\tFeature selection method:\n",
      "\t\t\tSelectKBest-f_regression\n",
      "\tNumber of features used:\n",
      "\t\t\t20\n",
      "\n",
      "tune:\n",
      "\ttraining\t\t\tvalidation\n",
      "\t--------\t\t\t----------\n",
      "\tRMSE:\t3.0214\t\t\tRMSE:\t3.6791\n",
      "\tMAE:\t2.3060\t\t\tMAE:\t2.5739\n",
      "\tR2:\t0.1369\t\t\tR2:\t0.1373\n",
      "\n",
      "\tBest hyperparameters:\n",
      "\t\t\talpha: 0.9816326530612246\n",
      "\t\t\tl1_ratio: 0.1\n",
      "\t\t\ttol: 0.001\n",
      "\n",
      "=========================================================\n",
      "\t\t--------------------\n",
      "\t\t        SVR         \n",
      "\t\t--------------------\n",
      "baseline:\n",
      "\ttraining\t\t\tvalidation\n",
      "\t--------\t\t\t----------\n",
      "\tRMSE:\t3.1057\t\t\tRMSE:\t3.7144\n",
      "\tMAE:\t2.2214\t\t\tMAE:\t2.3998\n",
      "\tR2:\t0.0881\t\t\tR2:\t0.1145\n",
      "\n",
      "feature_selection:\n",
      "\ttraining\t\t\tvalidation\n",
      "\t--------\t\t\t----------\n",
      "\tRMSE:\t2.9862\t\t\tRMSE:\t3.7328\n",
      "\tMAE:\t2.2136\t\t\tMAE:\t2.5413\n",
      "\tR2:\t0.1569\t\t\tR2:\t0.1138\n",
      "\n",
      "\tFeature selection method:\n",
      "\t\t\tSelectKBest-r_regression\n",
      "\tNumber of features used:\n",
      "\t\t\t20\n",
      "\n",
      "tune:\n",
      "\ttraining\t\t\tvalidation\n",
      "\t--------\t\t\t----------\n",
      "\tRMSE:\t2.9739\t\t\tRMSE:\t3.6997\n",
      "\tMAE:\t2.1983\t\t\tMAE:\t2.5199\n",
      "\tR2:\t0.1639\t\t\tR2:\t0.1230\n",
      "\n",
      "\tBest hyperparameters:\n",
      "\t\t\tC: 1.0\n",
      "\t\t\tcoef0: 0.0\n",
      "\t\t\tdegree: 2\n",
      "\t\t\tepsilon: 0.2222222222222222\n",
      "\t\t\tgamma: auto\n",
      "\t\t\tkernel: rbf\n",
      "\t\t\ttol: 1e-07\n",
      "\n",
      "=========================================================\n",
      "\t\t--------------------\n",
      "\t\t   BayesianRidge    \n",
      "\t\t--------------------\n",
      "baseline:\n",
      "\ttraining\t\t\tvalidation\n",
      "\t--------\t\t\t----------\n",
      "\tRMSE:\t3.4333\t\t\tRMSE:\t3.6474\n",
      "\tMAE:\t2.5713\t\t\tMAE:\t2.5287\n",
      "\tR2:\t-0.1145\t\t\tR2:\t0.1449\n",
      "\n",
      "feature_selection:\n",
      "\ttraining\t\t\tvalidation\n",
      "\t--------\t\t\t----------\n",
      "\tRMSE:\t3.2697\t\t\tRMSE:\t3.8345\n",
      "\tMAE:\t2.4949\t\t\tMAE:\t2.6467\n",
      "\tR2:\t-0.0108\t\t\tR2:\t0.0595\n",
      "\n",
      "\tFeature selection method:\n",
      "\t\t\tVarianceThreshold\n",
      "\tNumber of features used:\n",
      "\t\t\t57\n",
      "\n",
      "tune:\n",
      "\ttraining\t\t\tvalidation\n",
      "\t--------\t\t\t----------\n",
      "\tRMSE:\t3.2700\t\t\tRMSE:\t3.8300\n",
      "\tMAE:\t2.4950\t\t\tMAE:\t2.6465\n",
      "\tR2:\t-0.0110\t\t\tR2:\t0.0597\n",
      "\n",
      "\tBest hyperparameters:\n",
      "\t\t\talpha_1: 0.001\n",
      "\t\t\talpha_2: 1e-09\n",
      "\t\t\tcompute_score: True\n",
      "\t\t\tlambda_1: 1e-09\n",
      "\t\t\tlambda_2: 0.001\n",
      "\t\t\ttol: 0.001\n",
      "\n",
      "=========================================================\n",
      "\n"
     ]
    }
   ],
   "source": [
    "# View the output as a scrallable element or open it in a text editor to see it in\n",
    "# full\n",
    "tabulated_metrics = pretty_print_metrics(all_metrics)\n",
    "print(tabulated_metrics)"
   ]
  },
  {
   "cell_type": "code",
   "execution_count": 80,
   "metadata": {},
   "outputs": [],
   "source": [
    "from matplotlib import pyplot as plt\n",
    "import seaborn as sns\n",
    "import plotly.graph_objects as go\n",
    "\n",
    "\n",
    "def plot_metrics(\n",
    "        model,\n",
    "        metric,\n",
    "        df\n",
    "    ):\n",
    "    plt.figure(figsize=(10, 10))\n",
    "    sns.boxplot(\n",
    "        data=df\n",
    "    )\n",
    "    plt.title(f\"{model} - {metric}\")\n",
    "    plt.show()"
   ]
  },
  {
   "cell_type": "code",
   "execution_count": 81,
   "metadata": {},
   "outputs": [
    {
     "data": {
      "image/png": "[encoded data removed]",
      "text/plain": [
       "<Figure size 1000x1000 with 1 Axes>"
      ]
     },
     "metadata": {},
     "output_type": "display_data"
    },
    {
     "data": {
      "image/png": "[encoded data removed]",
      "text/plain": [
       "<Figure size 1000x1000 with 1 Axes>"
      ]
     },
     "metadata": {},
     "output_type": "display_data"
    },
    {
     "data": {
      "image/png": "[encoded data removed]",
      "text/plain": [
       "<Figure size 1000x1000 with 1 Axes>"
      ]
     },
     "metadata": {},
     "output_type": "display_data"
    },
    {
     "data": {
      "image/png": "[encoded data removed]",
      "text/plain": [
       "<Figure size 1000x1000 with 1 Axes>"
      ]
     },
     "metadata": {},
     "output_type": "display_data"
    },
    {
     "data": {
      "image/png": "[encoded data removed]",
      "text/plain": [
       "<Figure size 1000x1000 with 1 Axes>"
      ]
     },
     "metadata": {},
     "output_type": "display_data"
    },
    {
     "data": {
      "image/png": "[encoded data removed]",
      "text/plain": [
       "<Figure size 1000x1000 with 1 Axes>"
      ]
     },
     "metadata": {},
     "output_type": "display_data"
    },
    {
     "data": {
      "image/png": "[encoded data removed]",
      "text/plain": [
       "<Figure size 1000x1000 with 1 Axes>"
      ]
     },
     "metadata": {},
     "output_type": "display_data"
    },
    {
     "data": {
      "image/png": "[encoded data removed]",
      "text/plain": [
       "<Figure size 1000x1000 with 1 Axes>"
      ]
     },
     "metadata": {},
     "output_type": "display_data"
    },
    {
     "data": {
      "image/png": "[encoded data removed]",
      "text/plain": [
       "<Figure size 1000x1000 with 1 Axes>"
      ]
     },
     "metadata": {},
     "output_type": "display_data"
    }
   ],
   "source": [
    "tr_or_val = \"validation\"\n",
    "models = [\"ElasticNet\", \"SVR\", \"BayesianRidge\"]\n",
    "modes = [\"baseline\", \"feature_selection\", \"tune\"]\n",
    "metrics = [\"RMSE\", \"MAE\", \"R2\"]\n",
    "metrics_dict = {\n",
    "    model: {\n",
    "        metric: {\n",
    "            mode: [] for mode in modes\n",
    "        } for metric in metrics\n",
    "    } for model in models\n",
    "}\n",
    "\n",
    "for model in models:\n",
    "    for mode in modes:\n",
    "        for metric in metrics:\n",
    "            metrics_dict[model][metric][mode].extend(all_metrics[tr_or_val][model][mode][metric])\n",
    "\n",
    "\n",
    "for model in models:\n",
    "    for metric in metrics:\n",
    "        df = pd.DataFrame(columns=modes)\n",
    "        for mode in modes:\n",
    "            df[mode] = metrics_dict[model][metric][mode]\n",
    "        plot_metrics(\n",
    "            model,\n",
    "            metric,\n",
    "            df\n",
    "        )"
   ]
  }
 ],
 "metadata": {
  "kernelspec": {
   "display_name": ".venv",
   "language": "python",
   "name": "python3"
  },
  "language_info": {
   "codemirror_mode": {
    "name": "ipython",
    "version": 3
   },
   "file_extension": ".py",
   "mimetype": "text/x-python",
   "name": "python",
   "nbconvert_exporter": "python",
   "pygments_lexer": "ipython3",
   "version": "3.12.3"
  }
 },
 "nbformat": 4,
 "nbformat_minor": 2
}
